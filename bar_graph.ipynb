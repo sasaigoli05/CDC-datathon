{
 "cells": [
  {
   "cell_type": "markdown",
   "metadata": {},
   "source": []
  },
  {
   "cell_type": "code",
   "execution_count": 1,
   "metadata": {},
   "outputs": [],
   "source": [
    "import pandas as pd\n",
    "import matplotlib.pyplot as plt\n",
    "import seaborn as sns\n",
    "import plotly.express as px\n",
    "import nbformat"
   ]
  },
  {
   "cell_type": "code",
   "execution_count": 3,
   "metadata": {},
   "outputs": [
    {
     "data": {
      "text/plain": [
       "Index(['Predicted Passengers', 'Source Airport', 'Destination Airport',\n",
       "       'Quarter Year', 'Largest Carrier', 'Predicted Fare', 'carrier_lg',\n",
       "       'Revenue'],\n",
       "      dtype='object')"
      ]
     },
     "execution_count": 3,
     "metadata": {},
     "output_type": "execute_result"
    }
   ],
   "source": [
    "flights_data = pd.read_csv(\"future_flights_combined.csv\")\n",
    "flights_data.columns"
   ]
  },
  {
   "cell_type": "code",
   "execution_count": 8,
   "metadata": {},
   "outputs": [],
   "source": [
    "flights_data['Year'] = flights_data['Quarter Year'].astype(int)\n",
    "flights_data = flights_data.sort_values(by='Year', ascending=True)"
   ]
  },
  {
   "cell_type": "code",
   "execution_count": 12,
   "metadata": {},
   "outputs": [
    {
     "data": {
      "application/vnd.plotly.v1+json": {
       "config": {
        "plotlyServerURL": "https://plot.ly"
       },
       "data": [
        {
         "alignmentgroup": "True",
         "hovertemplate": "carrier_lg=%{x}<br>Quarter Year=2024.25<br>Revenue=%{y}<extra></extra>",
         "legendgroup": "SY",
         "marker": {
          "color": "#636efa",
          "pattern": {
           "shape": ""
          }
         },
         "name": "SY",
         "offsetgroup": "SY",
         "orientation": "v",
         "showlegend": true,
         "textposition": "auto",
         "type": "bar",
         "x": [
          "SY"
         ],
         "xaxis": "x",
         "y": [
          16683.854092499987
         ],
         "yaxis": "y"
        },
        {
         "alignmentgroup": "True",
         "hovertemplate": "carrier_lg=%{x}<br>Quarter Year=2024.25<br>Revenue=%{y}<extra></extra>",
         "legendgroup": "AS",
         "marker": {
          "color": "#EF553B",
          "pattern": {
           "shape": ""
          }
         },
         "name": "AS",
         "offsetgroup": "AS",
         "orientation": "v",
         "showlegend": true,
         "textposition": "auto",
         "type": "bar",
         "x": [
          "AS"
         ],
         "xaxis": "x",
         "y": [
          161445.02285273327
         ],
         "yaxis": "y"
        },
        {
         "alignmentgroup": "True",
         "hovertemplate": "carrier_lg=%{x}<br>Quarter Year=2024.25<br>Revenue=%{y}<extra></extra>",
         "legendgroup": "B6",
         "marker": {
          "color": "#00cc96",
          "pattern": {
           "shape": ""
          }
         },
         "name": "B6",
         "offsetgroup": "B6",
         "orientation": "v",
         "showlegend": true,
         "textposition": "auto",
         "type": "bar",
         "x": [
          "B6"
         ],
         "xaxis": "x",
         "y": [
          128470.91975881817
         ],
         "yaxis": "y"
        },
        {
         "alignmentgroup": "True",
         "hovertemplate": "carrier_lg=%{x}<br>Quarter Year=2024.25<br>Revenue=%{y}<extra></extra>",
         "legendgroup": "WN",
         "marker": {
          "color": "#ab63fa",
          "pattern": {
           "shape": ""
          }
         },
         "name": "WN",
         "offsetgroup": "WN",
         "orientation": "v",
         "showlegend": true,
         "textposition": "auto",
         "type": "bar",
         "x": [
          "WN"
         ],
         "xaxis": "x",
         "y": [
          61471.628575127084
         ],
         "yaxis": "y"
        },
        {
         "alignmentgroup": "True",
         "hovertemplate": "carrier_lg=%{x}<br>Quarter Year=2024.25<br>Revenue=%{y}<extra></extra>",
         "legendgroup": "NK",
         "marker": {
          "color": "#FFA15A",
          "pattern": {
           "shape": ""
          }
         },
         "name": "NK",
         "offsetgroup": "NK",
         "orientation": "v",
         "showlegend": true,
         "textposition": "auto",
         "type": "bar",
         "x": [
          "NK"
         ],
         "xaxis": "x",
         "y": [
          57925.80336666671
         ],
         "yaxis": "y"
        },
        {
         "alignmentgroup": "True",
         "hovertemplate": "carrier_lg=%{x}<br>Quarter Year=2024.25<br>Revenue=%{y}<extra></extra>",
         "legendgroup": "DL",
         "marker": {
          "color": "#19d3f3",
          "pattern": {
           "shape": ""
          }
         },
         "name": "DL",
         "offsetgroup": "DL",
         "orientation": "v",
         "showlegend": true,
         "textposition": "auto",
         "type": "bar",
         "x": [
          "DL"
         ],
         "xaxis": "x",
         "y": [
          114171.4122863151
         ],
         "yaxis": "y"
        },
        {
         "alignmentgroup": "True",
         "hovertemplate": "carrier_lg=%{x}<br>Quarter Year=2024.25<br>Revenue=%{y}<extra></extra>",
         "legendgroup": "AA",
         "marker": {
          "color": "#FF6692",
          "pattern": {
           "shape": ""
          }
         },
         "name": "AA",
         "offsetgroup": "AA",
         "orientation": "v",
         "showlegend": true,
         "textposition": "auto",
         "type": "bar",
         "x": [
          "AA"
         ],
         "xaxis": "x",
         "y": [
          77767.0931193803
         ],
         "yaxis": "y"
        },
        {
         "alignmentgroup": "True",
         "hovertemplate": "carrier_lg=%{x}<br>Quarter Year=2024.25<br>Revenue=%{y}<extra></extra>",
         "legendgroup": "9K",
         "marker": {
          "color": "#B6E880",
          "pattern": {
           "shape": ""
          }
         },
         "name": "9K",
         "offsetgroup": "9K",
         "orientation": "v",
         "showlegend": true,
         "textposition": "auto",
         "type": "bar",
         "x": [
          "9K"
         ],
         "xaxis": "x",
         "y": [
          6403.125049000006
         ],
         "yaxis": "y"
        },
        {
         "alignmentgroup": "True",
         "hovertemplate": "carrier_lg=%{x}<br>Quarter Year=2024.25<br>Revenue=%{y}<extra></extra>",
         "legendgroup": "UA",
         "marker": {
          "color": "#FF97FF",
          "pattern": {
           "shape": ""
          }
         },
         "name": "UA",
         "offsetgroup": "UA",
         "orientation": "v",
         "showlegend": true,
         "textposition": "auto",
         "type": "bar",
         "x": [
          "UA"
         ],
         "xaxis": "x",
         "y": [
          141566.50918228965
         ],
         "yaxis": "y"
        },
        {
         "alignmentgroup": "True",
         "hovertemplate": "carrier_lg=%{x}<br>Quarter Year=2024.25<br>Revenue=%{y}<extra></extra>",
         "legendgroup": "G4",
         "marker": {
          "color": "#FECB52",
          "pattern": {
           "shape": ""
          }
         },
         "name": "G4",
         "offsetgroup": "G4",
         "orientation": "v",
         "showlegend": true,
         "textposition": "auto",
         "type": "bar",
         "x": [
          "G4"
         ],
         "xaxis": "x",
         "y": [
          19994.74382317647
         ],
         "yaxis": "y"
        },
        {
         "alignmentgroup": "True",
         "hovertemplate": "carrier_lg=%{x}<br>Quarter Year=2024.25<br>Revenue=%{y}<extra></extra>",
         "legendgroup": "F9",
         "marker": {
          "color": "#636efa",
          "pattern": {
           "shape": ""
          }
         },
         "name": "F9",
         "offsetgroup": "F9",
         "orientation": "v",
         "showlegend": true,
         "textposition": "auto",
         "type": "bar",
         "x": [
          "F9"
         ],
         "xaxis": "x",
         "y": [
          89124.96437485714
         ],
         "yaxis": "y"
        }
       ],
       "frames": [
        {
         "data": [
          {
           "alignmentgroup": "True",
           "hovertemplate": "carrier_lg=%{x}<br>Quarter Year=2024.25<br>Revenue=%{y}<extra></extra>",
           "legendgroup": "SY",
           "marker": {
            "color": "#636efa",
            "pattern": {
             "shape": ""
            }
           },
           "name": "SY",
           "offsetgroup": "SY",
           "orientation": "v",
           "showlegend": true,
           "textposition": "auto",
           "type": "bar",
           "x": [
            "SY"
           ],
           "xaxis": "x",
           "y": [
            16683.854092499987
           ],
           "yaxis": "y"
          },
          {
           "alignmentgroup": "True",
           "hovertemplate": "carrier_lg=%{x}<br>Quarter Year=2024.25<br>Revenue=%{y}<extra></extra>",
           "legendgroup": "AS",
           "marker": {
            "color": "#EF553B",
            "pattern": {
             "shape": ""
            }
           },
           "name": "AS",
           "offsetgroup": "AS",
           "orientation": "v",
           "showlegend": true,
           "textposition": "auto",
           "type": "bar",
           "x": [
            "AS"
           ],
           "xaxis": "x",
           "y": [
            161445.02285273327
           ],
           "yaxis": "y"
          },
          {
           "alignmentgroup": "True",
           "hovertemplate": "carrier_lg=%{x}<br>Quarter Year=2024.25<br>Revenue=%{y}<extra></extra>",
           "legendgroup": "B6",
           "marker": {
            "color": "#00cc96",
            "pattern": {
             "shape": ""
            }
           },
           "name": "B6",
           "offsetgroup": "B6",
           "orientation": "v",
           "showlegend": true,
           "textposition": "auto",
           "type": "bar",
           "x": [
            "B6"
           ],
           "xaxis": "x",
           "y": [
            128470.91975881817
           ],
           "yaxis": "y"
          },
          {
           "alignmentgroup": "True",
           "hovertemplate": "carrier_lg=%{x}<br>Quarter Year=2024.25<br>Revenue=%{y}<extra></extra>",
           "legendgroup": "WN",
           "marker": {
            "color": "#ab63fa",
            "pattern": {
             "shape": ""
            }
           },
           "name": "WN",
           "offsetgroup": "WN",
           "orientation": "v",
           "showlegend": true,
           "textposition": "auto",
           "type": "bar",
           "x": [
            "WN"
           ],
           "xaxis": "x",
           "y": [
            61471.628575127084
           ],
           "yaxis": "y"
          },
          {
           "alignmentgroup": "True",
           "hovertemplate": "carrier_lg=%{x}<br>Quarter Year=2024.25<br>Revenue=%{y}<extra></extra>",
           "legendgroup": "NK",
           "marker": {
            "color": "#FFA15A",
            "pattern": {
             "shape": ""
            }
           },
           "name": "NK",
           "offsetgroup": "NK",
           "orientation": "v",
           "showlegend": true,
           "textposition": "auto",
           "type": "bar",
           "x": [
            "NK"
           ],
           "xaxis": "x",
           "y": [
            57925.80336666671
           ],
           "yaxis": "y"
          },
          {
           "alignmentgroup": "True",
           "hovertemplate": "carrier_lg=%{x}<br>Quarter Year=2024.25<br>Revenue=%{y}<extra></extra>",
           "legendgroup": "DL",
           "marker": {
            "color": "#19d3f3",
            "pattern": {
             "shape": ""
            }
           },
           "name": "DL",
           "offsetgroup": "DL",
           "orientation": "v",
           "showlegend": true,
           "textposition": "auto",
           "type": "bar",
           "x": [
            "DL"
           ],
           "xaxis": "x",
           "y": [
            114171.4122863151
           ],
           "yaxis": "y"
          },
          {
           "alignmentgroup": "True",
           "hovertemplate": "carrier_lg=%{x}<br>Quarter Year=2024.25<br>Revenue=%{y}<extra></extra>",
           "legendgroup": "AA",
           "marker": {
            "color": "#FF6692",
            "pattern": {
             "shape": ""
            }
           },
           "name": "AA",
           "offsetgroup": "AA",
           "orientation": "v",
           "showlegend": true,
           "textposition": "auto",
           "type": "bar",
           "x": [
            "AA"
           ],
           "xaxis": "x",
           "y": [
            77767.0931193803
           ],
           "yaxis": "y"
          },
          {
           "alignmentgroup": "True",
           "hovertemplate": "carrier_lg=%{x}<br>Quarter Year=2024.25<br>Revenue=%{y}<extra></extra>",
           "legendgroup": "9K",
           "marker": {
            "color": "#B6E880",
            "pattern": {
             "shape": ""
            }
           },
           "name": "9K",
           "offsetgroup": "9K",
           "orientation": "v",
           "showlegend": true,
           "textposition": "auto",
           "type": "bar",
           "x": [
            "9K"
           ],
           "xaxis": "x",
           "y": [
            6403.125049000006
           ],
           "yaxis": "y"
          },
          {
           "alignmentgroup": "True",
           "hovertemplate": "carrier_lg=%{x}<br>Quarter Year=2024.25<br>Revenue=%{y}<extra></extra>",
           "legendgroup": "UA",
           "marker": {
            "color": "#FF97FF",
            "pattern": {
             "shape": ""
            }
           },
           "name": "UA",
           "offsetgroup": "UA",
           "orientation": "v",
           "showlegend": true,
           "textposition": "auto",
           "type": "bar",
           "x": [
            "UA"
           ],
           "xaxis": "x",
           "y": [
            141566.50918228965
           ],
           "yaxis": "y"
          },
          {
           "alignmentgroup": "True",
           "hovertemplate": "carrier_lg=%{x}<br>Quarter Year=2024.25<br>Revenue=%{y}<extra></extra>",
           "legendgroup": "G4",
           "marker": {
            "color": "#FECB52",
            "pattern": {
             "shape": ""
            }
           },
           "name": "G4",
           "offsetgroup": "G4",
           "orientation": "v",
           "showlegend": true,
           "textposition": "auto",
           "type": "bar",
           "x": [
            "G4"
           ],
           "xaxis": "x",
           "y": [
            19994.74382317647
           ],
           "yaxis": "y"
          },
          {
           "alignmentgroup": "True",
           "hovertemplate": "carrier_lg=%{x}<br>Quarter Year=2024.25<br>Revenue=%{y}<extra></extra>",
           "legendgroup": "F9",
           "marker": {
            "color": "#636efa",
            "pattern": {
             "shape": ""
            }
           },
           "name": "F9",
           "offsetgroup": "F9",
           "orientation": "v",
           "showlegend": true,
           "textposition": "auto",
           "type": "bar",
           "x": [
            "F9"
           ],
           "xaxis": "x",
           "y": [
            89124.96437485714
           ],
           "yaxis": "y"
          }
         ],
         "name": "2024.25"
        },
        {
         "data": [
          {
           "alignmentgroup": "True",
           "hovertemplate": "carrier_lg=%{x}<br>Quarter Year=2024.5<br>Revenue=%{y}<extra></extra>",
           "legendgroup": "SY",
           "marker": {
            "color": "#636efa",
            "pattern": {
             "shape": ""
            }
           },
           "name": "SY",
           "offsetgroup": "SY",
           "orientation": "v",
           "showlegend": true,
           "textposition": "auto",
           "type": "bar",
           "x": [
            "SY"
           ],
           "xaxis": "x",
           "y": [
            16683.854092499987
           ],
           "yaxis": "y"
          },
          {
           "alignmentgroup": "True",
           "hovertemplate": "carrier_lg=%{x}<br>Quarter Year=2024.5<br>Revenue=%{y}<extra></extra>",
           "legendgroup": "AS",
           "marker": {
            "color": "#EF553B",
            "pattern": {
             "shape": ""
            }
           },
           "name": "AS",
           "offsetgroup": "AS",
           "orientation": "v",
           "showlegend": true,
           "textposition": "auto",
           "type": "bar",
           "x": [
            "AS"
           ],
           "xaxis": "x",
           "y": [
            142598.9768293269
           ],
           "yaxis": "y"
          },
          {
           "alignmentgroup": "True",
           "hovertemplate": "carrier_lg=%{x}<br>Quarter Year=2024.5<br>Revenue=%{y}<extra></extra>",
           "legendgroup": "B6",
           "marker": {
            "color": "#00cc96",
            "pattern": {
             "shape": ""
            }
           },
           "name": "B6",
           "offsetgroup": "B6",
           "orientation": "v",
           "showlegend": true,
           "textposition": "auto",
           "type": "bar",
           "x": [
            "B6"
           ],
           "xaxis": "x",
           "y": [
            127912.0473498148
           ],
           "yaxis": "y"
          },
          {
           "alignmentgroup": "True",
           "hovertemplate": "carrier_lg=%{x}<br>Quarter Year=2024.5<br>Revenue=%{y}<extra></extra>",
           "legendgroup": "WN",
           "marker": {
            "color": "#ab63fa",
            "pattern": {
             "shape": ""
            }
           },
           "name": "WN",
           "offsetgroup": "WN",
           "orientation": "v",
           "showlegend": true,
           "textposition": "auto",
           "type": "bar",
           "x": [
            "WN"
           ],
           "xaxis": "x",
           "y": [
            61783.52452206966
           ],
           "yaxis": "y"
          },
          {
           "alignmentgroup": "True",
           "hovertemplate": "carrier_lg=%{x}<br>Quarter Year=2024.5<br>Revenue=%{y}<extra></extra>",
           "legendgroup": "NK",
           "marker": {
            "color": "#FFA15A",
            "pattern": {
             "shape": ""
            }
           },
           "name": "NK",
           "offsetgroup": "NK",
           "orientation": "v",
           "showlegend": true,
           "textposition": "auto",
           "type": "bar",
           "x": [
            "NK"
           ],
           "xaxis": "x",
           "y": [
            77255.88556000004
           ],
           "yaxis": "y"
          },
          {
           "alignmentgroup": "True",
           "hovertemplate": "carrier_lg=%{x}<br>Quarter Year=2024.5<br>Revenue=%{y}<extra></extra>",
           "legendgroup": "DL",
           "marker": {
            "color": "#19d3f3",
            "pattern": {
             "shape": ""
            }
           },
           "name": "DL",
           "offsetgroup": "DL",
           "orientation": "v",
           "showlegend": true,
           "textposition": "auto",
           "type": "bar",
           "x": [
            "DL"
           ],
           "xaxis": "x",
           "y": [
            105416.633172731
           ],
           "yaxis": "y"
          },
          {
           "alignmentgroup": "True",
           "hovertemplate": "carrier_lg=%{x}<br>Quarter Year=2024.5<br>Revenue=%{y}<extra></extra>",
           "legendgroup": "AA",
           "marker": {
            "color": "#FF6692",
            "pattern": {
             "shape": ""
            }
           },
           "name": "AA",
           "offsetgroup": "AA",
           "orientation": "v",
           "showlegend": true,
           "textposition": "auto",
           "type": "bar",
           "x": [
            "AA"
           ],
           "xaxis": "x",
           "y": [
            82724.85338163727
           ],
           "yaxis": "y"
          },
          {
           "alignmentgroup": "True",
           "hovertemplate": "carrier_lg=%{x}<br>Quarter Year=2024.5<br>Revenue=%{y}<extra></extra>",
           "legendgroup": "UA",
           "marker": {
            "color": "#FF97FF",
            "pattern": {
             "shape": ""
            }
           },
           "name": "UA",
           "offsetgroup": "UA",
           "orientation": "v",
           "showlegend": true,
           "textposition": "auto",
           "type": "bar",
           "x": [
            "UA"
           ],
           "xaxis": "x",
           "y": [
            137023.08078636395
           ],
           "yaxis": "y"
          },
          {
           "alignmentgroup": "True",
           "hovertemplate": "carrier_lg=%{x}<br>Quarter Year=2024.5<br>Revenue=%{y}<extra></extra>",
           "legendgroup": "G4",
           "marker": {
            "color": "#FECB52",
            "pattern": {
             "shape": ""
            }
           },
           "name": "G4",
           "offsetgroup": "G4",
           "orientation": "v",
           "showlegend": true,
           "textposition": "auto",
           "type": "bar",
           "x": [
            "G4"
           ],
           "xaxis": "x",
           "y": [
            20224.85561578049
           ],
           "yaxis": "y"
          },
          {
           "alignmentgroup": "True",
           "hovertemplate": "carrier_lg=%{x}<br>Quarter Year=2024.5<br>Revenue=%{y}<extra></extra>",
           "legendgroup": "F9",
           "marker": {
            "color": "#636efa",
            "pattern": {
             "shape": ""
            }
           },
           "name": "F9",
           "offsetgroup": "F9",
           "orientation": "v",
           "showlegend": true,
           "textposition": "auto",
           "type": "bar",
           "x": [
            "F9"
           ],
           "xaxis": "x",
           "y": [
            77607.74564208694
           ],
           "yaxis": "y"
          }
         ],
         "name": "2024.5"
        },
        {
         "data": [
          {
           "alignmentgroup": "True",
           "hovertemplate": "carrier_lg=%{x}<br>Quarter Year=2024.75<br>Revenue=%{y}<extra></extra>",
           "legendgroup": "SY",
           "marker": {
            "color": "#636efa",
            "pattern": {
             "shape": ""
            }
           },
           "name": "SY",
           "offsetgroup": "SY",
           "orientation": "v",
           "showlegend": true,
           "textposition": "auto",
           "type": "bar",
           "x": [
            "SY"
           ],
           "xaxis": "x",
           "y": [
            13648.573245999984
           ],
           "yaxis": "y"
          },
          {
           "alignmentgroup": "True",
           "hovertemplate": "carrier_lg=%{x}<br>Quarter Year=2024.75<br>Revenue=%{y}<extra></extra>",
           "legendgroup": "AS",
           "marker": {
            "color": "#EF553B",
            "pattern": {
             "shape": ""
            }
           },
           "name": "AS",
           "offsetgroup": "AS",
           "orientation": "v",
           "showlegend": true,
           "textposition": "auto",
           "type": "bar",
           "x": [
            "AS"
           ],
           "xaxis": "x",
           "y": [
            150324.97000805548
           ],
           "yaxis": "y"
          },
          {
           "alignmentgroup": "True",
           "hovertemplate": "carrier_lg=%{x}<br>Quarter Year=2024.75<br>Revenue=%{y}<extra></extra>",
           "legendgroup": "B6",
           "marker": {
            "color": "#00cc96",
            "pattern": {
             "shape": ""
            }
           },
           "name": "B6",
           "offsetgroup": "B6",
           "orientation": "v",
           "showlegend": true,
           "textposition": "auto",
           "type": "bar",
           "x": [
            "B6"
           ],
           "xaxis": "x",
           "y": [
            181610.95690854435
           ],
           "yaxis": "y"
          },
          {
           "alignmentgroup": "True",
           "hovertemplate": "carrier_lg=%{x}<br>Quarter Year=2024.75<br>Revenue=%{y}<extra></extra>",
           "legendgroup": "WN",
           "marker": {
            "color": "#ab63fa",
            "pattern": {
             "shape": ""
            }
           },
           "name": "WN",
           "offsetgroup": "WN",
           "orientation": "v",
           "showlegend": true,
           "textposition": "auto",
           "type": "bar",
           "x": [
            "WN"
           ],
           "xaxis": "x",
           "y": [
            63496.53186919254
           ],
           "yaxis": "y"
          },
          {
           "alignmentgroup": "True",
           "hovertemplate": "carrier_lg=%{x}<br>Quarter Year=2024.75<br>Revenue=%{y}<extra></extra>",
           "legendgroup": "NK",
           "marker": {
            "color": "#FFA15A",
            "pattern": {
             "shape": ""
            }
           },
           "name": "NK",
           "offsetgroup": "NK",
           "orientation": "v",
           "showlegend": true,
           "textposition": "auto",
           "type": "bar",
           "x": [
            "NK"
           ],
           "xaxis": "x",
           "y": [
            62882.85427321433
           ],
           "yaxis": "y"
          },
          {
           "alignmentgroup": "True",
           "hovertemplate": "carrier_lg=%{x}<br>Quarter Year=2024.75<br>Revenue=%{y}<extra></extra>",
           "legendgroup": "DL",
           "marker": {
            "color": "#19d3f3",
            "pattern": {
             "shape": ""
            }
           },
           "name": "DL",
           "offsetgroup": "DL",
           "orientation": "v",
           "showlegend": true,
           "textposition": "auto",
           "type": "bar",
           "x": [
            "DL"
           ],
           "xaxis": "x",
           "y": [
            103228.116002
           ],
           "yaxis": "y"
          },
          {
           "alignmentgroup": "True",
           "hovertemplate": "carrier_lg=%{x}<br>Quarter Year=2024.75<br>Revenue=%{y}<extra></extra>",
           "legendgroup": "AA",
           "marker": {
            "color": "#FF6692",
            "pattern": {
             "shape": ""
            }
           },
           "name": "AA",
           "offsetgroup": "AA",
           "orientation": "v",
           "showlegend": true,
           "textposition": "auto",
           "type": "bar",
           "x": [
            "AA"
           ],
           "xaxis": "x",
           "y": [
            78549.53540746127
           ],
           "yaxis": "y"
          },
          {
           "alignmentgroup": "True",
           "hovertemplate": "carrier_lg=%{x}<br>Quarter Year=2024.75<br>Revenue=%{y}<extra></extra>",
           "legendgroup": "UA",
           "marker": {
            "color": "#FF97FF",
            "pattern": {
             "shape": ""
            }
           },
           "name": "UA",
           "offsetgroup": "UA",
           "orientation": "v",
           "showlegend": true,
           "textposition": "auto",
           "type": "bar",
           "x": [
            "UA"
           ],
           "xaxis": "x",
           "y": [
            136751.57957574193
           ],
           "yaxis": "y"
          },
          {
           "alignmentgroup": "True",
           "hovertemplate": "carrier_lg=%{x}<br>Quarter Year=2024.75<br>Revenue=%{y}<extra></extra>",
           "legendgroup": "G4",
           "marker": {
            "color": "#FECB52",
            "pattern": {
             "shape": ""
            }
           },
           "name": "G4",
           "offsetgroup": "G4",
           "orientation": "v",
           "showlegend": true,
           "textposition": "auto",
           "type": "bar",
           "x": [
            "G4"
           ],
           "xaxis": "x",
           "y": [
            20119.944381414636
           ],
           "yaxis": "y"
          },
          {
           "alignmentgroup": "True",
           "hovertemplate": "carrier_lg=%{x}<br>Quarter Year=2024.75<br>Revenue=%{y}<extra></extra>",
           "legendgroup": "F9",
           "marker": {
            "color": "#636efa",
            "pattern": {
             "shape": ""
            }
           },
           "name": "F9",
           "offsetgroup": "F9",
           "orientation": "v",
           "showlegend": true,
           "textposition": "auto",
           "type": "bar",
           "x": [
            "F9"
           ],
           "xaxis": "x",
           "y": [
            69457.27101523076
           ],
           "yaxis": "y"
          }
         ],
         "name": "2024.75"
        },
        {
         "data": [
          {
           "alignmentgroup": "True",
           "hovertemplate": "carrier_lg=%{x}<br>Quarter Year=2025.0<br>Revenue=%{y}<extra></extra>",
           "legendgroup": "AS",
           "marker": {
            "color": "#EF553B",
            "pattern": {
             "shape": ""
            }
           },
           "name": "AS",
           "offsetgroup": "AS",
           "orientation": "v",
           "showlegend": true,
           "textposition": "auto",
           "type": "bar",
           "x": [
            "AS"
           ],
           "xaxis": "x",
           "y": [
            157677.48768849994
           ],
           "yaxis": "y"
          },
          {
           "alignmentgroup": "True",
           "hovertemplate": "carrier_lg=%{x}<br>Quarter Year=2025.0<br>Revenue=%{y}<extra></extra>",
           "legendgroup": "B6",
           "marker": {
            "color": "#00cc96",
            "pattern": {
             "shape": ""
            }
           },
           "name": "B6",
           "offsetgroup": "B6",
           "orientation": "v",
           "showlegend": true,
           "textposition": "auto",
           "type": "bar",
           "x": [
            "B6"
           ],
           "xaxis": "x",
           "y": [
            153312.484923725
           ],
           "yaxis": "y"
          },
          {
           "alignmentgroup": "True",
           "hovertemplate": "carrier_lg=%{x}<br>Quarter Year=2025.0<br>Revenue=%{y}<extra></extra>",
           "legendgroup": "WN",
           "marker": {
            "color": "#ab63fa",
            "pattern": {
             "shape": ""
            }
           },
           "name": "WN",
           "offsetgroup": "WN",
           "orientation": "v",
           "showlegend": true,
           "textposition": "auto",
           "type": "bar",
           "x": [
            "WN"
           ],
           "xaxis": "x",
           "y": [
            66990.37689584629
           ],
           "yaxis": "y"
          },
          {
           "alignmentgroup": "True",
           "hovertemplate": "carrier_lg=%{x}<br>Quarter Year=2025.0<br>Revenue=%{y}<extra></extra>",
           "legendgroup": "NK",
           "marker": {
            "color": "#FFA15A",
            "pattern": {
             "shape": ""
            }
           },
           "name": "NK",
           "offsetgroup": "NK",
           "orientation": "v",
           "showlegend": true,
           "textposition": "auto",
           "type": "bar",
           "x": [
            "NK"
           ],
           "xaxis": "x",
           "y": [
            43447.339453545464
           ],
           "yaxis": "y"
          },
          {
           "alignmentgroup": "True",
           "hovertemplate": "carrier_lg=%{x}<br>Quarter Year=2025.0<br>Revenue=%{y}<extra></extra>",
           "legendgroup": "DL",
           "marker": {
            "color": "#19d3f3",
            "pattern": {
             "shape": ""
            }
           },
           "name": "DL",
           "offsetgroup": "DL",
           "orientation": "v",
           "showlegend": true,
           "textposition": "auto",
           "type": "bar",
           "x": [
            "DL"
           ],
           "xaxis": "x",
           "y": [
            108266.23988521687
           ],
           "yaxis": "y"
          },
          {
           "alignmentgroup": "True",
           "hovertemplate": "carrier_lg=%{x}<br>Quarter Year=2025.0<br>Revenue=%{y}<extra></extra>",
           "legendgroup": "AA",
           "marker": {
            "color": "#FF6692",
            "pattern": {
             "shape": ""
            }
           },
           "name": "AA",
           "offsetgroup": "AA",
           "orientation": "v",
           "showlegend": true,
           "textposition": "auto",
           "type": "bar",
           "x": [
            "AA"
           ],
           "xaxis": "x",
           "y": [
            79903.12502567645
           ],
           "yaxis": "y"
          },
          {
           "alignmentgroup": "True",
           "hovertemplate": "carrier_lg=%{x}<br>Quarter Year=2025.0<br>Revenue=%{y}<extra></extra>",
           "legendgroup": "UA",
           "marker": {
            "color": "#FF97FF",
            "pattern": {
             "shape": ""
            }
           },
           "name": "UA",
           "offsetgroup": "UA",
           "orientation": "v",
           "showlegend": true,
           "textposition": "auto",
           "type": "bar",
           "x": [
            "UA"
           ],
           "xaxis": "x",
           "y": [
            134844.50601645187
           ],
           "yaxis": "y"
          },
          {
           "alignmentgroup": "True",
           "hovertemplate": "carrier_lg=%{x}<br>Quarter Year=2025.0<br>Revenue=%{y}<extra></extra>",
           "legendgroup": "G4",
           "marker": {
            "color": "#FECB52",
            "pattern": {
             "shape": ""
            }
           },
           "name": "G4",
           "offsetgroup": "G4",
           "orientation": "v",
           "showlegend": true,
           "textposition": "auto",
           "type": "bar",
           "x": [
            "G4"
           ],
           "xaxis": "x",
           "y": [
            17314.8610714375
           ],
           "yaxis": "y"
          },
          {
           "alignmentgroup": "True",
           "hovertemplate": "carrier_lg=%{x}<br>Quarter Year=2025.0<br>Revenue=%{y}<extra></extra>",
           "legendgroup": "F9",
           "marker": {
            "color": "#636efa",
            "pattern": {
             "shape": ""
            }
           },
           "name": "F9",
           "offsetgroup": "F9",
           "orientation": "v",
           "showlegend": true,
           "textposition": "auto",
           "type": "bar",
           "x": [
            "F9"
           ],
           "xaxis": "x",
           "y": [
            96727.92425485716
           ],
           "yaxis": "y"
          }
         ],
         "name": "2025.0"
        },
        {
         "data": [
          {
           "alignmentgroup": "True",
           "hovertemplate": "carrier_lg=%{x}<br>Quarter Year=2025.25<br>Revenue=%{y}<extra></extra>",
           "legendgroup": "SY",
           "marker": {
            "color": "#636efa",
            "pattern": {
             "shape": ""
            }
           },
           "name": "SY",
           "offsetgroup": "SY",
           "orientation": "v",
           "showlegend": true,
           "textposition": "auto",
           "type": "bar",
           "x": [
            "SY"
           ],
           "xaxis": "x",
           "y": [
            450937.6044626666
           ],
           "yaxis": "y"
          },
          {
           "alignmentgroup": "True",
           "hovertemplate": "carrier_lg=%{x}<br>Quarter Year=2025.25<br>Revenue=%{y}<extra></extra>",
           "legendgroup": "AS",
           "marker": {
            "color": "#EF553B",
            "pattern": {
             "shape": ""
            }
           },
           "name": "AS",
           "offsetgroup": "AS",
           "orientation": "v",
           "showlegend": true,
           "textposition": "auto",
           "type": "bar",
           "x": [
            "AS"
           ],
           "xaxis": "x",
           "y": [
            180997.46157509426
           ],
           "yaxis": "y"
          },
          {
           "alignmentgroup": "True",
           "hovertemplate": "carrier_lg=%{x}<br>Quarter Year=2025.25<br>Revenue=%{y}<extra></extra>",
           "legendgroup": "B6",
           "marker": {
            "color": "#00cc96",
            "pattern": {
             "shape": ""
            }
           },
           "name": "B6",
           "offsetgroup": "B6",
           "orientation": "v",
           "showlegend": true,
           "textposition": "auto",
           "type": "bar",
           "x": [
            "B6"
           ],
           "xaxis": "x",
           "y": [
            368887.6120315919
           ],
           "yaxis": "y"
          },
          {
           "alignmentgroup": "True",
           "hovertemplate": "carrier_lg=%{x}<br>Quarter Year=2025.25<br>Revenue=%{y}<extra></extra>",
           "legendgroup": "WN",
           "marker": {
            "color": "#ab63fa",
            "pattern": {
             "shape": ""
            }
           },
           "name": "WN",
           "offsetgroup": "WN",
           "orientation": "v",
           "showlegend": true,
           "textposition": "auto",
           "type": "bar",
           "x": [
            "WN"
           ],
           "xaxis": "x",
           "y": [
            72018.40479086229
           ],
           "yaxis": "y"
          },
          {
           "alignmentgroup": "True",
           "hovertemplate": "carrier_lg=%{x}<br>Quarter Year=2025.25<br>Revenue=%{y}<extra></extra>",
           "legendgroup": "NK",
           "marker": {
            "color": "#FFA15A",
            "pattern": {
             "shape": ""
            }
           },
           "name": "NK",
           "offsetgroup": "NK",
           "orientation": "v",
           "showlegend": true,
           "textposition": "auto",
           "type": "bar",
           "x": [
            "NK"
           ],
           "xaxis": "x",
           "y": [
            283527.26153883344
           ],
           "yaxis": "y"
          },
          {
           "alignmentgroup": "True",
           "hovertemplate": "carrier_lg=%{x}<br>Quarter Year=2025.25<br>Revenue=%{y}<extra></extra>",
           "legendgroup": "DL",
           "marker": {
            "color": "#19d3f3",
            "pattern": {
             "shape": ""
            }
           },
           "name": "DL",
           "offsetgroup": "DL",
           "orientation": "v",
           "showlegend": true,
           "textposition": "auto",
           "type": "bar",
           "x": [
            "DL"
           ],
           "xaxis": "x",
           "y": [
            138164.67706492424
           ],
           "yaxis": "y"
          },
          {
           "alignmentgroup": "True",
           "hovertemplate": "carrier_lg=%{x}<br>Quarter Year=2025.25<br>Revenue=%{y}<extra></extra>",
           "legendgroup": "AA",
           "marker": {
            "color": "#FF6692",
            "pattern": {
             "shape": ""
            }
           },
           "name": "AA",
           "offsetgroup": "AA",
           "orientation": "v",
           "showlegend": true,
           "textposition": "auto",
           "type": "bar",
           "x": [
            "AA"
           ],
           "xaxis": "x",
           "y": [
            91898.57959461537
           ],
           "yaxis": "y"
          },
          {
           "alignmentgroup": "True",
           "hovertemplate": "carrier_lg=%{x}<br>Quarter Year=2025.25<br>Revenue=%{y}<extra></extra>",
           "legendgroup": "UA",
           "marker": {
            "color": "#FF97FF",
            "pattern": {
             "shape": ""
            }
           },
           "name": "UA",
           "offsetgroup": "UA",
           "orientation": "v",
           "showlegend": true,
           "textposition": "auto",
           "type": "bar",
           "x": [
            "UA"
           ],
           "xaxis": "x",
           "y": [
            136548.0183784072
           ],
           "yaxis": "y"
          },
          {
           "alignmentgroup": "True",
           "hovertemplate": "carrier_lg=%{x}<br>Quarter Year=2025.25<br>Revenue=%{y}<extra></extra>",
           "legendgroup": "G4",
           "marker": {
            "color": "#FECB52",
            "pattern": {
             "shape": ""
            }
           },
           "name": "G4",
           "offsetgroup": "G4",
           "orientation": "v",
           "showlegend": true,
           "textposition": "auto",
           "type": "bar",
           "x": [
            "G4"
           ],
           "xaxis": "x",
           "y": [
            21036.35381438462
           ],
           "yaxis": "y"
          },
          {
           "alignmentgroup": "True",
           "hovertemplate": "carrier_lg=%{x}<br>Quarter Year=2025.25<br>Revenue=%{y}<extra></extra>",
           "legendgroup": "F9",
           "marker": {
            "color": "#636efa",
            "pattern": {
             "shape": ""
            }
           },
           "name": "F9",
           "offsetgroup": "F9",
           "orientation": "v",
           "showlegend": true,
           "textposition": "auto",
           "type": "bar",
           "x": [
            "F9"
           ],
           "xaxis": "x",
           "y": [
            138672.47804559986
           ],
           "yaxis": "y"
          }
         ],
         "name": "2025.25"
        },
        {
         "data": [
          {
           "alignmentgroup": "True",
           "hovertemplate": "carrier_lg=%{x}<br>Quarter Year=2025.5<br>Revenue=%{y}<extra></extra>",
           "legendgroup": "SY",
           "marker": {
            "color": "#636efa",
            "pattern": {
             "shape": ""
            }
           },
           "name": "SY",
           "offsetgroup": "SY",
           "orientation": "v",
           "showlegend": true,
           "textposition": "auto",
           "type": "bar",
           "x": [
            "SY"
           ],
           "xaxis": "x",
           "y": [
            204414.1907850001
           ],
           "yaxis": "y"
          },
          {
           "alignmentgroup": "True",
           "hovertemplate": "carrier_lg=%{x}<br>Quarter Year=2025.5<br>Revenue=%{y}<extra></extra>",
           "legendgroup": "AS",
           "marker": {
            "color": "#EF553B",
            "pattern": {
             "shape": ""
            }
           },
           "name": "AS",
           "offsetgroup": "AS",
           "orientation": "v",
           "showlegend": true,
           "textposition": "auto",
           "type": "bar",
           "x": [
            "AS"
           ],
           "xaxis": "x",
           "y": [
            169142.70109352822
           ],
           "yaxis": "y"
          },
          {
           "alignmentgroup": "True",
           "hovertemplate": "carrier_lg=%{x}<br>Quarter Year=2025.5<br>Revenue=%{y}<extra></extra>",
           "legendgroup": "B6",
           "marker": {
            "color": "#00cc96",
            "pattern": {
             "shape": ""
            }
           },
           "name": "B6",
           "offsetgroup": "B6",
           "orientation": "v",
           "showlegend": true,
           "textposition": "auto",
           "type": "bar",
           "x": [
            "B6"
           ],
           "xaxis": "x",
           "y": [
            269944.4645287708
           ],
           "yaxis": "y"
          },
          {
           "alignmentgroup": "True",
           "hovertemplate": "carrier_lg=%{x}<br>Quarter Year=2025.5<br>Revenue=%{y}<extra></extra>",
           "legendgroup": "WN",
           "marker": {
            "color": "#ab63fa",
            "pattern": {
             "shape": ""
            }
           },
           "name": "WN",
           "offsetgroup": "WN",
           "orientation": "v",
           "showlegend": true,
           "textposition": "auto",
           "type": "bar",
           "x": [
            "WN"
           ],
           "xaxis": "x",
           "y": [
            64914.963280188895
           ],
           "yaxis": "y"
          },
          {
           "alignmentgroup": "True",
           "hovertemplate": "carrier_lg=%{x}<br>Quarter Year=2025.5<br>Revenue=%{y}<extra></extra>",
           "legendgroup": "NK",
           "marker": {
            "color": "#FFA15A",
            "pattern": {
             "shape": ""
            }
           },
           "name": "NK",
           "offsetgroup": "NK",
           "orientation": "v",
           "showlegend": true,
           "textposition": "auto",
           "type": "bar",
           "x": [
            "NK"
           ],
           "xaxis": "x",
           "y": [
            101393.67735394742
           ],
           "yaxis": "y"
          },
          {
           "alignmentgroup": "True",
           "hovertemplate": "carrier_lg=%{x}<br>Quarter Year=2025.5<br>Revenue=%{y}<extra></extra>",
           "legendgroup": "DL",
           "marker": {
            "color": "#19d3f3",
            "pattern": {
             "shape": ""
            }
           },
           "name": "DL",
           "offsetgroup": "DL",
           "orientation": "v",
           "showlegend": true,
           "textposition": "auto",
           "type": "bar",
           "x": [
            "DL"
           ],
           "xaxis": "x",
           "y": [
            171427.48483843874
           ],
           "yaxis": "y"
          },
          {
           "alignmentgroup": "True",
           "hovertemplate": "carrier_lg=%{x}<br>Quarter Year=2025.5<br>Revenue=%{y}<extra></extra>",
           "legendgroup": "AA",
           "marker": {
            "color": "#FF6692",
            "pattern": {
             "shape": ""
            }
           },
           "name": "AA",
           "offsetgroup": "AA",
           "orientation": "v",
           "showlegend": true,
           "textposition": "auto",
           "type": "bar",
           "x": [
            "AA"
           ],
           "xaxis": "x",
           "y": [
            78196.60371801008
           ],
           "yaxis": "y"
          },
          {
           "alignmentgroup": "True",
           "hovertemplate": "carrier_lg=%{x}<br>Quarter Year=2025.5<br>Revenue=%{y}<extra></extra>",
           "legendgroup": "UA",
           "marker": {
            "color": "#FF97FF",
            "pattern": {
             "shape": ""
            }
           },
           "name": "UA",
           "offsetgroup": "UA",
           "orientation": "v",
           "showlegend": true,
           "textposition": "auto",
           "type": "bar",
           "x": [
            "UA"
           ],
           "xaxis": "x",
           "y": [
            147195.44125615837
           ],
           "yaxis": "y"
          },
          {
           "alignmentgroup": "True",
           "hovertemplate": "carrier_lg=%{x}<br>Quarter Year=2025.5<br>Revenue=%{y}<extra></extra>",
           "legendgroup": "G4",
           "marker": {
            "color": "#FECB52",
            "pattern": {
             "shape": ""
            }
           },
           "name": "G4",
           "offsetgroup": "G4",
           "orientation": "v",
           "showlegend": true,
           "textposition": "auto",
           "type": "bar",
           "x": [
            "G4"
           ],
           "xaxis": "x",
           "y": [
            24197.92211881633
           ],
           "yaxis": "y"
          },
          {
           "alignmentgroup": "True",
           "hovertemplate": "carrier_lg=%{x}<br>Quarter Year=2025.5<br>Revenue=%{y}<extra></extra>",
           "legendgroup": "F9",
           "marker": {
            "color": "#636efa",
            "pattern": {
             "shape": ""
            }
           },
           "name": "F9",
           "offsetgroup": "F9",
           "orientation": "v",
           "showlegend": true,
           "textposition": "auto",
           "type": "bar",
           "x": [
            "F9"
           ],
           "xaxis": "x",
           "y": [
            131122.36440557134
           ],
           "yaxis": "y"
          }
         ],
         "name": "2025.5"
        },
        {
         "data": [
          {
           "alignmentgroup": "True",
           "hovertemplate": "carrier_lg=%{x}<br>Quarter Year=2025.75<br>Revenue=%{y}<extra></extra>",
           "legendgroup": "AS",
           "marker": {
            "color": "#EF553B",
            "pattern": {
             "shape": ""
            }
           },
           "name": "AS",
           "offsetgroup": "AS",
           "orientation": "v",
           "showlegend": true,
           "textposition": "auto",
           "type": "bar",
           "x": [
            "AS"
           ],
           "xaxis": "x",
           "y": [
            179999.39978214807
           ],
           "yaxis": "y"
          },
          {
           "alignmentgroup": "True",
           "hovertemplate": "carrier_lg=%{x}<br>Quarter Year=2025.75<br>Revenue=%{y}<extra></extra>",
           "legendgroup": "B6",
           "marker": {
            "color": "#00cc96",
            "pattern": {
             "shape": ""
            }
           },
           "name": "B6",
           "offsetgroup": "B6",
           "orientation": "v",
           "showlegend": true,
           "textposition": "auto",
           "type": "bar",
           "x": [
            "B6"
           ],
           "xaxis": "x",
           "y": [
            242738.7585025294
           ],
           "yaxis": "y"
          },
          {
           "alignmentgroup": "True",
           "hovertemplate": "carrier_lg=%{x}<br>Quarter Year=2025.75<br>Revenue=%{y}<extra></extra>",
           "legendgroup": "WN",
           "marker": {
            "color": "#ab63fa",
            "pattern": {
             "shape": ""
            }
           },
           "name": "WN",
           "offsetgroup": "WN",
           "orientation": "v",
           "showlegend": true,
           "textposition": "auto",
           "type": "bar",
           "x": [
            "WN"
           ],
           "xaxis": "x",
           "y": [
            62219.19313170784
           ],
           "yaxis": "y"
          },
          {
           "alignmentgroup": "True",
           "hovertemplate": "carrier_lg=%{x}<br>Quarter Year=2025.75<br>Revenue=%{y}<extra></extra>",
           "legendgroup": "NK",
           "marker": {
            "color": "#FFA15A",
            "pattern": {
             "shape": ""
            }
           },
           "name": "NK",
           "offsetgroup": "NK",
           "orientation": "v",
           "showlegend": true,
           "textposition": "auto",
           "type": "bar",
           "x": [
            "NK"
           ],
           "xaxis": "x",
           "y": [
            74821.42883226671
           ],
           "yaxis": "y"
          },
          {
           "alignmentgroup": "True",
           "hovertemplate": "carrier_lg=%{x}<br>Quarter Year=2025.75<br>Revenue=%{y}<extra></extra>",
           "legendgroup": "DL",
           "marker": {
            "color": "#19d3f3",
            "pattern": {
             "shape": ""
            }
           },
           "name": "DL",
           "offsetgroup": "DL",
           "orientation": "v",
           "showlegend": true,
           "textposition": "auto",
           "type": "bar",
           "x": [
            "DL"
           ],
           "xaxis": "x",
           "y": [
            174141.0468117085
           ],
           "yaxis": "y"
          },
          {
           "alignmentgroup": "True",
           "hovertemplate": "carrier_lg=%{x}<br>Quarter Year=2025.75<br>Revenue=%{y}<extra></extra>",
           "legendgroup": "AA",
           "marker": {
            "color": "#FF6692",
            "pattern": {
             "shape": ""
            }
           },
           "name": "AA",
           "offsetgroup": "AA",
           "orientation": "v",
           "showlegend": true,
           "textposition": "auto",
           "type": "bar",
           "x": [
            "AA"
           ],
           "xaxis": "x",
           "y": [
            77249.66646101025
           ],
           "yaxis": "y"
          },
          {
           "alignmentgroup": "True",
           "hovertemplate": "carrier_lg=%{x}<br>Quarter Year=2025.75<br>Revenue=%{y}<extra></extra>",
           "legendgroup": "UA",
           "marker": {
            "color": "#FF97FF",
            "pattern": {
             "shape": ""
            }
           },
           "name": "UA",
           "offsetgroup": "UA",
           "orientation": "v",
           "showlegend": true,
           "textposition": "auto",
           "type": "bar",
           "x": [
            "UA"
           ],
           "xaxis": "x",
           "y": [
            150481.85470950752
           ],
           "yaxis": "y"
          },
          {
           "alignmentgroup": "True",
           "hovertemplate": "carrier_lg=%{x}<br>Quarter Year=2025.75<br>Revenue=%{y}<extra></extra>",
           "legendgroup": "G4",
           "marker": {
            "color": "#FECB52",
            "pattern": {
             "shape": ""
            }
           },
           "name": "G4",
           "offsetgroup": "G4",
           "orientation": "v",
           "showlegend": true,
           "textposition": "auto",
           "type": "bar",
           "x": [
            "G4"
           ],
           "xaxis": "x",
           "y": [
            18950.07633477778
           ],
           "yaxis": "y"
          },
          {
           "alignmentgroup": "True",
           "hovertemplate": "carrier_lg=%{x}<br>Quarter Year=2025.75<br>Revenue=%{y}<extra></extra>",
           "legendgroup": "F9",
           "marker": {
            "color": "#636efa",
            "pattern": {
             "shape": ""
            }
           },
           "name": "F9",
           "offsetgroup": "F9",
           "orientation": "v",
           "showlegend": true,
           "textposition": "auto",
           "type": "bar",
           "x": [
            "F9"
           ],
           "xaxis": "x",
           "y": [
            72606.17502387501
           ],
           "yaxis": "y"
          }
         ],
         "name": "2025.75"
        },
        {
         "data": [
          {
           "alignmentgroup": "True",
           "hovertemplate": "carrier_lg=%{x}<br>Quarter Year=2026.0<br>Revenue=%{y}<extra></extra>",
           "legendgroup": "AS",
           "marker": {
            "color": "#EF553B",
            "pattern": {
             "shape": ""
            }
           },
           "name": "AS",
           "offsetgroup": "AS",
           "orientation": "v",
           "showlegend": true,
           "textposition": "auto",
           "type": "bar",
           "x": [
            "AS"
           ],
           "xaxis": "x",
           "y": [
            170364.31688382532
           ],
           "yaxis": "y"
          },
          {
           "alignmentgroup": "True",
           "hovertemplate": "carrier_lg=%{x}<br>Quarter Year=2026.0<br>Revenue=%{y}<extra></extra>",
           "legendgroup": "B6",
           "marker": {
            "color": "#00cc96",
            "pattern": {
             "shape": ""
            }
           },
           "name": "B6",
           "offsetgroup": "B6",
           "orientation": "v",
           "showlegend": true,
           "textposition": "auto",
           "type": "bar",
           "x": [
            "B6"
           ],
           "xaxis": "x",
           "y": [
            233878.0055976981
           ],
           "yaxis": "y"
          },
          {
           "alignmentgroup": "True",
           "hovertemplate": "carrier_lg=%{x}<br>Quarter Year=2026.0<br>Revenue=%{y}<extra></extra>",
           "legendgroup": "WN",
           "marker": {
            "color": "#ab63fa",
            "pattern": {
             "shape": ""
            }
           },
           "name": "WN",
           "offsetgroup": "WN",
           "orientation": "v",
           "showlegend": true,
           "textposition": "auto",
           "type": "bar",
           "x": [
            "WN"
           ],
           "xaxis": "x",
           "y": [
            63946.224710033224
           ],
           "yaxis": "y"
          },
          {
           "alignmentgroup": "True",
           "hovertemplate": "carrier_lg=%{x}<br>Quarter Year=2026.0<br>Revenue=%{y}<extra></extra>",
           "legendgroup": "NK",
           "marker": {
            "color": "#FFA15A",
            "pattern": {
             "shape": ""
            }
           },
           "name": "NK",
           "offsetgroup": "NK",
           "orientation": "v",
           "showlegend": true,
           "textposition": "auto",
           "type": "bar",
           "x": [
            "NK"
           ],
           "xaxis": "x",
           "y": [
            66434.08412463639
           ],
           "yaxis": "y"
          },
          {
           "alignmentgroup": "True",
           "hovertemplate": "carrier_lg=%{x}<br>Quarter Year=2026.0<br>Revenue=%{y}<extra></extra>",
           "legendgroup": "DL",
           "marker": {
            "color": "#19d3f3",
            "pattern": {
             "shape": ""
            }
           },
           "name": "DL",
           "offsetgroup": "DL",
           "orientation": "v",
           "showlegend": true,
           "textposition": "auto",
           "type": "bar",
           "x": [
            "DL"
           ],
           "xaxis": "x",
           "y": [
            176336.35883942439
           ],
           "yaxis": "y"
          },
          {
           "alignmentgroup": "True",
           "hovertemplate": "carrier_lg=%{x}<br>Quarter Year=2026.0<br>Revenue=%{y}<extra></extra>",
           "legendgroup": "AA",
           "marker": {
            "color": "#FF6692",
            "pattern": {
             "shape": ""
            }
           },
           "name": "AA",
           "offsetgroup": "AA",
           "orientation": "v",
           "showlegend": true,
           "textposition": "auto",
           "type": "bar",
           "x": [
            "AA"
           ],
           "xaxis": "x",
           "y": [
            77835.25806622654
           ],
           "yaxis": "y"
          },
          {
           "alignmentgroup": "True",
           "hovertemplate": "carrier_lg=%{x}<br>Quarter Year=2026.0<br>Revenue=%{y}<extra></extra>",
           "legendgroup": "UA",
           "marker": {
            "color": "#FF97FF",
            "pattern": {
             "shape": ""
            }
           },
           "name": "UA",
           "offsetgroup": "UA",
           "orientation": "v",
           "showlegend": true,
           "textposition": "auto",
           "type": "bar",
           "x": [
            "UA"
           ],
           "xaxis": "x",
           "y": [
            152992.33597743034
           ],
           "yaxis": "y"
          },
          {
           "alignmentgroup": "True",
           "hovertemplate": "carrier_lg=%{x}<br>Quarter Year=2026.0<br>Revenue=%{y}<extra></extra>",
           "legendgroup": "G4",
           "marker": {
            "color": "#FECB52",
            "pattern": {
             "shape": ""
            }
           },
           "name": "G4",
           "offsetgroup": "G4",
           "orientation": "v",
           "showlegend": true,
           "textposition": "auto",
           "type": "bar",
           "x": [
            "G4"
           ],
           "xaxis": "x",
           "y": [
            17600.277126972604
           ],
           "yaxis": "y"
          },
          {
           "alignmentgroup": "True",
           "hovertemplate": "carrier_lg=%{x}<br>Quarter Year=2026.0<br>Revenue=%{y}<extra></extra>",
           "legendgroup": "F9",
           "marker": {
            "color": "#636efa",
            "pattern": {
             "shape": ""
            }
           },
           "name": "F9",
           "offsetgroup": "F9",
           "orientation": "v",
           "showlegend": true,
           "textposition": "auto",
           "type": "bar",
           "x": [
            "F9"
           ],
           "xaxis": "x",
           "y": [
            75256.15067933331
           ],
           "yaxis": "y"
          }
         ],
         "name": "2026.0"
        },
        {
         "data": [
          {
           "alignmentgroup": "True",
           "hovertemplate": "carrier_lg=%{x}<br>Quarter Year=2026.25<br>Revenue=%{y}<extra></extra>",
           "legendgroup": "SY",
           "marker": {
            "color": "#636efa",
            "pattern": {
             "shape": ""
            }
           },
           "name": "SY",
           "offsetgroup": "SY",
           "orientation": "v",
           "showlegend": true,
           "textposition": "auto",
           "type": "bar",
           "x": [
            "SY"
           ],
           "xaxis": "x",
           "y": [
            13648.573245999984
           ],
           "yaxis": "y"
          },
          {
           "alignmentgroup": "True",
           "hovertemplate": "carrier_lg=%{x}<br>Quarter Year=2026.25<br>Revenue=%{y}<extra></extra>",
           "legendgroup": "AS",
           "marker": {
            "color": "#EF553B",
            "pattern": {
             "shape": ""
            }
           },
           "name": "AS",
           "offsetgroup": "AS",
           "orientation": "v",
           "showlegend": true,
           "textposition": "auto",
           "type": "bar",
           "x": [
            "AS"
           ],
           "xaxis": "x",
           "y": [
            169282.56052141063
           ],
           "yaxis": "y"
          },
          {
           "alignmentgroup": "True",
           "hovertemplate": "carrier_lg=%{x}<br>Quarter Year=2026.25<br>Revenue=%{y}<extra></extra>",
           "legendgroup": "B6",
           "marker": {
            "color": "#00cc96",
            "pattern": {
             "shape": ""
            }
           },
           "name": "B6",
           "offsetgroup": "B6",
           "orientation": "v",
           "showlegend": true,
           "textposition": "auto",
           "type": "bar",
           "x": [
            "B6"
           ],
           "xaxis": "x",
           "y": [
            191013.91434171872
           ],
           "yaxis": "y"
          },
          {
           "alignmentgroup": "True",
           "hovertemplate": "carrier_lg=%{x}<br>Quarter Year=2026.25<br>Revenue=%{y}<extra></extra>",
           "legendgroup": "WN",
           "marker": {
            "color": "#ab63fa",
            "pattern": {
             "shape": ""
            }
           },
           "name": "WN",
           "offsetgroup": "WN",
           "orientation": "v",
           "showlegend": true,
           "textposition": "auto",
           "type": "bar",
           "x": [
            "WN"
           ],
           "xaxis": "x",
           "y": [
            58821.44080431873
           ],
           "yaxis": "y"
          },
          {
           "alignmentgroup": "True",
           "hovertemplate": "carrier_lg=%{x}<br>Quarter Year=2026.25<br>Revenue=%{y}<extra></extra>",
           "legendgroup": "NK",
           "marker": {
            "color": "#FFA15A",
            "pattern": {
             "shape": ""
            }
           },
           "name": "NK",
           "offsetgroup": "NK",
           "orientation": "v",
           "showlegend": true,
           "textposition": "auto",
           "type": "bar",
           "x": [
            "NK"
           ],
           "xaxis": "x",
           "y": [
            70192.48688338095
           ],
           "yaxis": "y"
          },
          {
           "alignmentgroup": "True",
           "hovertemplate": "carrier_lg=%{x}<br>Quarter Year=2026.25<br>Revenue=%{y}<extra></extra>",
           "legendgroup": "DL",
           "marker": {
            "color": "#19d3f3",
            "pattern": {
             "shape": ""
            }
           },
           "name": "DL",
           "offsetgroup": "DL",
           "orientation": "v",
           "showlegend": true,
           "textposition": "auto",
           "type": "bar",
           "x": [
            "DL"
           ],
           "xaxis": "x",
           "y": [
            175166.01940797846
           ],
           "yaxis": "y"
          },
          {
           "alignmentgroup": "True",
           "hovertemplate": "carrier_lg=%{x}<br>Quarter Year=2026.25<br>Revenue=%{y}<extra></extra>",
           "legendgroup": "AA",
           "marker": {
            "color": "#FF6692",
            "pattern": {
             "shape": ""
            }
           },
           "name": "AA",
           "offsetgroup": "AA",
           "orientation": "v",
           "showlegend": true,
           "textposition": "auto",
           "type": "bar",
           "x": [
            "AA"
           ],
           "xaxis": "x",
           "y": [
            73700.45888069572
           ],
           "yaxis": "y"
          },
          {
           "alignmentgroup": "True",
           "hovertemplate": "carrier_lg=%{x}<br>Quarter Year=2026.25<br>Revenue=%{y}<extra></extra>",
           "legendgroup": "UA",
           "marker": {
            "color": "#FF97FF",
            "pattern": {
             "shape": ""
            }
           },
           "name": "UA",
           "offsetgroup": "UA",
           "orientation": "v",
           "showlegend": true,
           "textposition": "auto",
           "type": "bar",
           "x": [
            "UA"
           ],
           "xaxis": "x",
           "y": [
            159412.09097176767
           ],
           "yaxis": "y"
          },
          {
           "alignmentgroup": "True",
           "hovertemplate": "carrier_lg=%{x}<br>Quarter Year=2026.25<br>Revenue=%{y}<extra></extra>",
           "legendgroup": "G4",
           "marker": {
            "color": "#FECB52",
            "pattern": {
             "shape": ""
            }
           },
           "name": "G4",
           "offsetgroup": "G4",
           "orientation": "v",
           "showlegend": true,
           "textposition": "auto",
           "type": "bar",
           "x": [
            "G4"
           ],
           "xaxis": "x",
           "y": [
            17716.206492890626
           ],
           "yaxis": "y"
          },
          {
           "alignmentgroup": "True",
           "hovertemplate": "carrier_lg=%{x}<br>Quarter Year=2026.25<br>Revenue=%{y}<extra></extra>",
           "legendgroup": "F9",
           "marker": {
            "color": "#636efa",
            "pattern": {
             "shape": ""
            }
           },
           "name": "F9",
           "offsetgroup": "F9",
           "orientation": "v",
           "showlegend": true,
           "textposition": "auto",
           "type": "bar",
           "x": [
            "F9"
           ],
           "xaxis": "x",
           "y": [
            49207.54253833336
           ],
           "yaxis": "y"
          }
         ],
         "name": "2026.25"
        },
        {
         "data": [
          {
           "alignmentgroup": "True",
           "hovertemplate": "carrier_lg=%{x}<br>Quarter Year=2026.5<br>Revenue=%{y}<extra></extra>",
           "legendgroup": "SY",
           "marker": {
            "color": "#636efa",
            "pattern": {
             "shape": ""
            }
           },
           "name": "SY",
           "offsetgroup": "SY",
           "orientation": "v",
           "showlegend": true,
           "textposition": "auto",
           "type": "bar",
           "x": [
            "SY"
           ],
           "xaxis": "x",
           "y": [
            13648.573245999984
           ],
           "yaxis": "y"
          },
          {
           "alignmentgroup": "True",
           "hovertemplate": "carrier_lg=%{x}<br>Quarter Year=2026.5<br>Revenue=%{y}<extra></extra>",
           "legendgroup": "AS",
           "marker": {
            "color": "#EF553B",
            "pattern": {
             "shape": ""
            }
           },
           "name": "AS",
           "offsetgroup": "AS",
           "orientation": "v",
           "showlegend": true,
           "textposition": "auto",
           "type": "bar",
           "x": [
            "AS"
           ],
           "xaxis": "x",
           "y": [
            148002.69825644678
           ],
           "yaxis": "y"
          },
          {
           "alignmentgroup": "True",
           "hovertemplate": "carrier_lg=%{x}<br>Quarter Year=2026.5<br>Revenue=%{y}<extra></extra>",
           "legendgroup": "B6",
           "marker": {
            "color": "#00cc96",
            "pattern": {
             "shape": ""
            }
           },
           "name": "B6",
           "offsetgroup": "B6",
           "orientation": "v",
           "showlegend": true,
           "textposition": "auto",
           "type": "bar",
           "x": [
            "B6"
           ],
           "xaxis": "x",
           "y": [
            170261.8736666184
           ],
           "yaxis": "y"
          },
          {
           "alignmentgroup": "True",
           "hovertemplate": "carrier_lg=%{x}<br>Quarter Year=2026.5<br>Revenue=%{y}<extra></extra>",
           "legendgroup": "WN",
           "marker": {
            "color": "#ab63fa",
            "pattern": {
             "shape": ""
            }
           },
           "name": "WN",
           "offsetgroup": "WN",
           "orientation": "v",
           "showlegend": true,
           "textposition": "auto",
           "type": "bar",
           "x": [
            "WN"
           ],
           "xaxis": "x",
           "y": [
            55430.592124152856
           ],
           "yaxis": "y"
          },
          {
           "alignmentgroup": "True",
           "hovertemplate": "carrier_lg=%{x}<br>Quarter Year=2026.5<br>Revenue=%{y}<extra></extra>",
           "legendgroup": "NK",
           "marker": {
            "color": "#FFA15A",
            "pattern": {
             "shape": ""
            }
           },
           "name": "NK",
           "offsetgroup": "NK",
           "orientation": "v",
           "showlegend": true,
           "textposition": "auto",
           "type": "bar",
           "x": [
            "NK"
           ],
           "xaxis": "x",
           "y": [
            49091.311962866675
           ],
           "yaxis": "y"
          },
          {
           "alignmentgroup": "True",
           "hovertemplate": "carrier_lg=%{x}<br>Quarter Year=2026.5<br>Revenue=%{y}<extra></extra>",
           "legendgroup": "DL",
           "marker": {
            "color": "#19d3f3",
            "pattern": {
             "shape": ""
            }
           },
           "name": "DL",
           "offsetgroup": "DL",
           "orientation": "v",
           "showlegend": true,
           "textposition": "auto",
           "type": "bar",
           "x": [
            "DL"
           ],
           "xaxis": "x",
           "y": [
            154016.19851215114
           ],
           "yaxis": "y"
          },
          {
           "alignmentgroup": "True",
           "hovertemplate": "carrier_lg=%{x}<br>Quarter Year=2026.5<br>Revenue=%{y}<extra></extra>",
           "legendgroup": "AA",
           "marker": {
            "color": "#FF6692",
            "pattern": {
             "shape": ""
            }
           },
           "name": "AA",
           "offsetgroup": "AA",
           "orientation": "v",
           "showlegend": true,
           "textposition": "auto",
           "type": "bar",
           "x": [
            "AA"
           ],
           "xaxis": "x",
           "y": [
            72748.07056736303
           ],
           "yaxis": "y"
          },
          {
           "alignmentgroup": "True",
           "hovertemplate": "carrier_lg=%{x}<br>Quarter Year=2026.5<br>Revenue=%{y}<extra></extra>",
           "legendgroup": "UA",
           "marker": {
            "color": "#FF97FF",
            "pattern": {
             "shape": ""
            }
           },
           "name": "UA",
           "offsetgroup": "UA",
           "orientation": "v",
           "showlegend": true,
           "textposition": "auto",
           "type": "bar",
           "x": [
            "UA"
           ],
           "xaxis": "x",
           "y": [
            147391.4220724054
           ],
           "yaxis": "y"
          },
          {
           "alignmentgroup": "True",
           "hovertemplate": "carrier_lg=%{x}<br>Quarter Year=2026.5<br>Revenue=%{y}<extra></extra>",
           "legendgroup": "G4",
           "marker": {
            "color": "#FECB52",
            "pattern": {
             "shape": ""
            }
           },
           "name": "G4",
           "offsetgroup": "G4",
           "orientation": "v",
           "showlegend": true,
           "textposition": "auto",
           "type": "bar",
           "x": [
            "G4"
           ],
           "xaxis": "x",
           "y": [
            18741.286373163635
           ],
           "yaxis": "y"
          },
          {
           "alignmentgroup": "True",
           "hovertemplate": "carrier_lg=%{x}<br>Quarter Year=2026.5<br>Revenue=%{y}<extra></extra>",
           "legendgroup": "F9",
           "marker": {
            "color": "#636efa",
            "pattern": {
             "shape": ""
            }
           },
           "name": "F9",
           "offsetgroup": "F9",
           "orientation": "v",
           "showlegend": true,
           "textposition": "auto",
           "type": "bar",
           "x": [
            "F9"
           ],
           "xaxis": "x",
           "y": [
            76728.29663386667
           ],
           "yaxis": "y"
          },
          {
           "alignmentgroup": "True",
           "hovertemplate": "carrier_lg=%{x}<br>Quarter Year=2026.5<br>Revenue=%{y}<extra></extra>",
           "legendgroup": "3M",
           "marker": {
            "color": "#EF553B",
            "pattern": {
             "shape": ""
            }
           },
           "name": "3M",
           "offsetgroup": "3M",
           "orientation": "v",
           "showlegend": true,
           "textposition": "auto",
           "type": "bar",
           "x": [
            "3M"
           ],
           "xaxis": "x",
           "y": [
            31023.112241999952
           ],
           "yaxis": "y"
          }
         ],
         "name": "2026.5"
        },
        {
         "data": [
          {
           "alignmentgroup": "True",
           "hovertemplate": "carrier_lg=%{x}<br>Quarter Year=2026.75<br>Revenue=%{y}<extra></extra>",
           "legendgroup": "SY",
           "marker": {
            "color": "#636efa",
            "pattern": {
             "shape": ""
            }
           },
           "name": "SY",
           "offsetgroup": "SY",
           "orientation": "v",
           "showlegend": true,
           "textposition": "auto",
           "type": "bar",
           "x": [
            "SY"
           ],
           "xaxis": "x",
           "y": [
            16699.589629599992
           ],
           "yaxis": "y"
          },
          {
           "alignmentgroup": "True",
           "hovertemplate": "carrier_lg=%{x}<br>Quarter Year=2026.75<br>Revenue=%{y}<extra></extra>",
           "legendgroup": "AS",
           "marker": {
            "color": "#EF553B",
            "pattern": {
             "shape": ""
            }
           },
           "name": "AS",
           "offsetgroup": "AS",
           "orientation": "v",
           "showlegend": true,
           "textposition": "auto",
           "type": "bar",
           "x": [
            "AS"
           ],
           "xaxis": "x",
           "y": [
            180243.13338931103
           ],
           "yaxis": "y"
          },
          {
           "alignmentgroup": "True",
           "hovertemplate": "carrier_lg=%{x}<br>Quarter Year=2026.75<br>Revenue=%{y}<extra></extra>",
           "legendgroup": "B6",
           "marker": {
            "color": "#00cc96",
            "pattern": {
             "shape": ""
            }
           },
           "name": "B6",
           "offsetgroup": "B6",
           "orientation": "v",
           "showlegend": true,
           "textposition": "auto",
           "type": "bar",
           "x": [
            "B6"
           ],
           "xaxis": "x",
           "y": [
            195113.16261146875
           ],
           "yaxis": "y"
          },
          {
           "alignmentgroup": "True",
           "hovertemplate": "carrier_lg=%{x}<br>Quarter Year=2026.75<br>Revenue=%{y}<extra></extra>",
           "legendgroup": "WN",
           "marker": {
            "color": "#ab63fa",
            "pattern": {
             "shape": ""
            }
           },
           "name": "WN",
           "offsetgroup": "WN",
           "orientation": "v",
           "showlegend": true,
           "textposition": "auto",
           "type": "bar",
           "x": [
            "WN"
           ],
           "xaxis": "x",
           "y": [
            55241.66462828242
           ],
           "yaxis": "y"
          },
          {
           "alignmentgroup": "True",
           "hovertemplate": "carrier_lg=%{x}<br>Quarter Year=2026.75<br>Revenue=%{y}<extra></extra>",
           "legendgroup": "NK",
           "marker": {
            "color": "#FFA15A",
            "pattern": {
             "shape": ""
            }
           },
           "name": "NK",
           "offsetgroup": "NK",
           "orientation": "v",
           "showlegend": true,
           "textposition": "auto",
           "type": "bar",
           "x": [
            "NK"
           ],
           "xaxis": "x",
           "y": [
            41306.2291512
           ],
           "yaxis": "y"
          },
          {
           "alignmentgroup": "True",
           "hovertemplate": "carrier_lg=%{x}<br>Quarter Year=2026.75<br>Revenue=%{y}<extra></extra>",
           "legendgroup": "DL",
           "marker": {
            "color": "#19d3f3",
            "pattern": {
             "shape": ""
            }
           },
           "name": "DL",
           "offsetgroup": "DL",
           "orientation": "v",
           "showlegend": true,
           "textposition": "auto",
           "type": "bar",
           "x": [
            "DL"
           ],
           "xaxis": "x",
           "y": [
            160332.3652903544
           ],
           "yaxis": "y"
          },
          {
           "alignmentgroup": "True",
           "hovertemplate": "carrier_lg=%{x}<br>Quarter Year=2026.75<br>Revenue=%{y}<extra></extra>",
           "legendgroup": "AA",
           "marker": {
            "color": "#FF6692",
            "pattern": {
             "shape": ""
            }
           },
           "name": "AA",
           "offsetgroup": "AA",
           "orientation": "v",
           "showlegend": true,
           "textposition": "auto",
           "type": "bar",
           "x": [
            "AA"
           ],
           "xaxis": "x",
           "y": [
            79676.38344055146
           ],
           "yaxis": "y"
          },
          {
           "alignmentgroup": "True",
           "hovertemplate": "carrier_lg=%{x}<br>Quarter Year=2026.75<br>Revenue=%{y}<extra></extra>",
           "legendgroup": "UA",
           "marker": {
            "color": "#FF97FF",
            "pattern": {
             "shape": ""
            }
           },
           "name": "UA",
           "offsetgroup": "UA",
           "orientation": "v",
           "showlegend": true,
           "textposition": "auto",
           "type": "bar",
           "x": [
            "UA"
           ],
           "xaxis": "x",
           "y": [
            144226.6581882163
           ],
           "yaxis": "y"
          },
          {
           "alignmentgroup": "True",
           "hovertemplate": "carrier_lg=%{x}<br>Quarter Year=2026.75<br>Revenue=%{y}<extra></extra>",
           "legendgroup": "G4",
           "marker": {
            "color": "#FECB52",
            "pattern": {
             "shape": ""
            }
           },
           "name": "G4",
           "offsetgroup": "G4",
           "orientation": "v",
           "showlegend": true,
           "textposition": "auto",
           "type": "bar",
           "x": [
            "G4"
           ],
           "xaxis": "x",
           "y": [
            16830.09422932075
           ],
           "yaxis": "y"
          },
          {
           "alignmentgroup": "True",
           "hovertemplate": "carrier_lg=%{x}<br>Quarter Year=2026.75<br>Revenue=%{y}<extra></extra>",
           "legendgroup": "F9",
           "marker": {
            "color": "#636efa",
            "pattern": {
             "shape": ""
            }
           },
           "name": "F9",
           "offsetgroup": "F9",
           "orientation": "v",
           "showlegend": true,
           "textposition": "auto",
           "type": "bar",
           "x": [
            "F9"
           ],
           "xaxis": "x",
           "y": [
            51443.24098037501
           ],
           "yaxis": "y"
          },
          {
           "alignmentgroup": "True",
           "hovertemplate": "carrier_lg=%{x}<br>Quarter Year=2026.75<br>Revenue=%{y}<extra></extra>",
           "legendgroup": "3M",
           "marker": {
            "color": "#EF553B",
            "pattern": {
             "shape": ""
            }
           },
           "name": "3M",
           "offsetgroup": "3M",
           "orientation": "v",
           "showlegend": true,
           "textposition": "auto",
           "type": "bar",
           "x": [
            "3M"
           ],
           "xaxis": "x",
           "y": [
            31023.112241999952
           ],
           "yaxis": "y"
          },
          {
           "alignmentgroup": "True",
           "hovertemplate": "carrier_lg=%{x}<br>Quarter Year=2026.75<br>Revenue=%{y}<extra></extra>",
           "legendgroup": "MX",
           "marker": {
            "color": "#00cc96",
            "pattern": {
             "shape": ""
            }
           },
           "name": "MX",
           "offsetgroup": "MX",
           "orientation": "v",
           "showlegend": true,
           "textposition": "auto",
           "type": "bar",
           "x": [
            "MX"
           ],
           "xaxis": "x",
           "y": [
            28025.067141500007
           ],
           "yaxis": "y"
          },
          {
           "alignmentgroup": "True",
           "hovertemplate": "carrier_lg=%{x}<br>Quarter Year=2026.75<br>Revenue=%{y}<extra></extra>",
           "legendgroup": "XP",
           "marker": {
            "color": "#ab63fa",
            "pattern": {
             "shape": ""
            }
           },
           "name": "XP",
           "offsetgroup": "XP",
           "orientation": "v",
           "showlegend": true,
           "textposition": "auto",
           "type": "bar",
           "x": [
            "XP"
           ],
           "xaxis": "x",
           "y": [
            16046.321071333332
           ],
           "yaxis": "y"
          }
         ],
         "name": "2026.75"
        },
        {
         "data": [
          {
           "alignmentgroup": "True",
           "hovertemplate": "carrier_lg=%{x}<br>Quarter Year=2027.0<br>Revenue=%{y}<extra></extra>",
           "legendgroup": "SY",
           "marker": {
            "color": "#636efa",
            "pattern": {
             "shape": ""
            }
           },
           "name": "SY",
           "offsetgroup": "SY",
           "orientation": "v",
           "showlegend": true,
           "textposition": "auto",
           "type": "bar",
           "x": [
            "SY"
           ],
           "xaxis": "x",
           "y": [
            25931.835425799993
           ],
           "yaxis": "y"
          },
          {
           "alignmentgroup": "True",
           "hovertemplate": "carrier_lg=%{x}<br>Quarter Year=2027.0<br>Revenue=%{y}<extra></extra>",
           "legendgroup": "AS",
           "marker": {
            "color": "#EF553B",
            "pattern": {
             "shape": ""
            }
           },
           "name": "AS",
           "offsetgroup": "AS",
           "orientation": "v",
           "showlegend": true,
           "textposition": "auto",
           "type": "bar",
           "x": [
            "AS"
           ],
           "xaxis": "x",
           "y": [
            196025.74527401992
           ],
           "yaxis": "y"
          },
          {
           "alignmentgroup": "True",
           "hovertemplate": "carrier_lg=%{x}<br>Quarter Year=2027.0<br>Revenue=%{y}<extra></extra>",
           "legendgroup": "B6",
           "marker": {
            "color": "#00cc96",
            "pattern": {
             "shape": ""
            }
           },
           "name": "B6",
           "offsetgroup": "B6",
           "orientation": "v",
           "showlegend": true,
           "textposition": "auto",
           "type": "bar",
           "x": [
            "B6"
           ],
           "xaxis": "x",
           "y": [
            200326.19742289395
           ],
           "yaxis": "y"
          },
          {
           "alignmentgroup": "True",
           "hovertemplate": "carrier_lg=%{x}<br>Quarter Year=2027.0<br>Revenue=%{y}<extra></extra>",
           "legendgroup": "WN",
           "marker": {
            "color": "#ab63fa",
            "pattern": {
             "shape": ""
            }
           },
           "name": "WN",
           "offsetgroup": "WN",
           "orientation": "v",
           "showlegend": true,
           "textposition": "auto",
           "type": "bar",
           "x": [
            "WN"
           ],
           "xaxis": "x",
           "y": [
            56655.05336472256
           ],
           "yaxis": "y"
          },
          {
           "alignmentgroup": "True",
           "hovertemplate": "carrier_lg=%{x}<br>Quarter Year=2027.0<br>Revenue=%{y}<extra></extra>",
           "legendgroup": "NK",
           "marker": {
            "color": "#FFA15A",
            "pattern": {
             "shape": ""
            }
           },
           "name": "NK",
           "offsetgroup": "NK",
           "orientation": "v",
           "showlegend": true,
           "textposition": "auto",
           "type": "bar",
           "x": [
            "NK"
           ],
           "xaxis": "x",
           "y": [
            45870.82037047827
           ],
           "yaxis": "y"
          },
          {
           "alignmentgroup": "True",
           "hovertemplate": "carrier_lg=%{x}<br>Quarter Year=2027.0<br>Revenue=%{y}<extra></extra>",
           "legendgroup": "DL",
           "marker": {
            "color": "#19d3f3",
            "pattern": {
             "shape": ""
            }
           },
           "name": "DL",
           "offsetgroup": "DL",
           "orientation": "v",
           "showlegend": true,
           "textposition": "auto",
           "type": "bar",
           "x": [
            "DL"
           ],
           "xaxis": "x",
           "y": [
            152713.0816233471
           ],
           "yaxis": "y"
          },
          {
           "alignmentgroup": "True",
           "hovertemplate": "carrier_lg=%{x}<br>Quarter Year=2027.0<br>Revenue=%{y}<extra></extra>",
           "legendgroup": "AA",
           "marker": {
            "color": "#FF6692",
            "pattern": {
             "shape": ""
            }
           },
           "name": "AA",
           "offsetgroup": "AA",
           "orientation": "v",
           "showlegend": true,
           "textposition": "auto",
           "type": "bar",
           "x": [
            "AA"
           ],
           "xaxis": "x",
           "y": [
            86148.46319361309
           ],
           "yaxis": "y"
          },
          {
           "alignmentgroup": "True",
           "hovertemplate": "carrier_lg=%{x}<br>Quarter Year=2027.0<br>Revenue=%{y}<extra></extra>",
           "legendgroup": "UA",
           "marker": {
            "color": "#FF97FF",
            "pattern": {
             "shape": ""
            }
           },
           "name": "UA",
           "offsetgroup": "UA",
           "orientation": "v",
           "showlegend": true,
           "textposition": "auto",
           "type": "bar",
           "x": [
            "UA"
           ],
           "xaxis": "x",
           "y": [
            140274.35443153072
           ],
           "yaxis": "y"
          },
          {
           "alignmentgroup": "True",
           "hovertemplate": "carrier_lg=%{x}<br>Quarter Year=2027.0<br>Revenue=%{y}<extra></extra>",
           "legendgroup": "G4",
           "marker": {
            "color": "#FECB52",
            "pattern": {
             "shape": ""
            }
           },
           "name": "G4",
           "offsetgroup": "G4",
           "orientation": "v",
           "showlegend": true,
           "textposition": "auto",
           "type": "bar",
           "x": [
            "G4"
           ],
           "xaxis": "x",
           "y": [
            16171.101725964907
           ],
           "yaxis": "y"
          },
          {
           "alignmentgroup": "True",
           "hovertemplate": "carrier_lg=%{x}<br>Quarter Year=2027.0<br>Revenue=%{y}<extra></extra>",
           "legendgroup": "F9",
           "marker": {
            "color": "#636efa",
            "pattern": {
             "shape": ""
            }
           },
           "name": "F9",
           "offsetgroup": "F9",
           "orientation": "v",
           "showlegend": true,
           "textposition": "auto",
           "type": "bar",
           "x": [
            "F9"
           ],
           "xaxis": "x",
           "y": [
            53577.294991148134
           ],
           "yaxis": "y"
          },
          {
           "alignmentgroup": "True",
           "hovertemplate": "carrier_lg=%{x}<br>Quarter Year=2027.0<br>Revenue=%{y}<extra></extra>",
           "legendgroup": "3M",
           "marker": {
            "color": "#EF553B",
            "pattern": {
             "shape": ""
            }
           },
           "name": "3M",
           "offsetgroup": "3M",
           "orientation": "v",
           "showlegend": true,
           "textposition": "auto",
           "type": "bar",
           "x": [
            "3M"
           ],
           "xaxis": "x",
           "y": [
            31023.112241999952
           ],
           "yaxis": "y"
          },
          {
           "alignmentgroup": "True",
           "hovertemplate": "carrier_lg=%{x}<br>Quarter Year=2027.0<br>Revenue=%{y}<extra></extra>",
           "legendgroup": "MX",
           "marker": {
            "color": "#00cc96",
            "pattern": {
             "shape": ""
            }
           },
           "name": "MX",
           "offsetgroup": "MX",
           "orientation": "v",
           "showlegend": true,
           "textposition": "auto",
           "type": "bar",
           "x": [
            "MX"
           ],
           "xaxis": "x",
           "y": [
            23364.95608687501
           ],
           "yaxis": "y"
          },
          {
           "alignmentgroup": "True",
           "hovertemplate": "carrier_lg=%{x}<br>Quarter Year=2027.0<br>Revenue=%{y}<extra></extra>",
           "legendgroup": "XP",
           "marker": {
            "color": "#ab63fa",
            "pattern": {
             "shape": ""
            }
           },
           "name": "XP",
           "offsetgroup": "XP",
           "orientation": "v",
           "showlegend": true,
           "textposition": "auto",
           "type": "bar",
           "x": [
            "XP"
           ],
           "xaxis": "x",
           "y": [
            17870.133443499995
           ],
           "yaxis": "y"
          }
         ],
         "name": "2027.0"
        },
        {
         "data": [
          {
           "alignmentgroup": "True",
           "hovertemplate": "carrier_lg=%{x}<br>Quarter Year=2027.25<br>Revenue=%{y}<extra></extra>",
           "legendgroup": "SY",
           "marker": {
            "color": "#636efa",
            "pattern": {
             "shape": ""
            }
           },
           "name": "SY",
           "offsetgroup": "SY",
           "orientation": "v",
           "showlegend": true,
           "textposition": "auto",
           "type": "bar",
           "x": [
            "SY"
           ],
           "xaxis": "x",
           "y": [
            16131.31250759999
           ],
           "yaxis": "y"
          },
          {
           "alignmentgroup": "True",
           "hovertemplate": "carrier_lg=%{x}<br>Quarter Year=2027.25<br>Revenue=%{y}<extra></extra>",
           "legendgroup": "AS",
           "marker": {
            "color": "#EF553B",
            "pattern": {
             "shape": ""
            }
           },
           "name": "AS",
           "offsetgroup": "AS",
           "orientation": "v",
           "showlegend": true,
           "textposition": "auto",
           "type": "bar",
           "x": [
            "AS"
           ],
           "xaxis": "x",
           "y": [
            208941.10682181237
           ],
           "yaxis": "y"
          },
          {
           "alignmentgroup": "True",
           "hovertemplate": "carrier_lg=%{x}<br>Quarter Year=2027.25<br>Revenue=%{y}<extra></extra>",
           "legendgroup": "B6",
           "marker": {
            "color": "#00cc96",
            "pattern": {
             "shape": ""
            }
           },
           "name": "B6",
           "offsetgroup": "B6",
           "orientation": "v",
           "showlegend": true,
           "textposition": "auto",
           "type": "bar",
           "x": [
            "B6"
           ],
           "xaxis": "x",
           "y": [
            158451.17431105554
           ],
           "yaxis": "y"
          },
          {
           "alignmentgroup": "True",
           "hovertemplate": "carrier_lg=%{x}<br>Quarter Year=2027.25<br>Revenue=%{y}<extra></extra>",
           "legendgroup": "WN",
           "marker": {
            "color": "#ab63fa",
            "pattern": {
             "shape": ""
            }
           },
           "name": "WN",
           "offsetgroup": "WN",
           "orientation": "v",
           "showlegend": true,
           "textposition": "auto",
           "type": "bar",
           "x": [
            "WN"
           ],
           "xaxis": "x",
           "y": [
            57058.15381904024
           ],
           "yaxis": "y"
          },
          {
           "alignmentgroup": "True",
           "hovertemplate": "carrier_lg=%{x}<br>Quarter Year=2027.25<br>Revenue=%{y}<extra></extra>",
           "legendgroup": "NK",
           "marker": {
            "color": "#FFA15A",
            "pattern": {
             "shape": ""
            }
           },
           "name": "NK",
           "offsetgroup": "NK",
           "orientation": "v",
           "showlegend": true,
           "textposition": "auto",
           "type": "bar",
           "x": [
            "NK"
           ],
           "xaxis": "x",
           "y": [
            67563.09537447368
           ],
           "yaxis": "y"
          },
          {
           "alignmentgroup": "True",
           "hovertemplate": "carrier_lg=%{x}<br>Quarter Year=2027.25<br>Revenue=%{y}<extra></extra>",
           "legendgroup": "DL",
           "marker": {
            "color": "#19d3f3",
            "pattern": {
             "shape": ""
            }
           },
           "name": "DL",
           "offsetgroup": "DL",
           "orientation": "v",
           "showlegend": true,
           "textposition": "auto",
           "type": "bar",
           "x": [
            "DL"
           ],
           "xaxis": "x",
           "y": [
            147296.51586834894
           ],
           "yaxis": "y"
          },
          {
           "alignmentgroup": "True",
           "hovertemplate": "carrier_lg=%{x}<br>Quarter Year=2027.25<br>Revenue=%{y}<extra></extra>",
           "legendgroup": "AA",
           "marker": {
            "color": "#FF6692",
            "pattern": {
             "shape": ""
            }
           },
           "name": "AA",
           "offsetgroup": "AA",
           "orientation": "v",
           "showlegend": true,
           "textposition": "auto",
           "type": "bar",
           "x": [
            "AA"
           ],
           "xaxis": "x",
           "y": [
            83681.04125512624
           ],
           "yaxis": "y"
          },
          {
           "alignmentgroup": "True",
           "hovertemplate": "carrier_lg=%{x}<br>Quarter Year=2027.25<br>Revenue=%{y}<extra></extra>",
           "legendgroup": "UA",
           "marker": {
            "color": "#FF97FF",
            "pattern": {
             "shape": ""
            }
           },
           "name": "UA",
           "offsetgroup": "UA",
           "orientation": "v",
           "showlegend": true,
           "textposition": "auto",
           "type": "bar",
           "x": [
            "UA"
           ],
           "xaxis": "x",
           "y": [
            144539.9440076986
           ],
           "yaxis": "y"
          },
          {
           "alignmentgroup": "True",
           "hovertemplate": "carrier_lg=%{x}<br>Quarter Year=2027.25<br>Revenue=%{y}<extra></extra>",
           "legendgroup": "G4",
           "marker": {
            "color": "#FECB52",
            "pattern": {
             "shape": ""
            }
           },
           "name": "G4",
           "offsetgroup": "G4",
           "orientation": "v",
           "showlegend": true,
           "textposition": "auto",
           "type": "bar",
           "x": [
            "G4"
           ],
           "xaxis": "x",
           "y": [
            18408.556347126985
           ],
           "yaxis": "y"
          },
          {
           "alignmentgroup": "True",
           "hovertemplate": "carrier_lg=%{x}<br>Quarter Year=2027.25<br>Revenue=%{y}<extra></extra>",
           "legendgroup": "F9",
           "marker": {
            "color": "#636efa",
            "pattern": {
             "shape": ""
            }
           },
           "name": "F9",
           "offsetgroup": "F9",
           "orientation": "v",
           "showlegend": true,
           "textposition": "auto",
           "type": "bar",
           "x": [
            "F9"
           ],
           "xaxis": "x",
           "y": [
            57924.973743571434
           ],
           "yaxis": "y"
          },
          {
           "alignmentgroup": "True",
           "hovertemplate": "carrier_lg=%{x}<br>Quarter Year=2027.25<br>Revenue=%{y}<extra></extra>",
           "legendgroup": "3M",
           "marker": {
            "color": "#EF553B",
            "pattern": {
             "shape": ""
            }
           },
           "name": "3M",
           "offsetgroup": "3M",
           "orientation": "v",
           "showlegend": true,
           "textposition": "auto",
           "type": "bar",
           "x": [
            "3M"
           ],
           "xaxis": "x",
           "y": [
            31023.112241999952
           ],
           "yaxis": "y"
          },
          {
           "alignmentgroup": "True",
           "hovertemplate": "carrier_lg=%{x}<br>Quarter Year=2027.25<br>Revenue=%{y}<extra></extra>",
           "legendgroup": "MX",
           "marker": {
            "color": "#00cc96",
            "pattern": {
             "shape": ""
            }
           },
           "name": "MX",
           "offsetgroup": "MX",
           "orientation": "v",
           "showlegend": true,
           "textposition": "auto",
           "type": "bar",
           "x": [
            "MX"
           ],
           "xaxis": "x",
           "y": [
            22856.324049875006
           ],
           "yaxis": "y"
          },
          {
           "alignmentgroup": "True",
           "hovertemplate": "carrier_lg=%{x}<br>Quarter Year=2027.25<br>Revenue=%{y}<extra></extra>",
           "legendgroup": "XP",
           "marker": {
            "color": "#ab63fa",
            "pattern": {
             "shape": ""
            }
           },
           "name": "XP",
           "offsetgroup": "XP",
           "orientation": "v",
           "showlegend": true,
           "textposition": "auto",
           "type": "bar",
           "x": [
            "XP"
           ],
           "xaxis": "x",
           "y": [
            21183.83057033334
           ],
           "yaxis": "y"
          }
         ],
         "name": "2027.25"
        },
        {
         "data": [
          {
           "alignmentgroup": "True",
           "hovertemplate": "carrier_lg=%{x}<br>Quarter Year=2027.5<br>Revenue=%{y}<extra></extra>",
           "legendgroup": "SY",
           "marker": {
            "color": "#636efa",
            "pattern": {
             "shape": ""
            }
           },
           "name": "SY",
           "offsetgroup": "SY",
           "orientation": "v",
           "showlegend": true,
           "textposition": "auto",
           "type": "bar",
           "x": [
            "SY"
           ],
           "xaxis": "x",
           "y": [
            13648.573245999984
           ],
           "yaxis": "y"
          },
          {
           "alignmentgroup": "True",
           "hovertemplate": "carrier_lg=%{x}<br>Quarter Year=2027.5<br>Revenue=%{y}<extra></extra>",
           "legendgroup": "AS",
           "marker": {
            "color": "#EF553B",
            "pattern": {
             "shape": ""
            }
           },
           "name": "AS",
           "offsetgroup": "AS",
           "orientation": "v",
           "showlegend": true,
           "textposition": "auto",
           "type": "bar",
           "x": [
            "AS"
           ],
           "xaxis": "x",
           "y": [
            206832.7367818599
           ],
           "yaxis": "y"
          },
          {
           "alignmentgroup": "True",
           "hovertemplate": "carrier_lg=%{x}<br>Quarter Year=2027.5<br>Revenue=%{y}<extra></extra>",
           "legendgroup": "B6",
           "marker": {
            "color": "#00cc96",
            "pattern": {
             "shape": ""
            }
           },
           "name": "B6",
           "offsetgroup": "B6",
           "orientation": "v",
           "showlegend": true,
           "textposition": "auto",
           "type": "bar",
           "x": [
            "B6"
           ],
           "xaxis": "x",
           "y": [
            194324.59671880768
           ],
           "yaxis": "y"
          },
          {
           "alignmentgroup": "True",
           "hovertemplate": "carrier_lg=%{x}<br>Quarter Year=2027.5<br>Revenue=%{y}<extra></extra>",
           "legendgroup": "WN",
           "marker": {
            "color": "#ab63fa",
            "pattern": {
             "shape": ""
            }
           },
           "name": "WN",
           "offsetgroup": "WN",
           "orientation": "v",
           "showlegend": true,
           "textposition": "auto",
           "type": "bar",
           "x": [
            "WN"
           ],
           "xaxis": "x",
           "y": [
            54897.58837476602
           ],
           "yaxis": "y"
          },
          {
           "alignmentgroup": "True",
           "hovertemplate": "carrier_lg=%{x}<br>Quarter Year=2027.5<br>Revenue=%{y}<extra></extra>",
           "legendgroup": "NK",
           "marker": {
            "color": "#FFA15A",
            "pattern": {
             "shape": ""
            }
           },
           "name": "NK",
           "offsetgroup": "NK",
           "orientation": "v",
           "showlegend": true,
           "textposition": "auto",
           "type": "bar",
           "x": [
            "NK"
           ],
           "xaxis": "x",
           "y": [
            91029.04092960975
           ],
           "yaxis": "y"
          },
          {
           "alignmentgroup": "True",
           "hovertemplate": "carrier_lg=%{x}<br>Quarter Year=2027.5<br>Revenue=%{y}<extra></extra>",
           "legendgroup": "DL",
           "marker": {
            "color": "#19d3f3",
            "pattern": {
             "shape": ""
            }
           },
           "name": "DL",
           "offsetgroup": "DL",
           "orientation": "v",
           "showlegend": true,
           "textposition": "auto",
           "type": "bar",
           "x": [
            "DL"
           ],
           "xaxis": "x",
           "y": [
            132059.1540345739
           ],
           "yaxis": "y"
          },
          {
           "alignmentgroup": "True",
           "hovertemplate": "carrier_lg=%{x}<br>Quarter Year=2027.5<br>Revenue=%{y}<extra></extra>",
           "legendgroup": "AA",
           "marker": {
            "color": "#FF6692",
            "pattern": {
             "shape": ""
            }
           },
           "name": "AA",
           "offsetgroup": "AA",
           "orientation": "v",
           "showlegend": true,
           "textposition": "auto",
           "type": "bar",
           "x": [
            "AA"
           ],
           "xaxis": "x",
           "y": [
            85602.31487654388
           ],
           "yaxis": "y"
          },
          {
           "alignmentgroup": "True",
           "hovertemplate": "carrier_lg=%{x}<br>Quarter Year=2027.5<br>Revenue=%{y}<extra></extra>",
           "legendgroup": "UA",
           "marker": {
            "color": "#FF97FF",
            "pattern": {
             "shape": ""
            }
           },
           "name": "UA",
           "offsetgroup": "UA",
           "orientation": "v",
           "showlegend": true,
           "textposition": "auto",
           "type": "bar",
           "x": [
            "UA"
           ],
           "xaxis": "x",
           "y": [
            144767.47526554513
           ],
           "yaxis": "y"
          },
          {
           "alignmentgroup": "True",
           "hovertemplate": "carrier_lg=%{x}<br>Quarter Year=2027.5<br>Revenue=%{y}<extra></extra>",
           "legendgroup": "G4",
           "marker": {
            "color": "#FECB52",
            "pattern": {
             "shape": ""
            }
           },
           "name": "G4",
           "offsetgroup": "G4",
           "orientation": "v",
           "showlegend": true,
           "textposition": "auto",
           "type": "bar",
           "x": [
            "G4"
           ],
           "xaxis": "x",
           "y": [
            20824.461851492306
           ],
           "yaxis": "y"
          },
          {
           "alignmentgroup": "True",
           "hovertemplate": "carrier_lg=%{x}<br>Quarter Year=2027.5<br>Revenue=%{y}<extra></extra>",
           "legendgroup": "F9",
           "marker": {
            "color": "#636efa",
            "pattern": {
             "shape": ""
            }
           },
           "name": "F9",
           "offsetgroup": "F9",
           "orientation": "v",
           "showlegend": true,
           "textposition": "auto",
           "type": "bar",
           "x": [
            "F9"
           ],
           "xaxis": "x",
           "y": [
            59131.80404093751
           ],
           "yaxis": "y"
          },
          {
           "alignmentgroup": "True",
           "hovertemplate": "carrier_lg=%{x}<br>Quarter Year=2027.5<br>Revenue=%{y}<extra></extra>",
           "legendgroup": "3M",
           "marker": {
            "color": "#EF553B",
            "pattern": {
             "shape": ""
            }
           },
           "name": "3M",
           "offsetgroup": "3M",
           "orientation": "v",
           "showlegend": true,
           "textposition": "auto",
           "type": "bar",
           "x": [
            "3M"
           ],
           "xaxis": "x",
           "y": [
            31023.112241999952
           ],
           "yaxis": "y"
          },
          {
           "alignmentgroup": "True",
           "hovertemplate": "carrier_lg=%{x}<br>Quarter Year=2027.5<br>Revenue=%{y}<extra></extra>",
           "legendgroup": "MX",
           "marker": {
            "color": "#00cc96",
            "pattern": {
             "shape": ""
            }
           },
           "name": "MX",
           "offsetgroup": "MX",
           "orientation": "v",
           "showlegend": true,
           "textposition": "auto",
           "type": "bar",
           "x": [
            "MX"
           ],
           "xaxis": "x",
           "y": [
            21987.207589416666
           ],
           "yaxis": "y"
          },
          {
           "alignmentgroup": "True",
           "hovertemplate": "carrier_lg=%{x}<br>Quarter Year=2027.5<br>Revenue=%{y}<extra></extra>",
           "legendgroup": "XP",
           "marker": {
            "color": "#ab63fa",
            "pattern": {
             "shape": ""
            }
           },
           "name": "XP",
           "offsetgroup": "XP",
           "orientation": "v",
           "showlegend": true,
           "textposition": "auto",
           "type": "bar",
           "x": [
            "XP"
           ],
           "xaxis": "x",
           "y": [
            17737.514514799997
           ],
           "yaxis": "y"
          }
         ],
         "name": "2027.5"
        },
        {
         "data": [
          {
           "alignmentgroup": "True",
           "hovertemplate": "carrier_lg=%{x}<br>Quarter Year=2027.75<br>Revenue=%{y}<extra></extra>",
           "legendgroup": "SY",
           "marker": {
            "color": "#636efa",
            "pattern": {
             "shape": ""
            }
           },
           "name": "SY",
           "offsetgroup": "SY",
           "orientation": "v",
           "showlegend": true,
           "textposition": "auto",
           "type": "bar",
           "x": [
            "SY"
           ],
           "xaxis": "x",
           "y": [
            19118.52109283333
           ],
           "yaxis": "y"
          },
          {
           "alignmentgroup": "True",
           "hovertemplate": "carrier_lg=%{x}<br>Quarter Year=2027.75<br>Revenue=%{y}<extra></extra>",
           "legendgroup": "AS",
           "marker": {
            "color": "#EF553B",
            "pattern": {
             "shape": ""
            }
           },
           "name": "AS",
           "offsetgroup": "AS",
           "orientation": "v",
           "showlegend": true,
           "textposition": "auto",
           "type": "bar",
           "x": [
            "AS"
           ],
           "xaxis": "x",
           "y": [
            222210.84518973457
           ],
           "yaxis": "y"
          },
          {
           "alignmentgroup": "True",
           "hovertemplate": "carrier_lg=%{x}<br>Quarter Year=2027.75<br>Revenue=%{y}<extra></extra>",
           "legendgroup": "B6",
           "marker": {
            "color": "#00cc96",
            "pattern": {
             "shape": ""
            }
           },
           "name": "B6",
           "offsetgroup": "B6",
           "orientation": "v",
           "showlegend": true,
           "textposition": "auto",
           "type": "bar",
           "x": [
            "B6"
           ],
           "xaxis": "x",
           "y": [
            246352.3889268667
           ],
           "yaxis": "y"
          },
          {
           "alignmentgroup": "True",
           "hovertemplate": "carrier_lg=%{x}<br>Quarter Year=2027.75<br>Revenue=%{y}<extra></extra>",
           "legendgroup": "WN",
           "marker": {
            "color": "#ab63fa",
            "pattern": {
             "shape": ""
            }
           },
           "name": "WN",
           "offsetgroup": "WN",
           "orientation": "v",
           "showlegend": true,
           "textposition": "auto",
           "type": "bar",
           "x": [
            "WN"
           ],
           "xaxis": "x",
           "y": [
            55348.37269973012
           ],
           "yaxis": "y"
          },
          {
           "alignmentgroup": "True",
           "hovertemplate": "carrier_lg=%{x}<br>Quarter Year=2027.75<br>Revenue=%{y}<extra></extra>",
           "legendgroup": "NK",
           "marker": {
            "color": "#FFA15A",
            "pattern": {
             "shape": ""
            }
           },
           "name": "NK",
           "offsetgroup": "NK",
           "orientation": "v",
           "showlegend": true,
           "textposition": "auto",
           "type": "bar",
           "x": [
            "NK"
           ],
           "xaxis": "x",
           "y": [
            51594.91304546156
           ],
           "yaxis": "y"
          },
          {
           "alignmentgroup": "True",
           "hovertemplate": "carrier_lg=%{x}<br>Quarter Year=2027.75<br>Revenue=%{y}<extra></extra>",
           "legendgroup": "DL",
           "marker": {
            "color": "#19d3f3",
            "pattern": {
             "shape": ""
            }
           },
           "name": "DL",
           "offsetgroup": "DL",
           "orientation": "v",
           "showlegend": true,
           "textposition": "auto",
           "type": "bar",
           "x": [
            "DL"
           ],
           "xaxis": "x",
           "y": [
            126617.22383586384
           ],
           "yaxis": "y"
          },
          {
           "alignmentgroup": "True",
           "hovertemplate": "carrier_lg=%{x}<br>Quarter Year=2027.75<br>Revenue=%{y}<extra></extra>",
           "legendgroup": "AA",
           "marker": {
            "color": "#FF6692",
            "pattern": {
             "shape": ""
            }
           },
           "name": "AA",
           "offsetgroup": "AA",
           "orientation": "v",
           "showlegend": true,
           "textposition": "auto",
           "type": "bar",
           "x": [
            "AA"
           ],
           "xaxis": "x",
           "y": [
            87227.67933816992
           ],
           "yaxis": "y"
          },
          {
           "alignmentgroup": "True",
           "hovertemplate": "carrier_lg=%{x}<br>Quarter Year=2027.75<br>Revenue=%{y}<extra></extra>",
           "legendgroup": "UA",
           "marker": {
            "color": "#FF97FF",
            "pattern": {
             "shape": ""
            }
           },
           "name": "UA",
           "offsetgroup": "UA",
           "orientation": "v",
           "showlegend": true,
           "textposition": "auto",
           "type": "bar",
           "x": [
            "UA"
           ],
           "xaxis": "x",
           "y": [
            143683.6007977907
           ],
           "yaxis": "y"
          },
          {
           "alignmentgroup": "True",
           "hovertemplate": "carrier_lg=%{x}<br>Quarter Year=2027.75<br>Revenue=%{y}<extra></extra>",
           "legendgroup": "G4",
           "marker": {
            "color": "#FECB52",
            "pattern": {
             "shape": ""
            }
           },
           "name": "G4",
           "offsetgroup": "G4",
           "orientation": "v",
           "showlegend": true,
           "textposition": "auto",
           "type": "bar",
           "x": [
            "G4"
           ],
           "xaxis": "x",
           "y": [
            16848.27840724528
           ],
           "yaxis": "y"
          },
          {
           "alignmentgroup": "True",
           "hovertemplate": "carrier_lg=%{x}<br>Quarter Year=2027.75<br>Revenue=%{y}<extra></extra>",
           "legendgroup": "F9",
           "marker": {
            "color": "#636efa",
            "pattern": {
             "shape": ""
            }
           },
           "name": "F9",
           "offsetgroup": "F9",
           "orientation": "v",
           "showlegend": true,
           "textposition": "auto",
           "type": "bar",
           "x": [
            "F9"
           ],
           "xaxis": "x",
           "y": [
            55350.15158200001
           ],
           "yaxis": "y"
          },
          {
           "alignmentgroup": "True",
           "hovertemplate": "carrier_lg=%{x}<br>Quarter Year=2027.75<br>Revenue=%{y}<extra></extra>",
           "legendgroup": "3M",
           "marker": {
            "color": "#EF553B",
            "pattern": {
             "shape": ""
            }
           },
           "name": "3M",
           "offsetgroup": "3M",
           "orientation": "v",
           "showlegend": true,
           "textposition": "auto",
           "type": "bar",
           "x": [
            "3M"
           ],
           "xaxis": "x",
           "y": [
            31023.112241999952
           ],
           "yaxis": "y"
          },
          {
           "alignmentgroup": "True",
           "hovertemplate": "carrier_lg=%{x}<br>Quarter Year=2027.75<br>Revenue=%{y}<extra></extra>",
           "legendgroup": "MX",
           "marker": {
            "color": "#00cc96",
            "pattern": {
             "shape": ""
            }
           },
           "name": "MX",
           "offsetgroup": "MX",
           "orientation": "v",
           "showlegend": true,
           "textposition": "auto",
           "type": "bar",
           "x": [
            "MX"
           ],
           "xaxis": "x",
           "y": [
            16235.067888357149
           ],
           "yaxis": "y"
          },
          {
           "alignmentgroup": "True",
           "hovertemplate": "carrier_lg=%{x}<br>Quarter Year=2027.75<br>Revenue=%{y}<extra></extra>",
           "legendgroup": "XP",
           "marker": {
            "color": "#ab63fa",
            "pattern": {
             "shape": ""
            }
           },
           "name": "XP",
           "offsetgroup": "XP",
           "orientation": "v",
           "showlegend": true,
           "textposition": "auto",
           "type": "bar",
           "x": [
            "XP"
           ],
           "xaxis": "x",
           "y": [
            18232.482731375
           ],
           "yaxis": "y"
          }
         ],
         "name": "2027.75"
        },
        {
         "data": [
          {
           "alignmentgroup": "True",
           "hovertemplate": "carrier_lg=%{x}<br>Quarter Year=2028.0<br>Revenue=%{y}<extra></extra>",
           "legendgroup": "SY",
           "marker": {
            "color": "#636efa",
            "pattern": {
             "shape": ""
            }
           },
           "name": "SY",
           "offsetgroup": "SY",
           "orientation": "v",
           "showlegend": true,
           "textposition": "auto",
           "type": "bar",
           "x": [
            "SY"
           ],
           "xaxis": "x",
           "y": [
            25389.73842049999
           ],
           "yaxis": "y"
          },
          {
           "alignmentgroup": "True",
           "hovertemplate": "carrier_lg=%{x}<br>Quarter Year=2028.0<br>Revenue=%{y}<extra></extra>",
           "legendgroup": "AS",
           "marker": {
            "color": "#EF553B",
            "pattern": {
             "shape": ""
            }
           },
           "name": "AS",
           "offsetgroup": "AS",
           "orientation": "v",
           "showlegend": true,
           "textposition": "auto",
           "type": "bar",
           "x": [
            "AS"
           ],
           "xaxis": "x",
           "y": [
            204625.89831587992
           ],
           "yaxis": "y"
          },
          {
           "alignmentgroup": "True",
           "hovertemplate": "carrier_lg=%{x}<br>Quarter Year=2028.0<br>Revenue=%{y}<extra></extra>",
           "legendgroup": "B6",
           "marker": {
            "color": "#00cc96",
            "pattern": {
             "shape": ""
            }
           },
           "name": "B6",
           "offsetgroup": "B6",
           "orientation": "v",
           "showlegend": true,
           "textposition": "auto",
           "type": "bar",
           "x": [
            "B6"
           ],
           "xaxis": "x",
           "y": [
            190223.56674847996
           ],
           "yaxis": "y"
          },
          {
           "alignmentgroup": "True",
           "hovertemplate": "carrier_lg=%{x}<br>Quarter Year=2028.0<br>Revenue=%{y}<extra></extra>",
           "legendgroup": "WN",
           "marker": {
            "color": "#ab63fa",
            "pattern": {
             "shape": ""
            }
           },
           "name": "WN",
           "offsetgroup": "WN",
           "orientation": "v",
           "showlegend": true,
           "textposition": "auto",
           "type": "bar",
           "x": [
            "WN"
           ],
           "xaxis": "x",
           "y": [
            56683.21590513793
           ],
           "yaxis": "y"
          },
          {
           "alignmentgroup": "True",
           "hovertemplate": "carrier_lg=%{x}<br>Quarter Year=2028.0<br>Revenue=%{y}<extra></extra>",
           "legendgroup": "NK",
           "marker": {
            "color": "#FFA15A",
            "pattern": {
             "shape": ""
            }
           },
           "name": "NK",
           "offsetgroup": "NK",
           "orientation": "v",
           "showlegend": true,
           "textposition": "auto",
           "type": "bar",
           "x": [
            "NK"
           ],
           "xaxis": "x",
           "y": [
            60868.62220840002
           ],
           "yaxis": "y"
          },
          {
           "alignmentgroup": "True",
           "hovertemplate": "carrier_lg=%{x}<br>Quarter Year=2028.0<br>Revenue=%{y}<extra></extra>",
           "legendgroup": "DL",
           "marker": {
            "color": "#19d3f3",
            "pattern": {
             "shape": ""
            }
           },
           "name": "DL",
           "offsetgroup": "DL",
           "orientation": "v",
           "showlegend": true,
           "textposition": "auto",
           "type": "bar",
           "x": [
            "DL"
           ],
           "xaxis": "x",
           "y": [
            141037.54464799567
           ],
           "yaxis": "y"
          },
          {
           "alignmentgroup": "True",
           "hovertemplate": "carrier_lg=%{x}<br>Quarter Year=2028.0<br>Revenue=%{y}<extra></extra>",
           "legendgroup": "AA",
           "marker": {
            "color": "#FF6692",
            "pattern": {
             "shape": ""
            }
           },
           "name": "AA",
           "offsetgroup": "AA",
           "orientation": "v",
           "showlegend": true,
           "textposition": "auto",
           "type": "bar",
           "x": [
            "AA"
           ],
           "xaxis": "x",
           "y": [
            85923.53613725373
           ],
           "yaxis": "y"
          },
          {
           "alignmentgroup": "True",
           "hovertemplate": "carrier_lg=%{x}<br>Quarter Year=2028.0<br>Revenue=%{y}<extra></extra>",
           "legendgroup": "UA",
           "marker": {
            "color": "#FF97FF",
            "pattern": {
             "shape": ""
            }
           },
           "name": "UA",
           "offsetgroup": "UA",
           "orientation": "v",
           "showlegend": true,
           "textposition": "auto",
           "type": "bar",
           "x": [
            "UA"
           ],
           "xaxis": "x",
           "y": [
            149467.27781924306
           ],
           "yaxis": "y"
          },
          {
           "alignmentgroup": "True",
           "hovertemplate": "carrier_lg=%{x}<br>Quarter Year=2028.0<br>Revenue=%{y}<extra></extra>",
           "legendgroup": "G4",
           "marker": {
            "color": "#FECB52",
            "pattern": {
             "shape": ""
            }
           },
           "name": "G4",
           "offsetgroup": "G4",
           "orientation": "v",
           "showlegend": true,
           "textposition": "auto",
           "type": "bar",
           "x": [
            "G4"
           ],
           "xaxis": "x",
           "y": [
            17635.24466485714
           ],
           "yaxis": "y"
          },
          {
           "alignmentgroup": "True",
           "hovertemplate": "carrier_lg=%{x}<br>Quarter Year=2028.0<br>Revenue=%{y}<extra></extra>",
           "legendgroup": "F9",
           "marker": {
            "color": "#636efa",
            "pattern": {
             "shape": ""
            }
           },
           "name": "F9",
           "offsetgroup": "F9",
           "orientation": "v",
           "showlegend": true,
           "textposition": "auto",
           "type": "bar",
           "x": [
            "F9"
           ],
           "xaxis": "x",
           "y": [
            76996.03411984375
           ],
           "yaxis": "y"
          },
          {
           "alignmentgroup": "True",
           "hovertemplate": "carrier_lg=%{x}<br>Quarter Year=2028.0<br>Revenue=%{y}<extra></extra>",
           "legendgroup": "3M",
           "marker": {
            "color": "#EF553B",
            "pattern": {
             "shape": ""
            }
           },
           "name": "3M",
           "offsetgroup": "3M",
           "orientation": "v",
           "showlegend": true,
           "textposition": "auto",
           "type": "bar",
           "x": [
            "3M"
           ],
           "xaxis": "x",
           "y": [
            31023.112241999952
           ],
           "yaxis": "y"
          },
          {
           "alignmentgroup": "True",
           "hovertemplate": "carrier_lg=%{x}<br>Quarter Year=2028.0<br>Revenue=%{y}<extra></extra>",
           "legendgroup": "MX",
           "marker": {
            "color": "#00cc96",
            "pattern": {
             "shape": ""
            }
           },
           "name": "MX",
           "offsetgroup": "MX",
           "orientation": "v",
           "showlegend": true,
           "textposition": "auto",
           "type": "bar",
           "x": [
            "MX"
           ],
           "xaxis": "x",
           "y": [
            16494.02235807693
           ],
           "yaxis": "y"
          },
          {
           "alignmentgroup": "True",
           "hovertemplate": "carrier_lg=%{x}<br>Quarter Year=2028.0<br>Revenue=%{y}<extra></extra>",
           "legendgroup": "XP",
           "marker": {
            "color": "#ab63fa",
            "pattern": {
             "shape": ""
            }
           },
           "name": "XP",
           "offsetgroup": "XP",
           "orientation": "v",
           "showlegend": true,
           "textposition": "auto",
           "type": "bar",
           "x": [
            "XP"
           ],
           "xaxis": "x",
           "y": [
            18232.482731375
           ],
           "yaxis": "y"
          }
         ],
         "name": "2028.0"
        },
        {
         "data": [
          {
           "alignmentgroup": "True",
           "hovertemplate": "carrier_lg=%{x}<br>Quarter Year=2028.25<br>Revenue=%{y}<extra></extra>",
           "legendgroup": "SY",
           "marker": {
            "color": "#636efa",
            "pattern": {
             "shape": ""
            }
           },
           "name": "SY",
           "offsetgroup": "SY",
           "orientation": "v",
           "showlegend": true,
           "textposition": "auto",
           "type": "bar",
           "x": [
            "SY"
           ],
           "xaxis": "x",
           "y": [
            12885.12793333332
           ],
           "yaxis": "y"
          },
          {
           "alignmentgroup": "True",
           "hovertemplate": "carrier_lg=%{x}<br>Quarter Year=2028.25<br>Revenue=%{y}<extra></extra>",
           "legendgroup": "AS",
           "marker": {
            "color": "#EF553B",
            "pattern": {
             "shape": ""
            }
           },
           "name": "AS",
           "offsetgroup": "AS",
           "orientation": "v",
           "showlegend": true,
           "textposition": "auto",
           "type": "bar",
           "x": [
            "AS"
           ],
           "xaxis": "x",
           "y": [
            183090.26908552073
           ],
           "yaxis": "y"
          },
          {
           "alignmentgroup": "True",
           "hovertemplate": "carrier_lg=%{x}<br>Quarter Year=2028.25<br>Revenue=%{y}<extra></extra>",
           "legendgroup": "B6",
           "marker": {
            "color": "#00cc96",
            "pattern": {
             "shape": ""
            }
           },
           "name": "B6",
           "offsetgroup": "B6",
           "orientation": "v",
           "showlegend": true,
           "textposition": "auto",
           "type": "bar",
           "x": [
            "B6"
           ],
           "xaxis": "x",
           "y": [
            184642.66629846342
           ],
           "yaxis": "y"
          },
          {
           "alignmentgroup": "True",
           "hovertemplate": "carrier_lg=%{x}<br>Quarter Year=2028.25<br>Revenue=%{y}<extra></extra>",
           "legendgroup": "WN",
           "marker": {
            "color": "#ab63fa",
            "pattern": {
             "shape": ""
            }
           },
           "name": "WN",
           "offsetgroup": "WN",
           "orientation": "v",
           "showlegend": true,
           "textposition": "auto",
           "type": "bar",
           "x": [
            "WN"
           ],
           "xaxis": "x",
           "y": [
            55390.07960512392
           ],
           "yaxis": "y"
          },
          {
           "alignmentgroup": "True",
           "hovertemplate": "carrier_lg=%{x}<br>Quarter Year=2028.25<br>Revenue=%{y}<extra></extra>",
           "legendgroup": "NK",
           "marker": {
            "color": "#FFA15A",
            "pattern": {
             "shape": ""
            }
           },
           "name": "NK",
           "offsetgroup": "NK",
           "orientation": "v",
           "showlegend": true,
           "textposition": "auto",
           "type": "bar",
           "x": [
            "NK"
           ],
           "xaxis": "x",
           "y": [
            74687.50251937933
           ],
           "yaxis": "y"
          },
          {
           "alignmentgroup": "True",
           "hovertemplate": "carrier_lg=%{x}<br>Quarter Year=2028.25<br>Revenue=%{y}<extra></extra>",
           "legendgroup": "DL",
           "marker": {
            "color": "#19d3f3",
            "pattern": {
             "shape": ""
            }
           },
           "name": "DL",
           "offsetgroup": "DL",
           "orientation": "v",
           "showlegend": true,
           "textposition": "auto",
           "type": "bar",
           "x": [
            "DL"
           ],
           "xaxis": "x",
           "y": [
            140140.6343538945
           ],
           "yaxis": "y"
          },
          {
           "alignmentgroup": "True",
           "hovertemplate": "carrier_lg=%{x}<br>Quarter Year=2028.25<br>Revenue=%{y}<extra></extra>",
           "legendgroup": "AA",
           "marker": {
            "color": "#FF6692",
            "pattern": {
             "shape": ""
            }
           },
           "name": "AA",
           "offsetgroup": "AA",
           "orientation": "v",
           "showlegend": true,
           "textposition": "auto",
           "type": "bar",
           "x": [
            "AA"
           ],
           "xaxis": "x",
           "y": [
            89940.92219826976
           ],
           "yaxis": "y"
          },
          {
           "alignmentgroup": "True",
           "hovertemplate": "carrier_lg=%{x}<br>Quarter Year=2028.25<br>Revenue=%{y}<extra></extra>",
           "legendgroup": "UA",
           "marker": {
            "color": "#FF97FF",
            "pattern": {
             "shape": ""
            }
           },
           "name": "UA",
           "offsetgroup": "UA",
           "orientation": "v",
           "showlegend": true,
           "textposition": "auto",
           "type": "bar",
           "x": [
            "UA"
           ],
           "xaxis": "x",
           "y": [
            158036.54734565568
           ],
           "yaxis": "y"
          },
          {
           "alignmentgroup": "True",
           "hovertemplate": "carrier_lg=%{x}<br>Quarter Year=2028.25<br>Revenue=%{y}<extra></extra>",
           "legendgroup": "G4",
           "marker": {
            "color": "#FECB52",
            "pattern": {
             "shape": ""
            }
           },
           "name": "G4",
           "offsetgroup": "G4",
           "orientation": "v",
           "showlegend": true,
           "textposition": "auto",
           "type": "bar",
           "x": [
            "G4"
           ],
           "xaxis": "x",
           "y": [
            17065.928826122807
           ],
           "yaxis": "y"
          },
          {
           "alignmentgroup": "True",
           "hovertemplate": "carrier_lg=%{x}<br>Quarter Year=2028.25<br>Revenue=%{y}<extra></extra>",
           "legendgroup": "F9",
           "marker": {
            "color": "#636efa",
            "pattern": {
             "shape": ""
            }
           },
           "name": "F9",
           "offsetgroup": "F9",
           "orientation": "v",
           "showlegend": true,
           "textposition": "auto",
           "type": "bar",
           "x": [
            "F9"
           ],
           "xaxis": "x",
           "y": [
            50472.73354615152
           ],
           "yaxis": "y"
          },
          {
           "alignmentgroup": "True",
           "hovertemplate": "carrier_lg=%{x}<br>Quarter Year=2028.25<br>Revenue=%{y}<extra></extra>",
           "legendgroup": "MX",
           "marker": {
            "color": "#00cc96",
            "pattern": {
             "shape": ""
            }
           },
           "name": "MX",
           "offsetgroup": "MX",
           "orientation": "v",
           "showlegend": true,
           "textposition": "auto",
           "type": "bar",
           "x": [
            "MX"
           ],
           "xaxis": "x",
           "y": [
            23291.91805197058
           ],
           "yaxis": "y"
          },
          {
           "alignmentgroup": "True",
           "hovertemplate": "carrier_lg=%{x}<br>Quarter Year=2028.25<br>Revenue=%{y}<extra></extra>",
           "legendgroup": "XP",
           "marker": {
            "color": "#ab63fa",
            "pattern": {
             "shape": ""
            }
           },
           "name": "XP",
           "offsetgroup": "XP",
           "orientation": "v",
           "showlegend": true,
           "textposition": "auto",
           "type": "bar",
           "x": [
            "XP"
           ],
           "xaxis": "x",
           "y": [
            20109.657526111117
           ],
           "yaxis": "y"
          }
         ],
         "name": "2028.25"
        },
        {
         "data": [
          {
           "alignmentgroup": "True",
           "hovertemplate": "carrier_lg=%{x}<br>Quarter Year=2028.5<br>Revenue=%{y}<extra></extra>",
           "legendgroup": "SY",
           "marker": {
            "color": "#636efa",
            "pattern": {
             "shape": ""
            }
           },
           "name": "SY",
           "offsetgroup": "SY",
           "orientation": "v",
           "showlegend": true,
           "textposition": "auto",
           "type": "bar",
           "x": [
            "SY"
           ],
           "xaxis": "x",
           "y": [
            13648.573245999984
           ],
           "yaxis": "y"
          },
          {
           "alignmentgroup": "True",
           "hovertemplate": "carrier_lg=%{x}<br>Quarter Year=2028.5<br>Revenue=%{y}<extra></extra>",
           "legendgroup": "AS",
           "marker": {
            "color": "#EF553B",
            "pattern": {
             "shape": ""
            }
           },
           "name": "AS",
           "offsetgroup": "AS",
           "orientation": "v",
           "showlegend": true,
           "textposition": "auto",
           "type": "bar",
           "x": [
            "AS"
           ],
           "xaxis": "x",
           "y": [
            171429.4710462448
           ],
           "yaxis": "y"
          },
          {
           "alignmentgroup": "True",
           "hovertemplate": "carrier_lg=%{x}<br>Quarter Year=2028.5<br>Revenue=%{y}<extra></extra>",
           "legendgroup": "B6",
           "marker": {
            "color": "#00cc96",
            "pattern": {
             "shape": ""
            }
           },
           "name": "B6",
           "offsetgroup": "B6",
           "orientation": "v",
           "showlegend": true,
           "textposition": "auto",
           "type": "bar",
           "x": [
            "B6"
           ],
           "xaxis": "x",
           "y": [
            168879.2335931975
           ],
           "yaxis": "y"
          },
          {
           "alignmentgroup": "True",
           "hovertemplate": "carrier_lg=%{x}<br>Quarter Year=2028.5<br>Revenue=%{y}<extra></extra>",
           "legendgroup": "WN",
           "marker": {
            "color": "#ab63fa",
            "pattern": {
             "shape": ""
            }
           },
           "name": "WN",
           "offsetgroup": "WN",
           "orientation": "v",
           "showlegend": true,
           "textposition": "auto",
           "type": "bar",
           "x": [
            "WN"
           ],
           "xaxis": "x",
           "y": [
            54403.66226147196
           ],
           "yaxis": "y"
          },
          {
           "alignmentgroup": "True",
           "hovertemplate": "carrier_lg=%{x}<br>Quarter Year=2028.5<br>Revenue=%{y}<extra></extra>",
           "legendgroup": "NK",
           "marker": {
            "color": "#FFA15A",
            "pattern": {
             "shape": ""
            }
           },
           "name": "NK",
           "offsetgroup": "NK",
           "orientation": "v",
           "showlegend": true,
           "textposition": "auto",
           "type": "bar",
           "x": [
            "NK"
           ],
           "xaxis": "x",
           "y": [
            81425.96611414287
           ],
           "yaxis": "y"
          },
          {
           "alignmentgroup": "True",
           "hovertemplate": "carrier_lg=%{x}<br>Quarter Year=2028.5<br>Revenue=%{y}<extra></extra>",
           "legendgroup": "DL",
           "marker": {
            "color": "#19d3f3",
            "pattern": {
             "shape": ""
            }
           },
           "name": "DL",
           "offsetgroup": "DL",
           "orientation": "v",
           "showlegend": true,
           "textposition": "auto",
           "type": "bar",
           "x": [
            "DL"
           ],
           "xaxis": "x",
           "y": [
            141546.65887031466
           ],
           "yaxis": "y"
          },
          {
           "alignmentgroup": "True",
           "hovertemplate": "carrier_lg=%{x}<br>Quarter Year=2028.5<br>Revenue=%{y}<extra></extra>",
           "legendgroup": "AA",
           "marker": {
            "color": "#FF6692",
            "pattern": {
             "shape": ""
            }
           },
           "name": "AA",
           "offsetgroup": "AA",
           "orientation": "v",
           "showlegend": true,
           "textposition": "auto",
           "type": "bar",
           "x": [
            "AA"
           ],
           "xaxis": "x",
           "y": [
            86002.23868910044
           ],
           "yaxis": "y"
          },
          {
           "alignmentgroup": "True",
           "hovertemplate": "carrier_lg=%{x}<br>Quarter Year=2028.5<br>Revenue=%{y}<extra></extra>",
           "legendgroup": "UA",
           "marker": {
            "color": "#FF97FF",
            "pattern": {
             "shape": ""
            }
           },
           "name": "UA",
           "offsetgroup": "UA",
           "orientation": "v",
           "showlegend": true,
           "textposition": "auto",
           "type": "bar",
           "x": [
            "UA"
           ],
           "xaxis": "x",
           "y": [
            155303.4496916976
           ],
           "yaxis": "y"
          },
          {
           "alignmentgroup": "True",
           "hovertemplate": "carrier_lg=%{x}<br>Quarter Year=2028.5<br>Revenue=%{y}<extra></extra>",
           "legendgroup": "G4",
           "marker": {
            "color": "#FECB52",
            "pattern": {
             "shape": ""
            }
           },
           "name": "G4",
           "offsetgroup": "G4",
           "orientation": "v",
           "showlegend": true,
           "textposition": "auto",
           "type": "bar",
           "x": [
            "G4"
           ],
           "xaxis": "x",
           "y": [
            18305.907433925928
           ],
           "yaxis": "y"
          },
          {
           "alignmentgroup": "True",
           "hovertemplate": "carrier_lg=%{x}<br>Quarter Year=2028.5<br>Revenue=%{y}<extra></extra>",
           "legendgroup": "F9",
           "marker": {
            "color": "#636efa",
            "pattern": {
             "shape": ""
            }
           },
           "name": "F9",
           "offsetgroup": "F9",
           "orientation": "v",
           "showlegend": true,
           "textposition": "auto",
           "type": "bar",
           "x": [
            "F9"
           ],
           "xaxis": "x",
           "y": [
            60718.587742791664
           ],
           "yaxis": "y"
          },
          {
           "alignmentgroup": "True",
           "hovertemplate": "carrier_lg=%{x}<br>Quarter Year=2028.5<br>Revenue=%{y}<extra></extra>",
           "legendgroup": "3M",
           "marker": {
            "color": "#EF553B",
            "pattern": {
             "shape": ""
            }
           },
           "name": "3M",
           "offsetgroup": "3M",
           "orientation": "v",
           "showlegend": true,
           "textposition": "auto",
           "type": "bar",
           "x": [
            "3M"
           ],
           "xaxis": "x",
           "y": [
            31023.112241999952
           ],
           "yaxis": "y"
          },
          {
           "alignmentgroup": "True",
           "hovertemplate": "carrier_lg=%{x}<br>Quarter Year=2028.5<br>Revenue=%{y}<extra></extra>",
           "legendgroup": "MX",
           "marker": {
            "color": "#00cc96",
            "pattern": {
             "shape": ""
            }
           },
           "name": "MX",
           "offsetgroup": "MX",
           "orientation": "v",
           "showlegend": true,
           "textposition": "auto",
           "type": "bar",
           "x": [
            "MX"
           ],
           "xaxis": "x",
           "y": [
            25724.968474228564
           ],
           "yaxis": "y"
          },
          {
           "alignmentgroup": "True",
           "hovertemplate": "carrier_lg=%{x}<br>Quarter Year=2028.5<br>Revenue=%{y}<extra></extra>",
           "legendgroup": "XP",
           "marker": {
            "color": "#ab63fa",
            "pattern": {
             "shape": ""
            }
           },
           "name": "XP",
           "offsetgroup": "XP",
           "orientation": "v",
           "showlegend": true,
           "textposition": "auto",
           "type": "bar",
           "x": [
            "XP"
           ],
           "xaxis": "x",
           "y": [
            15830.584878111122
           ],
           "yaxis": "y"
          }
         ],
         "name": "2028.5"
        },
        {
         "data": [
          {
           "alignmentgroup": "True",
           "hovertemplate": "carrier_lg=%{x}<br>Quarter Year=2028.75<br>Revenue=%{y}<extra></extra>",
           "legendgroup": "SY",
           "marker": {
            "color": "#636efa",
            "pattern": {
             "shape": ""
            }
           },
           "name": "SY",
           "offsetgroup": "SY",
           "orientation": "v",
           "showlegend": true,
           "textposition": "auto",
           "type": "bar",
           "x": [
            "SY"
           ],
           "xaxis": "x",
           "y": [
            19732.96900324999
           ],
           "yaxis": "y"
          },
          {
           "alignmentgroup": "True",
           "hovertemplate": "carrier_lg=%{x}<br>Quarter Year=2028.75<br>Revenue=%{y}<extra></extra>",
           "legendgroup": "AS",
           "marker": {
            "color": "#EF553B",
            "pattern": {
             "shape": ""
            }
           },
           "name": "AS",
           "offsetgroup": "AS",
           "orientation": "v",
           "showlegend": true,
           "textposition": "auto",
           "type": "bar",
           "x": [
            "AS"
           ],
           "xaxis": "x",
           "y": [
            172962.24022288452
           ],
           "yaxis": "y"
          },
          {
           "alignmentgroup": "True",
           "hovertemplate": "carrier_lg=%{x}<br>Quarter Year=2028.75<br>Revenue=%{y}<extra></extra>",
           "legendgroup": "B6",
           "marker": {
            "color": "#00cc96",
            "pattern": {
             "shape": ""
            }
           },
           "name": "B6",
           "offsetgroup": "B6",
           "orientation": "v",
           "showlegend": true,
           "textposition": "auto",
           "type": "bar",
           "x": [
            "B6"
           ],
           "xaxis": "x",
           "y": [
            240635.6158041154
           ],
           "yaxis": "y"
          },
          {
           "alignmentgroup": "True",
           "hovertemplate": "carrier_lg=%{x}<br>Quarter Year=2028.75<br>Revenue=%{y}<extra></extra>",
           "legendgroup": "WN",
           "marker": {
            "color": "#ab63fa",
            "pattern": {
             "shape": ""
            }
           },
           "name": "WN",
           "offsetgroup": "WN",
           "orientation": "v",
           "showlegend": true,
           "textposition": "auto",
           "type": "bar",
           "x": [
            "WN"
           ],
           "xaxis": "x",
           "y": [
            55034.67297125802
           ],
           "yaxis": "y"
          },
          {
           "alignmentgroup": "True",
           "hovertemplate": "carrier_lg=%{x}<br>Quarter Year=2028.75<br>Revenue=%{y}<extra></extra>",
           "legendgroup": "NK",
           "marker": {
            "color": "#FFA15A",
            "pattern": {
             "shape": ""
            }
           },
           "name": "NK",
           "offsetgroup": "NK",
           "orientation": "v",
           "showlegend": true,
           "textposition": "auto",
           "type": "bar",
           "x": [
            "NK"
           ],
           "xaxis": "x",
           "y": [
            68047.27919243478
           ],
           "yaxis": "y"
          },
          {
           "alignmentgroup": "True",
           "hovertemplate": "carrier_lg=%{x}<br>Quarter Year=2028.75<br>Revenue=%{y}<extra></extra>",
           "legendgroup": "DL",
           "marker": {
            "color": "#19d3f3",
            "pattern": {
             "shape": ""
            }
           },
           "name": "DL",
           "offsetgroup": "DL",
           "orientation": "v",
           "showlegend": true,
           "textposition": "auto",
           "type": "bar",
           "x": [
            "DL"
           ],
           "xaxis": "x",
           "y": [
            136160.3667133579
           ],
           "yaxis": "y"
          },
          {
           "alignmentgroup": "True",
           "hovertemplate": "carrier_lg=%{x}<br>Quarter Year=2028.75<br>Revenue=%{y}<extra></extra>",
           "legendgroup": "AA",
           "marker": {
            "color": "#FF6692",
            "pattern": {
             "shape": ""
            }
           },
           "name": "AA",
           "offsetgroup": "AA",
           "orientation": "v",
           "showlegend": true,
           "textposition": "auto",
           "type": "bar",
           "x": [
            "AA"
           ],
           "xaxis": "x",
           "y": [
            84822.92025089059
           ],
           "yaxis": "y"
          },
          {
           "alignmentgroup": "True",
           "hovertemplate": "carrier_lg=%{x}<br>Quarter Year=2028.75<br>Revenue=%{y}<extra></extra>",
           "legendgroup": "UA",
           "marker": {
            "color": "#FF97FF",
            "pattern": {
             "shape": ""
            }
           },
           "name": "UA",
           "offsetgroup": "UA",
           "orientation": "v",
           "showlegend": true,
           "textposition": "auto",
           "type": "bar",
           "x": [
            "UA"
           ],
           "xaxis": "x",
           "y": [
            154189.894441
           ],
           "yaxis": "y"
          },
          {
           "alignmentgroup": "True",
           "hovertemplate": "carrier_lg=%{x}<br>Quarter Year=2028.75<br>Revenue=%{y}<extra></extra>",
           "legendgroup": "G4",
           "marker": {
            "color": "#FECB52",
            "pattern": {
             "shape": ""
            }
           },
           "name": "G4",
           "offsetgroup": "G4",
           "orientation": "v",
           "showlegend": true,
           "textposition": "auto",
           "type": "bar",
           "x": [
            "G4"
           ],
           "xaxis": "x",
           "y": [
            17084.05363334694
           ],
           "yaxis": "y"
          },
          {
           "alignmentgroup": "True",
           "hovertemplate": "carrier_lg=%{x}<br>Quarter Year=2028.75<br>Revenue=%{y}<extra></extra>",
           "legendgroup": "F9",
           "marker": {
            "color": "#636efa",
            "pattern": {
             "shape": ""
            }
           },
           "name": "F9",
           "offsetgroup": "F9",
           "orientation": "v",
           "showlegend": true,
           "textposition": "auto",
           "type": "bar",
           "x": [
            "F9"
           ],
           "xaxis": "x",
           "y": [
            73108.61180966666
           ],
           "yaxis": "y"
          },
          {
           "alignmentgroup": "True",
           "hovertemplate": "carrier_lg=%{x}<br>Quarter Year=2028.75<br>Revenue=%{y}<extra></extra>",
           "legendgroup": "3M",
           "marker": {
            "color": "#EF553B",
            "pattern": {
             "shape": ""
            }
           },
           "name": "3M",
           "offsetgroup": "3M",
           "orientation": "v",
           "showlegend": true,
           "textposition": "auto",
           "type": "bar",
           "x": [
            "3M"
           ],
           "xaxis": "x",
           "y": [
            31023.112241999952
           ],
           "yaxis": "y"
          },
          {
           "alignmentgroup": "True",
           "hovertemplate": "carrier_lg=%{x}<br>Quarter Year=2028.75<br>Revenue=%{y}<extra></extra>",
           "legendgroup": "MX",
           "marker": {
            "color": "#00cc96",
            "pattern": {
             "shape": ""
            }
           },
           "name": "MX",
           "offsetgroup": "MX",
           "orientation": "v",
           "showlegend": true,
           "textposition": "auto",
           "type": "bar",
           "x": [
            "MX"
           ],
           "xaxis": "x",
           "y": [
            30152.920982571428
           ],
           "yaxis": "y"
          },
          {
           "alignmentgroup": "True",
           "hovertemplate": "carrier_lg=%{x}<br>Quarter Year=2028.75<br>Revenue=%{y}<extra></extra>",
           "legendgroup": "XP",
           "marker": {
            "color": "#ab63fa",
            "pattern": {
             "shape": ""
            }
           },
           "name": "XP",
           "offsetgroup": "XP",
           "orientation": "v",
           "showlegend": true,
           "textposition": "auto",
           "type": "bar",
           "x": [
            "XP"
           ],
           "xaxis": "x",
           "y": [
            18454.05905900001
           ],
           "yaxis": "y"
          }
         ],
         "name": "2028.75"
        },
        {
         "data": [
          {
           "alignmentgroup": "True",
           "hovertemplate": "carrier_lg=%{x}<br>Quarter Year=2029.0<br>Revenue=%{y}<extra></extra>",
           "legendgroup": "SY",
           "marker": {
            "color": "#636efa",
            "pattern": {
             "shape": ""
            }
           },
           "name": "SY",
           "offsetgroup": "SY",
           "orientation": "v",
           "showlegend": true,
           "textposition": "auto",
           "type": "bar",
           "x": [
            "SY"
           ],
           "xaxis": "x",
           "y": [
            19546.991780333326
           ],
           "yaxis": "y"
          },
          {
           "alignmentgroup": "True",
           "hovertemplate": "carrier_lg=%{x}<br>Quarter Year=2029.0<br>Revenue=%{y}<extra></extra>",
           "legendgroup": "AS",
           "marker": {
            "color": "#EF553B",
            "pattern": {
             "shape": ""
            }
           },
           "name": "AS",
           "offsetgroup": "AS",
           "orientation": "v",
           "showlegend": true,
           "textposition": "auto",
           "type": "bar",
           "x": [
            "AS"
           ],
           "xaxis": "x",
           "y": [
            169359.3800587777
           ],
           "yaxis": "y"
          },
          {
           "alignmentgroup": "True",
           "hovertemplate": "carrier_lg=%{x}<br>Quarter Year=2029.0<br>Revenue=%{y}<extra></extra>",
           "legendgroup": "B6",
           "marker": {
            "color": "#00cc96",
            "pattern": {
             "shape": ""
            }
           },
           "name": "B6",
           "offsetgroup": "B6",
           "orientation": "v",
           "showlegend": true,
           "textposition": "auto",
           "type": "bar",
           "x": [
            "B6"
           ],
           "xaxis": "x",
           "y": [
            202036.90741393843
           ],
           "yaxis": "y"
          },
          {
           "alignmentgroup": "True",
           "hovertemplate": "carrier_lg=%{x}<br>Quarter Year=2029.0<br>Revenue=%{y}<extra></extra>",
           "legendgroup": "WN",
           "marker": {
            "color": "#ab63fa",
            "pattern": {
             "shape": ""
            }
           },
           "name": "WN",
           "offsetgroup": "WN",
           "orientation": "v",
           "showlegend": true,
           "textposition": "auto",
           "type": "bar",
           "x": [
            "WN"
           ],
           "xaxis": "x",
           "y": [
            57639.15328487008
           ],
           "yaxis": "y"
          },
          {
           "alignmentgroup": "True",
           "hovertemplate": "carrier_lg=%{x}<br>Quarter Year=2029.0<br>Revenue=%{y}<extra></extra>",
           "legendgroup": "NK",
           "marker": {
            "color": "#FFA15A",
            "pattern": {
             "shape": ""
            }
           },
           "name": "NK",
           "offsetgroup": "NK",
           "orientation": "v",
           "showlegend": true,
           "textposition": "auto",
           "type": "bar",
           "x": [
            "NK"
           ],
           "xaxis": "x",
           "y": [
            68924.79436717395
           ],
           "yaxis": "y"
          },
          {
           "alignmentgroup": "True",
           "hovertemplate": "carrier_lg=%{x}<br>Quarter Year=2029.0<br>Revenue=%{y}<extra></extra>",
           "legendgroup": "DL",
           "marker": {
            "color": "#19d3f3",
            "pattern": {
             "shape": ""
            }
           },
           "name": "DL",
           "offsetgroup": "DL",
           "orientation": "v",
           "showlegend": true,
           "textposition": "auto",
           "type": "bar",
           "x": [
            "DL"
           ],
           "xaxis": "x",
           "y": [
            149492.39892820353
           ],
           "yaxis": "y"
          },
          {
           "alignmentgroup": "True",
           "hovertemplate": "carrier_lg=%{x}<br>Quarter Year=2029.0<br>Revenue=%{y}<extra></extra>",
           "legendgroup": "AA",
           "marker": {
            "color": "#FF6692",
            "pattern": {
             "shape": ""
            }
           },
           "name": "AA",
           "offsetgroup": "AA",
           "orientation": "v",
           "showlegend": true,
           "textposition": "auto",
           "type": "bar",
           "x": [
            "AA"
           ],
           "xaxis": "x",
           "y": [
            83719.50431769622
           ],
           "yaxis": "y"
          },
          {
           "alignmentgroup": "True",
           "hovertemplate": "carrier_lg=%{x}<br>Quarter Year=2029.0<br>Revenue=%{y}<extra></extra>",
           "legendgroup": "UA",
           "marker": {
            "color": "#FF97FF",
            "pattern": {
             "shape": ""
            }
           },
           "name": "UA",
           "offsetgroup": "UA",
           "orientation": "v",
           "showlegend": true,
           "textposition": "auto",
           "type": "bar",
           "x": [
            "UA"
           ],
           "xaxis": "x",
           "y": [
            158402.27752666557
           ],
           "yaxis": "y"
          },
          {
           "alignmentgroup": "True",
           "hovertemplate": "carrier_lg=%{x}<br>Quarter Year=2029.0<br>Revenue=%{y}<extra></extra>",
           "legendgroup": "G4",
           "marker": {
            "color": "#FECB52",
            "pattern": {
             "shape": ""
            }
           },
           "name": "G4",
           "offsetgroup": "G4",
           "orientation": "v",
           "showlegend": true,
           "textposition": "auto",
           "type": "bar",
           "x": [
            "G4"
           ],
           "xaxis": "x",
           "y": [
            17909.06244641176
           ],
           "yaxis": "y"
          },
          {
           "alignmentgroup": "True",
           "hovertemplate": "carrier_lg=%{x}<br>Quarter Year=2029.0<br>Revenue=%{y}<extra></extra>",
           "legendgroup": "F9",
           "marker": {
            "color": "#636efa",
            "pattern": {
             "shape": ""
            }
           },
           "name": "F9",
           "offsetgroup": "F9",
           "orientation": "v",
           "showlegend": true,
           "textposition": "auto",
           "type": "bar",
           "x": [
            "F9"
           ],
           "xaxis": "x",
           "y": [
            77546.72742794444
           ],
           "yaxis": "y"
          },
          {
           "alignmentgroup": "True",
           "hovertemplate": "carrier_lg=%{x}<br>Quarter Year=2029.0<br>Revenue=%{y}<extra></extra>",
           "legendgroup": "MX",
           "marker": {
            "color": "#00cc96",
            "pattern": {
             "shape": ""
            }
           },
           "name": "MX",
           "offsetgroup": "MX",
           "orientation": "v",
           "showlegend": true,
           "textposition": "auto",
           "type": "bar",
           "x": [
            "MX"
           ],
           "xaxis": "x",
           "y": [
            25291.386248592593
           ],
           "yaxis": "y"
          },
          {
           "alignmentgroup": "True",
           "hovertemplate": "carrier_lg=%{x}<br>Quarter Year=2029.0<br>Revenue=%{y}<extra></extra>",
           "legendgroup": "XP",
           "marker": {
            "color": "#ab63fa",
            "pattern": {
             "shape": ""
            }
           },
           "name": "XP",
           "offsetgroup": "XP",
           "orientation": "v",
           "showlegend": true,
           "textposition": "auto",
           "type": "bar",
           "x": [
            "XP"
           ],
           "xaxis": "x",
           "y": [
            21964.91857677778
           ],
           "yaxis": "y"
          }
         ],
         "name": "2029.0"
        }
       ],
       "layout": {
        "barmode": "relative",
        "legend": {
         "title": {
          "text": "carrier_lg"
         },
         "tracegroupgap": 0
        },
        "sliders": [
         {
          "active": 0,
          "currentvalue": {
           "prefix": "Quarter Year="
          },
          "len": 0.9,
          "pad": {
           "b": 10,
           "t": 60
          },
          "steps": [
           {
            "args": [
             [
              "2024.25"
             ],
             {
              "frame": {
               "duration": 0,
               "redraw": true
              },
              "fromcurrent": true,
              "mode": "immediate",
              "transition": {
               "duration": 0,
               "easing": "linear"
              }
             }
            ],
            "label": "2024.25",
            "method": "animate"
           },
           {
            "args": [
             [
              "2024.5"
             ],
             {
              "frame": {
               "duration": 0,
               "redraw": true
              },
              "fromcurrent": true,
              "mode": "immediate",
              "transition": {
               "duration": 0,
               "easing": "linear"
              }
             }
            ],
            "label": "2024.5",
            "method": "animate"
           },
           {
            "args": [
             [
              "2024.75"
             ],
             {
              "frame": {
               "duration": 0,
               "redraw": true
              },
              "fromcurrent": true,
              "mode": "immediate",
              "transition": {
               "duration": 0,
               "easing": "linear"
              }
             }
            ],
            "label": "2024.75",
            "method": "animate"
           },
           {
            "args": [
             [
              "2025.0"
             ],
             {
              "frame": {
               "duration": 0,
               "redraw": true
              },
              "fromcurrent": true,
              "mode": "immediate",
              "transition": {
               "duration": 0,
               "easing": "linear"
              }
             }
            ],
            "label": "2025.0",
            "method": "animate"
           },
           {
            "args": [
             [
              "2025.25"
             ],
             {
              "frame": {
               "duration": 0,
               "redraw": true
              },
              "fromcurrent": true,
              "mode": "immediate",
              "transition": {
               "duration": 0,
               "easing": "linear"
              }
             }
            ],
            "label": "2025.25",
            "method": "animate"
           },
           {
            "args": [
             [
              "2025.5"
             ],
             {
              "frame": {
               "duration": 0,
               "redraw": true
              },
              "fromcurrent": true,
              "mode": "immediate",
              "transition": {
               "duration": 0,
               "easing": "linear"
              }
             }
            ],
            "label": "2025.5",
            "method": "animate"
           },
           {
            "args": [
             [
              "2025.75"
             ],
             {
              "frame": {
               "duration": 0,
               "redraw": true
              },
              "fromcurrent": true,
              "mode": "immediate",
              "transition": {
               "duration": 0,
               "easing": "linear"
              }
             }
            ],
            "label": "2025.75",
            "method": "animate"
           },
           {
            "args": [
             [
              "2026.0"
             ],
             {
              "frame": {
               "duration": 0,
               "redraw": true
              },
              "fromcurrent": true,
              "mode": "immediate",
              "transition": {
               "duration": 0,
               "easing": "linear"
              }
             }
            ],
            "label": "2026.0",
            "method": "animate"
           },
           {
            "args": [
             [
              "2026.25"
             ],
             {
              "frame": {
               "duration": 0,
               "redraw": true
              },
              "fromcurrent": true,
              "mode": "immediate",
              "transition": {
               "duration": 0,
               "easing": "linear"
              }
             }
            ],
            "label": "2026.25",
            "method": "animate"
           },
           {
            "args": [
             [
              "2026.5"
             ],
             {
              "frame": {
               "duration": 0,
               "redraw": true
              },
              "fromcurrent": true,
              "mode": "immediate",
              "transition": {
               "duration": 0,
               "easing": "linear"
              }
             }
            ],
            "label": "2026.5",
            "method": "animate"
           },
           {
            "args": [
             [
              "2026.75"
             ],
             {
              "frame": {
               "duration": 0,
               "redraw": true
              },
              "fromcurrent": true,
              "mode": "immediate",
              "transition": {
               "duration": 0,
               "easing": "linear"
              }
             }
            ],
            "label": "2026.75",
            "method": "animate"
           },
           {
            "args": [
             [
              "2027.0"
             ],
             {
              "frame": {
               "duration": 0,
               "redraw": true
              },
              "fromcurrent": true,
              "mode": "immediate",
              "transition": {
               "duration": 0,
               "easing": "linear"
              }
             }
            ],
            "label": "2027.0",
            "method": "animate"
           },
           {
            "args": [
             [
              "2027.25"
             ],
             {
              "frame": {
               "duration": 0,
               "redraw": true
              },
              "fromcurrent": true,
              "mode": "immediate",
              "transition": {
               "duration": 0,
               "easing": "linear"
              }
             }
            ],
            "label": "2027.25",
            "method": "animate"
           },
           {
            "args": [
             [
              "2027.5"
             ],
             {
              "frame": {
               "duration": 0,
               "redraw": true
              },
              "fromcurrent": true,
              "mode": "immediate",
              "transition": {
               "duration": 0,
               "easing": "linear"
              }
             }
            ],
            "label": "2027.5",
            "method": "animate"
           },
           {
            "args": [
             [
              "2027.75"
             ],
             {
              "frame": {
               "duration": 0,
               "redraw": true
              },
              "fromcurrent": true,
              "mode": "immediate",
              "transition": {
               "duration": 0,
               "easing": "linear"
              }
             }
            ],
            "label": "2027.75",
            "method": "animate"
           },
           {
            "args": [
             [
              "2028.0"
             ],
             {
              "frame": {
               "duration": 0,
               "redraw": true
              },
              "fromcurrent": true,
              "mode": "immediate",
              "transition": {
               "duration": 0,
               "easing": "linear"
              }
             }
            ],
            "label": "2028.0",
            "method": "animate"
           },
           {
            "args": [
             [
              "2028.25"
             ],
             {
              "frame": {
               "duration": 0,
               "redraw": true
              },
              "fromcurrent": true,
              "mode": "immediate",
              "transition": {
               "duration": 0,
               "easing": "linear"
              }
             }
            ],
            "label": "2028.25",
            "method": "animate"
           },
           {
            "args": [
             [
              "2028.5"
             ],
             {
              "frame": {
               "duration": 0,
               "redraw": true
              },
              "fromcurrent": true,
              "mode": "immediate",
              "transition": {
               "duration": 0,
               "easing": "linear"
              }
             }
            ],
            "label": "2028.5",
            "method": "animate"
           },
           {
            "args": [
             [
              "2028.75"
             ],
             {
              "frame": {
               "duration": 0,
               "redraw": true
              },
              "fromcurrent": true,
              "mode": "immediate",
              "transition": {
               "duration": 0,
               "easing": "linear"
              }
             }
            ],
            "label": "2028.75",
            "method": "animate"
           },
           {
            "args": [
             [
              "2029.0"
             ],
             {
              "frame": {
               "duration": 0,
               "redraw": true
              },
              "fromcurrent": true,
              "mode": "immediate",
              "transition": {
               "duration": 0,
               "easing": "linear"
              }
             }
            ],
            "label": "2029.0",
            "method": "animate"
           }
          ],
          "x": 0.1,
          "xanchor": "left",
          "y": 0,
          "yanchor": "top"
         }
        ],
        "template": {
         "data": {
          "bar": [
           {
            "error_x": {
             "color": "#2a3f5f"
            },
            "error_y": {
             "color": "#2a3f5f"
            },
            "marker": {
             "line": {
              "color": "#E5ECF6",
              "width": 0.5
             },
             "pattern": {
              "fillmode": "overlay",
              "size": 10,
              "solidity": 0.2
             }
            },
            "type": "bar"
           }
          ],
          "barpolar": [
           {
            "marker": {
             "line": {
              "color": "#E5ECF6",
              "width": 0.5
             },
             "pattern": {
              "fillmode": "overlay",
              "size": 10,
              "solidity": 0.2
             }
            },
            "type": "barpolar"
           }
          ],
          "carpet": [
           {
            "aaxis": {
             "endlinecolor": "#2a3f5f",
             "gridcolor": "white",
             "linecolor": "white",
             "minorgridcolor": "white",
             "startlinecolor": "#2a3f5f"
            },
            "baxis": {
             "endlinecolor": "#2a3f5f",
             "gridcolor": "white",
             "linecolor": "white",
             "minorgridcolor": "white",
             "startlinecolor": "#2a3f5f"
            },
            "type": "carpet"
           }
          ],
          "choropleth": [
           {
            "colorbar": {
             "outlinewidth": 0,
             "ticks": ""
            },
            "type": "choropleth"
           }
          ],
          "contour": [
           {
            "colorbar": {
             "outlinewidth": 0,
             "ticks": ""
            },
            "colorscale": [
             [
              0,
              "#0d0887"
             ],
             [
              0.1111111111111111,
              "#46039f"
             ],
             [
              0.2222222222222222,
              "#7201a8"
             ],
             [
              0.3333333333333333,
              "#9c179e"
             ],
             [
              0.4444444444444444,
              "#bd3786"
             ],
             [
              0.5555555555555556,
              "#d8576b"
             ],
             [
              0.6666666666666666,
              "#ed7953"
             ],
             [
              0.7777777777777778,
              "#fb9f3a"
             ],
             [
              0.8888888888888888,
              "#fdca26"
             ],
             [
              1,
              "#f0f921"
             ]
            ],
            "type": "contour"
           }
          ],
          "contourcarpet": [
           {
            "colorbar": {
             "outlinewidth": 0,
             "ticks": ""
            },
            "type": "contourcarpet"
           }
          ],
          "heatmap": [
           {
            "colorbar": {
             "outlinewidth": 0,
             "ticks": ""
            },
            "colorscale": [
             [
              0,
              "#0d0887"
             ],
             [
              0.1111111111111111,
              "#46039f"
             ],
             [
              0.2222222222222222,
              "#7201a8"
             ],
             [
              0.3333333333333333,
              "#9c179e"
             ],
             [
              0.4444444444444444,
              "#bd3786"
             ],
             [
              0.5555555555555556,
              "#d8576b"
             ],
             [
              0.6666666666666666,
              "#ed7953"
             ],
             [
              0.7777777777777778,
              "#fb9f3a"
             ],
             [
              0.8888888888888888,
              "#fdca26"
             ],
             [
              1,
              "#f0f921"
             ]
            ],
            "type": "heatmap"
           }
          ],
          "heatmapgl": [
           {
            "colorbar": {
             "outlinewidth": 0,
             "ticks": ""
            },
            "colorscale": [
             [
              0,
              "#0d0887"
             ],
             [
              0.1111111111111111,
              "#46039f"
             ],
             [
              0.2222222222222222,
              "#7201a8"
             ],
             [
              0.3333333333333333,
              "#9c179e"
             ],
             [
              0.4444444444444444,
              "#bd3786"
             ],
             [
              0.5555555555555556,
              "#d8576b"
             ],
             [
              0.6666666666666666,
              "#ed7953"
             ],
             [
              0.7777777777777778,
              "#fb9f3a"
             ],
             [
              0.8888888888888888,
              "#fdca26"
             ],
             [
              1,
              "#f0f921"
             ]
            ],
            "type": "heatmapgl"
           }
          ],
          "histogram": [
           {
            "marker": {
             "pattern": {
              "fillmode": "overlay",
              "size": 10,
              "solidity": 0.2
             }
            },
            "type": "histogram"
           }
          ],
          "histogram2d": [
           {
            "colorbar": {
             "outlinewidth": 0,
             "ticks": ""
            },
            "colorscale": [
             [
              0,
              "#0d0887"
             ],
             [
              0.1111111111111111,
              "#46039f"
             ],
             [
              0.2222222222222222,
              "#7201a8"
             ],
             [
              0.3333333333333333,
              "#9c179e"
             ],
             [
              0.4444444444444444,
              "#bd3786"
             ],
             [
              0.5555555555555556,
              "#d8576b"
             ],
             [
              0.6666666666666666,
              "#ed7953"
             ],
             [
              0.7777777777777778,
              "#fb9f3a"
             ],
             [
              0.8888888888888888,
              "#fdca26"
             ],
             [
              1,
              "#f0f921"
             ]
            ],
            "type": "histogram2d"
           }
          ],
          "histogram2dcontour": [
           {
            "colorbar": {
             "outlinewidth": 0,
             "ticks": ""
            },
            "colorscale": [
             [
              0,
              "#0d0887"
             ],
             [
              0.1111111111111111,
              "#46039f"
             ],
             [
              0.2222222222222222,
              "#7201a8"
             ],
             [
              0.3333333333333333,
              "#9c179e"
             ],
             [
              0.4444444444444444,
              "#bd3786"
             ],
             [
              0.5555555555555556,
              "#d8576b"
             ],
             [
              0.6666666666666666,
              "#ed7953"
             ],
             [
              0.7777777777777778,
              "#fb9f3a"
             ],
             [
              0.8888888888888888,
              "#fdca26"
             ],
             [
              1,
              "#f0f921"
             ]
            ],
            "type": "histogram2dcontour"
           }
          ],
          "mesh3d": [
           {
            "colorbar": {
             "outlinewidth": 0,
             "ticks": ""
            },
            "type": "mesh3d"
           }
          ],
          "parcoords": [
           {
            "line": {
             "colorbar": {
              "outlinewidth": 0,
              "ticks": ""
             }
            },
            "type": "parcoords"
           }
          ],
          "pie": [
           {
            "automargin": true,
            "type": "pie"
           }
          ],
          "scatter": [
           {
            "fillpattern": {
             "fillmode": "overlay",
             "size": 10,
             "solidity": 0.2
            },
            "type": "scatter"
           }
          ],
          "scatter3d": [
           {
            "line": {
             "colorbar": {
              "outlinewidth": 0,
              "ticks": ""
             }
            },
            "marker": {
             "colorbar": {
              "outlinewidth": 0,
              "ticks": ""
             }
            },
            "type": "scatter3d"
           }
          ],
          "scattercarpet": [
           {
            "marker": {
             "colorbar": {
              "outlinewidth": 0,
              "ticks": ""
             }
            },
            "type": "scattercarpet"
           }
          ],
          "scattergeo": [
           {
            "marker": {
             "colorbar": {
              "outlinewidth": 0,
              "ticks": ""
             }
            },
            "type": "scattergeo"
           }
          ],
          "scattergl": [
           {
            "marker": {
             "colorbar": {
              "outlinewidth": 0,
              "ticks": ""
             }
            },
            "type": "scattergl"
           }
          ],
          "scattermapbox": [
           {
            "marker": {
             "colorbar": {
              "outlinewidth": 0,
              "ticks": ""
             }
            },
            "type": "scattermapbox"
           }
          ],
          "scatterpolar": [
           {
            "marker": {
             "colorbar": {
              "outlinewidth": 0,
              "ticks": ""
             }
            },
            "type": "scatterpolar"
           }
          ],
          "scatterpolargl": [
           {
            "marker": {
             "colorbar": {
              "outlinewidth": 0,
              "ticks": ""
             }
            },
            "type": "scatterpolargl"
           }
          ],
          "scatterternary": [
           {
            "marker": {
             "colorbar": {
              "outlinewidth": 0,
              "ticks": ""
             }
            },
            "type": "scatterternary"
           }
          ],
          "surface": [
           {
            "colorbar": {
             "outlinewidth": 0,
             "ticks": ""
            },
            "colorscale": [
             [
              0,
              "#0d0887"
             ],
             [
              0.1111111111111111,
              "#46039f"
             ],
             [
              0.2222222222222222,
              "#7201a8"
             ],
             [
              0.3333333333333333,
              "#9c179e"
             ],
             [
              0.4444444444444444,
              "#bd3786"
             ],
             [
              0.5555555555555556,
              "#d8576b"
             ],
             [
              0.6666666666666666,
              "#ed7953"
             ],
             [
              0.7777777777777778,
              "#fb9f3a"
             ],
             [
              0.8888888888888888,
              "#fdca26"
             ],
             [
              1,
              "#f0f921"
             ]
            ],
            "type": "surface"
           }
          ],
          "table": [
           {
            "cells": {
             "fill": {
              "color": "#EBF0F8"
             },
             "line": {
              "color": "white"
             }
            },
            "header": {
             "fill": {
              "color": "#C8D4E3"
             },
             "line": {
              "color": "white"
             }
            },
            "type": "table"
           }
          ]
         },
         "layout": {
          "annotationdefaults": {
           "arrowcolor": "#2a3f5f",
           "arrowhead": 0,
           "arrowwidth": 1
          },
          "autotypenumbers": "strict",
          "coloraxis": {
           "colorbar": {
            "outlinewidth": 0,
            "ticks": ""
           }
          },
          "colorscale": {
           "diverging": [
            [
             0,
             "#8e0152"
            ],
            [
             0.1,
             "#c51b7d"
            ],
            [
             0.2,
             "#de77ae"
            ],
            [
             0.3,
             "#f1b6da"
            ],
            [
             0.4,
             "#fde0ef"
            ],
            [
             0.5,
             "#f7f7f7"
            ],
            [
             0.6,
             "#e6f5d0"
            ],
            [
             0.7,
             "#b8e186"
            ],
            [
             0.8,
             "#7fbc41"
            ],
            [
             0.9,
             "#4d9221"
            ],
            [
             1,
             "#276419"
            ]
           ],
           "sequential": [
            [
             0,
             "#0d0887"
            ],
            [
             0.1111111111111111,
             "#46039f"
            ],
            [
             0.2222222222222222,
             "#7201a8"
            ],
            [
             0.3333333333333333,
             "#9c179e"
            ],
            [
             0.4444444444444444,
             "#bd3786"
            ],
            [
             0.5555555555555556,
             "#d8576b"
            ],
            [
             0.6666666666666666,
             "#ed7953"
            ],
            [
             0.7777777777777778,
             "#fb9f3a"
            ],
            [
             0.8888888888888888,
             "#fdca26"
            ],
            [
             1,
             "#f0f921"
            ]
           ],
           "sequentialminus": [
            [
             0,
             "#0d0887"
            ],
            [
             0.1111111111111111,
             "#46039f"
            ],
            [
             0.2222222222222222,
             "#7201a8"
            ],
            [
             0.3333333333333333,
             "#9c179e"
            ],
            [
             0.4444444444444444,
             "#bd3786"
            ],
            [
             0.5555555555555556,
             "#d8576b"
            ],
            [
             0.6666666666666666,
             "#ed7953"
            ],
            [
             0.7777777777777778,
             "#fb9f3a"
            ],
            [
             0.8888888888888888,
             "#fdca26"
            ],
            [
             1,
             "#f0f921"
            ]
           ]
          },
          "colorway": [
           "#636efa",
           "#EF553B",
           "#00cc96",
           "#ab63fa",
           "#FFA15A",
           "#19d3f3",
           "#FF6692",
           "#B6E880",
           "#FF97FF",
           "#FECB52"
          ],
          "font": {
           "color": "#2a3f5f"
          },
          "geo": {
           "bgcolor": "white",
           "lakecolor": "white",
           "landcolor": "#E5ECF6",
           "showlakes": true,
           "showland": true,
           "subunitcolor": "white"
          },
          "hoverlabel": {
           "align": "left"
          },
          "hovermode": "closest",
          "mapbox": {
           "style": "light"
          },
          "paper_bgcolor": "white",
          "plot_bgcolor": "#E5ECF6",
          "polar": {
           "angularaxis": {
            "gridcolor": "white",
            "linecolor": "white",
            "ticks": ""
           },
           "bgcolor": "#E5ECF6",
           "radialaxis": {
            "gridcolor": "white",
            "linecolor": "white",
            "ticks": ""
           }
          },
          "scene": {
           "xaxis": {
            "backgroundcolor": "#E5ECF6",
            "gridcolor": "white",
            "gridwidth": 2,
            "linecolor": "white",
            "showbackground": true,
            "ticks": "",
            "zerolinecolor": "white"
           },
           "yaxis": {
            "backgroundcolor": "#E5ECF6",
            "gridcolor": "white",
            "gridwidth": 2,
            "linecolor": "white",
            "showbackground": true,
            "ticks": "",
            "zerolinecolor": "white"
           },
           "zaxis": {
            "backgroundcolor": "#E5ECF6",
            "gridcolor": "white",
            "gridwidth": 2,
            "linecolor": "white",
            "showbackground": true,
            "ticks": "",
            "zerolinecolor": "white"
           }
          },
          "shapedefaults": {
           "line": {
            "color": "#2a3f5f"
           }
          },
          "ternary": {
           "aaxis": {
            "gridcolor": "white",
            "linecolor": "white",
            "ticks": ""
           },
           "baxis": {
            "gridcolor": "white",
            "linecolor": "white",
            "ticks": ""
           },
           "bgcolor": "#E5ECF6",
           "caxis": {
            "gridcolor": "white",
            "linecolor": "white",
            "ticks": ""
           }
          },
          "title": {
           "x": 0.05
          },
          "xaxis": {
           "automargin": true,
           "gridcolor": "white",
           "linecolor": "white",
           "ticks": "",
           "title": {
            "standoff": 15
           },
           "zerolinecolor": "white",
           "zerolinewidth": 2
          },
          "yaxis": {
           "automargin": true,
           "gridcolor": "white",
           "linecolor": "white",
           "ticks": "",
           "title": {
            "standoff": 15
           },
           "zerolinecolor": "white",
           "zerolinewidth": 2
          }
         }
        },
        "title": {
         "text": "Revenue of Airlines per Year"
        },
        "updatemenus": [
         {
          "buttons": [
           {
            "args": [
             null,
             {
              "frame": {
               "duration": 500,
               "redraw": true
              },
              "fromcurrent": true,
              "mode": "immediate",
              "transition": {
               "duration": 500,
               "easing": "linear"
              }
             }
            ],
            "label": "&#9654;",
            "method": "animate"
           },
           {
            "args": [
             [
              null
             ],
             {
              "frame": {
               "duration": 0,
               "redraw": true
              },
              "fromcurrent": true,
              "mode": "immediate",
              "transition": {
               "duration": 0,
               "easing": "linear"
              }
             }
            ],
            "label": "&#9724;",
            "method": "animate"
           }
          ],
          "direction": "left",
          "pad": {
           "r": 10,
           "t": 70
          },
          "showactive": false,
          "type": "buttons",
          "x": 0.1,
          "xanchor": "right",
          "y": 0,
          "yanchor": "top"
         }
        ],
        "xaxis": {
         "anchor": "y",
         "categoryarray": [
          "SY",
          "AS",
          "B6",
          "WN",
          "NK",
          "DL",
          "AA",
          "9K",
          "UA",
          "G4",
          "F9",
          "3M",
          "MX",
          "XP"
         ],
         "categoryorder": "array",
         "domain": [
          0,
          1
         ],
         "title": {
          "text": "carrier_lg"
         }
        },
        "yaxis": {
         "anchor": "x",
         "domain": [
          0,
          1
         ],
         "range": [
          0,
          496031.3649089333
         ],
         "title": {
          "text": "Revenue"
         }
        }
       }
      }
     },
     "metadata": {},
     "output_type": "display_data"
    }
   ],
   "source": [
    "# Group and sum revenue by Airline and Year\n",
    "revenue_data = flights_data.groupby(['carrier_lg', 'Quarter Year'])['Revenue'].sum().reset_index()\n",
    "revenue_data = revenue_data.sort_values(by='Quarter Year', ascending=True)\n",
    "\n",
    "# Create an interactive bar plot\n",
    "fig = px.bar(revenue_data, x='carrier_lg', y='Revenue', color='carrier_lg',\n",
    "             animation_frame='Quarter Year', range_y=[0, revenue_data['Revenue'].max() * 1.1],\n",
    "             title='Revenue of Airlines per Quarter')\n",
    "\n",
    "# Show the plot\n",
    "fig.show()"
   ]
  },
  {
   "cell_type": "code",
   "execution_count": null,
   "metadata": {},
   "outputs": [],
   "source": []
  }
 ],
 "metadata": {
  "kernelspec": {
   "display_name": "CDC-datathon",
   "language": "python",
   "name": "python3"
  },
  "language_info": {
   "codemirror_mode": {
    "name": "ipython",
    "version": 3
   },
   "file_extension": ".py",
   "mimetype": "text/x-python",
   "name": "python",
   "nbconvert_exporter": "python",
   "pygments_lexer": "ipython3",
   "version": "3.10.15"
  }
 },
 "nbformat": 4,
 "nbformat_minor": 2
}
