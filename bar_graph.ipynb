{
 "cells": [
  {
   "cell_type": "markdown",
   "metadata": {},
   "source": []
  },
  {
   "cell_type": "code",
   "execution_count": 16,
   "metadata": {},
   "outputs": [],
   "source": [
    "import pandas as pd\n",
    "import matplotlib.pyplot as plt\n",
    "import seaborn as sns\n",
    "import plotly.express as px\n",
    "import nbformat\n",
    "import plotly.graph_objects as go\n",
    "import plotly.io as pio"
   ]
  },
  {
   "cell_type": "code",
   "execution_count": 3,
   "metadata": {},
   "outputs": [
    {
     "data": {
      "text/plain": [
       "Index(['Predicted Passengers', 'Source Airport', 'Destination Airport',\n",
       "       'Quarter Year', 'Largest Carrier', 'Predicted Fare', 'carrier_lg',\n",
       "       'Revenue'],\n",
       "      dtype='object')"
      ]
     },
     "execution_count": 3,
     "metadata": {},
     "output_type": "execute_result"
    }
   ],
   "source": [
    "flights_data = pd.read_csv(\"future_flights_combined.csv\")\n",
    "flights_data.columns"
   ]
  },
  {
   "cell_type": "code",
   "execution_count": 14,
   "metadata": {},
   "outputs": [
    {
     "data": {
      "text/html": [
       "<div>\n",
       "<style scoped>\n",
       "    .dataframe tbody tr th:only-of-type {\n",
       "        vertical-align: middle;\n",
       "    }\n",
       "\n",
       "    .dataframe tbody tr th {\n",
       "        vertical-align: top;\n",
       "    }\n",
       "\n",
       "    .dataframe thead th {\n",
       "        text-align: right;\n",
       "    }\n",
       "</style>\n",
       "<table border=\"1\" class=\"dataframe\">\n",
       "  <thead>\n",
       "    <tr style=\"text-align: right;\">\n",
       "      <th></th>\n",
       "      <th>Predicted Passengers</th>\n",
       "      <th>Source Airport</th>\n",
       "      <th>Destination Airport</th>\n",
       "      <th>Quarter Year</th>\n",
       "      <th>Largest Carrier</th>\n",
       "      <th>Predicted Fare</th>\n",
       "      <th>carrier_lg</th>\n",
       "      <th>Revenue</th>\n",
       "      <th>Year</th>\n",
       "    </tr>\n",
       "  </thead>\n",
       "  <tbody>\n",
       "    <tr>\n",
       "      <th>0</th>\n",
       "      <td>157.62</td>\n",
       "      <td>CLE</td>\n",
       "      <td>BWI</td>\n",
       "      <td>2024.25</td>\n",
       "      <td>WN</td>\n",
       "      <td>193.3205</td>\n",
       "      <td>WN</td>\n",
       "      <td>30471.177210</td>\n",
       "      <td>2024</td>\n",
       "    </tr>\n",
       "    <tr>\n",
       "      <th>45</th>\n",
       "      <td>17.41</td>\n",
       "      <td>CLT</td>\n",
       "      <td>SWF</td>\n",
       "      <td>2024.25</td>\n",
       "      <td>AA</td>\n",
       "      <td>104.1687</td>\n",
       "      <td>AA</td>\n",
       "      <td>1813.577067</td>\n",
       "      <td>2024</td>\n",
       "    </tr>\n",
       "    <tr>\n",
       "      <th>9</th>\n",
       "      <td>529.11</td>\n",
       "      <td>CMH</td>\n",
       "      <td>PHX</td>\n",
       "      <td>2024.25</td>\n",
       "      <td>AA</td>\n",
       "      <td>305.5962</td>\n",
       "      <td>AA</td>\n",
       "      <td>161694.005382</td>\n",
       "      <td>2024</td>\n",
       "    </tr>\n",
       "    <tr>\n",
       "      <th>3073</th>\n",
       "      <td>47.78</td>\n",
       "      <td>OMA</td>\n",
       "      <td>OAK</td>\n",
       "      <td>2024.50</td>\n",
       "      <td>WN</td>\n",
       "      <td>234.2879</td>\n",
       "      <td>WN</td>\n",
       "      <td>11194.275862</td>\n",
       "      <td>2024</td>\n",
       "    </tr>\n",
       "    <tr>\n",
       "      <th>1</th>\n",
       "      <td>296.75</td>\n",
       "      <td>DFW</td>\n",
       "      <td>ELP</td>\n",
       "      <td>2024.25</td>\n",
       "      <td>AA</td>\n",
       "      <td>254.5439</td>\n",
       "      <td>AA</td>\n",
       "      <td>75535.902325</td>\n",
       "      <td>2024</td>\n",
       "    </tr>\n",
       "  </tbody>\n",
       "</table>\n",
       "</div>"
      ],
      "text/plain": [
       "      Predicted Passengers Source Airport Destination Airport  Quarter Year  \\\n",
       "0                   157.62            CLE                 BWI       2024.25   \n",
       "45                   17.41            CLT                 SWF       2024.25   \n",
       "9                   529.11            CMH                 PHX       2024.25   \n",
       "3073                 47.78            OMA                 OAK       2024.50   \n",
       "1                   296.75            DFW                 ELP       2024.25   \n",
       "\n",
       "     Largest Carrier  Predicted Fare carrier_lg        Revenue  Year  \n",
       "0                 WN        193.3205         WN   30471.177210  2024  \n",
       "45                AA        104.1687         AA    1813.577067  2024  \n",
       "9                 AA        305.5962         AA  161694.005382  2024  \n",
       "3073              WN        234.2879         WN   11194.275862  2024  \n",
       "1                 AA        254.5439         AA   75535.902325  2024  "
      ]
     },
     "execution_count": 14,
     "metadata": {},
     "output_type": "execute_result"
    }
   ],
   "source": [
    "flights_data.head()"
   ]
  },
  {
   "cell_type": "code",
   "execution_count": 8,
   "metadata": {},
   "outputs": [],
   "source": [
    "flights_data['Year'] = flights_data['Quarter Year'].astype(int)\n",
    "flights_data = flights_data.sort_values(by='Year', ascending=True)"
   ]
  },
  {
   "cell_type": "code",
   "execution_count": 13,
   "metadata": {},
   "outputs": [
    {
     "data": {
      "application/vnd.plotly.v1+json": {
       "config": {
        "plotlyServerURL": "https://plot.ly"
       },
       "data": [
        {
         "alignmentgroup": "True",
         "hovertemplate": "carrier_lg=%{x}<br>Quarter Year=2024.25<br>Revenue=%{y}<extra></extra>",
         "legendgroup": "SY",
         "marker": {
          "color": "#636efa",
          "pattern": {
           "shape": ""
          }
         },
         "name": "SY",
         "offsetgroup": "SY",
         "orientation": "v",
         "showlegend": true,
         "textposition": "auto",
         "type": "bar",
         "x": [
          "SY"
         ],
         "xaxis": "x",
         "y": [
          33367.708184999974
         ],
         "yaxis": "y"
        },
        {
         "alignmentgroup": "True",
         "hovertemplate": "carrier_lg=%{x}<br>Quarter Year=2024.25<br>Revenue=%{y}<extra></extra>",
         "legendgroup": "AS",
         "marker": {
          "color": "#EF553B",
          "pattern": {
           "shape": ""
          }
         },
         "name": "AS",
         "offsetgroup": "AS",
         "orientation": "v",
         "showlegend": true,
         "textposition": "auto",
         "type": "bar",
         "x": [
          "AS"
         ],
         "xaxis": "x",
         "y": [
          7265026.028372997
         ],
         "yaxis": "y"
        },
        {
         "alignmentgroup": "True",
         "hovertemplate": "carrier_lg=%{x}<br>Quarter Year=2024.25<br>Revenue=%{y}<extra></extra>",
         "legendgroup": "B6",
         "marker": {
          "color": "#00cc96",
          "pattern": {
           "shape": ""
          }
         },
         "name": "B6",
         "offsetgroup": "B6",
         "orientation": "v",
         "showlegend": true,
         "textposition": "auto",
         "type": "bar",
         "x": [
          "B6"
         ],
         "xaxis": "x",
         "y": [
          9892260.821429
         ],
         "yaxis": "y"
        },
        {
         "alignmentgroup": "True",
         "hovertemplate": "carrier_lg=%{x}<br>Quarter Year=2024.25<br>Revenue=%{y}<extra></extra>",
         "legendgroup": "WN",
         "marker": {
          "color": "#ab63fa",
          "pattern": {
           "shape": ""
          }
         },
         "name": "WN",
         "offsetgroup": "WN",
         "orientation": "v",
         "showlegend": true,
         "textposition": "auto",
         "type": "bar",
         "x": [
          "WN"
         ],
         "xaxis": "x",
         "y": [
          40632746.488159
         ],
         "yaxis": "y"
        },
        {
         "alignmentgroup": "True",
         "hovertemplate": "carrier_lg=%{x}<br>Quarter Year=2024.25<br>Revenue=%{y}<extra></extra>",
         "legendgroup": "NK",
         "marker": {
          "color": "#FFA15A",
          "pattern": {
           "shape": ""
          }
         },
         "name": "NK",
         "offsetgroup": "NK",
         "orientation": "v",
         "showlegend": true,
         "textposition": "auto",
         "type": "bar",
         "x": [
          "NK"
         ],
         "xaxis": "x",
         "y": [
          695109.6404000005
         ],
         "yaxis": "y"
        },
        {
         "alignmentgroup": "True",
         "hovertemplate": "carrier_lg=%{x}<br>Quarter Year=2024.25<br>Revenue=%{y}<extra></extra>",
         "legendgroup": "DL",
         "marker": {
          "color": "#19d3f3",
          "pattern": {
           "shape": ""
          }
         },
         "name": "DL",
         "offsetgroup": "DL",
         "orientation": "v",
         "showlegend": true,
         "textposition": "auto",
         "type": "bar",
         "x": [
          "DL"
         ],
         "xaxis": "x",
         "y": [
          35507309.221044
         ],
         "yaxis": "y"
        },
        {
         "alignmentgroup": "True",
         "hovertemplate": "carrier_lg=%{x}<br>Quarter Year=2024.25<br>Revenue=%{y}<extra></extra>",
         "legendgroup": "AA",
         "marker": {
          "color": "#FF6692",
          "pattern": {
           "shape": ""
          }
         },
         "name": "AA",
         "offsetgroup": "AA",
         "orientation": "v",
         "showlegend": true,
         "textposition": "auto",
         "type": "bar",
         "x": [
          "AA"
         ],
         "xaxis": "x",
         "y": [
          45804817.84731499
         ],
         "yaxis": "y"
        },
        {
         "alignmentgroup": "True",
         "hovertemplate": "carrier_lg=%{x}<br>Quarter Year=2024.25<br>Revenue=%{y}<extra></extra>",
         "legendgroup": "9K",
         "marker": {
          "color": "#B6E880",
          "pattern": {
           "shape": ""
          }
         },
         "name": "9K",
         "offsetgroup": "9K",
         "orientation": "v",
         "showlegend": true,
         "textposition": "auto",
         "type": "bar",
         "x": [
          "9K"
         ],
         "xaxis": "x",
         "y": [
          6403.125049000006
         ],
         "yaxis": "y"
        },
        {
         "alignmentgroup": "True",
         "hovertemplate": "carrier_lg=%{x}<br>Quarter Year=2024.25<br>Revenue=%{y}<extra></extra>",
         "legendgroup": "UA",
         "marker": {
          "color": "#FF97FF",
          "pattern": {
           "shape": ""
          }
         },
         "name": "UA",
         "offsetgroup": "UA",
         "orientation": "v",
         "showlegend": true,
         "textposition": "auto",
         "type": "bar",
         "x": [
          "UA"
         ],
         "xaxis": "x",
         "y": [
          41054287.662864
         ],
         "yaxis": "y"
        },
        {
         "alignmentgroup": "True",
         "hovertemplate": "carrier_lg=%{x}<br>Quarter Year=2024.25<br>Revenue=%{y}<extra></extra>",
         "legendgroup": "G4",
         "marker": {
          "color": "#FECB52",
          "pattern": {
           "shape": ""
          }
         },
         "name": "G4",
         "offsetgroup": "G4",
         "orientation": "v",
         "showlegend": true,
         "textposition": "auto",
         "type": "bar",
         "x": [
          "G4"
         ],
         "xaxis": "x",
         "y": [
          1019731.9349820002
         ],
         "yaxis": "y"
        },
        {
         "alignmentgroup": "True",
         "hovertemplate": "carrier_lg=%{x}<br>Quarter Year=2024.25<br>Revenue=%{y}<extra></extra>",
         "legendgroup": "F9",
         "marker": {
          "color": "#636efa",
          "pattern": {
           "shape": ""
          }
         },
         "name": "F9",
         "offsetgroup": "F9",
         "orientation": "v",
         "showlegend": true,
         "textposition": "auto",
         "type": "bar",
         "x": [
          "F9"
         ],
         "xaxis": "x",
         "y": [
          1247749.501248
         ],
         "yaxis": "y"
        }
       ],
       "frames": [
        {
         "data": [
          {
           "alignmentgroup": "True",
           "hovertemplate": "carrier_lg=%{x}<br>Quarter Year=2024.25<br>Revenue=%{y}<extra></extra>",
           "legendgroup": "SY",
           "marker": {
            "color": "#636efa",
            "pattern": {
             "shape": ""
            }
           },
           "name": "SY",
           "offsetgroup": "SY",
           "orientation": "v",
           "showlegend": true,
           "textposition": "auto",
           "type": "bar",
           "x": [
            "SY"
           ],
           "xaxis": "x",
           "y": [
            33367.708184999974
           ],
           "yaxis": "y"
          },
          {
           "alignmentgroup": "True",
           "hovertemplate": "carrier_lg=%{x}<br>Quarter Year=2024.25<br>Revenue=%{y}<extra></extra>",
           "legendgroup": "AS",
           "marker": {
            "color": "#EF553B",
            "pattern": {
             "shape": ""
            }
           },
           "name": "AS",
           "offsetgroup": "AS",
           "orientation": "v",
           "showlegend": true,
           "textposition": "auto",
           "type": "bar",
           "x": [
            "AS"
           ],
           "xaxis": "x",
           "y": [
            7265026.028372997
           ],
           "yaxis": "y"
          },
          {
           "alignmentgroup": "True",
           "hovertemplate": "carrier_lg=%{x}<br>Quarter Year=2024.25<br>Revenue=%{y}<extra></extra>",
           "legendgroup": "B6",
           "marker": {
            "color": "#00cc96",
            "pattern": {
             "shape": ""
            }
           },
           "name": "B6",
           "offsetgroup": "B6",
           "orientation": "v",
           "showlegend": true,
           "textposition": "auto",
           "type": "bar",
           "x": [
            "B6"
           ],
           "xaxis": "x",
           "y": [
            9892260.821429
           ],
           "yaxis": "y"
          },
          {
           "alignmentgroup": "True",
           "hovertemplate": "carrier_lg=%{x}<br>Quarter Year=2024.25<br>Revenue=%{y}<extra></extra>",
           "legendgroup": "WN",
           "marker": {
            "color": "#ab63fa",
            "pattern": {
             "shape": ""
            }
           },
           "name": "WN",
           "offsetgroup": "WN",
           "orientation": "v",
           "showlegend": true,
           "textposition": "auto",
           "type": "bar",
           "x": [
            "WN"
           ],
           "xaxis": "x",
           "y": [
            40632746.488159
           ],
           "yaxis": "y"
          },
          {
           "alignmentgroup": "True",
           "hovertemplate": "carrier_lg=%{x}<br>Quarter Year=2024.25<br>Revenue=%{y}<extra></extra>",
           "legendgroup": "NK",
           "marker": {
            "color": "#FFA15A",
            "pattern": {
             "shape": ""
            }
           },
           "name": "NK",
           "offsetgroup": "NK",
           "orientation": "v",
           "showlegend": true,
           "textposition": "auto",
           "type": "bar",
           "x": [
            "NK"
           ],
           "xaxis": "x",
           "y": [
            695109.6404000005
           ],
           "yaxis": "y"
          },
          {
           "alignmentgroup": "True",
           "hovertemplate": "carrier_lg=%{x}<br>Quarter Year=2024.25<br>Revenue=%{y}<extra></extra>",
           "legendgroup": "DL",
           "marker": {
            "color": "#19d3f3",
            "pattern": {
             "shape": ""
            }
           },
           "name": "DL",
           "offsetgroup": "DL",
           "orientation": "v",
           "showlegend": true,
           "textposition": "auto",
           "type": "bar",
           "x": [
            "DL"
           ],
           "xaxis": "x",
           "y": [
            35507309.221044
           ],
           "yaxis": "y"
          },
          {
           "alignmentgroup": "True",
           "hovertemplate": "carrier_lg=%{x}<br>Quarter Year=2024.25<br>Revenue=%{y}<extra></extra>",
           "legendgroup": "AA",
           "marker": {
            "color": "#FF6692",
            "pattern": {
             "shape": ""
            }
           },
           "name": "AA",
           "offsetgroup": "AA",
           "orientation": "v",
           "showlegend": true,
           "textposition": "auto",
           "type": "bar",
           "x": [
            "AA"
           ],
           "xaxis": "x",
           "y": [
            45804817.84731499
           ],
           "yaxis": "y"
          },
          {
           "alignmentgroup": "True",
           "hovertemplate": "carrier_lg=%{x}<br>Quarter Year=2024.25<br>Revenue=%{y}<extra></extra>",
           "legendgroup": "9K",
           "marker": {
            "color": "#B6E880",
            "pattern": {
             "shape": ""
            }
           },
           "name": "9K",
           "offsetgroup": "9K",
           "orientation": "v",
           "showlegend": true,
           "textposition": "auto",
           "type": "bar",
           "x": [
            "9K"
           ],
           "xaxis": "x",
           "y": [
            6403.125049000006
           ],
           "yaxis": "y"
          },
          {
           "alignmentgroup": "True",
           "hovertemplate": "carrier_lg=%{x}<br>Quarter Year=2024.25<br>Revenue=%{y}<extra></extra>",
           "legendgroup": "UA",
           "marker": {
            "color": "#FF97FF",
            "pattern": {
             "shape": ""
            }
           },
           "name": "UA",
           "offsetgroup": "UA",
           "orientation": "v",
           "showlegend": true,
           "textposition": "auto",
           "type": "bar",
           "x": [
            "UA"
           ],
           "xaxis": "x",
           "y": [
            41054287.662864
           ],
           "yaxis": "y"
          },
          {
           "alignmentgroup": "True",
           "hovertemplate": "carrier_lg=%{x}<br>Quarter Year=2024.25<br>Revenue=%{y}<extra></extra>",
           "legendgroup": "G4",
           "marker": {
            "color": "#FECB52",
            "pattern": {
             "shape": ""
            }
           },
           "name": "G4",
           "offsetgroup": "G4",
           "orientation": "v",
           "showlegend": true,
           "textposition": "auto",
           "type": "bar",
           "x": [
            "G4"
           ],
           "xaxis": "x",
           "y": [
            1019731.9349820002
           ],
           "yaxis": "y"
          },
          {
           "alignmentgroup": "True",
           "hovertemplate": "carrier_lg=%{x}<br>Quarter Year=2024.25<br>Revenue=%{y}<extra></extra>",
           "legendgroup": "F9",
           "marker": {
            "color": "#636efa",
            "pattern": {
             "shape": ""
            }
           },
           "name": "F9",
           "offsetgroup": "F9",
           "orientation": "v",
           "showlegend": true,
           "textposition": "auto",
           "type": "bar",
           "x": [
            "F9"
           ],
           "xaxis": "x",
           "y": [
            1247749.501248
           ],
           "yaxis": "y"
          }
         ],
         "name": "2024.25"
        },
        {
         "data": [
          {
           "alignmentgroup": "True",
           "hovertemplate": "carrier_lg=%{x}<br>Quarter Year=2024.5<br>Revenue=%{y}<extra></extra>",
           "legendgroup": "SY",
           "marker": {
            "color": "#636efa",
            "pattern": {
             "shape": ""
            }
           },
           "name": "SY",
           "offsetgroup": "SY",
           "orientation": "v",
           "showlegend": true,
           "textposition": "auto",
           "type": "bar",
           "x": [
            "SY"
           ],
           "xaxis": "x",
           "y": [
            33367.708184999974
           ],
           "yaxis": "y"
          },
          {
           "alignmentgroup": "True",
           "hovertemplate": "carrier_lg=%{x}<br>Quarter Year=2024.5<br>Revenue=%{y}<extra></extra>",
           "legendgroup": "AS",
           "marker": {
            "color": "#EF553B",
            "pattern": {
             "shape": ""
            }
           },
           "name": "AS",
           "offsetgroup": "AS",
           "orientation": "v",
           "showlegend": true,
           "textposition": "auto",
           "type": "bar",
           "x": [
            "AS"
           ],
           "xaxis": "x",
           "y": [
            7415146.795124997
           ],
           "yaxis": "y"
          },
          {
           "alignmentgroup": "True",
           "hovertemplate": "carrier_lg=%{x}<br>Quarter Year=2024.5<br>Revenue=%{y}<extra></extra>",
           "legendgroup": "B6",
           "marker": {
            "color": "#00cc96",
            "pattern": {
             "shape": ""
            }
           },
           "name": "B6",
           "offsetgroup": "B6",
           "orientation": "v",
           "showlegend": true,
           "textposition": "auto",
           "type": "bar",
           "x": [
            "B6"
           ],
           "xaxis": "x",
           "y": [
            10360875.835335
           ],
           "yaxis": "y"
          },
          {
           "alignmentgroup": "True",
           "hovertemplate": "carrier_lg=%{x}<br>Quarter Year=2024.5<br>Revenue=%{y}<extra></extra>",
           "legendgroup": "WN",
           "marker": {
            "color": "#ab63fa",
            "pattern": {
             "shape": ""
            }
           },
           "name": "WN",
           "offsetgroup": "WN",
           "orientation": "v",
           "showlegend": true,
           "textposition": "auto",
           "type": "bar",
           "x": [
            "WN"
           ],
           "xaxis": "x",
           "y": [
            39912156.841257
           ],
           "yaxis": "y"
          },
          {
           "alignmentgroup": "True",
           "hovertemplate": "carrier_lg=%{x}<br>Quarter Year=2024.5<br>Revenue=%{y}<extra></extra>",
           "legendgroup": "NK",
           "marker": {
            "color": "#FFA15A",
            "pattern": {
             "shape": ""
            }
           },
           "name": "NK",
           "offsetgroup": "NK",
           "orientation": "v",
           "showlegend": true,
           "textposition": "auto",
           "type": "bar",
           "x": [
            "NK"
           ],
           "xaxis": "x",
           "y": [
            1236094.1689600006
           ],
           "yaxis": "y"
          },
          {
           "alignmentgroup": "True",
           "hovertemplate": "carrier_lg=%{x}<br>Quarter Year=2024.5<br>Revenue=%{y}<extra></extra>",
           "legendgroup": "DL",
           "marker": {
            "color": "#19d3f3",
            "pattern": {
             "shape": ""
            }
           },
           "name": "DL",
           "offsetgroup": "DL",
           "orientation": "v",
           "showlegend": true,
           "textposition": "auto",
           "type": "bar",
           "x": [
            "DL"
           ],
           "xaxis": "x",
           "y": [
            33311656.082583
           ],
           "yaxis": "y"
          },
          {
           "alignmentgroup": "True",
           "hovertemplate": "carrier_lg=%{x}<br>Quarter Year=2024.5<br>Revenue=%{y}<extra></extra>",
           "legendgroup": "AA",
           "marker": {
            "color": "#FF6692",
            "pattern": {
             "shape": ""
            }
           },
           "name": "AA",
           "offsetgroup": "AA",
           "orientation": "v",
           "showlegend": true,
           "textposition": "auto",
           "type": "bar",
           "x": [
            "AA"
           ],
           "xaxis": "x",
           "y": [
            48807663.49516599
           ],
           "yaxis": "y"
          },
          {
           "alignmentgroup": "True",
           "hovertemplate": "carrier_lg=%{x}<br>Quarter Year=2024.5<br>Revenue=%{y}<extra></extra>",
           "legendgroup": "UA",
           "marker": {
            "color": "#FF97FF",
            "pattern": {
             "shape": ""
            }
           },
           "name": "UA",
           "offsetgroup": "UA",
           "orientation": "v",
           "showlegend": true,
           "textposition": "auto",
           "type": "bar",
           "x": [
            "UA"
           ],
           "xaxis": "x",
           "y": [
            38777531.862541
           ],
           "yaxis": "y"
          },
          {
           "alignmentgroup": "True",
           "hovertemplate": "carrier_lg=%{x}<br>Quarter Year=2024.5<br>Revenue=%{y}<extra></extra>",
           "legendgroup": "G4",
           "marker": {
            "color": "#FECB52",
            "pattern": {
             "shape": ""
            }
           },
           "name": "G4",
           "offsetgroup": "G4",
           "orientation": "v",
           "showlegend": true,
           "textposition": "auto",
           "type": "bar",
           "x": [
            "G4"
           ],
           "xaxis": "x",
           "y": [
            829219.080247
           ],
           "yaxis": "y"
          },
          {
           "alignmentgroup": "True",
           "hovertemplate": "carrier_lg=%{x}<br>Quarter Year=2024.5<br>Revenue=%{y}<extra></extra>",
           "legendgroup": "F9",
           "marker": {
            "color": "#636efa",
            "pattern": {
             "shape": ""
            }
           },
           "name": "F9",
           "offsetgroup": "F9",
           "orientation": "v",
           "showlegend": true,
           "textposition": "auto",
           "type": "bar",
           "x": [
            "F9"
           ],
           "xaxis": "x",
           "y": [
            1784978.1497679998
           ],
           "yaxis": "y"
          }
         ],
         "name": "2024.5"
        },
        {
         "data": [
          {
           "alignmentgroup": "True",
           "hovertemplate": "carrier_lg=%{x}<br>Quarter Year=2024.75<br>Revenue=%{y}<extra></extra>",
           "legendgroup": "SY",
           "marker": {
            "color": "#636efa",
            "pattern": {
             "shape": ""
            }
           },
           "name": "SY",
           "offsetgroup": "SY",
           "orientation": "v",
           "showlegend": true,
           "textposition": "auto",
           "type": "bar",
           "x": [
            "SY"
           ],
           "xaxis": "x",
           "y": [
            13648.573245999984
           ],
           "yaxis": "y"
          },
          {
           "alignmentgroup": "True",
           "hovertemplate": "carrier_lg=%{x}<br>Quarter Year=2024.75<br>Revenue=%{y}<extra></extra>",
           "legendgroup": "AS",
           "marker": {
            "color": "#EF553B",
            "pattern": {
             "shape": ""
            }
           },
           "name": "AS",
           "offsetgroup": "AS",
           "orientation": "v",
           "showlegend": true,
           "textposition": "auto",
           "type": "bar",
           "x": [
            "AS"
           ],
           "xaxis": "x",
           "y": [
            8117548.380434996
           ],
           "yaxis": "y"
          },
          {
           "alignmentgroup": "True",
           "hovertemplate": "carrier_lg=%{x}<br>Quarter Year=2024.75<br>Revenue=%{y}<extra></extra>",
           "legendgroup": "B6",
           "marker": {
            "color": "#00cc96",
            "pattern": {
             "shape": ""
            }
           },
           "name": "B6",
           "offsetgroup": "B6",
           "orientation": "v",
           "showlegend": true,
           "textposition": "auto",
           "type": "bar",
           "x": [
            "B6"
           ],
           "xaxis": "x",
           "y": [
            14347265.595775004
           ],
           "yaxis": "y"
          },
          {
           "alignmentgroup": "True",
           "hovertemplate": "carrier_lg=%{x}<br>Quarter Year=2024.75<br>Revenue=%{y}<extra></extra>",
           "legendgroup": "WN",
           "marker": {
            "color": "#ab63fa",
            "pattern": {
             "shape": ""
            }
           },
           "name": "WN",
           "offsetgroup": "WN",
           "orientation": "v",
           "showlegend": true,
           "textposition": "auto",
           "type": "bar",
           "x": [
            "WN"
           ],
           "xaxis": "x",
           "y": [
            40891766.52376
           ],
           "yaxis": "y"
          },
          {
           "alignmentgroup": "True",
           "hovertemplate": "carrier_lg=%{x}<br>Quarter Year=2024.75<br>Revenue=%{y}<extra></extra>",
           "legendgroup": "NK",
           "marker": {
            "color": "#FFA15A",
            "pattern": {
             "shape": ""
            }
           },
           "name": "NK",
           "offsetgroup": "NK",
           "orientation": "v",
           "showlegend": true,
           "textposition": "auto",
           "type": "bar",
           "x": [
            "NK"
           ],
           "xaxis": "x",
           "y": [
            880359.9598250006
           ],
           "yaxis": "y"
          },
          {
           "alignmentgroup": "True",
           "hovertemplate": "carrier_lg=%{x}<br>Quarter Year=2024.75<br>Revenue=%{y}<extra></extra>",
           "legendgroup": "DL",
           "marker": {
            "color": "#19d3f3",
            "pattern": {
             "shape": ""
            }
           },
           "name": "DL",
           "offsetgroup": "DL",
           "orientation": "v",
           "showlegend": true,
           "textposition": "auto",
           "type": "bar",
           "x": [
            "DL"
           ],
           "xaxis": "x",
           "y": [
            31484575.380609997
           ],
           "yaxis": "y"
          },
          {
           "alignmentgroup": "True",
           "hovertemplate": "carrier_lg=%{x}<br>Quarter Year=2024.75<br>Revenue=%{y}<extra></extra>",
           "legendgroup": "AA",
           "marker": {
            "color": "#FF6692",
            "pattern": {
             "shape": ""
            }
           },
           "name": "AA",
           "offsetgroup": "AA",
           "orientation": "v",
           "showlegend": true,
           "textposition": "auto",
           "type": "bar",
           "x": [
            "AA"
           ],
           "xaxis": "x",
           "y": [
            47679567.992328994
           ],
           "yaxis": "y"
          },
          {
           "alignmentgroup": "True",
           "hovertemplate": "carrier_lg=%{x}<br>Quarter Year=2024.75<br>Revenue=%{y}<extra></extra>",
           "legendgroup": "UA",
           "marker": {
            "color": "#FF97FF",
            "pattern": {
             "shape": ""
            }
           },
           "name": "UA",
           "offsetgroup": "UA",
           "orientation": "v",
           "showlegend": true,
           "textposition": "auto",
           "type": "bar",
           "x": [
            "UA"
           ],
           "xaxis": "x",
           "y": [
            38153690.701632
           ],
           "yaxis": "y"
          },
          {
           "alignmentgroup": "True",
           "hovertemplate": "carrier_lg=%{x}<br>Quarter Year=2024.75<br>Revenue=%{y}<extra></extra>",
           "legendgroup": "G4",
           "marker": {
            "color": "#FECB52",
            "pattern": {
             "shape": ""
            }
           },
           "name": "G4",
           "offsetgroup": "G4",
           "orientation": "v",
           "showlegend": true,
           "textposition": "auto",
           "type": "bar",
           "x": [
            "G4"
           ],
           "xaxis": "x",
           "y": [
            824917.719638
           ],
           "yaxis": "y"
          },
          {
           "alignmentgroup": "True",
           "hovertemplate": "carrier_lg=%{x}<br>Quarter Year=2024.75<br>Revenue=%{y}<extra></extra>",
           "legendgroup": "F9",
           "marker": {
            "color": "#636efa",
            "pattern": {
             "shape": ""
            }
           },
           "name": "F9",
           "offsetgroup": "F9",
           "orientation": "v",
           "showlegend": true,
           "textposition": "auto",
           "type": "bar",
           "x": [
            "F9"
           ],
           "xaxis": "x",
           "y": [
            902944.5231979998
           ],
           "yaxis": "y"
          }
         ],
         "name": "2024.75"
        },
        {
         "data": [
          {
           "alignmentgroup": "True",
           "hovertemplate": "carrier_lg=%{x}<br>Quarter Year=2025.0<br>Revenue=%{y}<extra></extra>",
           "legendgroup": "AS",
           "marker": {
            "color": "#EF553B",
            "pattern": {
             "shape": ""
            }
           },
           "name": "AS",
           "offsetgroup": "AS",
           "orientation": "v",
           "showlegend": true,
           "textposition": "auto",
           "type": "bar",
           "x": [
            "AS"
           ],
           "xaxis": "x",
           "y": [
            8829939.310555996
           ],
           "yaxis": "y"
          },
          {
           "alignmentgroup": "True",
           "hovertemplate": "carrier_lg=%{x}<br>Quarter Year=2025.0<br>Revenue=%{y}<extra></extra>",
           "legendgroup": "B6",
           "marker": {
            "color": "#00cc96",
            "pattern": {
             "shape": ""
            }
           },
           "name": "B6",
           "offsetgroup": "B6",
           "orientation": "v",
           "showlegend": true,
           "textposition": "auto",
           "type": "bar",
           "x": [
            "B6"
           ],
           "xaxis": "x",
           "y": [
            12264998.793898
           ],
           "yaxis": "y"
          },
          {
           "alignmentgroup": "True",
           "hovertemplate": "carrier_lg=%{x}<br>Quarter Year=2025.0<br>Revenue=%{y}<extra></extra>",
           "legendgroup": "WN",
           "marker": {
            "color": "#ab63fa",
            "pattern": {
             "shape": ""
            }
           },
           "name": "WN",
           "offsetgroup": "WN",
           "orientation": "v",
           "showlegend": true,
           "textposition": "auto",
           "type": "bar",
           "x": [
            "WN"
           ],
           "xaxis": "x",
           "y": [
            38787428.222695
           ],
           "yaxis": "y"
          },
          {
           "alignmentgroup": "True",
           "hovertemplate": "carrier_lg=%{x}<br>Quarter Year=2025.0<br>Revenue=%{y}<extra></extra>",
           "legendgroup": "NK",
           "marker": {
            "color": "#FFA15A",
            "pattern": {
             "shape": ""
            }
           },
           "name": "NK",
           "offsetgroup": "NK",
           "orientation": "v",
           "showlegend": true,
           "textposition": "auto",
           "type": "bar",
           "x": [
            "NK"
           ],
           "xaxis": "x",
           "y": [
            477920.7339890001
           ],
           "yaxis": "y"
          },
          {
           "alignmentgroup": "True",
           "hovertemplate": "carrier_lg=%{x}<br>Quarter Year=2025.0<br>Revenue=%{y}<extra></extra>",
           "legendgroup": "DL",
           "marker": {
            "color": "#19d3f3",
            "pattern": {
             "shape": ""
            }
           },
           "name": "DL",
           "offsetgroup": "DL",
           "orientation": "v",
           "showlegend": true,
           "textposition": "auto",
           "type": "bar",
           "x": [
            "DL"
           ],
           "xaxis": "x",
           "y": [
            35944391.641892
           ],
           "yaxis": "y"
          },
          {
           "alignmentgroup": "True",
           "hovertemplate": "carrier_lg=%{x}<br>Quarter Year=2025.0<br>Revenue=%{y}<extra></extra>",
           "legendgroup": "AA",
           "marker": {
            "color": "#FF6692",
            "pattern": {
             "shape": ""
            }
           },
           "name": "AA",
           "offsetgroup": "AA",
           "orientation": "v",
           "showlegend": true,
           "textposition": "auto",
           "type": "bar",
           "x": [
            "AA"
           ],
           "xaxis": "x",
           "y": [
            48900712.51571399
           ],
           "yaxis": "y"
          },
          {
           "alignmentgroup": "True",
           "hovertemplate": "carrier_lg=%{x}<br>Quarter Year=2025.0<br>Revenue=%{y}<extra></extra>",
           "legendgroup": "UA",
           "marker": {
            "color": "#FF97FF",
            "pattern": {
             "shape": ""
            }
           },
           "name": "UA",
           "offsetgroup": "UA",
           "orientation": "v",
           "showlegend": true,
           "textposition": "auto",
           "type": "bar",
           "x": [
            "UA"
           ],
           "xaxis": "x",
           "y": [
            36408016.624442
           ],
           "yaxis": "y"
          },
          {
           "alignmentgroup": "True",
           "hovertemplate": "carrier_lg=%{x}<br>Quarter Year=2025.0<br>Revenue=%{y}<extra></extra>",
           "legendgroup": "G4",
           "marker": {
            "color": "#FECB52",
            "pattern": {
             "shape": ""
            }
           },
           "name": "G4",
           "offsetgroup": "G4",
           "orientation": "v",
           "showlegend": true,
           "textposition": "auto",
           "type": "bar",
           "x": [
            "G4"
           ],
           "xaxis": "x",
           "y": [
            831113.331429
           ],
           "yaxis": "y"
          },
          {
           "alignmentgroup": "True",
           "hovertemplate": "carrier_lg=%{x}<br>Quarter Year=2025.0<br>Revenue=%{y}<extra></extra>",
           "legendgroup": "F9",
           "marker": {
            "color": "#636efa",
            "pattern": {
             "shape": ""
            }
           },
           "name": "F9",
           "offsetgroup": "F9",
           "orientation": "v",
           "showlegend": true,
           "textposition": "auto",
           "type": "bar",
           "x": [
            "F9"
           ],
           "xaxis": "x",
           "y": [
            1354190.9395680004
           ],
           "yaxis": "y"
          }
         ],
         "name": "2025.0"
        },
        {
         "data": [
          {
           "alignmentgroup": "True",
           "hovertemplate": "carrier_lg=%{x}<br>Quarter Year=2025.25<br>Revenue=%{y}<extra></extra>",
           "legendgroup": "SY",
           "marker": {
            "color": "#636efa",
            "pattern": {
             "shape": ""
            }
           },
           "name": "SY",
           "offsetgroup": "SY",
           "orientation": "v",
           "showlegend": true,
           "textposition": "auto",
           "type": "bar",
           "x": [
            "SY"
           ],
           "xaxis": "x",
           "y": [
            1352812.8133879998
           ],
           "yaxis": "y"
          },
          {
           "alignmentgroup": "True",
           "hovertemplate": "carrier_lg=%{x}<br>Quarter Year=2025.25<br>Revenue=%{y}<extra></extra>",
           "legendgroup": "AS",
           "marker": {
            "color": "#EF553B",
            "pattern": {
             "shape": ""
            }
           },
           "name": "AS",
           "offsetgroup": "AS",
           "orientation": "v",
           "showlegend": true,
           "textposition": "auto",
           "type": "bar",
           "x": [
            "AS"
           ],
           "xaxis": "x",
           "y": [
            9592865.463479996
           ],
           "yaxis": "y"
          },
          {
           "alignmentgroup": "True",
           "hovertemplate": "carrier_lg=%{x}<br>Quarter Year=2025.25<br>Revenue=%{y}<extra></extra>",
           "legendgroup": "B6",
           "marker": {
            "color": "#00cc96",
            "pattern": {
             "shape": ""
            }
           },
           "name": "B6",
           "offsetgroup": "B6",
           "orientation": "v",
           "showlegend": true,
           "textposition": "auto",
           "type": "bar",
           "x": [
            "B6"
           ],
           "xaxis": "x",
           "y": [
            18075492.989548
           ],
           "yaxis": "y"
          },
          {
           "alignmentgroup": "True",
           "hovertemplate": "carrier_lg=%{x}<br>Quarter Year=2025.25<br>Revenue=%{y}<extra></extra>",
           "legendgroup": "WN",
           "marker": {
            "color": "#ab63fa",
            "pattern": {
             "shape": ""
            }
           },
           "name": "WN",
           "offsetgroup": "WN",
           "orientation": "v",
           "showlegend": true,
           "textposition": "auto",
           "type": "bar",
           "x": [
            "WN"
           ],
           "xaxis": "x",
           "y": [
            46019760.661361
           ],
           "yaxis": "y"
          },
          {
           "alignmentgroup": "True",
           "hovertemplate": "carrier_lg=%{x}<br>Quarter Year=2025.25<br>Revenue=%{y}<extra></extra>",
           "legendgroup": "NK",
           "marker": {
            "color": "#FFA15A",
            "pattern": {
             "shape": ""
            }
           },
           "name": "NK",
           "offsetgroup": "NK",
           "orientation": "v",
           "showlegend": true,
           "textposition": "auto",
           "type": "bar",
           "x": [
            "NK"
           ],
           "xaxis": "x",
           "y": [
            1701163.5692330007
           ],
           "yaxis": "y"
          },
          {
           "alignmentgroup": "True",
           "hovertemplate": "carrier_lg=%{x}<br>Quarter Year=2025.25<br>Revenue=%{y}<extra></extra>",
           "legendgroup": "DL",
           "marker": {
            "color": "#19d3f3",
            "pattern": {
             "shape": ""
            }
           },
           "name": "DL",
           "offsetgroup": "DL",
           "orientation": "v",
           "showlegend": true,
           "textposition": "auto",
           "type": "bar",
           "x": [
            "DL"
           ],
           "xaxis": "x",
           "y": [
            18237737.37257
           ],
           "yaxis": "y"
          },
          {
           "alignmentgroup": "True",
           "hovertemplate": "carrier_lg=%{x}<br>Quarter Year=2025.25<br>Revenue=%{y}<extra></extra>",
           "legendgroup": "AA",
           "marker": {
            "color": "#FF6692",
            "pattern": {
             "shape": ""
            }
           },
           "name": "AA",
           "offsetgroup": "AA",
           "orientation": "v",
           "showlegend": true,
           "textposition": "auto",
           "type": "bar",
           "x": [
            "AA"
           ],
           "xaxis": "x",
           "y": [
            60928758.27122999
           ],
           "yaxis": "y"
          },
          {
           "alignmentgroup": "True",
           "hovertemplate": "carrier_lg=%{x}<br>Quarter Year=2025.25<br>Revenue=%{y}<extra></extra>",
           "legendgroup": "UA",
           "marker": {
            "color": "#FF97FF",
            "pattern": {
             "shape": ""
            }
           },
           "name": "UA",
           "offsetgroup": "UA",
           "orientation": "v",
           "showlegend": true,
           "textposition": "auto",
           "type": "bar",
           "x": [
            "UA"
           ],
           "xaxis": "x",
           "y": [
            22803519.069194
           ],
           "yaxis": "y"
          },
          {
           "alignmentgroup": "True",
           "hovertemplate": "carrier_lg=%{x}<br>Quarter Year=2025.25<br>Revenue=%{y}<extra></extra>",
           "legendgroup": "G4",
           "marker": {
            "color": "#FECB52",
            "pattern": {
             "shape": ""
            }
           },
           "name": "G4",
           "offsetgroup": "G4",
           "orientation": "v",
           "showlegend": true,
           "textposition": "auto",
           "type": "bar",
           "x": [
            "G4"
           ],
           "xaxis": "x",
           "y": [
            1640835.5975220003
           ],
           "yaxis": "y"
          },
          {
           "alignmentgroup": "True",
           "hovertemplate": "carrier_lg=%{x}<br>Quarter Year=2025.25<br>Revenue=%{y}<extra></extra>",
           "legendgroup": "F9",
           "marker": {
            "color": "#636efa",
            "pattern": {
             "shape": ""
            }
           },
           "name": "F9",
           "offsetgroup": "F9",
           "orientation": "v",
           "showlegend": true,
           "textposition": "auto",
           "type": "bar",
           "x": [
            "F9"
           ],
           "xaxis": "x",
           "y": [
            693362.3902279993
           ],
           "yaxis": "y"
          }
         ],
         "name": "2025.25"
        },
        {
         "data": [
          {
           "alignmentgroup": "True",
           "hovertemplate": "carrier_lg=%{x}<br>Quarter Year=2025.5<br>Revenue=%{y}<extra></extra>",
           "legendgroup": "SY",
           "marker": {
            "color": "#636efa",
            "pattern": {
             "shape": ""
            }
           },
           "name": "SY",
           "offsetgroup": "SY",
           "orientation": "v",
           "showlegend": true,
           "textposition": "auto",
           "type": "bar",
           "x": [
            "SY"
           ],
           "xaxis": "x",
           "y": [
            408828.3815700002
           ],
           "yaxis": "y"
          },
          {
           "alignmentgroup": "True",
           "hovertemplate": "carrier_lg=%{x}<br>Quarter Year=2025.5<br>Revenue=%{y}<extra></extra>",
           "legendgroup": "AS",
           "marker": {
            "color": "#EF553B",
            "pattern": {
             "shape": ""
            }
           },
           "name": "AS",
           "offsetgroup": "AS",
           "orientation": "v",
           "showlegend": true,
           "textposition": "auto",
           "type": "bar",
           "x": [
            "AS"
           ],
           "xaxis": "x",
           "y": [
            8964563.157956995
           ],
           "yaxis": "y"
          },
          {
           "alignmentgroup": "True",
           "hovertemplate": "carrier_lg=%{x}<br>Quarter Year=2025.5<br>Revenue=%{y}<extra></extra>",
           "legendgroup": "B6",
           "marker": {
            "color": "#00cc96",
            "pattern": {
             "shape": ""
            }
           },
           "name": "B6",
           "offsetgroup": "B6",
           "orientation": "v",
           "showlegend": true,
           "textposition": "auto",
           "type": "bar",
           "x": [
            "B6"
           ],
           "xaxis": "x",
           "y": [
            12957334.297380999
           ],
           "yaxis": "y"
          },
          {
           "alignmentgroup": "True",
           "hovertemplate": "carrier_lg=%{x}<br>Quarter Year=2025.5<br>Revenue=%{y}<extra></extra>",
           "legendgroup": "WN",
           "marker": {
            "color": "#ab63fa",
            "pattern": {
             "shape": ""
            }
           },
           "name": "WN",
           "offsetgroup": "WN",
           "orientation": "v",
           "showlegend": true,
           "textposition": "auto",
           "type": "bar",
           "x": [
            "WN"
           ],
           "xaxis": "x",
           "y": [
            40896426.866519004
           ],
           "yaxis": "y"
          },
          {
           "alignmentgroup": "True",
           "hovertemplate": "carrier_lg=%{x}<br>Quarter Year=2025.5<br>Revenue=%{y}<extra></extra>",
           "legendgroup": "NK",
           "marker": {
            "color": "#FFA15A",
            "pattern": {
             "shape": ""
            }
           },
           "name": "NK",
           "offsetgroup": "NK",
           "orientation": "v",
           "showlegend": true,
           "textposition": "auto",
           "type": "bar",
           "x": [
            "NK"
           ],
           "xaxis": "x",
           "y": [
            1926479.869725001
           ],
           "yaxis": "y"
          },
          {
           "alignmentgroup": "True",
           "hovertemplate": "carrier_lg=%{x}<br>Quarter Year=2025.5<br>Revenue=%{y}<extra></extra>",
           "legendgroup": "DL",
           "marker": {
            "color": "#19d3f3",
            "pattern": {
             "shape": ""
            }
           },
           "name": "DL",
           "offsetgroup": "DL",
           "orientation": "v",
           "showlegend": true,
           "textposition": "auto",
           "type": "bar",
           "x": [
            "DL"
           ],
           "xaxis": "x",
           "y": [
            26571260.149958003
           ],
           "yaxis": "y"
          },
          {
           "alignmentgroup": "True",
           "hovertemplate": "carrier_lg=%{x}<br>Quarter Year=2025.5<br>Revenue=%{y}<extra></extra>",
           "legendgroup": "AA",
           "marker": {
            "color": "#FF6692",
            "pattern": {
             "shape": ""
            }
           },
           "name": "AA",
           "offsetgroup": "AA",
           "orientation": "v",
           "showlegend": true,
           "textposition": "auto",
           "type": "bar",
           "x": [
            "AA"
           ],
           "xaxis": "x",
           "y": [
            54190246.37658099
           ],
           "yaxis": "y"
          },
          {
           "alignmentgroup": "True",
           "hovertemplate": "carrier_lg=%{x}<br>Quarter Year=2025.5<br>Revenue=%{y}<extra></extra>",
           "legendgroup": "UA",
           "marker": {
            "color": "#FF97FF",
            "pattern": {
             "shape": ""
            }
           },
           "name": "UA",
           "offsetgroup": "UA",
           "orientation": "v",
           "showlegend": true,
           "textposition": "auto",
           "type": "bar",
           "x": [
            "UA"
           ],
           "xaxis": "x",
           "y": [
            32530192.517611
           ],
           "yaxis": "y"
          },
          {
           "alignmentgroup": "True",
           "hovertemplate": "carrier_lg=%{x}<br>Quarter Year=2025.5<br>Revenue=%{y}<extra></extra>",
           "legendgroup": "G4",
           "marker": {
            "color": "#FECB52",
            "pattern": {
             "shape": ""
            }
           },
           "name": "G4",
           "offsetgroup": "G4",
           "orientation": "v",
           "showlegend": true,
           "textposition": "auto",
           "type": "bar",
           "x": [
            "G4"
           ],
           "xaxis": "x",
           "y": [
            1185698.1838220002
           ],
           "yaxis": "y"
          },
          {
           "alignmentgroup": "True",
           "hovertemplate": "carrier_lg=%{x}<br>Quarter Year=2025.5<br>Revenue=%{y}<extra></extra>",
           "legendgroup": "F9",
           "marker": {
            "color": "#636efa",
            "pattern": {
             "shape": ""
            }
           },
           "name": "F9",
           "offsetgroup": "F9",
           "orientation": "v",
           "showlegend": true,
           "textposition": "auto",
           "type": "bar",
           "x": [
            "F9"
           ],
           "xaxis": "x",
           "y": [
            917856.5508389995
           ],
           "yaxis": "y"
          }
         ],
         "name": "2025.5"
        },
        {
         "data": [
          {
           "alignmentgroup": "True",
           "hovertemplate": "carrier_lg=%{x}<br>Quarter Year=2025.75<br>Revenue=%{y}<extra></extra>",
           "legendgroup": "AS",
           "marker": {
            "color": "#EF553B",
            "pattern": {
             "shape": ""
            }
           },
           "name": "AS",
           "offsetgroup": "AS",
           "orientation": "v",
           "showlegend": true,
           "textposition": "auto",
           "type": "bar",
           "x": [
            "AS"
           ],
           "xaxis": "x",
           "y": [
            9719967.588235997
           ],
           "yaxis": "y"
          },
          {
           "alignmentgroup": "True",
           "hovertemplate": "carrier_lg=%{x}<br>Quarter Year=2025.75<br>Revenue=%{y}<extra></extra>",
           "legendgroup": "B6",
           "marker": {
            "color": "#00cc96",
            "pattern": {
             "shape": ""
            }
           },
           "name": "B6",
           "offsetgroup": "B6",
           "orientation": "v",
           "showlegend": true,
           "textposition": "auto",
           "type": "bar",
           "x": [
            "B6"
           ],
           "xaxis": "x",
           "y": [
            12379676.683629
           ],
           "yaxis": "y"
          },
          {
           "alignmentgroup": "True",
           "hovertemplate": "carrier_lg=%{x}<br>Quarter Year=2025.75<br>Revenue=%{y}<extra></extra>",
           "legendgroup": "WN",
           "marker": {
            "color": "#ab63fa",
            "pattern": {
             "shape": ""
            }
           },
           "name": "WN",
           "offsetgroup": "WN",
           "orientation": "v",
           "showlegend": true,
           "textposition": "auto",
           "type": "bar",
           "x": [
            "WN"
           ],
           "xaxis": "x",
           "y": [
            37269296.685893
           ],
           "yaxis": "y"
          },
          {
           "alignmentgroup": "True",
           "hovertemplate": "carrier_lg=%{x}<br>Quarter Year=2025.75<br>Revenue=%{y}<extra></extra>",
           "legendgroup": "NK",
           "marker": {
            "color": "#FFA15A",
            "pattern": {
             "shape": ""
            }
           },
           "name": "NK",
           "offsetgroup": "NK",
           "orientation": "v",
           "showlegend": true,
           "textposition": "auto",
           "type": "bar",
           "x": [
            "NK"
           ],
           "xaxis": "x",
           "y": [
            1122321.4324840007
           ],
           "yaxis": "y"
          },
          {
           "alignmentgroup": "True",
           "hovertemplate": "carrier_lg=%{x}<br>Quarter Year=2025.75<br>Revenue=%{y}<extra></extra>",
           "legendgroup": "DL",
           "marker": {
            "color": "#19d3f3",
            "pattern": {
             "shape": ""
            }
           },
           "name": "DL",
           "offsetgroup": "DL",
           "orientation": "v",
           "showlegend": true,
           "textposition": "auto",
           "type": "bar",
           "x": [
            "DL"
           ],
           "xaxis": "x",
           "y": [
            34654068.315529995
           ],
           "yaxis": "y"
          },
          {
           "alignmentgroup": "True",
           "hovertemplate": "carrier_lg=%{x}<br>Quarter Year=2025.75<br>Revenue=%{y}<extra></extra>",
           "legendgroup": "AA",
           "marker": {
            "color": "#FF6692",
            "pattern": {
             "shape": ""
            }
           },
           "name": "AA",
           "offsetgroup": "AA",
           "orientation": "v",
           "showlegend": true,
           "textposition": "auto",
           "type": "bar",
           "x": [
            "AA"
           ],
           "xaxis": "x",
           "y": [
            45191054.87969099
           ],
           "yaxis": "y"
          },
          {
           "alignmentgroup": "True",
           "hovertemplate": "carrier_lg=%{x}<br>Quarter Year=2025.75<br>Revenue=%{y}<extra></extra>",
           "legendgroup": "UA",
           "marker": {
            "color": "#FF97FF",
            "pattern": {
             "shape": ""
            }
           },
           "name": "UA",
           "offsetgroup": "UA",
           "orientation": "v",
           "showlegend": true,
           "textposition": "auto",
           "type": "bar",
           "x": [
            "UA"
           ],
           "xaxis": "x",
           "y": [
            40028173.352729
           ],
           "yaxis": "y"
          },
          {
           "alignmentgroup": "True",
           "hovertemplate": "carrier_lg=%{x}<br>Quarter Year=2025.75<br>Revenue=%{y}<extra></extra>",
           "legendgroup": "G4",
           "marker": {
            "color": "#FECB52",
            "pattern": {
             "shape": ""
            }
           },
           "name": "G4",
           "offsetgroup": "G4",
           "orientation": "v",
           "showlegend": true,
           "textposition": "auto",
           "type": "bar",
           "x": [
            "G4"
           ],
           "xaxis": "x",
           "y": [
            1193854.8090910001
           ],
           "yaxis": "y"
          },
          {
           "alignmentgroup": "True",
           "hovertemplate": "carrier_lg=%{x}<br>Quarter Year=2025.75<br>Revenue=%{y}<extra></extra>",
           "legendgroup": "F9",
           "marker": {
            "color": "#636efa",
            "pattern": {
             "shape": ""
            }
           },
           "name": "F9",
           "offsetgroup": "F9",
           "orientation": "v",
           "showlegend": true,
           "textposition": "auto",
           "type": "bar",
           "x": [
            "F9"
           ],
           "xaxis": "x",
           "y": [
            580849.4001910001
           ],
           "yaxis": "y"
          }
         ],
         "name": "2025.75"
        },
        {
         "data": [
          {
           "alignmentgroup": "True",
           "hovertemplate": "carrier_lg=%{x}<br>Quarter Year=2026.0<br>Revenue=%{y}<extra></extra>",
           "legendgroup": "AS",
           "marker": {
            "color": "#EF553B",
            "pattern": {
             "shape": ""
            }
           },
           "name": "AS",
           "offsetgroup": "AS",
           "orientation": "v",
           "showlegend": true,
           "textposition": "auto",
           "type": "bar",
           "x": [
            "AS"
           ],
           "xaxis": "x",
           "y": [
            10732951.963680996
           ],
           "yaxis": "y"
          },
          {
           "alignmentgroup": "True",
           "hovertemplate": "carrier_lg=%{x}<br>Quarter Year=2026.0<br>Revenue=%{y}<extra></extra>",
           "legendgroup": "B6",
           "marker": {
            "color": "#00cc96",
            "pattern": {
             "shape": ""
            }
           },
           "name": "B6",
           "offsetgroup": "B6",
           "orientation": "v",
           "showlegend": true,
           "textposition": "auto",
           "type": "bar",
           "x": [
            "B6"
           ],
           "xaxis": "x",
           "y": [
            12395534.296678
           ],
           "yaxis": "y"
          },
          {
           "alignmentgroup": "True",
           "hovertemplate": "carrier_lg=%{x}<br>Quarter Year=2026.0<br>Revenue=%{y}<extra></extra>",
           "legendgroup": "WN",
           "marker": {
            "color": "#ab63fa",
            "pattern": {
             "shape": ""
            }
           },
           "name": "WN",
           "offsetgroup": "WN",
           "orientation": "v",
           "showlegend": true,
           "textposition": "auto",
           "type": "bar",
           "x": [
            "WN"
           ],
           "xaxis": "x",
           "y": [
            38495627.27544
           ],
           "yaxis": "y"
          },
          {
           "alignmentgroup": "True",
           "hovertemplate": "carrier_lg=%{x}<br>Quarter Year=2026.0<br>Revenue=%{y}<extra></extra>",
           "legendgroup": "NK",
           "marker": {
            "color": "#FFA15A",
            "pattern": {
             "shape": ""
            }
           },
           "name": "NK",
           "offsetgroup": "NK",
           "orientation": "v",
           "showlegend": true,
           "textposition": "auto",
           "type": "bar",
           "x": [
            "NK"
           ],
           "xaxis": "x",
           "y": [
            730774.9253710003
           ],
           "yaxis": "y"
          },
          {
           "alignmentgroup": "True",
           "hovertemplate": "carrier_lg=%{x}<br>Quarter Year=2026.0<br>Revenue=%{y}<extra></extra>",
           "legendgroup": "DL",
           "marker": {
            "color": "#19d3f3",
            "pattern": {
             "shape": ""
            }
           },
           "name": "DL",
           "offsetgroup": "DL",
           "orientation": "v",
           "showlegend": true,
           "textposition": "auto",
           "type": "bar",
           "x": [
            "DL"
           ],
           "xaxis": "x",
           "y": [
            36148953.562082
           ],
           "yaxis": "y"
          },
          {
           "alignmentgroup": "True",
           "hovertemplate": "carrier_lg=%{x}<br>Quarter Year=2026.0<br>Revenue=%{y}<extra></extra>",
           "legendgroup": "AA",
           "marker": {
            "color": "#FF6692",
            "pattern": {
             "shape": ""
            }
           },
           "name": "AA",
           "offsetgroup": "AA",
           "orientation": "v",
           "showlegend": true,
           "textposition": "auto",
           "type": "bar",
           "x": [
            "AA"
           ],
           "xaxis": "x",
           "y": [
            43976920.807417996
           ],
           "yaxis": "y"
          },
          {
           "alignmentgroup": "True",
           "hovertemplate": "carrier_lg=%{x}<br>Quarter Year=2026.0<br>Revenue=%{y}<extra></extra>",
           "legendgroup": "UA",
           "marker": {
            "color": "#FF97FF",
            "pattern": {
             "shape": ""
            }
           },
           "name": "UA",
           "offsetgroup": "UA",
           "orientation": "v",
           "showlegend": true,
           "textposition": "auto",
           "type": "bar",
           "x": [
            "UA"
           ],
           "xaxis": "x",
           "y": [
            37330129.978493005
           ],
           "yaxis": "y"
          },
          {
           "alignmentgroup": "True",
           "hovertemplate": "carrier_lg=%{x}<br>Quarter Year=2026.0<br>Revenue=%{y}<extra></extra>",
           "legendgroup": "G4",
           "marker": {
            "color": "#FECB52",
            "pattern": {
             "shape": ""
            }
           },
           "name": "G4",
           "offsetgroup": "G4",
           "orientation": "v",
           "showlegend": true,
           "textposition": "auto",
           "type": "bar",
           "x": [
            "G4"
           ],
           "xaxis": "x",
           "y": [
            1284820.230269
           ],
           "yaxis": "y"
          },
          {
           "alignmentgroup": "True",
           "hovertemplate": "carrier_lg=%{x}<br>Quarter Year=2026.0<br>Revenue=%{y}<extra></extra>",
           "legendgroup": "F9",
           "marker": {
            "color": "#636efa",
            "pattern": {
             "shape": ""
            }
           },
           "name": "F9",
           "offsetgroup": "F9",
           "orientation": "v",
           "showlegend": true,
           "textposition": "auto",
           "type": "bar",
           "x": [
            "F9"
           ],
           "xaxis": "x",
           "y": [
            451536.90407599986
           ],
           "yaxis": "y"
          }
         ],
         "name": "2026.0"
        },
        {
         "data": [
          {
           "alignmentgroup": "True",
           "hovertemplate": "carrier_lg=%{x}<br>Quarter Year=2026.25<br>Revenue=%{y}<extra></extra>",
           "legendgroup": "SY",
           "marker": {
            "color": "#636efa",
            "pattern": {
             "shape": ""
            }
           },
           "name": "SY",
           "offsetgroup": "SY",
           "orientation": "v",
           "showlegend": true,
           "textposition": "auto",
           "type": "bar",
           "x": [
            "SY"
           ],
           "xaxis": "x",
           "y": [
            13648.573245999984
           ],
           "yaxis": "y"
          },
          {
           "alignmentgroup": "True",
           "hovertemplate": "carrier_lg=%{x}<br>Quarter Year=2026.25<br>Revenue=%{y}<extra></extra>",
           "legendgroup": "AS",
           "marker": {
            "color": "#EF553B",
            "pattern": {
             "shape": ""
            }
           },
           "name": "AS",
           "offsetgroup": "AS",
           "orientation": "v",
           "showlegend": true,
           "textposition": "auto",
           "type": "bar",
           "x": [
            "AS"
           ],
           "xaxis": "x",
           "y": [
            9479823.389198996
           ],
           "yaxis": "y"
          },
          {
           "alignmentgroup": "True",
           "hovertemplate": "carrier_lg=%{x}<br>Quarter Year=2026.25<br>Revenue=%{y}<extra></extra>",
           "legendgroup": "B6",
           "marker": {
            "color": "#00cc96",
            "pattern": {
             "shape": ""
            }
           },
           "name": "B6",
           "offsetgroup": "B6",
           "orientation": "v",
           "showlegend": true,
           "textposition": "auto",
           "type": "bar",
           "x": [
            "B6"
           ],
           "xaxis": "x",
           "y": [
            12224890.517869998
           ],
           "yaxis": "y"
          },
          {
           "alignmentgroup": "True",
           "hovertemplate": "carrier_lg=%{x}<br>Quarter Year=2026.25<br>Revenue=%{y}<extra></extra>",
           "legendgroup": "WN",
           "marker": {
            "color": "#ab63fa",
            "pattern": {
             "shape": ""
            }
           },
           "name": "WN",
           "offsetgroup": "WN",
           "orientation": "v",
           "showlegend": true,
           "textposition": "auto",
           "type": "bar",
           "x": [
            "WN"
           ],
           "xaxis": "x",
           "y": [
            38939793.812459
           ],
           "yaxis": "y"
          },
          {
           "alignmentgroup": "True",
           "hovertemplate": "carrier_lg=%{x}<br>Quarter Year=2026.25<br>Revenue=%{y}<extra></extra>",
           "legendgroup": "NK",
           "marker": {
            "color": "#FFA15A",
            "pattern": {
             "shape": ""
            }
           },
           "name": "NK",
           "offsetgroup": "NK",
           "orientation": "v",
           "showlegend": true,
           "textposition": "auto",
           "type": "bar",
           "x": [
            "NK"
           ],
           "xaxis": "x",
           "y": [
            1474042.224551
           ],
           "yaxis": "y"
          },
          {
           "alignmentgroup": "True",
           "hovertemplate": "carrier_lg=%{x}<br>Quarter Year=2026.25<br>Revenue=%{y}<extra></extra>",
           "legendgroup": "DL",
           "marker": {
            "color": "#19d3f3",
            "pattern": {
             "shape": ""
            }
           },
           "name": "DL",
           "offsetgroup": "DL",
           "orientation": "v",
           "showlegend": true,
           "textposition": "auto",
           "type": "bar",
           "x": [
            "DL"
           ],
           "xaxis": "x",
           "y": [
            40638516.502651
           ],
           "yaxis": "y"
          },
          {
           "alignmentgroup": "True",
           "hovertemplate": "carrier_lg=%{x}<br>Quarter Year=2026.25<br>Revenue=%{y}<extra></extra>",
           "legendgroup": "AA",
           "marker": {
            "color": "#FF6692",
            "pattern": {
             "shape": ""
            }
           },
           "name": "AA",
           "offsetgroup": "AA",
           "orientation": "v",
           "showlegend": true,
           "textposition": "auto",
           "type": "bar",
           "x": [
            "AA"
           ],
           "xaxis": "x",
           "y": [
            46504989.553719
           ],
           "yaxis": "y"
          },
          {
           "alignmentgroup": "True",
           "hovertemplate": "carrier_lg=%{x}<br>Quarter Year=2026.25<br>Revenue=%{y}<extra></extra>",
           "legendgroup": "UA",
           "marker": {
            "color": "#FF97FF",
            "pattern": {
             "shape": ""
            }
           },
           "name": "UA",
           "offsetgroup": "UA",
           "orientation": "v",
           "showlegend": true,
           "textposition": "auto",
           "type": "bar",
           "x": [
            "UA"
           ],
           "xaxis": "x",
           "y": [
            31563594.01241
           ],
           "yaxis": "y"
          },
          {
           "alignmentgroup": "True",
           "hovertemplate": "carrier_lg=%{x}<br>Quarter Year=2026.25<br>Revenue=%{y}<extra></extra>",
           "legendgroup": "G4",
           "marker": {
            "color": "#FECB52",
            "pattern": {
             "shape": ""
            }
           },
           "name": "G4",
           "offsetgroup": "G4",
           "orientation": "v",
           "showlegend": true,
           "textposition": "auto",
           "type": "bar",
           "x": [
            "G4"
           ],
           "xaxis": "x",
           "y": [
            1133837.215545
           ],
           "yaxis": "y"
          },
          {
           "alignmentgroup": "True",
           "hovertemplate": "carrier_lg=%{x}<br>Quarter Year=2026.25<br>Revenue=%{y}<extra></extra>",
           "legendgroup": "F9",
           "marker": {
            "color": "#636efa",
            "pattern": {
             "shape": ""
            }
           },
           "name": "F9",
           "offsetgroup": "F9",
           "orientation": "v",
           "showlegend": true,
           "textposition": "auto",
           "type": "bar",
           "x": [
            "F9"
           ],
           "xaxis": "x",
           "y": [
            295245.2552300001
           ],
           "yaxis": "y"
          }
         ],
         "name": "2026.25"
        },
        {
         "data": [
          {
           "alignmentgroup": "True",
           "hovertemplate": "carrier_lg=%{x}<br>Quarter Year=2026.5<br>Revenue=%{y}<extra></extra>",
           "legendgroup": "SY",
           "marker": {
            "color": "#636efa",
            "pattern": {
             "shape": ""
            }
           },
           "name": "SY",
           "offsetgroup": "SY",
           "orientation": "v",
           "showlegend": true,
           "textposition": "auto",
           "type": "bar",
           "x": [
            "SY"
           ],
           "xaxis": "x",
           "y": [
            13648.573245999984
           ],
           "yaxis": "y"
          },
          {
           "alignmentgroup": "True",
           "hovertemplate": "carrier_lg=%{x}<br>Quarter Year=2026.5<br>Revenue=%{y}<extra></extra>",
           "legendgroup": "AS",
           "marker": {
            "color": "#EF553B",
            "pattern": {
             "shape": ""
            }
           },
           "name": "AS",
           "offsetgroup": "AS",
           "orientation": "v",
           "showlegend": true,
           "textposition": "auto",
           "type": "bar",
           "x": [
            "AS"
           ],
           "xaxis": "x",
           "y": [
            6956126.818052998
           ],
           "yaxis": "y"
          },
          {
           "alignmentgroup": "True",
           "hovertemplate": "carrier_lg=%{x}<br>Quarter Year=2026.5<br>Revenue=%{y}<extra></extra>",
           "legendgroup": "B6",
           "marker": {
            "color": "#00cc96",
            "pattern": {
             "shape": ""
            }
           },
           "name": "B6",
           "offsetgroup": "B6",
           "orientation": "v",
           "showlegend": true,
           "textposition": "auto",
           "type": "bar",
           "x": [
            "B6"
           ],
           "xaxis": "x",
           "y": [
            12939902.398663
           ],
           "yaxis": "y"
          },
          {
           "alignmentgroup": "True",
           "hovertemplate": "carrier_lg=%{x}<br>Quarter Year=2026.5<br>Revenue=%{y}<extra></extra>",
           "legendgroup": "WN",
           "marker": {
            "color": "#ab63fa",
            "pattern": {
             "shape": ""
            }
           },
           "name": "WN",
           "offsetgroup": "WN",
           "orientation": "v",
           "showlegend": true,
           "textposition": "auto",
           "type": "bar",
           "x": [
            "WN"
           ],
           "xaxis": "x",
           "y": [
            38801414.486907
           ],
           "yaxis": "y"
          },
          {
           "alignmentgroup": "True",
           "hovertemplate": "carrier_lg=%{x}<br>Quarter Year=2026.5<br>Revenue=%{y}<extra></extra>",
           "legendgroup": "NK",
           "marker": {
            "color": "#FFA15A",
            "pattern": {
             "shape": ""
            }
           },
           "name": "NK",
           "offsetgroup": "NK",
           "orientation": "v",
           "showlegend": true,
           "textposition": "auto",
           "type": "bar",
           "x": [
            "NK"
           ],
           "xaxis": "x",
           "y": [
            736369.6794430001
           ],
           "yaxis": "y"
          },
          {
           "alignmentgroup": "True",
           "hovertemplate": "carrier_lg=%{x}<br>Quarter Year=2026.5<br>Revenue=%{y}<extra></extra>",
           "legendgroup": "DL",
           "marker": {
            "color": "#19d3f3",
            "pattern": {
             "shape": ""
            }
           },
           "name": "DL",
           "offsetgroup": "DL",
           "orientation": "v",
           "showlegend": true,
           "textposition": "auto",
           "type": "bar",
           "x": [
            "DL"
           ],
           "xaxis": "x",
           "y": [
            39736179.216134995
           ],
           "yaxis": "y"
          },
          {
           "alignmentgroup": "True",
           "hovertemplate": "carrier_lg=%{x}<br>Quarter Year=2026.5<br>Revenue=%{y}<extra></extra>",
           "legendgroup": "AA",
           "marker": {
            "color": "#FF6692",
            "pattern": {
             "shape": ""
            }
           },
           "name": "AA",
           "offsetgroup": "AA",
           "orientation": "v",
           "showlegend": true,
           "textposition": "auto",
           "type": "bar",
           "x": [
            "AA"
           ],
           "xaxis": "x",
           "y": [
            44085330.763822
           ],
           "yaxis": "y"
          },
          {
           "alignmentgroup": "True",
           "hovertemplate": "carrier_lg=%{x}<br>Quarter Year=2026.5<br>Revenue=%{y}<extra></extra>",
           "legendgroup": "UA",
           "marker": {
            "color": "#FF97FF",
            "pattern": {
             "shape": ""
            }
           },
           "name": "UA",
           "offsetgroup": "UA",
           "orientation": "v",
           "showlegend": true,
           "textposition": "auto",
           "type": "bar",
           "x": [
            "UA"
           ],
           "xaxis": "x",
           "y": [
            38174378.316753
           ],
           "yaxis": "y"
          },
          {
           "alignmentgroup": "True",
           "hovertemplate": "carrier_lg=%{x}<br>Quarter Year=2026.5<br>Revenue=%{y}<extra></extra>",
           "legendgroup": "G4",
           "marker": {
            "color": "#FECB52",
            "pattern": {
             "shape": ""
            }
           },
           "name": "G4",
           "offsetgroup": "G4",
           "orientation": "v",
           "showlegend": true,
           "textposition": "auto",
           "type": "bar",
           "x": [
            "G4"
           ],
           "xaxis": "x",
           "y": [
            1030770.7505239999
           ],
           "yaxis": "y"
          },
          {
           "alignmentgroup": "True",
           "hovertemplate": "carrier_lg=%{x}<br>Quarter Year=2026.5<br>Revenue=%{y}<extra></extra>",
           "legendgroup": "F9",
           "marker": {
            "color": "#636efa",
            "pattern": {
             "shape": ""
            }
           },
           "name": "F9",
           "offsetgroup": "F9",
           "orientation": "v",
           "showlegend": true,
           "textposition": "auto",
           "type": "bar",
           "x": [
            "F9"
           ],
           "xaxis": "x",
           "y": [
            1150924.4495080002
           ],
           "yaxis": "y"
          },
          {
           "alignmentgroup": "True",
           "hovertemplate": "carrier_lg=%{x}<br>Quarter Year=2026.5<br>Revenue=%{y}<extra></extra>",
           "legendgroup": "3M",
           "marker": {
            "color": "#EF553B",
            "pattern": {
             "shape": ""
            }
           },
           "name": "3M",
           "offsetgroup": "3M",
           "orientation": "v",
           "showlegend": true,
           "textposition": "auto",
           "type": "bar",
           "x": [
            "3M"
           ],
           "xaxis": "x",
           "y": [
            31023.112241999952
           ],
           "yaxis": "y"
          }
         ],
         "name": "2026.5"
        },
        {
         "data": [
          {
           "alignmentgroup": "True",
           "hovertemplate": "carrier_lg=%{x}<br>Quarter Year=2026.75<br>Revenue=%{y}<extra></extra>",
           "legendgroup": "SY",
           "marker": {
            "color": "#636efa",
            "pattern": {
             "shape": ""
            }
           },
           "name": "SY",
           "offsetgroup": "SY",
           "orientation": "v",
           "showlegend": true,
           "textposition": "auto",
           "type": "bar",
           "x": [
            "SY"
           ],
           "xaxis": "x",
           "y": [
            83497.94814799997
           ],
           "yaxis": "y"
          },
          {
           "alignmentgroup": "True",
           "hovertemplate": "carrier_lg=%{x}<br>Quarter Year=2026.75<br>Revenue=%{y}<extra></extra>",
           "legendgroup": "AS",
           "marker": {
            "color": "#EF553B",
            "pattern": {
             "shape": ""
            }
           },
           "name": "AS",
           "offsetgroup": "AS",
           "orientation": "v",
           "showlegend": true,
           "textposition": "auto",
           "type": "bar",
           "x": [
            "AS"
           ],
           "xaxis": "x",
           "y": [
            8110941.002518996
           ],
           "yaxis": "y"
          },
          {
           "alignmentgroup": "True",
           "hovertemplate": "carrier_lg=%{x}<br>Quarter Year=2026.75<br>Revenue=%{y}<extra></extra>",
           "legendgroup": "B6",
           "marker": {
            "color": "#00cc96",
            "pattern": {
             "shape": ""
            }
           },
           "name": "B6",
           "offsetgroup": "B6",
           "orientation": "v",
           "showlegend": true,
           "textposition": "auto",
           "type": "bar",
           "x": [
            "B6"
           ],
           "xaxis": "x",
           "y": [
            12487242.407134
           ],
           "yaxis": "y"
          },
          {
           "alignmentgroup": "True",
           "hovertemplate": "carrier_lg=%{x}<br>Quarter Year=2026.75<br>Revenue=%{y}<extra></extra>",
           "legendgroup": "WN",
           "marker": {
            "color": "#ab63fa",
            "pattern": {
             "shape": ""
            }
           },
           "name": "WN",
           "offsetgroup": "WN",
           "orientation": "v",
           "showlegend": true,
           "textposition": "auto",
           "type": "bar",
           "x": [
            "WN"
           ],
           "xaxis": "x",
           "y": [
            38337715.252028
           ],
           "yaxis": "y"
          },
          {
           "alignmentgroup": "True",
           "hovertemplate": "carrier_lg=%{x}<br>Quarter Year=2026.75<br>Revenue=%{y}<extra></extra>",
           "legendgroup": "NK",
           "marker": {
            "color": "#FFA15A",
            "pattern": {
             "shape": ""
            }
           },
           "name": "NK",
           "offsetgroup": "NK",
           "orientation": "v",
           "showlegend": true,
           "textposition": "auto",
           "type": "bar",
           "x": [
            "NK"
           ],
           "xaxis": "x",
           "y": [
            619593.437268
           ],
           "yaxis": "y"
          },
          {
           "alignmentgroup": "True",
           "hovertemplate": "carrier_lg=%{x}<br>Quarter Year=2026.75<br>Revenue=%{y}<extra></extra>",
           "legendgroup": "DL",
           "marker": {
            "color": "#19d3f3",
            "pattern": {
             "shape": ""
            }
           },
           "name": "DL",
           "offsetgroup": "DL",
           "orientation": "v",
           "showlegend": true,
           "textposition": "auto",
           "type": "bar",
           "x": [
            "DL"
           ],
           "xaxis": "x",
           "y": [
            37998770.573814
           ],
           "yaxis": "y"
          },
          {
           "alignmentgroup": "True",
           "hovertemplate": "carrier_lg=%{x}<br>Quarter Year=2026.75<br>Revenue=%{y}<extra></extra>",
           "legendgroup": "AA",
           "marker": {
            "color": "#FF6692",
            "pattern": {
             "shape": ""
            }
           },
           "name": "AA",
           "offsetgroup": "AA",
           "orientation": "v",
           "showlegend": true,
           "textposition": "auto",
           "type": "bar",
           "x": [
            "AA"
           ],
           "xaxis": "x",
           "y": [
            43343952.59165999
           ],
           "yaxis": "y"
          },
          {
           "alignmentgroup": "True",
           "hovertemplate": "carrier_lg=%{x}<br>Quarter Year=2026.75<br>Revenue=%{y}<extra></extra>",
           "legendgroup": "UA",
           "marker": {
            "color": "#FF97FF",
            "pattern": {
             "shape": ""
            }
           },
           "name": "UA",
           "offsetgroup": "UA",
           "orientation": "v",
           "showlegend": true,
           "textposition": "auto",
           "type": "bar",
           "x": [
            "UA"
           ],
           "xaxis": "x",
           "y": [
            40671917.609077
           ],
           "yaxis": "y"
          },
          {
           "alignmentgroup": "True",
           "hovertemplate": "carrier_lg=%{x}<br>Quarter Year=2026.75<br>Revenue=%{y}<extra></extra>",
           "legendgroup": "G4",
           "marker": {
            "color": "#FECB52",
            "pattern": {
             "shape": ""
            }
           },
           "name": "G4",
           "offsetgroup": "G4",
           "orientation": "v",
           "showlegend": true,
           "textposition": "auto",
           "type": "bar",
           "x": [
            "G4"
           ],
           "xaxis": "x",
           "y": [
            891994.9941539998
           ],
           "yaxis": "y"
          },
          {
           "alignmentgroup": "True",
           "hovertemplate": "carrier_lg=%{x}<br>Quarter Year=2026.75<br>Revenue=%{y}<extra></extra>",
           "legendgroup": "F9",
           "marker": {
            "color": "#636efa",
            "pattern": {
             "shape": ""
            }
           },
           "name": "F9",
           "offsetgroup": "F9",
           "orientation": "v",
           "showlegend": true,
           "textposition": "auto",
           "type": "bar",
           "x": [
            "F9"
           ],
           "xaxis": "x",
           "y": [
            823091.8556860002
           ],
           "yaxis": "y"
          },
          {
           "alignmentgroup": "True",
           "hovertemplate": "carrier_lg=%{x}<br>Quarter Year=2026.75<br>Revenue=%{y}<extra></extra>",
           "legendgroup": "3M",
           "marker": {
            "color": "#EF553B",
            "pattern": {
             "shape": ""
            }
           },
           "name": "3M",
           "offsetgroup": "3M",
           "orientation": "v",
           "showlegend": true,
           "textposition": "auto",
           "type": "bar",
           "x": [
            "3M"
           ],
           "xaxis": "x",
           "y": [
            31023.112241999952
           ],
           "yaxis": "y"
          },
          {
           "alignmentgroup": "True",
           "hovertemplate": "carrier_lg=%{x}<br>Quarter Year=2026.75<br>Revenue=%{y}<extra></extra>",
           "legendgroup": "MX",
           "marker": {
            "color": "#00cc96",
            "pattern": {
             "shape": ""
            }
           },
           "name": "MX",
           "offsetgroup": "MX",
           "orientation": "v",
           "showlegend": true,
           "textposition": "auto",
           "type": "bar",
           "x": [
            "MX"
           ],
           "xaxis": "x",
           "y": [
            168150.40284900003
           ],
           "yaxis": "y"
          },
          {
           "alignmentgroup": "True",
           "hovertemplate": "carrier_lg=%{x}<br>Quarter Year=2026.75<br>Revenue=%{y}<extra></extra>",
           "legendgroup": "XP",
           "marker": {
            "color": "#ab63fa",
            "pattern": {
             "shape": ""
            }
           },
           "name": "XP",
           "offsetgroup": "XP",
           "orientation": "v",
           "showlegend": true,
           "textposition": "auto",
           "type": "bar",
           "x": [
            "XP"
           ],
           "xaxis": "x",
           "y": [
            48138.963213999996
           ],
           "yaxis": "y"
          }
         ],
         "name": "2026.75"
        },
        {
         "data": [
          {
           "alignmentgroup": "True",
           "hovertemplate": "carrier_lg=%{x}<br>Quarter Year=2027.0<br>Revenue=%{y}<extra></extra>",
           "legendgroup": "SY",
           "marker": {
            "color": "#636efa",
            "pattern": {
             "shape": ""
            }
           },
           "name": "SY",
           "offsetgroup": "SY",
           "orientation": "v",
           "showlegend": true,
           "textposition": "auto",
           "type": "bar",
           "x": [
            "SY"
           ],
           "xaxis": "x",
           "y": [
            129659.17712899996
           ],
           "yaxis": "y"
          },
          {
           "alignmentgroup": "True",
           "hovertemplate": "carrier_lg=%{x}<br>Quarter Year=2027.0<br>Revenue=%{y}<extra></extra>",
           "legendgroup": "AS",
           "marker": {
            "color": "#EF553B",
            "pattern": {
             "shape": ""
            }
           },
           "name": "AS",
           "offsetgroup": "AS",
           "orientation": "v",
           "showlegend": true,
           "textposition": "auto",
           "type": "bar",
           "x": [
            "AS"
           ],
           "xaxis": "x",
           "y": [
            9801287.263700996
           ],
           "yaxis": "y"
          },
          {
           "alignmentgroup": "True",
           "hovertemplate": "carrier_lg=%{x}<br>Quarter Year=2027.0<br>Revenue=%{y}<extra></extra>",
           "legendgroup": "B6",
           "marker": {
            "color": "#00cc96",
            "pattern": {
             "shape": ""
            }
           },
           "name": "B6",
           "offsetgroup": "B6",
           "orientation": "v",
           "showlegend": true,
           "textposition": "auto",
           "type": "bar",
           "x": [
            "B6"
           ],
           "xaxis": "x",
           "y": [
            13221529.029911
           ],
           "yaxis": "y"
          },
          {
           "alignmentgroup": "True",
           "hovertemplate": "carrier_lg=%{x}<br>Quarter Year=2027.0<br>Revenue=%{y}<extra></extra>",
           "legendgroup": "WN",
           "marker": {
            "color": "#ab63fa",
            "pattern": {
             "shape": ""
            }
           },
           "name": "WN",
           "offsetgroup": "WN",
           "orientation": "v",
           "showlegend": true,
           "textposition": "auto",
           "type": "bar",
           "x": [
            "WN"
           ],
           "xaxis": "x",
           "y": [
            37165715.007258
           ],
           "yaxis": "y"
          },
          {
           "alignmentgroup": "True",
           "hovertemplate": "carrier_lg=%{x}<br>Quarter Year=2027.0<br>Revenue=%{y}<extra></extra>",
           "legendgroup": "NK",
           "marker": {
            "color": "#FFA15A",
            "pattern": {
             "shape": ""
            }
           },
           "name": "NK",
           "offsetgroup": "NK",
           "orientation": "v",
           "showlegend": true,
           "textposition": "auto",
           "type": "bar",
           "x": [
            "NK"
           ],
           "xaxis": "x",
           "y": [
            1055028.8685210003
           ],
           "yaxis": "y"
          },
          {
           "alignmentgroup": "True",
           "hovertemplate": "carrier_lg=%{x}<br>Quarter Year=2027.0<br>Revenue=%{y}<extra></extra>",
           "legendgroup": "DL",
           "marker": {
            "color": "#19d3f3",
            "pattern": {
             "shape": ""
            }
           },
           "name": "DL",
           "offsetgroup": "DL",
           "orientation": "v",
           "showlegend": true,
           "textposition": "auto",
           "type": "bar",
           "x": [
            "DL"
           ],
           "xaxis": "x",
           "y": [
            36956565.752849996
           ],
           "yaxis": "y"
          },
          {
           "alignmentgroup": "True",
           "hovertemplate": "carrier_lg=%{x}<br>Quarter Year=2027.0<br>Revenue=%{y}<extra></extra>",
           "legendgroup": "AA",
           "marker": {
            "color": "#FF6692",
            "pattern": {
             "shape": ""
            }
           },
           "name": "AA",
           "offsetgroup": "AA",
           "orientation": "v",
           "showlegend": true,
           "textposition": "auto",
           "type": "bar",
           "x": [
            "AA"
           ],
           "xaxis": "x",
           "y": [
            43418825.449581
           ],
           "yaxis": "y"
          },
          {
           "alignmentgroup": "True",
           "hovertemplate": "carrier_lg=%{x}<br>Quarter Year=2027.0<br>Revenue=%{y}<extra></extra>",
           "legendgroup": "UA",
           "marker": {
            "color": "#FF97FF",
            "pattern": {
             "shape": ""
            }
           },
           "name": "UA",
           "offsetgroup": "UA",
           "orientation": "v",
           "showlegend": true,
           "textposition": "auto",
           "type": "bar",
           "x": [
            "UA"
           ],
           "xaxis": "x",
           "y": [
            38855996.17753401
           ],
           "yaxis": "y"
          },
          {
           "alignmentgroup": "True",
           "hovertemplate": "carrier_lg=%{x}<br>Quarter Year=2027.0<br>Revenue=%{y}<extra></extra>",
           "legendgroup": "G4",
           "marker": {
            "color": "#FECB52",
            "pattern": {
             "shape": ""
            }
           },
           "name": "G4",
           "offsetgroup": "G4",
           "orientation": "v",
           "showlegend": true,
           "textposition": "auto",
           "type": "bar",
           "x": [
            "G4"
           ],
           "xaxis": "x",
           "y": [
            921752.7983799997
           ],
           "yaxis": "y"
          },
          {
           "alignmentgroup": "True",
           "hovertemplate": "carrier_lg=%{x}<br>Quarter Year=2027.0<br>Revenue=%{y}<extra></extra>",
           "legendgroup": "F9",
           "marker": {
            "color": "#636efa",
            "pattern": {
             "shape": ""
            }
           },
           "name": "F9",
           "offsetgroup": "F9",
           "orientation": "v",
           "showlegend": true,
           "textposition": "auto",
           "type": "bar",
           "x": [
            "F9"
           ],
           "xaxis": "x",
           "y": [
            1446586.9647609997
           ],
           "yaxis": "y"
          },
          {
           "alignmentgroup": "True",
           "hovertemplate": "carrier_lg=%{x}<br>Quarter Year=2027.0<br>Revenue=%{y}<extra></extra>",
           "legendgroup": "3M",
           "marker": {
            "color": "#EF553B",
            "pattern": {
             "shape": ""
            }
           },
           "name": "3M",
           "offsetgroup": "3M",
           "orientation": "v",
           "showlegend": true,
           "textposition": "auto",
           "type": "bar",
           "x": [
            "3M"
           ],
           "xaxis": "x",
           "y": [
            31023.112241999952
           ],
           "yaxis": "y"
          },
          {
           "alignmentgroup": "True",
           "hovertemplate": "carrier_lg=%{x}<br>Quarter Year=2027.0<br>Revenue=%{y}<extra></extra>",
           "legendgroup": "MX",
           "marker": {
            "color": "#00cc96",
            "pattern": {
             "shape": ""
            }
           },
           "name": "MX",
           "offsetgroup": "MX",
           "orientation": "v",
           "showlegend": true,
           "textposition": "auto",
           "type": "bar",
           "x": [
            "MX"
           ],
           "xaxis": "x",
           "y": [
            186919.64869500007
           ],
           "yaxis": "y"
          },
          {
           "alignmentgroup": "True",
           "hovertemplate": "carrier_lg=%{x}<br>Quarter Year=2027.0<br>Revenue=%{y}<extra></extra>",
           "legendgroup": "XP",
           "marker": {
            "color": "#ab63fa",
            "pattern": {
             "shape": ""
            }
           },
           "name": "XP",
           "offsetgroup": "XP",
           "orientation": "v",
           "showlegend": true,
           "textposition": "auto",
           "type": "bar",
           "x": [
            "XP"
           ],
           "xaxis": "x",
           "y": [
            71480.53377399998
           ],
           "yaxis": "y"
          }
         ],
         "name": "2027.0"
        },
        {
         "data": [
          {
           "alignmentgroup": "True",
           "hovertemplate": "carrier_lg=%{x}<br>Quarter Year=2027.25<br>Revenue=%{y}<extra></extra>",
           "legendgroup": "SY",
           "marker": {
            "color": "#636efa",
            "pattern": {
             "shape": ""
            }
           },
           "name": "SY",
           "offsetgroup": "SY",
           "orientation": "v",
           "showlegend": true,
           "textposition": "auto",
           "type": "bar",
           "x": [
            "SY"
           ],
           "xaxis": "x",
           "y": [
            80656.56253799995
           ],
           "yaxis": "y"
          },
          {
           "alignmentgroup": "True",
           "hovertemplate": "carrier_lg=%{x}<br>Quarter Year=2027.25<br>Revenue=%{y}<extra></extra>",
           "legendgroup": "AS",
           "marker": {
            "color": "#EF553B",
            "pattern": {
             "shape": ""
            }
           },
           "name": "AS",
           "offsetgroup": "AS",
           "orientation": "v",
           "showlegend": true,
           "textposition": "auto",
           "type": "bar",
           "x": [
            "AS"
           ],
           "xaxis": "x",
           "y": [
            10029173.127446994
           ],
           "yaxis": "y"
          },
          {
           "alignmentgroup": "True",
           "hovertemplate": "carrier_lg=%{x}<br>Quarter Year=2027.25<br>Revenue=%{y}<extra></extra>",
           "legendgroup": "B6",
           "marker": {
            "color": "#00cc96",
            "pattern": {
             "shape": ""
            }
           },
           "name": "B6",
           "offsetgroup": "B6",
           "orientation": "v",
           "showlegend": true,
           "textposition": "auto",
           "type": "bar",
           "x": [
            "B6"
           ],
           "xaxis": "x",
           "y": [
            11408484.550396
           ],
           "yaxis": "y"
          },
          {
           "alignmentgroup": "True",
           "hovertemplate": "carrier_lg=%{x}<br>Quarter Year=2027.25<br>Revenue=%{y}<extra></extra>",
           "legendgroup": "WN",
           "marker": {
            "color": "#ab63fa",
            "pattern": {
             "shape": ""
            }
           },
           "name": "WN",
           "offsetgroup": "WN",
           "orientation": "v",
           "showlegend": true,
           "textposition": "auto",
           "type": "bar",
           "x": [
            "WN"
           ],
           "xaxis": "x",
           "y": [
            38286021.212576
           ],
           "yaxis": "y"
          },
          {
           "alignmentgroup": "True",
           "hovertemplate": "carrier_lg=%{x}<br>Quarter Year=2027.25<br>Revenue=%{y}<extra></extra>",
           "legendgroup": "NK",
           "marker": {
            "color": "#FFA15A",
            "pattern": {
             "shape": ""
            }
           },
           "name": "NK",
           "offsetgroup": "NK",
           "orientation": "v",
           "showlegend": true,
           "textposition": "auto",
           "type": "bar",
           "x": [
            "NK"
           ],
           "xaxis": "x",
           "y": [
            2567397.6242299997
           ],
           "yaxis": "y"
          },
          {
           "alignmentgroup": "True",
           "hovertemplate": "carrier_lg=%{x}<br>Quarter Year=2027.25<br>Revenue=%{y}<extra></extra>",
           "legendgroup": "DL",
           "marker": {
            "color": "#19d3f3",
            "pattern": {
             "shape": ""
            }
           },
           "name": "DL",
           "offsetgroup": "DL",
           "orientation": "v",
           "showlegend": true,
           "textposition": "auto",
           "type": "bar",
           "x": [
            "DL"
           ],
           "xaxis": "x",
           "y": [
            34614681.229062
           ],
           "yaxis": "y"
          },
          {
           "alignmentgroup": "True",
           "hovertemplate": "carrier_lg=%{x}<br>Quarter Year=2027.25<br>Revenue=%{y}<extra></extra>",
           "legendgroup": "AA",
           "marker": {
            "color": "#FF6692",
            "pattern": {
             "shape": ""
            }
           },
           "name": "AA",
           "offsetgroup": "AA",
           "orientation": "v",
           "showlegend": true,
           "textposition": "auto",
           "type": "bar",
           "x": [
            "AA"
           ],
           "xaxis": "x",
           "y": [
            41756839.586307995
           ],
           "yaxis": "y"
          },
          {
           "alignmentgroup": "True",
           "hovertemplate": "carrier_lg=%{x}<br>Quarter Year=2027.25<br>Revenue=%{y}<extra></extra>",
           "legendgroup": "UA",
           "marker": {
            "color": "#FF97FF",
            "pattern": {
             "shape": ""
            }
           },
           "name": "UA",
           "offsetgroup": "UA",
           "orientation": "v",
           "showlegend": true,
           "textposition": "auto",
           "type": "bar",
           "x": [
            "UA"
           ],
           "xaxis": "x",
           "y": [
            40760264.210171
           ],
           "yaxis": "y"
          },
          {
           "alignmentgroup": "True",
           "hovertemplate": "carrier_lg=%{x}<br>Quarter Year=2027.25<br>Revenue=%{y}<extra></extra>",
           "legendgroup": "G4",
           "marker": {
            "color": "#FECB52",
            "pattern": {
             "shape": ""
            }
           },
           "name": "G4",
           "offsetgroup": "G4",
           "orientation": "v",
           "showlegend": true,
           "textposition": "auto",
           "type": "bar",
           "x": [
            "G4"
           ],
           "xaxis": "x",
           "y": [
            1159739.049869
           ],
           "yaxis": "y"
          },
          {
           "alignmentgroup": "True",
           "hovertemplate": "carrier_lg=%{x}<br>Quarter Year=2027.25<br>Revenue=%{y}<extra></extra>",
           "legendgroup": "F9",
           "marker": {
            "color": "#636efa",
            "pattern": {
             "shape": ""
            }
           },
           "name": "F9",
           "offsetgroup": "F9",
           "orientation": "v",
           "showlegend": true,
           "textposition": "auto",
           "type": "bar",
           "x": [
            "F9"
           ],
           "xaxis": "x",
           "y": [
            2027374.0810250002
           ],
           "yaxis": "y"
          },
          {
           "alignmentgroup": "True",
           "hovertemplate": "carrier_lg=%{x}<br>Quarter Year=2027.25<br>Revenue=%{y}<extra></extra>",
           "legendgroup": "3M",
           "marker": {
            "color": "#EF553B",
            "pattern": {
             "shape": ""
            }
           },
           "name": "3M",
           "offsetgroup": "3M",
           "orientation": "v",
           "showlegend": true,
           "textposition": "auto",
           "type": "bar",
           "x": [
            "3M"
           ],
           "xaxis": "x",
           "y": [
            31023.112241999952
           ],
           "yaxis": "y"
          },
          {
           "alignmentgroup": "True",
           "hovertemplate": "carrier_lg=%{x}<br>Quarter Year=2027.25<br>Revenue=%{y}<extra></extra>",
           "legendgroup": "MX",
           "marker": {
            "color": "#00cc96",
            "pattern": {
             "shape": ""
            }
           },
           "name": "MX",
           "offsetgroup": "MX",
           "orientation": "v",
           "showlegend": true,
           "textposition": "auto",
           "type": "bar",
           "x": [
            "MX"
           ],
           "xaxis": "x",
           "y": [
            182850.59239900004
           ],
           "yaxis": "y"
          },
          {
           "alignmentgroup": "True",
           "hovertemplate": "carrier_lg=%{x}<br>Quarter Year=2027.25<br>Revenue=%{y}<extra></extra>",
           "legendgroup": "XP",
           "marker": {
            "color": "#ab63fa",
            "pattern": {
             "shape": ""
            }
           },
           "name": "XP",
           "offsetgroup": "XP",
           "orientation": "v",
           "showlegend": true,
           "textposition": "auto",
           "type": "bar",
           "x": [
            "XP"
           ],
           "xaxis": "x",
           "y": [
            127102.98342200003
           ],
           "yaxis": "y"
          }
         ],
         "name": "2027.25"
        },
        {
         "data": [
          {
           "alignmentgroup": "True",
           "hovertemplate": "carrier_lg=%{x}<br>Quarter Year=2027.5<br>Revenue=%{y}<extra></extra>",
           "legendgroup": "SY",
           "marker": {
            "color": "#636efa",
            "pattern": {
             "shape": ""
            }
           },
           "name": "SY",
           "offsetgroup": "SY",
           "orientation": "v",
           "showlegend": true,
           "textposition": "auto",
           "type": "bar",
           "x": [
            "SY"
           ],
           "xaxis": "x",
           "y": [
            13648.573245999984
           ],
           "yaxis": "y"
          },
          {
           "alignmentgroup": "True",
           "hovertemplate": "carrier_lg=%{x}<br>Quarter Year=2027.5<br>Revenue=%{y}<extra></extra>",
           "legendgroup": "AS",
           "marker": {
            "color": "#EF553B",
            "pattern": {
             "shape": ""
            }
           },
           "name": "AS",
           "offsetgroup": "AS",
           "orientation": "v",
           "showlegend": true,
           "textposition": "auto",
           "type": "bar",
           "x": [
            "AS"
           ],
           "xaxis": "x",
           "y": [
            10341636.839092994
           ],
           "yaxis": "y"
          },
          {
           "alignmentgroup": "True",
           "hovertemplate": "carrier_lg=%{x}<br>Quarter Year=2027.5<br>Revenue=%{y}<extra></extra>",
           "legendgroup": "B6",
           "marker": {
            "color": "#00cc96",
            "pattern": {
             "shape": ""
            }
           },
           "name": "B6",
           "offsetgroup": "B6",
           "orientation": "v",
           "showlegend": true,
           "textposition": "auto",
           "type": "bar",
           "x": [
            "B6"
           ],
           "xaxis": "x",
           "y": [
            15157318.544067
           ],
           "yaxis": "y"
          },
          {
           "alignmentgroup": "True",
           "hovertemplate": "carrier_lg=%{x}<br>Quarter Year=2027.5<br>Revenue=%{y}<extra></extra>",
           "legendgroup": "WN",
           "marker": {
            "color": "#ab63fa",
            "pattern": {
             "shape": ""
            }
           },
           "name": "WN",
           "offsetgroup": "WN",
           "orientation": "v",
           "showlegend": true,
           "textposition": "auto",
           "type": "bar",
           "x": [
            "WN"
           ],
           "xaxis": "x",
           "y": [
            39416468.453082
           ],
           "yaxis": "y"
          },
          {
           "alignmentgroup": "True",
           "hovertemplate": "carrier_lg=%{x}<br>Quarter Year=2027.5<br>Revenue=%{y}<extra></extra>",
           "legendgroup": "NK",
           "marker": {
            "color": "#FFA15A",
            "pattern": {
             "shape": ""
            }
           },
           "name": "NK",
           "offsetgroup": "NK",
           "orientation": "v",
           "showlegend": true,
           "textposition": "auto",
           "type": "bar",
           "x": [
            "NK"
           ],
           "xaxis": "x",
           "y": [
            3732190.678114
           ],
           "yaxis": "y"
          },
          {
           "alignmentgroup": "True",
           "hovertemplate": "carrier_lg=%{x}<br>Quarter Year=2027.5<br>Revenue=%{y}<extra></extra>",
           "legendgroup": "DL",
           "marker": {
            "color": "#19d3f3",
            "pattern": {
             "shape": ""
            }
           },
           "name": "DL",
           "offsetgroup": "DL",
           "orientation": "v",
           "showlegend": true,
           "textposition": "auto",
           "type": "bar",
           "x": [
            "DL"
           ],
           "xaxis": "x",
           "y": [
            30373605.427952
           ],
           "yaxis": "y"
          },
          {
           "alignmentgroup": "True",
           "hovertemplate": "carrier_lg=%{x}<br>Quarter Year=2027.5<br>Revenue=%{y}<extra></extra>",
           "legendgroup": "AA",
           "marker": {
            "color": "#FF6692",
            "pattern": {
             "shape": ""
            }
           },
           "name": "AA",
           "offsetgroup": "AA",
           "orientation": "v",
           "showlegend": true,
           "textposition": "auto",
           "type": "bar",
           "x": [
            "AA"
           ],
           "xaxis": "x",
           "y": [
            39976281.047345996
           ],
           "yaxis": "y"
          },
          {
           "alignmentgroup": "True",
           "hovertemplate": "carrier_lg=%{x}<br>Quarter Year=2027.5<br>Revenue=%{y}<extra></extra>",
           "legendgroup": "UA",
           "marker": {
            "color": "#FF97FF",
            "pattern": {
             "shape": ""
            }
           },
           "name": "UA",
           "offsetgroup": "UA",
           "orientation": "v",
           "showlegend": true,
           "textposition": "auto",
           "type": "bar",
           "x": [
            "UA"
           ],
           "xaxis": "x",
           "y": [
            40100590.648556
           ],
           "yaxis": "y"
          },
          {
           "alignmentgroup": "True",
           "hovertemplate": "carrier_lg=%{x}<br>Quarter Year=2027.5<br>Revenue=%{y}<extra></extra>",
           "legendgroup": "G4",
           "marker": {
            "color": "#FECB52",
            "pattern": {
             "shape": ""
            }
           },
           "name": "G4",
           "offsetgroup": "G4",
           "orientation": "v",
           "showlegend": true,
           "textposition": "auto",
           "type": "bar",
           "x": [
            "G4"
           ],
           "xaxis": "x",
           "y": [
            1353590.0203469999
           ],
           "yaxis": "y"
          },
          {
           "alignmentgroup": "True",
           "hovertemplate": "carrier_lg=%{x}<br>Quarter Year=2027.5<br>Revenue=%{y}<extra></extra>",
           "legendgroup": "F9",
           "marker": {
            "color": "#636efa",
            "pattern": {
             "shape": ""
            }
           },
           "name": "F9",
           "offsetgroup": "F9",
           "orientation": "v",
           "showlegend": true,
           "textposition": "auto",
           "type": "bar",
           "x": [
            "F9"
           ],
           "xaxis": "x",
           "y": [
            1892217.7293100003
           ],
           "yaxis": "y"
          },
          {
           "alignmentgroup": "True",
           "hovertemplate": "carrier_lg=%{x}<br>Quarter Year=2027.5<br>Revenue=%{y}<extra></extra>",
           "legendgroup": "3M",
           "marker": {
            "color": "#EF553B",
            "pattern": {
             "shape": ""
            }
           },
           "name": "3M",
           "offsetgroup": "3M",
           "orientation": "v",
           "showlegend": true,
           "textposition": "auto",
           "type": "bar",
           "x": [
            "3M"
           ],
           "xaxis": "x",
           "y": [
            31023.112241999952
           ],
           "yaxis": "y"
          },
          {
           "alignmentgroup": "True",
           "hovertemplate": "carrier_lg=%{x}<br>Quarter Year=2027.5<br>Revenue=%{y}<extra></extra>",
           "legendgroup": "MX",
           "marker": {
            "color": "#00cc96",
            "pattern": {
             "shape": ""
            }
           },
           "name": "MX",
           "offsetgroup": "MX",
           "orientation": "v",
           "showlegend": true,
           "textposition": "auto",
           "type": "bar",
           "x": [
            "MX"
           ],
           "xaxis": "x",
           "y": [
            263846.491073
           ],
           "yaxis": "y"
          },
          {
           "alignmentgroup": "True",
           "hovertemplate": "carrier_lg=%{x}<br>Quarter Year=2027.5<br>Revenue=%{y}<extra></extra>",
           "legendgroup": "XP",
           "marker": {
            "color": "#ab63fa",
            "pattern": {
             "shape": ""
            }
           },
           "name": "XP",
           "offsetgroup": "XP",
           "orientation": "v",
           "showlegend": true,
           "textposition": "auto",
           "type": "bar",
           "x": [
            "XP"
           ],
           "xaxis": "x",
           "y": [
            88687.57257399999
           ],
           "yaxis": "y"
          }
         ],
         "name": "2027.5"
        },
        {
         "data": [
          {
           "alignmentgroup": "True",
           "hovertemplate": "carrier_lg=%{x}<br>Quarter Year=2027.75<br>Revenue=%{y}<extra></extra>",
           "legendgroup": "SY",
           "marker": {
            "color": "#636efa",
            "pattern": {
             "shape": ""
            }
           },
           "name": "SY",
           "offsetgroup": "SY",
           "orientation": "v",
           "showlegend": true,
           "textposition": "auto",
           "type": "bar",
           "x": [
            "SY"
           ],
           "xaxis": "x",
           "y": [
            114711.12655699997
           ],
           "yaxis": "y"
          },
          {
           "alignmentgroup": "True",
           "hovertemplate": "carrier_lg=%{x}<br>Quarter Year=2027.75<br>Revenue=%{y}<extra></extra>",
           "legendgroup": "AS",
           "marker": {
            "color": "#EF553B",
            "pattern": {
             "shape": ""
            }
           },
           "name": "AS",
           "offsetgroup": "AS",
           "orientation": "v",
           "showlegend": true,
           "textposition": "auto",
           "type": "bar",
           "x": [
            "AS"
           ],
           "xaxis": "x",
           "y": [
            10888331.414296994
           ],
           "yaxis": "y"
          },
          {
           "alignmentgroup": "True",
           "hovertemplate": "carrier_lg=%{x}<br>Quarter Year=2027.75<br>Revenue=%{y}<extra></extra>",
           "legendgroup": "B6",
           "marker": {
            "color": "#00cc96",
            "pattern": {
             "shape": ""
            }
           },
           "name": "B6",
           "offsetgroup": "B6",
           "orientation": "v",
           "showlegend": true,
           "textposition": "auto",
           "type": "bar",
           "x": [
            "B6"
           ],
           "xaxis": "x",
           "y": [
            18476429.169515003
           ],
           "yaxis": "y"
          },
          {
           "alignmentgroup": "True",
           "hovertemplate": "carrier_lg=%{x}<br>Quarter Year=2027.75<br>Revenue=%{y}<extra></extra>",
           "legendgroup": "WN",
           "marker": {
            "color": "#ab63fa",
            "pattern": {
             "shape": ""
            }
           },
           "name": "WN",
           "offsetgroup": "WN",
           "orientation": "v",
           "showlegend": true,
           "textposition": "auto",
           "type": "bar",
           "x": [
            "WN"
           ],
           "xaxis": "x",
           "y": [
            38965254.380610004
           ],
           "yaxis": "y"
          },
          {
           "alignmentgroup": "True",
           "hovertemplate": "carrier_lg=%{x}<br>Quarter Year=2027.75<br>Revenue=%{y}<extra></extra>",
           "legendgroup": "NK",
           "marker": {
            "color": "#FFA15A",
            "pattern": {
             "shape": ""
            }
           },
           "name": "NK",
           "offsetgroup": "NK",
           "orientation": "v",
           "showlegend": true,
           "textposition": "auto",
           "type": "bar",
           "x": [
            "NK"
           ],
           "xaxis": "x",
           "y": [
            1341467.7391820005
           ],
           "yaxis": "y"
          },
          {
           "alignmentgroup": "True",
           "hovertemplate": "carrier_lg=%{x}<br>Quarter Year=2027.75<br>Revenue=%{y}<extra></extra>",
           "legendgroup": "DL",
           "marker": {
            "color": "#19d3f3",
            "pattern": {
             "shape": ""
            }
           },
           "name": "DL",
           "offsetgroup": "DL",
           "orientation": "v",
           "showlegend": true,
           "textposition": "auto",
           "type": "bar",
           "x": [
            "DL"
           ],
           "xaxis": "x",
           "y": [
            26969468.677038997
           ],
           "yaxis": "y"
          },
          {
           "alignmentgroup": "True",
           "hovertemplate": "carrier_lg=%{x}<br>Quarter Year=2027.75<br>Revenue=%{y}<extra></extra>",
           "legendgroup": "AA",
           "marker": {
            "color": "#FF6692",
            "pattern": {
             "shape": ""
            }
           },
           "name": "AA",
           "offsetgroup": "AA",
           "orientation": "v",
           "showlegend": true,
           "textposition": "auto",
           "type": "bar",
           "x": [
            "AA"
           ],
           "xaxis": "x",
           "y": [
            40037504.81621999
           ],
           "yaxis": "y"
          },
          {
           "alignmentgroup": "True",
           "hovertemplate": "carrier_lg=%{x}<br>Quarter Year=2027.75<br>Revenue=%{y}<extra></extra>",
           "legendgroup": "UA",
           "marker": {
            "color": "#FF97FF",
            "pattern": {
             "shape": ""
            }
           },
           "name": "UA",
           "offsetgroup": "UA",
           "orientation": "v",
           "showlegend": true,
           "textposition": "auto",
           "type": "bar",
           "x": [
            "UA"
           ],
           "xaxis": "x",
           "y": [
            43248763.840135
           ],
           "yaxis": "y"
          },
          {
           "alignmentgroup": "True",
           "hovertemplate": "carrier_lg=%{x}<br>Quarter Year=2027.75<br>Revenue=%{y}<extra></extra>",
           "legendgroup": "G4",
           "marker": {
            "color": "#FECB52",
            "pattern": {
             "shape": ""
            }
           },
           "name": "G4",
           "offsetgroup": "G4",
           "orientation": "v",
           "showlegend": true,
           "textposition": "auto",
           "type": "bar",
           "x": [
            "G4"
           ],
           "xaxis": "x",
           "y": [
            892958.7555839999
           ],
           "yaxis": "y"
          },
          {
           "alignmentgroup": "True",
           "hovertemplate": "carrier_lg=%{x}<br>Quarter Year=2027.75<br>Revenue=%{y}<extra></extra>",
           "legendgroup": "F9",
           "marker": {
            "color": "#636efa",
            "pattern": {
             "shape": ""
            }
           },
           "name": "F9",
           "offsetgroup": "F9",
           "orientation": "v",
           "showlegend": true,
           "textposition": "auto",
           "type": "bar",
           "x": [
            "F9"
           ],
           "xaxis": "x",
           "y": [
            1881905.1537880003
           ],
           "yaxis": "y"
          },
          {
           "alignmentgroup": "True",
           "hovertemplate": "carrier_lg=%{x}<br>Quarter Year=2027.75<br>Revenue=%{y}<extra></extra>",
           "legendgroup": "3M",
           "marker": {
            "color": "#EF553B",
            "pattern": {
             "shape": ""
            }
           },
           "name": "3M",
           "offsetgroup": "3M",
           "orientation": "v",
           "showlegend": true,
           "textposition": "auto",
           "type": "bar",
           "x": [
            "3M"
           ],
           "xaxis": "x",
           "y": [
            31023.112241999952
           ],
           "yaxis": "y"
          },
          {
           "alignmentgroup": "True",
           "hovertemplate": "carrier_lg=%{x}<br>Quarter Year=2027.75<br>Revenue=%{y}<extra></extra>",
           "legendgroup": "MX",
           "marker": {
            "color": "#00cc96",
            "pattern": {
             "shape": ""
            }
           },
           "name": "MX",
           "offsetgroup": "MX",
           "orientation": "v",
           "showlegend": true,
           "textposition": "auto",
           "type": "bar",
           "x": [
            "MX"
           ],
           "xaxis": "x",
           "y": [
            227290.95043700008
           ],
           "yaxis": "y"
          },
          {
           "alignmentgroup": "True",
           "hovertemplate": "carrier_lg=%{x}<br>Quarter Year=2027.75<br>Revenue=%{y}<extra></extra>",
           "legendgroup": "XP",
           "marker": {
            "color": "#ab63fa",
            "pattern": {
             "shape": ""
            }
           },
           "name": "XP",
           "offsetgroup": "XP",
           "orientation": "v",
           "showlegend": true,
           "textposition": "auto",
           "type": "bar",
           "x": [
            "XP"
           ],
           "xaxis": "x",
           "y": [
            145859.861851
           ],
           "yaxis": "y"
          }
         ],
         "name": "2027.75"
        },
        {
         "data": [
          {
           "alignmentgroup": "True",
           "hovertemplate": "carrier_lg=%{x}<br>Quarter Year=2028.0<br>Revenue=%{y}<extra></extra>",
           "legendgroup": "SY",
           "marker": {
            "color": "#636efa",
            "pattern": {
             "shape": ""
            }
           },
           "name": "SY",
           "offsetgroup": "SY",
           "orientation": "v",
           "showlegend": true,
           "textposition": "auto",
           "type": "bar",
           "x": [
            "SY"
           ],
           "xaxis": "x",
           "y": [
            50779.47684099998
           ],
           "yaxis": "y"
          },
          {
           "alignmentgroup": "True",
           "hovertemplate": "carrier_lg=%{x}<br>Quarter Year=2028.0<br>Revenue=%{y}<extra></extra>",
           "legendgroup": "AS",
           "marker": {
            "color": "#EF553B",
            "pattern": {
             "shape": ""
            }
           },
           "name": "AS",
           "offsetgroup": "AS",
           "orientation": "v",
           "showlegend": true,
           "textposition": "auto",
           "type": "bar",
           "x": [
            "AS"
           ],
           "xaxis": "x",
           "y": [
            10231294.915793996
           ],
           "yaxis": "y"
          },
          {
           "alignmentgroup": "True",
           "hovertemplate": "carrier_lg=%{x}<br>Quarter Year=2028.0<br>Revenue=%{y}<extra></extra>",
           "legendgroup": "B6",
           "marker": {
            "color": "#00cc96",
            "pattern": {
             "shape": ""
            }
           },
           "name": "B6",
           "offsetgroup": "B6",
           "orientation": "v",
           "showlegend": true,
           "textposition": "auto",
           "type": "bar",
           "x": [
            "B6"
           ],
           "xaxis": "x",
           "y": [
            14266767.506135998
           ],
           "yaxis": "y"
          },
          {
           "alignmentgroup": "True",
           "hovertemplate": "carrier_lg=%{x}<br>Quarter Year=2028.0<br>Revenue=%{y}<extra></extra>",
           "legendgroup": "WN",
           "marker": {
            "color": "#ab63fa",
            "pattern": {
             "shape": ""
            }
           },
           "name": "WN",
           "offsetgroup": "WN",
           "orientation": "v",
           "showlegend": true,
           "textposition": "auto",
           "type": "bar",
           "x": [
            "WN"
           ],
           "xaxis": "x",
           "y": [
            37807705.008727
           ],
           "yaxis": "y"
          },
          {
           "alignmentgroup": "True",
           "hovertemplate": "carrier_lg=%{x}<br>Quarter Year=2028.0<br>Revenue=%{y}<extra></extra>",
           "legendgroup": "NK",
           "marker": {
            "color": "#FFA15A",
            "pattern": {
             "shape": ""
            }
           },
           "name": "NK",
           "offsetgroup": "NK",
           "orientation": "v",
           "showlegend": true,
           "textposition": "auto",
           "type": "bar",
           "x": [
            "NK"
           ],
           "xaxis": "x",
           "y": [
            1521715.5552100004
           ],
           "yaxis": "y"
          },
          {
           "alignmentgroup": "True",
           "hovertemplate": "carrier_lg=%{x}<br>Quarter Year=2028.0<br>Revenue=%{y}<extra></extra>",
           "legendgroup": "DL",
           "marker": {
            "color": "#19d3f3",
            "pattern": {
             "shape": ""
            }
           },
           "name": "DL",
           "offsetgroup": "DL",
           "orientation": "v",
           "showlegend": true,
           "textposition": "auto",
           "type": "bar",
           "x": [
            "DL"
           ],
           "xaxis": "x",
           "y": [
            32720710.358335
           ],
           "yaxis": "y"
          },
          {
           "alignmentgroup": "True",
           "hovertemplate": "carrier_lg=%{x}<br>Quarter Year=2028.0<br>Revenue=%{y}<extra></extra>",
           "legendgroup": "AA",
           "marker": {
            "color": "#FF6692",
            "pattern": {
             "shape": ""
            }
           },
           "name": "AA",
           "offsetgroup": "AA",
           "orientation": "v",
           "showlegend": true,
           "textposition": "auto",
           "type": "bar",
           "x": [
            "AA"
           ],
           "xaxis": "x",
           "y": [
            40298138.448372
           ],
           "yaxis": "y"
          },
          {
           "alignmentgroup": "True",
           "hovertemplate": "carrier_lg=%{x}<br>Quarter Year=2028.0<br>Revenue=%{y}<extra></extra>",
           "legendgroup": "UA",
           "marker": {
            "color": "#FF97FF",
            "pattern": {
             "shape": ""
            }
           },
           "name": "UA",
           "offsetgroup": "UA",
           "orientation": "v",
           "showlegend": true,
           "textposition": "auto",
           "type": "bar",
           "x": [
            "UA"
           ],
           "xaxis": "x",
           "y": [
            43046576.011942
           ],
           "yaxis": "y"
          },
          {
           "alignmentgroup": "True",
           "hovertemplate": "carrier_lg=%{x}<br>Quarter Year=2028.0<br>Revenue=%{y}<extra></extra>",
           "legendgroup": "G4",
           "marker": {
            "color": "#FECB52",
            "pattern": {
             "shape": ""
            }
           },
           "name": "G4",
           "offsetgroup": "G4",
           "orientation": "v",
           "showlegend": true,
           "textposition": "auto",
           "type": "bar",
           "x": [
            "G4"
           ],
           "xaxis": "x",
           "y": [
            987573.7012319997
           ],
           "yaxis": "y"
          },
          {
           "alignmentgroup": "True",
           "hovertemplate": "carrier_lg=%{x}<br>Quarter Year=2028.0<br>Revenue=%{y}<extra></extra>",
           "legendgroup": "F9",
           "marker": {
            "color": "#636efa",
            "pattern": {
             "shape": ""
            }
           },
           "name": "F9",
           "offsetgroup": "F9",
           "orientation": "v",
           "showlegend": true,
           "textposition": "auto",
           "type": "bar",
           "x": [
            "F9"
           ],
           "xaxis": "x",
           "y": [
            2463873.091835
           ],
           "yaxis": "y"
          },
          {
           "alignmentgroup": "True",
           "hovertemplate": "carrier_lg=%{x}<br>Quarter Year=2028.0<br>Revenue=%{y}<extra></extra>",
           "legendgroup": "3M",
           "marker": {
            "color": "#EF553B",
            "pattern": {
             "shape": ""
            }
           },
           "name": "3M",
           "offsetgroup": "3M",
           "orientation": "v",
           "showlegend": true,
           "textposition": "auto",
           "type": "bar",
           "x": [
            "3M"
           ],
           "xaxis": "x",
           "y": [
            31023.112241999952
           ],
           "yaxis": "y"
          },
          {
           "alignmentgroup": "True",
           "hovertemplate": "carrier_lg=%{x}<br>Quarter Year=2028.0<br>Revenue=%{y}<extra></extra>",
           "legendgroup": "MX",
           "marker": {
            "color": "#00cc96",
            "pattern": {
             "shape": ""
            }
           },
           "name": "MX",
           "offsetgroup": "MX",
           "orientation": "v",
           "showlegend": true,
           "textposition": "auto",
           "type": "bar",
           "x": [
            "MX"
           ],
           "xaxis": "x",
           "y": [
            214422.29065500008
           ],
           "yaxis": "y"
          },
          {
           "alignmentgroup": "True",
           "hovertemplate": "carrier_lg=%{x}<br>Quarter Year=2028.0<br>Revenue=%{y}<extra></extra>",
           "legendgroup": "XP",
           "marker": {
            "color": "#ab63fa",
            "pattern": {
             "shape": ""
            }
           },
           "name": "XP",
           "offsetgroup": "XP",
           "orientation": "v",
           "showlegend": true,
           "textposition": "auto",
           "type": "bar",
           "x": [
            "XP"
           ],
           "xaxis": "x",
           "y": [
            145859.861851
           ],
           "yaxis": "y"
          }
         ],
         "name": "2028.0"
        },
        {
         "data": [
          {
           "alignmentgroup": "True",
           "hovertemplate": "carrier_lg=%{x}<br>Quarter Year=2028.25<br>Revenue=%{y}<extra></extra>",
           "legendgroup": "SY",
           "marker": {
            "color": "#636efa",
            "pattern": {
             "shape": ""
            }
           },
           "name": "SY",
           "offsetgroup": "SY",
           "orientation": "v",
           "showlegend": true,
           "textposition": "auto",
           "type": "bar",
           "x": [
            "SY"
           ],
           "xaxis": "x",
           "y": [
            38655.38379999996
           ],
           "yaxis": "y"
          },
          {
           "alignmentgroup": "True",
           "hovertemplate": "carrier_lg=%{x}<br>Quarter Year=2028.25<br>Revenue=%{y}<extra></extra>",
           "legendgroup": "AS",
           "marker": {
            "color": "#EF553B",
            "pattern": {
             "shape": ""
            }
           },
           "name": "AS",
           "offsetgroup": "AS",
           "orientation": "v",
           "showlegend": true,
           "textposition": "auto",
           "type": "bar",
           "x": [
            "AS"
           ],
           "xaxis": "x",
           "y": [
            8788332.916104995
           ],
           "yaxis": "y"
          },
          {
           "alignmentgroup": "True",
           "hovertemplate": "carrier_lg=%{x}<br>Quarter Year=2028.25<br>Revenue=%{y}<extra></extra>",
           "legendgroup": "B6",
           "marker": {
            "color": "#00cc96",
            "pattern": {
             "shape": ""
            }
           },
           "name": "B6",
           "offsetgroup": "B6",
           "orientation": "v",
           "showlegend": true,
           "textposition": "auto",
           "type": "bar",
           "x": [
            "B6"
           ],
           "xaxis": "x",
           "y": [
            15140698.636474
           ],
           "yaxis": "y"
          },
          {
           "alignmentgroup": "True",
           "hovertemplate": "carrier_lg=%{x}<br>Quarter Year=2028.25<br>Revenue=%{y}<extra></extra>",
           "legendgroup": "WN",
           "marker": {
            "color": "#ab63fa",
            "pattern": {
             "shape": ""
            }
           },
           "name": "WN",
           "offsetgroup": "WN",
           "orientation": "v",
           "showlegend": true,
           "textposition": "auto",
           "type": "bar",
           "x": [
            "WN"
           ],
           "xaxis": "x",
           "y": [
            38440715.245956
           ],
           "yaxis": "y"
          },
          {
           "alignmentgroup": "True",
           "hovertemplate": "carrier_lg=%{x}<br>Quarter Year=2028.25<br>Revenue=%{y}<extra></extra>",
           "legendgroup": "NK",
           "marker": {
            "color": "#FFA15A",
            "pattern": {
             "shape": ""
            }
           },
           "name": "NK",
           "offsetgroup": "NK",
           "orientation": "v",
           "showlegend": true,
           "textposition": "auto",
           "type": "bar",
           "x": [
            "NK"
           ],
           "xaxis": "x",
           "y": [
            2165937.5730620003
           ],
           "yaxis": "y"
          },
          {
           "alignmentgroup": "True",
           "hovertemplate": "carrier_lg=%{x}<br>Quarter Year=2028.25<br>Revenue=%{y}<extra></extra>",
           "legendgroup": "DL",
           "marker": {
            "color": "#19d3f3",
            "pattern": {
             "shape": ""
            }
           },
           "name": "DL",
           "offsetgroup": "DL",
           "orientation": "v",
           "showlegend": true,
           "textposition": "auto",
           "type": "bar",
           "x": [
            "DL"
           ],
           "xaxis": "x",
           "y": [
            33213330.341872998
           ],
           "yaxis": "y"
          },
          {
           "alignmentgroup": "True",
           "hovertemplate": "carrier_lg=%{x}<br>Quarter Year=2028.25<br>Revenue=%{y}<extra></extra>",
           "legendgroup": "AA",
           "marker": {
            "color": "#FF6692",
            "pattern": {
             "shape": ""
            }
           },
           "name": "AA",
           "offsetgroup": "AA",
           "orientation": "v",
           "showlegend": true,
           "textposition": "auto",
           "type": "bar",
           "x": [
            "AA"
           ],
           "xaxis": "x",
           "y": [
            38674596.545256
           ],
           "yaxis": "y"
          },
          {
           "alignmentgroup": "True",
           "hovertemplate": "carrier_lg=%{x}<br>Quarter Year=2028.25<br>Revenue=%{y}<extra></extra>",
           "legendgroup": "UA",
           "marker": {
            "color": "#FF97FF",
            "pattern": {
             "shape": ""
            }
           },
           "name": "UA",
           "offsetgroup": "UA",
           "orientation": "v",
           "showlegend": true,
           "textposition": "auto",
           "type": "bar",
           "x": [
            "UA"
           ],
           "xaxis": "x",
           "y": [
            43143977.425364
           ],
           "yaxis": "y"
          },
          {
           "alignmentgroup": "True",
           "hovertemplate": "carrier_lg=%{x}<br>Quarter Year=2028.25<br>Revenue=%{y}<extra></extra>",
           "legendgroup": "G4",
           "marker": {
            "color": "#FECB52",
            "pattern": {
             "shape": ""
            }
           },
           "name": "G4",
           "offsetgroup": "G4",
           "orientation": "v",
           "showlegend": true,
           "textposition": "auto",
           "type": "bar",
           "x": [
            "G4"
           ],
           "xaxis": "x",
           "y": [
            972757.943089
           ],
           "yaxis": "y"
          },
          {
           "alignmentgroup": "True",
           "hovertemplate": "carrier_lg=%{x}<br>Quarter Year=2028.25<br>Revenue=%{y}<extra></extra>",
           "legendgroup": "F9",
           "marker": {
            "color": "#636efa",
            "pattern": {
             "shape": ""
            }
           },
           "name": "F9",
           "offsetgroup": "F9",
           "orientation": "v",
           "showlegend": true,
           "textposition": "auto",
           "type": "bar",
           "x": [
            "F9"
           ],
           "xaxis": "x",
           "y": [
            1665600.207023
           ],
           "yaxis": "y"
          },
          {
           "alignmentgroup": "True",
           "hovertemplate": "carrier_lg=%{x}<br>Quarter Year=2028.25<br>Revenue=%{y}<extra></extra>",
           "legendgroup": "MX",
           "marker": {
            "color": "#00cc96",
            "pattern": {
             "shape": ""
            }
           },
           "name": "MX",
           "offsetgroup": "MX",
           "orientation": "v",
           "showlegend": true,
           "textposition": "auto",
           "type": "bar",
           "x": [
            "MX"
           ],
           "xaxis": "x",
           "y": [
            791925.2137669998
           ],
           "yaxis": "y"
          },
          {
           "alignmentgroup": "True",
           "hovertemplate": "carrier_lg=%{x}<br>Quarter Year=2028.25<br>Revenue=%{y}<extra></extra>",
           "legendgroup": "XP",
           "marker": {
            "color": "#ab63fa",
            "pattern": {
             "shape": ""
            }
           },
           "name": "XP",
           "offsetgroup": "XP",
           "orientation": "v",
           "showlegend": true,
           "textposition": "auto",
           "type": "bar",
           "x": [
            "XP"
           ],
           "xaxis": "x",
           "y": [
            180986.91773500005
           ],
           "yaxis": "y"
          }
         ],
         "name": "2028.25"
        },
        {
         "data": [
          {
           "alignmentgroup": "True",
           "hovertemplate": "carrier_lg=%{x}<br>Quarter Year=2028.5<br>Revenue=%{y}<extra></extra>",
           "legendgroup": "SY",
           "marker": {
            "color": "#636efa",
            "pattern": {
             "shape": ""
            }
           },
           "name": "SY",
           "offsetgroup": "SY",
           "orientation": "v",
           "showlegend": true,
           "textposition": "auto",
           "type": "bar",
           "x": [
            "SY"
           ],
           "xaxis": "x",
           "y": [
            13648.573245999984
           ],
           "yaxis": "y"
          },
          {
           "alignmentgroup": "True",
           "hovertemplate": "carrier_lg=%{x}<br>Quarter Year=2028.5<br>Revenue=%{y}<extra></extra>",
           "legendgroup": "AS",
           "marker": {
            "color": "#EF553B",
            "pattern": {
             "shape": ""
            }
           },
           "name": "AS",
           "offsetgroup": "AS",
           "orientation": "v",
           "showlegend": true,
           "textposition": "auto",
           "type": "bar",
           "x": [
            "AS"
           ],
           "xaxis": "x",
           "y": [
            8400044.081265995
           ],
           "yaxis": "y"
          },
          {
           "alignmentgroup": "True",
           "hovertemplate": "carrier_lg=%{x}<br>Quarter Year=2028.5<br>Revenue=%{y}<extra></extra>",
           "legendgroup": "B6",
           "marker": {
            "color": "#00cc96",
            "pattern": {
             "shape": ""
            }
           },
           "name": "B6",
           "offsetgroup": "B6",
           "orientation": "v",
           "showlegend": true,
           "textposition": "auto",
           "type": "bar",
           "x": [
            "B6"
           ],
           "xaxis": "x",
           "y": [
            13679217.921048999
           ],
           "yaxis": "y"
          },
          {
           "alignmentgroup": "True",
           "hovertemplate": "carrier_lg=%{x}<br>Quarter Year=2028.5<br>Revenue=%{y}<extra></extra>",
           "legendgroup": "WN",
           "marker": {
            "color": "#ab63fa",
            "pattern": {
             "shape": ""
            }
           },
           "name": "WN",
           "offsetgroup": "WN",
           "orientation": "v",
           "showlegend": true,
           "textposition": "auto",
           "type": "bar",
           "x": [
            "WN"
           ],
           "xaxis": "x",
           "y": [
            39769077.113136
           ],
           "yaxis": "y"
          },
          {
           "alignmentgroup": "True",
           "hovertemplate": "carrier_lg=%{x}<br>Quarter Year=2028.5<br>Revenue=%{y}<extra></extra>",
           "legendgroup": "NK",
           "marker": {
            "color": "#FFA15A",
            "pattern": {
             "shape": ""
            }
           },
           "name": "NK",
           "offsetgroup": "NK",
           "orientation": "v",
           "showlegend": true,
           "textposition": "auto",
           "type": "bar",
           "x": [
            "NK"
           ],
           "xaxis": "x",
           "y": [
            2279927.051196
           ],
           "yaxis": "y"
          },
          {
           "alignmentgroup": "True",
           "hovertemplate": "carrier_lg=%{x}<br>Quarter Year=2028.5<br>Revenue=%{y}<extra></extra>",
           "legendgroup": "DL",
           "marker": {
            "color": "#19d3f3",
            "pattern": {
             "shape": ""
            }
           },
           "name": "DL",
           "offsetgroup": "DL",
           "orientation": "v",
           "showlegend": true,
           "textposition": "auto",
           "type": "bar",
           "x": [
            "DL"
           ],
           "xaxis": "x",
           "y": [
            32838824.857913
           ],
           "yaxis": "y"
          },
          {
           "alignmentgroup": "True",
           "hovertemplate": "carrier_lg=%{x}<br>Quarter Year=2028.5<br>Revenue=%{y}<extra></extra>",
           "legendgroup": "AA",
           "marker": {
            "color": "#FF6692",
            "pattern": {
             "shape": ""
            }
           },
           "name": "AA",
           "offsetgroup": "AA",
           "orientation": "v",
           "showlegend": true,
           "textposition": "auto",
           "type": "bar",
           "x": [
            "AA"
           ],
           "xaxis": "x",
           "y": [
            37668980.545825996
           ],
           "yaxis": "y"
          },
          {
           "alignmentgroup": "True",
           "hovertemplate": "carrier_lg=%{x}<br>Quarter Year=2028.5<br>Revenue=%{y}<extra></extra>",
           "legendgroup": "UA",
           "marker": {
            "color": "#FF97FF",
            "pattern": {
             "shape": ""
            }
           },
           "name": "UA",
           "offsetgroup": "UA",
           "orientation": "v",
           "showlegend": true,
           "textposition": "auto",
           "type": "bar",
           "x": [
            "UA"
           ],
           "xaxis": "x",
           "y": [
            45193303.860284
           ],
           "yaxis": "y"
          },
          {
           "alignmentgroup": "True",
           "hovertemplate": "carrier_lg=%{x}<br>Quarter Year=2028.5<br>Revenue=%{y}<extra></extra>",
           "legendgroup": "G4",
           "marker": {
            "color": "#FECB52",
            "pattern": {
             "shape": ""
            }
           },
           "name": "G4",
           "offsetgroup": "G4",
           "orientation": "v",
           "showlegend": true,
           "textposition": "auto",
           "type": "bar",
           "x": [
            "G4"
           ],
           "xaxis": "x",
           "y": [
            988519.0014320001
           ],
           "yaxis": "y"
          },
          {
           "alignmentgroup": "True",
           "hovertemplate": "carrier_lg=%{x}<br>Quarter Year=2028.5<br>Revenue=%{y}<extra></extra>",
           "legendgroup": "F9",
           "marker": {
            "color": "#636efa",
            "pattern": {
             "shape": ""
            }
           },
           "name": "F9",
           "offsetgroup": "F9",
           "orientation": "v",
           "showlegend": true,
           "textposition": "auto",
           "type": "bar",
           "x": [
            "F9"
           ],
           "xaxis": "x",
           "y": [
            1457246.105827
           ],
           "yaxis": "y"
          },
          {
           "alignmentgroup": "True",
           "hovertemplate": "carrier_lg=%{x}<br>Quarter Year=2028.5<br>Revenue=%{y}<extra></extra>",
           "legendgroup": "3M",
           "marker": {
            "color": "#EF553B",
            "pattern": {
             "shape": ""
            }
           },
           "name": "3M",
           "offsetgroup": "3M",
           "orientation": "v",
           "showlegend": true,
           "textposition": "auto",
           "type": "bar",
           "x": [
            "3M"
           ],
           "xaxis": "x",
           "y": [
            31023.112241999952
           ],
           "yaxis": "y"
          },
          {
           "alignmentgroup": "True",
           "hovertemplate": "carrier_lg=%{x}<br>Quarter Year=2028.5<br>Revenue=%{y}<extra></extra>",
           "legendgroup": "MX",
           "marker": {
            "color": "#00cc96",
            "pattern": {
             "shape": ""
            }
           },
           "name": "MX",
           "offsetgroup": "MX",
           "orientation": "v",
           "showlegend": true,
           "textposition": "auto",
           "type": "bar",
           "x": [
            "MX"
           ],
           "xaxis": "x",
           "y": [
            900373.8965979997
           ],
           "yaxis": "y"
          },
          {
           "alignmentgroup": "True",
           "hovertemplate": "carrier_lg=%{x}<br>Quarter Year=2028.5<br>Revenue=%{y}<extra></extra>",
           "legendgroup": "XP",
           "marker": {
            "color": "#ab63fa",
            "pattern": {
             "shape": ""
            }
           },
           "name": "XP",
           "offsetgroup": "XP",
           "orientation": "v",
           "showlegend": true,
           "textposition": "auto",
           "type": "bar",
           "x": [
            "XP"
           ],
           "xaxis": "x",
           "y": [
            142475.2639030001
           ],
           "yaxis": "y"
          }
         ],
         "name": "2028.5"
        },
        {
         "data": [
          {
           "alignmentgroup": "True",
           "hovertemplate": "carrier_lg=%{x}<br>Quarter Year=2028.75<br>Revenue=%{y}<extra></extra>",
           "legendgroup": "SY",
           "marker": {
            "color": "#636efa",
            "pattern": {
             "shape": ""
            }
           },
           "name": "SY",
           "offsetgroup": "SY",
           "orientation": "v",
           "showlegend": true,
           "textposition": "auto",
           "type": "bar",
           "x": [
            "SY"
           ],
           "xaxis": "x",
           "y": [
            78931.87601299996
           ],
           "yaxis": "y"
          },
          {
           "alignmentgroup": "True",
           "hovertemplate": "carrier_lg=%{x}<br>Quarter Year=2028.75<br>Revenue=%{y}<extra></extra>",
           "legendgroup": "AS",
           "marker": {
            "color": "#EF553B",
            "pattern": {
             "shape": ""
            }
           },
           "name": "AS",
           "offsetgroup": "AS",
           "orientation": "v",
           "showlegend": true,
           "textposition": "auto",
           "type": "bar",
           "x": [
            "AS"
           ],
           "xaxis": "x",
           "y": [
            8994036.491589995
           ],
           "yaxis": "y"
          },
          {
           "alignmentgroup": "True",
           "hovertemplate": "carrier_lg=%{x}<br>Quarter Year=2028.75<br>Revenue=%{y}<extra></extra>",
           "legendgroup": "B6",
           "marker": {
            "color": "#00cc96",
            "pattern": {
             "shape": ""
            }
           },
           "name": "B6",
           "offsetgroup": "B6",
           "orientation": "v",
           "showlegend": true,
           "textposition": "auto",
           "type": "bar",
           "x": [
            "B6"
           ],
           "xaxis": "x",
           "y": [
            18769578.032721
           ],
           "yaxis": "y"
          },
          {
           "alignmentgroup": "True",
           "hovertemplate": "carrier_lg=%{x}<br>Quarter Year=2028.75<br>Revenue=%{y}<extra></extra>",
           "legendgroup": "WN",
           "marker": {
            "color": "#ab63fa",
            "pattern": {
             "shape": ""
            }
           },
           "name": "WN",
           "offsetgroup": "WN",
           "orientation": "v",
           "showlegend": true,
           "textposition": "auto",
           "type": "bar",
           "x": [
            "WN"
           ],
           "xaxis": "x",
           "y": [
            41165935.382501
           ],
           "yaxis": "y"
          },
          {
           "alignmentgroup": "True",
           "hovertemplate": "carrier_lg=%{x}<br>Quarter Year=2028.75<br>Revenue=%{y}<extra></extra>",
           "legendgroup": "NK",
           "marker": {
            "color": "#FFA15A",
            "pattern": {
             "shape": ""
            }
           },
           "name": "NK",
           "offsetgroup": "NK",
           "orientation": "v",
           "showlegend": true,
           "textposition": "auto",
           "type": "bar",
           "x": [
            "NK"
           ],
           "xaxis": "x",
           "y": [
            1565087.421426
           ],
           "yaxis": "y"
          },
          {
           "alignmentgroup": "True",
           "hovertemplate": "carrier_lg=%{x}<br>Quarter Year=2028.75<br>Revenue=%{y}<extra></extra>",
           "legendgroup": "DL",
           "marker": {
            "color": "#19d3f3",
            "pattern": {
             "shape": ""
            }
           },
           "name": "DL",
           "offsetgroup": "DL",
           "orientation": "v",
           "showlegend": true,
           "textposition": "auto",
           "type": "bar",
           "x": [
            "DL"
           ],
           "xaxis": "x",
           "y": [
            25870469.675537996
           ],
           "yaxis": "y"
          },
          {
           "alignmentgroup": "True",
           "hovertemplate": "carrier_lg=%{x}<br>Quarter Year=2028.75<br>Revenue=%{y}<extra></extra>",
           "legendgroup": "AA",
           "marker": {
            "color": "#FF6692",
            "pattern": {
             "shape": ""
            }
           },
           "name": "AA",
           "offsetgroup": "AA",
           "orientation": "v",
           "showlegend": true,
           "textposition": "auto",
           "type": "bar",
           "x": [
            "AA"
           ],
           "xaxis": "x",
           "y": [
            38764074.554657
           ],
           "yaxis": "y"
          },
          {
           "alignmentgroup": "True",
           "hovertemplate": "carrier_lg=%{x}<br>Quarter Year=2028.75<br>Revenue=%{y}<extra></extra>",
           "legendgroup": "UA",
           "marker": {
            "color": "#FF97FF",
            "pattern": {
             "shape": ""
            }
           },
           "name": "UA",
           "offsetgroup": "UA",
           "orientation": "v",
           "showlegend": true,
           "textposition": "auto",
           "type": "bar",
           "x": [
            "UA"
           ],
           "xaxis": "x",
           "y": [
            45331828.965654
           ],
           "yaxis": "y"
          },
          {
           "alignmentgroup": "True",
           "hovertemplate": "carrier_lg=%{x}<br>Quarter Year=2028.75<br>Revenue=%{y}<extra></extra>",
           "legendgroup": "G4",
           "marker": {
            "color": "#FECB52",
            "pattern": {
             "shape": ""
            }
           },
           "name": "G4",
           "offsetgroup": "G4",
           "orientation": "v",
           "showlegend": true,
           "textposition": "auto",
           "type": "bar",
           "x": [
            "G4"
           ],
           "xaxis": "x",
           "y": [
            837118.6280339999
           ],
           "yaxis": "y"
          },
          {
           "alignmentgroup": "True",
           "hovertemplate": "carrier_lg=%{x}<br>Quarter Year=2028.75<br>Revenue=%{y}<extra></extra>",
           "legendgroup": "F9",
           "marker": {
            "color": "#636efa",
            "pattern": {
             "shape": ""
            }
           },
           "name": "F9",
           "offsetgroup": "F9",
           "orientation": "v",
           "showlegend": true,
           "textposition": "auto",
           "type": "bar",
           "x": [
            "F9"
           ],
           "xaxis": "x",
           "y": [
            1315955.0125739998
           ],
           "yaxis": "y"
          },
          {
           "alignmentgroup": "True",
           "hovertemplate": "carrier_lg=%{x}<br>Quarter Year=2028.75<br>Revenue=%{y}<extra></extra>",
           "legendgroup": "3M",
           "marker": {
            "color": "#EF553B",
            "pattern": {
             "shape": ""
            }
           },
           "name": "3M",
           "offsetgroup": "3M",
           "orientation": "v",
           "showlegend": true,
           "textposition": "auto",
           "type": "bar",
           "x": [
            "3M"
           ],
           "xaxis": "x",
           "y": [
            31023.112241999952
           ],
           "yaxis": "y"
          },
          {
           "alignmentgroup": "True",
           "hovertemplate": "carrier_lg=%{x}<br>Quarter Year=2028.75<br>Revenue=%{y}<extra></extra>",
           "legendgroup": "MX",
           "marker": {
            "color": "#00cc96",
            "pattern": {
             "shape": ""
            }
           },
           "name": "MX",
           "offsetgroup": "MX",
           "orientation": "v",
           "showlegend": true,
           "textposition": "auto",
           "type": "bar",
           "x": [
            "MX"
           ],
           "xaxis": "x",
           "y": [
            633211.340634
           ],
           "yaxis": "y"
          },
          {
           "alignmentgroup": "True",
           "hovertemplate": "carrier_lg=%{x}<br>Quarter Year=2028.75<br>Revenue=%{y}<extra></extra>",
           "legendgroup": "XP",
           "marker": {
            "color": "#ab63fa",
            "pattern": {
             "shape": ""
            }
           },
           "name": "XP",
           "offsetgroup": "XP",
           "orientation": "v",
           "showlegend": true,
           "textposition": "auto",
           "type": "bar",
           "x": [
            "XP"
           ],
           "xaxis": "x",
           "y": [
            184540.5905900001
           ],
           "yaxis": "y"
          }
         ],
         "name": "2028.75"
        },
        {
         "data": [
          {
           "alignmentgroup": "True",
           "hovertemplate": "carrier_lg=%{x}<br>Quarter Year=2029.0<br>Revenue=%{y}<extra></extra>",
           "legendgroup": "SY",
           "marker": {
            "color": "#636efa",
            "pattern": {
             "shape": ""
            }
           },
           "name": "SY",
           "offsetgroup": "SY",
           "orientation": "v",
           "showlegend": true,
           "textposition": "auto",
           "type": "bar",
           "x": [
            "SY"
           ],
           "xaxis": "x",
           "y": [
            58640.975340999976
           ],
           "yaxis": "y"
          },
          {
           "alignmentgroup": "True",
           "hovertemplate": "carrier_lg=%{x}<br>Quarter Year=2029.0<br>Revenue=%{y}<extra></extra>",
           "legendgroup": "AS",
           "marker": {
            "color": "#EF553B",
            "pattern": {
             "shape": ""
            }
           },
           "name": "AS",
           "offsetgroup": "AS",
           "orientation": "v",
           "showlegend": true,
           "textposition": "auto",
           "type": "bar",
           "x": [
            "AS"
           ],
           "xaxis": "x",
           "y": [
            7621172.102644996
           ],
           "yaxis": "y"
          },
          {
           "alignmentgroup": "True",
           "hovertemplate": "carrier_lg=%{x}<br>Quarter Year=2029.0<br>Revenue=%{y}<extra></extra>",
           "legendgroup": "B6",
           "marker": {
            "color": "#00cc96",
            "pattern": {
             "shape": ""
            }
           },
           "name": "B6",
           "offsetgroup": "B6",
           "orientation": "v",
           "showlegend": true,
           "textposition": "auto",
           "type": "bar",
           "x": [
            "B6"
           ],
           "xaxis": "x",
           "y": [
            13132398.981905999
           ],
           "yaxis": "y"
          },
          {
           "alignmentgroup": "True",
           "hovertemplate": "carrier_lg=%{x}<br>Quarter Year=2029.0<br>Revenue=%{y}<extra></extra>",
           "legendgroup": "WN",
           "marker": {
            "color": "#ab63fa",
            "pattern": {
             "shape": ""
            }
           },
           "name": "WN",
           "offsetgroup": "WN",
           "orientation": "v",
           "showlegend": true,
           "textposition": "auto",
           "type": "bar",
           "x": [
            "WN"
           ],
           "xaxis": "x",
           "y": [
            39482820.000136
           ],
           "yaxis": "y"
          },
          {
           "alignmentgroup": "True",
           "hovertemplate": "carrier_lg=%{x}<br>Quarter Year=2029.0<br>Revenue=%{y}<extra></extra>",
           "legendgroup": "NK",
           "marker": {
            "color": "#FFA15A",
            "pattern": {
             "shape": ""
            }
           },
           "name": "NK",
           "offsetgroup": "NK",
           "orientation": "v",
           "showlegend": true,
           "textposition": "auto",
           "type": "bar",
           "x": [
            "NK"
           ],
           "xaxis": "x",
           "y": [
            1585270.2704450008
           ],
           "yaxis": "y"
          },
          {
           "alignmentgroup": "True",
           "hovertemplate": "carrier_lg=%{x}<br>Quarter Year=2029.0<br>Revenue=%{y}<extra></extra>",
           "legendgroup": "DL",
           "marker": {
            "color": "#19d3f3",
            "pattern": {
             "shape": ""
            }
           },
           "name": "DL",
           "offsetgroup": "DL",
           "orientation": "v",
           "showlegend": true,
           "textposition": "auto",
           "type": "bar",
           "x": [
            "DL"
           ],
           "xaxis": "x",
           "y": [
            33785282.157774
           ],
           "yaxis": "y"
          },
          {
           "alignmentgroup": "True",
           "hovertemplate": "carrier_lg=%{x}<br>Quarter Year=2029.0<br>Revenue=%{y}<extra></extra>",
           "legendgroup": "AA",
           "marker": {
            "color": "#FF6692",
            "pattern": {
             "shape": ""
            }
           },
           "name": "AA",
           "offsetgroup": "AA",
           "orientation": "v",
           "showlegend": true,
           "textposition": "auto",
           "type": "bar",
           "x": [
            "AA"
           ],
           "xaxis": "x",
           "y": [
            37757496.447280996
           ],
           "yaxis": "y"
          },
          {
           "alignmentgroup": "True",
           "hovertemplate": "carrier_lg=%{x}<br>Quarter Year=2029.0<br>Revenue=%{y}<extra></extra>",
           "legendgroup": "UA",
           "marker": {
            "color": "#FF97FF",
            "pattern": {
             "shape": ""
            }
           },
           "name": "UA",
           "offsetgroup": "UA",
           "orientation": "v",
           "showlegend": true,
           "textposition": "auto",
           "type": "bar",
           "x": [
            "UA"
           ],
           "xaxis": "x",
           "y": [
            46887074.147893004
           ],
           "yaxis": "y"
          },
          {
           "alignmentgroup": "True",
           "hovertemplate": "carrier_lg=%{x}<br>Quarter Year=2029.0<br>Revenue=%{y}<extra></extra>",
           "legendgroup": "G4",
           "marker": {
            "color": "#FECB52",
            "pattern": {
             "shape": ""
            }
           },
           "name": "G4",
           "offsetgroup": "G4",
           "orientation": "v",
           "showlegend": true,
           "textposition": "auto",
           "type": "bar",
           "x": [
            "G4"
           ],
           "xaxis": "x",
           "y": [
            913362.1847669998
           ],
           "yaxis": "y"
          },
          {
           "alignmentgroup": "True",
           "hovertemplate": "carrier_lg=%{x}<br>Quarter Year=2029.0<br>Revenue=%{y}<extra></extra>",
           "legendgroup": "F9",
           "marker": {
            "color": "#636efa",
            "pattern": {
             "shape": ""
            }
           },
           "name": "F9",
           "offsetgroup": "F9",
           "orientation": "v",
           "showlegend": true,
           "textposition": "auto",
           "type": "bar",
           "x": [
            "F9"
           ],
           "xaxis": "x",
           "y": [
            1395841.0937029999
           ],
           "yaxis": "y"
          },
          {
           "alignmentgroup": "True",
           "hovertemplate": "carrier_lg=%{x}<br>Quarter Year=2029.0<br>Revenue=%{y}<extra></extra>",
           "legendgroup": "MX",
           "marker": {
            "color": "#00cc96",
            "pattern": {
             "shape": ""
            }
           },
           "name": "MX",
           "offsetgroup": "MX",
           "orientation": "v",
           "showlegend": true,
           "textposition": "auto",
           "type": "bar",
           "x": [
            "MX"
           ],
           "xaxis": "x",
           "y": [
            682867.428712
           ],
           "yaxis": "y"
          },
          {
           "alignmentgroup": "True",
           "hovertemplate": "carrier_lg=%{x}<br>Quarter Year=2029.0<br>Revenue=%{y}<extra></extra>",
           "legendgroup": "XP",
           "marker": {
            "color": "#ab63fa",
            "pattern": {
             "shape": ""
            }
           },
           "name": "XP",
           "offsetgroup": "XP",
           "orientation": "v",
           "showlegend": true,
           "textposition": "auto",
           "type": "bar",
           "x": [
            "XP"
           ],
           "xaxis": "x",
           "y": [
            197684.26719100005
           ],
           "yaxis": "y"
          }
         ],
         "name": "2029.0"
        }
       ],
       "layout": {
        "barmode": "relative",
        "legend": {
         "title": {
          "text": "carrier_lg"
         },
         "tracegroupgap": 0
        },
        "sliders": [
         {
          "active": 0,
          "currentvalue": {
           "prefix": "Quarter Year="
          },
          "len": 0.9,
          "pad": {
           "b": 10,
           "t": 60
          },
          "steps": [
           {
            "args": [
             [
              "2024.25"
             ],
             {
              "frame": {
               "duration": 0,
               "redraw": true
              },
              "fromcurrent": true,
              "mode": "immediate",
              "transition": {
               "duration": 0,
               "easing": "linear"
              }
             }
            ],
            "label": "2024.25",
            "method": "animate"
           },
           {
            "args": [
             [
              "2024.5"
             ],
             {
              "frame": {
               "duration": 0,
               "redraw": true
              },
              "fromcurrent": true,
              "mode": "immediate",
              "transition": {
               "duration": 0,
               "easing": "linear"
              }
             }
            ],
            "label": "2024.5",
            "method": "animate"
           },
           {
            "args": [
             [
              "2024.75"
             ],
             {
              "frame": {
               "duration": 0,
               "redraw": true
              },
              "fromcurrent": true,
              "mode": "immediate",
              "transition": {
               "duration": 0,
               "easing": "linear"
              }
             }
            ],
            "label": "2024.75",
            "method": "animate"
           },
           {
            "args": [
             [
              "2025.0"
             ],
             {
              "frame": {
               "duration": 0,
               "redraw": true
              },
              "fromcurrent": true,
              "mode": "immediate",
              "transition": {
               "duration": 0,
               "easing": "linear"
              }
             }
            ],
            "label": "2025.0",
            "method": "animate"
           },
           {
            "args": [
             [
              "2025.25"
             ],
             {
              "frame": {
               "duration": 0,
               "redraw": true
              },
              "fromcurrent": true,
              "mode": "immediate",
              "transition": {
               "duration": 0,
               "easing": "linear"
              }
             }
            ],
            "label": "2025.25",
            "method": "animate"
           },
           {
            "args": [
             [
              "2025.5"
             ],
             {
              "frame": {
               "duration": 0,
               "redraw": true
              },
              "fromcurrent": true,
              "mode": "immediate",
              "transition": {
               "duration": 0,
               "easing": "linear"
              }
             }
            ],
            "label": "2025.5",
            "method": "animate"
           },
           {
            "args": [
             [
              "2025.75"
             ],
             {
              "frame": {
               "duration": 0,
               "redraw": true
              },
              "fromcurrent": true,
              "mode": "immediate",
              "transition": {
               "duration": 0,
               "easing": "linear"
              }
             }
            ],
            "label": "2025.75",
            "method": "animate"
           },
           {
            "args": [
             [
              "2026.0"
             ],
             {
              "frame": {
               "duration": 0,
               "redraw": true
              },
              "fromcurrent": true,
              "mode": "immediate",
              "transition": {
               "duration": 0,
               "easing": "linear"
              }
             }
            ],
            "label": "2026.0",
            "method": "animate"
           },
           {
            "args": [
             [
              "2026.25"
             ],
             {
              "frame": {
               "duration": 0,
               "redraw": true
              },
              "fromcurrent": true,
              "mode": "immediate",
              "transition": {
               "duration": 0,
               "easing": "linear"
              }
             }
            ],
            "label": "2026.25",
            "method": "animate"
           },
           {
            "args": [
             [
              "2026.5"
             ],
             {
              "frame": {
               "duration": 0,
               "redraw": true
              },
              "fromcurrent": true,
              "mode": "immediate",
              "transition": {
               "duration": 0,
               "easing": "linear"
              }
             }
            ],
            "label": "2026.5",
            "method": "animate"
           },
           {
            "args": [
             [
              "2026.75"
             ],
             {
              "frame": {
               "duration": 0,
               "redraw": true
              },
              "fromcurrent": true,
              "mode": "immediate",
              "transition": {
               "duration": 0,
               "easing": "linear"
              }
             }
            ],
            "label": "2026.75",
            "method": "animate"
           },
           {
            "args": [
             [
              "2027.0"
             ],
             {
              "frame": {
               "duration": 0,
               "redraw": true
              },
              "fromcurrent": true,
              "mode": "immediate",
              "transition": {
               "duration": 0,
               "easing": "linear"
              }
             }
            ],
            "label": "2027.0",
            "method": "animate"
           },
           {
            "args": [
             [
              "2027.25"
             ],
             {
              "frame": {
               "duration": 0,
               "redraw": true
              },
              "fromcurrent": true,
              "mode": "immediate",
              "transition": {
               "duration": 0,
               "easing": "linear"
              }
             }
            ],
            "label": "2027.25",
            "method": "animate"
           },
           {
            "args": [
             [
              "2027.5"
             ],
             {
              "frame": {
               "duration": 0,
               "redraw": true
              },
              "fromcurrent": true,
              "mode": "immediate",
              "transition": {
               "duration": 0,
               "easing": "linear"
              }
             }
            ],
            "label": "2027.5",
            "method": "animate"
           },
           {
            "args": [
             [
              "2027.75"
             ],
             {
              "frame": {
               "duration": 0,
               "redraw": true
              },
              "fromcurrent": true,
              "mode": "immediate",
              "transition": {
               "duration": 0,
               "easing": "linear"
              }
             }
            ],
            "label": "2027.75",
            "method": "animate"
           },
           {
            "args": [
             [
              "2028.0"
             ],
             {
              "frame": {
               "duration": 0,
               "redraw": true
              },
              "fromcurrent": true,
              "mode": "immediate",
              "transition": {
               "duration": 0,
               "easing": "linear"
              }
             }
            ],
            "label": "2028.0",
            "method": "animate"
           },
           {
            "args": [
             [
              "2028.25"
             ],
             {
              "frame": {
               "duration": 0,
               "redraw": true
              },
              "fromcurrent": true,
              "mode": "immediate",
              "transition": {
               "duration": 0,
               "easing": "linear"
              }
             }
            ],
            "label": "2028.25",
            "method": "animate"
           },
           {
            "args": [
             [
              "2028.5"
             ],
             {
              "frame": {
               "duration": 0,
               "redraw": true
              },
              "fromcurrent": true,
              "mode": "immediate",
              "transition": {
               "duration": 0,
               "easing": "linear"
              }
             }
            ],
            "label": "2028.5",
            "method": "animate"
           },
           {
            "args": [
             [
              "2028.75"
             ],
             {
              "frame": {
               "duration": 0,
               "redraw": true
              },
              "fromcurrent": true,
              "mode": "immediate",
              "transition": {
               "duration": 0,
               "easing": "linear"
              }
             }
            ],
            "label": "2028.75",
            "method": "animate"
           },
           {
            "args": [
             [
              "2029.0"
             ],
             {
              "frame": {
               "duration": 0,
               "redraw": true
              },
              "fromcurrent": true,
              "mode": "immediate",
              "transition": {
               "duration": 0,
               "easing": "linear"
              }
             }
            ],
            "label": "2029.0",
            "method": "animate"
           }
          ],
          "x": 0.1,
          "xanchor": "left",
          "y": 0,
          "yanchor": "top"
         }
        ],
        "template": {
         "data": {
          "bar": [
           {
            "error_x": {
             "color": "#2a3f5f"
            },
            "error_y": {
             "color": "#2a3f5f"
            },
            "marker": {
             "line": {
              "color": "#E5ECF6",
              "width": 0.5
             },
             "pattern": {
              "fillmode": "overlay",
              "size": 10,
              "solidity": 0.2
             }
            },
            "type": "bar"
           }
          ],
          "barpolar": [
           {
            "marker": {
             "line": {
              "color": "#E5ECF6",
              "width": 0.5
             },
             "pattern": {
              "fillmode": "overlay",
              "size": 10,
              "solidity": 0.2
             }
            },
            "type": "barpolar"
           }
          ],
          "carpet": [
           {
            "aaxis": {
             "endlinecolor": "#2a3f5f",
             "gridcolor": "white",
             "linecolor": "white",
             "minorgridcolor": "white",
             "startlinecolor": "#2a3f5f"
            },
            "baxis": {
             "endlinecolor": "#2a3f5f",
             "gridcolor": "white",
             "linecolor": "white",
             "minorgridcolor": "white",
             "startlinecolor": "#2a3f5f"
            },
            "type": "carpet"
           }
          ],
          "choropleth": [
           {
            "colorbar": {
             "outlinewidth": 0,
             "ticks": ""
            },
            "type": "choropleth"
           }
          ],
          "contour": [
           {
            "colorbar": {
             "outlinewidth": 0,
             "ticks": ""
            },
            "colorscale": [
             [
              0,
              "#0d0887"
             ],
             [
              0.1111111111111111,
              "#46039f"
             ],
             [
              0.2222222222222222,
              "#7201a8"
             ],
             [
              0.3333333333333333,
              "#9c179e"
             ],
             [
              0.4444444444444444,
              "#bd3786"
             ],
             [
              0.5555555555555556,
              "#d8576b"
             ],
             [
              0.6666666666666666,
              "#ed7953"
             ],
             [
              0.7777777777777778,
              "#fb9f3a"
             ],
             [
              0.8888888888888888,
              "#fdca26"
             ],
             [
              1,
              "#f0f921"
             ]
            ],
            "type": "contour"
           }
          ],
          "contourcarpet": [
           {
            "colorbar": {
             "outlinewidth": 0,
             "ticks": ""
            },
            "type": "contourcarpet"
           }
          ],
          "heatmap": [
           {
            "colorbar": {
             "outlinewidth": 0,
             "ticks": ""
            },
            "colorscale": [
             [
              0,
              "#0d0887"
             ],
             [
              0.1111111111111111,
              "#46039f"
             ],
             [
              0.2222222222222222,
              "#7201a8"
             ],
             [
              0.3333333333333333,
              "#9c179e"
             ],
             [
              0.4444444444444444,
              "#bd3786"
             ],
             [
              0.5555555555555556,
              "#d8576b"
             ],
             [
              0.6666666666666666,
              "#ed7953"
             ],
             [
              0.7777777777777778,
              "#fb9f3a"
             ],
             [
              0.8888888888888888,
              "#fdca26"
             ],
             [
              1,
              "#f0f921"
             ]
            ],
            "type": "heatmap"
           }
          ],
          "heatmapgl": [
           {
            "colorbar": {
             "outlinewidth": 0,
             "ticks": ""
            },
            "colorscale": [
             [
              0,
              "#0d0887"
             ],
             [
              0.1111111111111111,
              "#46039f"
             ],
             [
              0.2222222222222222,
              "#7201a8"
             ],
             [
              0.3333333333333333,
              "#9c179e"
             ],
             [
              0.4444444444444444,
              "#bd3786"
             ],
             [
              0.5555555555555556,
              "#d8576b"
             ],
             [
              0.6666666666666666,
              "#ed7953"
             ],
             [
              0.7777777777777778,
              "#fb9f3a"
             ],
             [
              0.8888888888888888,
              "#fdca26"
             ],
             [
              1,
              "#f0f921"
             ]
            ],
            "type": "heatmapgl"
           }
          ],
          "histogram": [
           {
            "marker": {
             "pattern": {
              "fillmode": "overlay",
              "size": 10,
              "solidity": 0.2
             }
            },
            "type": "histogram"
           }
          ],
          "histogram2d": [
           {
            "colorbar": {
             "outlinewidth": 0,
             "ticks": ""
            },
            "colorscale": [
             [
              0,
              "#0d0887"
             ],
             [
              0.1111111111111111,
              "#46039f"
             ],
             [
              0.2222222222222222,
              "#7201a8"
             ],
             [
              0.3333333333333333,
              "#9c179e"
             ],
             [
              0.4444444444444444,
              "#bd3786"
             ],
             [
              0.5555555555555556,
              "#d8576b"
             ],
             [
              0.6666666666666666,
              "#ed7953"
             ],
             [
              0.7777777777777778,
              "#fb9f3a"
             ],
             [
              0.8888888888888888,
              "#fdca26"
             ],
             [
              1,
              "#f0f921"
             ]
            ],
            "type": "histogram2d"
           }
          ],
          "histogram2dcontour": [
           {
            "colorbar": {
             "outlinewidth": 0,
             "ticks": ""
            },
            "colorscale": [
             [
              0,
              "#0d0887"
             ],
             [
              0.1111111111111111,
              "#46039f"
             ],
             [
              0.2222222222222222,
              "#7201a8"
             ],
             [
              0.3333333333333333,
              "#9c179e"
             ],
             [
              0.4444444444444444,
              "#bd3786"
             ],
             [
              0.5555555555555556,
              "#d8576b"
             ],
             [
              0.6666666666666666,
              "#ed7953"
             ],
             [
              0.7777777777777778,
              "#fb9f3a"
             ],
             [
              0.8888888888888888,
              "#fdca26"
             ],
             [
              1,
              "#f0f921"
             ]
            ],
            "type": "histogram2dcontour"
           }
          ],
          "mesh3d": [
           {
            "colorbar": {
             "outlinewidth": 0,
             "ticks": ""
            },
            "type": "mesh3d"
           }
          ],
          "parcoords": [
           {
            "line": {
             "colorbar": {
              "outlinewidth": 0,
              "ticks": ""
             }
            },
            "type": "parcoords"
           }
          ],
          "pie": [
           {
            "automargin": true,
            "type": "pie"
           }
          ],
          "scatter": [
           {
            "fillpattern": {
             "fillmode": "overlay",
             "size": 10,
             "solidity": 0.2
            },
            "type": "scatter"
           }
          ],
          "scatter3d": [
           {
            "line": {
             "colorbar": {
              "outlinewidth": 0,
              "ticks": ""
             }
            },
            "marker": {
             "colorbar": {
              "outlinewidth": 0,
              "ticks": ""
             }
            },
            "type": "scatter3d"
           }
          ],
          "scattercarpet": [
           {
            "marker": {
             "colorbar": {
              "outlinewidth": 0,
              "ticks": ""
             }
            },
            "type": "scattercarpet"
           }
          ],
          "scattergeo": [
           {
            "marker": {
             "colorbar": {
              "outlinewidth": 0,
              "ticks": ""
             }
            },
            "type": "scattergeo"
           }
          ],
          "scattergl": [
           {
            "marker": {
             "colorbar": {
              "outlinewidth": 0,
              "ticks": ""
             }
            },
            "type": "scattergl"
           }
          ],
          "scattermapbox": [
           {
            "marker": {
             "colorbar": {
              "outlinewidth": 0,
              "ticks": ""
             }
            },
            "type": "scattermapbox"
           }
          ],
          "scatterpolar": [
           {
            "marker": {
             "colorbar": {
              "outlinewidth": 0,
              "ticks": ""
             }
            },
            "type": "scatterpolar"
           }
          ],
          "scatterpolargl": [
           {
            "marker": {
             "colorbar": {
              "outlinewidth": 0,
              "ticks": ""
             }
            },
            "type": "scatterpolargl"
           }
          ],
          "scatterternary": [
           {
            "marker": {
             "colorbar": {
              "outlinewidth": 0,
              "ticks": ""
             }
            },
            "type": "scatterternary"
           }
          ],
          "surface": [
           {
            "colorbar": {
             "outlinewidth": 0,
             "ticks": ""
            },
            "colorscale": [
             [
              0,
              "#0d0887"
             ],
             [
              0.1111111111111111,
              "#46039f"
             ],
             [
              0.2222222222222222,
              "#7201a8"
             ],
             [
              0.3333333333333333,
              "#9c179e"
             ],
             [
              0.4444444444444444,
              "#bd3786"
             ],
             [
              0.5555555555555556,
              "#d8576b"
             ],
             [
              0.6666666666666666,
              "#ed7953"
             ],
             [
              0.7777777777777778,
              "#fb9f3a"
             ],
             [
              0.8888888888888888,
              "#fdca26"
             ],
             [
              1,
              "#f0f921"
             ]
            ],
            "type": "surface"
           }
          ],
          "table": [
           {
            "cells": {
             "fill": {
              "color": "#EBF0F8"
             },
             "line": {
              "color": "white"
             }
            },
            "header": {
             "fill": {
              "color": "#C8D4E3"
             },
             "line": {
              "color": "white"
             }
            },
            "type": "table"
           }
          ]
         },
         "layout": {
          "annotationdefaults": {
           "arrowcolor": "#2a3f5f",
           "arrowhead": 0,
           "arrowwidth": 1
          },
          "autotypenumbers": "strict",
          "coloraxis": {
           "colorbar": {
            "outlinewidth": 0,
            "ticks": ""
           }
          },
          "colorscale": {
           "diverging": [
            [
             0,
             "#8e0152"
            ],
            [
             0.1,
             "#c51b7d"
            ],
            [
             0.2,
             "#de77ae"
            ],
            [
             0.3,
             "#f1b6da"
            ],
            [
             0.4,
             "#fde0ef"
            ],
            [
             0.5,
             "#f7f7f7"
            ],
            [
             0.6,
             "#e6f5d0"
            ],
            [
             0.7,
             "#b8e186"
            ],
            [
             0.8,
             "#7fbc41"
            ],
            [
             0.9,
             "#4d9221"
            ],
            [
             1,
             "#276419"
            ]
           ],
           "sequential": [
            [
             0,
             "#0d0887"
            ],
            [
             0.1111111111111111,
             "#46039f"
            ],
            [
             0.2222222222222222,
             "#7201a8"
            ],
            [
             0.3333333333333333,
             "#9c179e"
            ],
            [
             0.4444444444444444,
             "#bd3786"
            ],
            [
             0.5555555555555556,
             "#d8576b"
            ],
            [
             0.6666666666666666,
             "#ed7953"
            ],
            [
             0.7777777777777778,
             "#fb9f3a"
            ],
            [
             0.8888888888888888,
             "#fdca26"
            ],
            [
             1,
             "#f0f921"
            ]
           ],
           "sequentialminus": [
            [
             0,
             "#0d0887"
            ],
            [
             0.1111111111111111,
             "#46039f"
            ],
            [
             0.2222222222222222,
             "#7201a8"
            ],
            [
             0.3333333333333333,
             "#9c179e"
            ],
            [
             0.4444444444444444,
             "#bd3786"
            ],
            [
             0.5555555555555556,
             "#d8576b"
            ],
            [
             0.6666666666666666,
             "#ed7953"
            ],
            [
             0.7777777777777778,
             "#fb9f3a"
            ],
            [
             0.8888888888888888,
             "#fdca26"
            ],
            [
             1,
             "#f0f921"
            ]
           ]
          },
          "colorway": [
           "#636efa",
           "#EF553B",
           "#00cc96",
           "#ab63fa",
           "#FFA15A",
           "#19d3f3",
           "#FF6692",
           "#B6E880",
           "#FF97FF",
           "#FECB52"
          ],
          "font": {
           "color": "#2a3f5f"
          },
          "geo": {
           "bgcolor": "white",
           "lakecolor": "white",
           "landcolor": "#E5ECF6",
           "showlakes": true,
           "showland": true,
           "subunitcolor": "white"
          },
          "hoverlabel": {
           "align": "left"
          },
          "hovermode": "closest",
          "mapbox": {
           "style": "light"
          },
          "paper_bgcolor": "white",
          "plot_bgcolor": "#E5ECF6",
          "polar": {
           "angularaxis": {
            "gridcolor": "white",
            "linecolor": "white",
            "ticks": ""
           },
           "bgcolor": "#E5ECF6",
           "radialaxis": {
            "gridcolor": "white",
            "linecolor": "white",
            "ticks": ""
           }
          },
          "scene": {
           "xaxis": {
            "backgroundcolor": "#E5ECF6",
            "gridcolor": "white",
            "gridwidth": 2,
            "linecolor": "white",
            "showbackground": true,
            "ticks": "",
            "zerolinecolor": "white"
           },
           "yaxis": {
            "backgroundcolor": "#E5ECF6",
            "gridcolor": "white",
            "gridwidth": 2,
            "linecolor": "white",
            "showbackground": true,
            "ticks": "",
            "zerolinecolor": "white"
           },
           "zaxis": {
            "backgroundcolor": "#E5ECF6",
            "gridcolor": "white",
            "gridwidth": 2,
            "linecolor": "white",
            "showbackground": true,
            "ticks": "",
            "zerolinecolor": "white"
           }
          },
          "shapedefaults": {
           "line": {
            "color": "#2a3f5f"
           }
          },
          "ternary": {
           "aaxis": {
            "gridcolor": "white",
            "linecolor": "white",
            "ticks": ""
           },
           "baxis": {
            "gridcolor": "white",
            "linecolor": "white",
            "ticks": ""
           },
           "bgcolor": "#E5ECF6",
           "caxis": {
            "gridcolor": "white",
            "linecolor": "white",
            "ticks": ""
           }
          },
          "title": {
           "x": 0.05
          },
          "xaxis": {
           "automargin": true,
           "gridcolor": "white",
           "linecolor": "white",
           "ticks": "",
           "title": {
            "standoff": 15
           },
           "zerolinecolor": "white",
           "zerolinewidth": 2
          },
          "yaxis": {
           "automargin": true,
           "gridcolor": "white",
           "linecolor": "white",
           "ticks": "",
           "title": {
            "standoff": 15
           },
           "zerolinecolor": "white",
           "zerolinewidth": 2
          }
         }
        },
        "title": {
         "text": "Revenue of Airlines per Quarter"
        },
        "updatemenus": [
         {
          "buttons": [
           {
            "args": [
             null,
             {
              "frame": {
               "duration": 500,
               "redraw": true
              },
              "fromcurrent": true,
              "mode": "immediate",
              "transition": {
               "duration": 500,
               "easing": "linear"
              }
             }
            ],
            "label": "&#9654;",
            "method": "animate"
           },
           {
            "args": [
             [
              null
             ],
             {
              "frame": {
               "duration": 0,
               "redraw": true
              },
              "fromcurrent": true,
              "mode": "immediate",
              "transition": {
               "duration": 0,
               "easing": "linear"
              }
             }
            ],
            "label": "&#9724;",
            "method": "animate"
           }
          ],
          "direction": "left",
          "pad": {
           "r": 10,
           "t": 70
          },
          "showactive": false,
          "type": "buttons",
          "x": 0.1,
          "xanchor": "right",
          "y": 0,
          "yanchor": "top"
         }
        ],
        "xaxis": {
         "anchor": "y",
         "categoryarray": [
          "SY",
          "AS",
          "B6",
          "WN",
          "NK",
          "DL",
          "AA",
          "9K",
          "UA",
          "G4",
          "F9",
          "3M",
          "MX",
          "XP"
         ],
         "categoryorder": "array",
         "domain": [
          0,
          1
         ],
         "title": {
          "text": "carrier_lg"
         }
        },
        "yaxis": {
         "anchor": "x",
         "domain": [
          0,
          1
         ],
         "range": [
          0,
          67021634.09835299
         ],
         "title": {
          "text": "Revenue"
         }
        }
       }
      }
     },
     "metadata": {},
     "output_type": "display_data"
    }
   ],
   "source": [
    "# Group and sum revenue by Airline and Year\n",
    "revenue_data = flights_data.groupby(['carrier_lg', 'Quarter Year'])['Revenue'].sum().reset_index()\n",
    "revenue_data = revenue_data.sort_values(by='Quarter Year', ascending=True)\n",
    "\n",
    "# Create an interactive bar plot\n",
    "fig = px.bar(revenue_data, x='carrier_lg', y='Revenue', color='carrier_lg',\n",
    "             animation_frame='Quarter Year', range_y=[0, revenue_data['Revenue'].max() * 1.1],\n",
    "             title='Revenue of Airlines per Quarter')\n",
    "\n",
    "# Show the plot\n",
    "fig.show()"
   ]
  },
  {
   "cell_type": "code",
   "execution_count": 17,
   "metadata": {},
   "outputs": [],
   "source": [
    "pio.write_html(fig, 'plot.html', auto_open=True)"
   ]
  },
  {
   "cell_type": "code",
   "execution_count": null,
   "metadata": {},
   "outputs": [],
   "source": []
  }
 ],
 "metadata": {
  "kernelspec": {
   "display_name": "CDC-datathon",
   "language": "python",
   "name": "python3"
  },
  "language_info": {
   "codemirror_mode": {
    "name": "ipython",
    "version": 3
   },
   "file_extension": ".py",
   "mimetype": "text/x-python",
   "name": "python",
   "nbconvert_exporter": "python",
   "pygments_lexer": "ipython3",
   "version": "3.10.15"
  }
 },
 "nbformat": 4,
 "nbformat_minor": 2
}
