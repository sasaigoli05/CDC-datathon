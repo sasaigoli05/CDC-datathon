{
 "cells": [
  {
   "cell_type": "markdown",
   "metadata": {},
   "source": []
  },
  {
   "cell_type": "code",
   "execution_count": 1,
   "metadata": {},
   "outputs": [],
   "source": [
    "import pandas as pd\n",
    "import matplotlib.pyplot as plt\n",
    "import seaborn as sns\n",
    "import plotly.express as px\n",
    "import nbformat"
   ]
  },
  {
   "cell_type": "code",
   "execution_count": 3,
   "metadata": {},
   "outputs": [
    {
     "data": {
      "text/plain": [
       "Index(['Predicted Passengers', 'Source Airport', 'Destination Airport',\n",
       "       'Quarter Year', 'Largest Carrier', 'Predicted Fare', 'carrier_lg',\n",
       "       'Revenue'],\n",
       "      dtype='object')"
      ]
     },
     "execution_count": 3,
     "metadata": {},
     "output_type": "execute_result"
    }
   ],
   "source": [
    "flights_data = pd.read_csv(\"future_flights_combined.csv\")\n",
    "flights_data.columns"
   ]
  },
  {
   "cell_type": "code",
   "execution_count": 8,
   "metadata": {},
   "outputs": [],
   "source": [
    "flights_data['Year'] = flights_data['Quarter Year'].astype(int)\n",
    "flights_data = flights_data.sort_values(by='Year', ascending=True)"
   ]
  },
  {
   "cell_type": "code",
   "execution_count": 10,
   "metadata": {},
   "outputs": [
    {
     "data": {
      "application/vnd.plotly.v1+json": {
       "config": {
        "plotlyServerURL": "https://plot.ly"
       },
       "data": [
        {
         "alignmentgroup": "True",
         "hovertemplate": "carrier_lg=%{x}<br>Year=2024<br>Revenue=%{y}<extra></extra>",
         "legendgroup": "F9",
         "marker": {
          "color": "#636efa",
          "pattern": {
           "shape": ""
          }
         },
         "name": "F9",
         "offsetgroup": "F9",
         "orientation": "v",
         "showlegend": true,
         "textposition": "auto",
         "type": "bar",
         "x": [
          "F9"
         ],
         "xaxis": "x",
         "y": [
          3935672.1742139994
         ],
         "yaxis": "y"
        },
        {
         "alignmentgroup": "True",
         "hovertemplate": "carrier_lg=%{x}<br>Year=2024<br>Revenue=%{y}<extra></extra>",
         "legendgroup": "G4",
         "marker": {
          "color": "#EF553B",
          "pattern": {
           "shape": ""
          }
         },
         "name": "G4",
         "offsetgroup": "G4",
         "orientation": "v",
         "showlegend": true,
         "textposition": "auto",
         "type": "bar",
         "x": [
          "G4"
         ],
         "xaxis": "x",
         "y": [
          2673868.734867
         ],
         "yaxis": "y"
        },
        {
         "alignmentgroup": "True",
         "hovertemplate": "carrier_lg=%{x}<br>Year=2024<br>Revenue=%{y}<extra></extra>",
         "legendgroup": "9K",
         "marker": {
          "color": "#00cc96",
          "pattern": {
           "shape": ""
          }
         },
         "name": "9K",
         "offsetgroup": "9K",
         "orientation": "v",
         "showlegend": true,
         "textposition": "auto",
         "type": "bar",
         "x": [
          "9K"
         ],
         "xaxis": "x",
         "y": [
          6403.125049000006
         ],
         "yaxis": "y"
        },
        {
         "alignmentgroup": "True",
         "hovertemplate": "carrier_lg=%{x}<br>Year=2024<br>Revenue=%{y}<extra></extra>",
         "legendgroup": "AA",
         "marker": {
          "color": "#ab63fa",
          "pattern": {
           "shape": ""
          }
         },
         "name": "AA",
         "offsetgroup": "AA",
         "orientation": "v",
         "showlegend": true,
         "textposition": "auto",
         "type": "bar",
         "x": [
          "AA"
         ],
         "xaxis": "x",
         "y": [
          142292049.33481
         ],
         "yaxis": "y"
        },
        {
         "alignmentgroup": "True",
         "hovertemplate": "carrier_lg=%{x}<br>Year=2024<br>Revenue=%{y}<extra></extra>",
         "legendgroup": "DL",
         "marker": {
          "color": "#FFA15A",
          "pattern": {
           "shape": ""
          }
         },
         "name": "DL",
         "offsetgroup": "DL",
         "orientation": "v",
         "showlegend": true,
         "textposition": "auto",
         "type": "bar",
         "x": [
          "DL"
         ],
         "xaxis": "x",
         "y": [
          100303540.68423699
         ],
         "yaxis": "y"
        },
        {
         "alignmentgroup": "True",
         "hovertemplate": "carrier_lg=%{x}<br>Year=2024<br>Revenue=%{y}<extra></extra>",
         "legendgroup": "NK",
         "marker": {
          "color": "#19d3f3",
          "pattern": {
           "shape": ""
          }
         },
         "name": "NK",
         "offsetgroup": "NK",
         "orientation": "v",
         "showlegend": true,
         "textposition": "auto",
         "type": "bar",
         "x": [
          "NK"
         ],
         "xaxis": "x",
         "y": [
          2811563.7691850015
         ],
         "yaxis": "y"
        },
        {
         "alignmentgroup": "True",
         "hovertemplate": "carrier_lg=%{x}<br>Year=2024<br>Revenue=%{y}<extra></extra>",
         "legendgroup": "WN",
         "marker": {
          "color": "#FF6692",
          "pattern": {
           "shape": ""
          }
         },
         "name": "WN",
         "offsetgroup": "WN",
         "orientation": "v",
         "showlegend": true,
         "textposition": "auto",
         "type": "bar",
         "x": [
          "WN"
         ],
         "xaxis": "x",
         "y": [
          121436669.853176
         ],
         "yaxis": "y"
        },
        {
         "alignmentgroup": "True",
         "hovertemplate": "carrier_lg=%{x}<br>Year=2024<br>Revenue=%{y}<extra></extra>",
         "legendgroup": "AS",
         "marker": {
          "color": "#B6E880",
          "pattern": {
           "shape": ""
          }
         },
         "name": "AS",
         "offsetgroup": "AS",
         "orientation": "v",
         "showlegend": true,
         "textposition": "auto",
         "type": "bar",
         "x": [
          "AS"
         ],
         "xaxis": "x",
         "y": [
          22797721.203932993
         ],
         "yaxis": "y"
        },
        {
         "alignmentgroup": "True",
         "hovertemplate": "carrier_lg=%{x}<br>Year=2024<br>Revenue=%{y}<extra></extra>",
         "legendgroup": "B6",
         "marker": {
          "color": "#FF97FF",
          "pattern": {
           "shape": ""
          }
         },
         "name": "B6",
         "offsetgroup": "B6",
         "orientation": "v",
         "showlegend": true,
         "textposition": "auto",
         "type": "bar",
         "x": [
          "B6"
         ],
         "xaxis": "x",
         "y": [
          34600402.252539
         ],
         "yaxis": "y"
        },
        {
         "alignmentgroup": "True",
         "hovertemplate": "carrier_lg=%{x}<br>Year=2024<br>Revenue=%{y}<extra></extra>",
         "legendgroup": "UA",
         "marker": {
          "color": "#FECB52",
          "pattern": {
           "shape": ""
          }
         },
         "name": "UA",
         "offsetgroup": "UA",
         "orientation": "v",
         "showlegend": true,
         "textposition": "auto",
         "type": "bar",
         "x": [
          "UA"
         ],
         "xaxis": "x",
         "y": [
          117985510.227037
         ],
         "yaxis": "y"
        },
        {
         "alignmentgroup": "True",
         "hovertemplate": "carrier_lg=%{x}<br>Year=2024<br>Revenue=%{y}<extra></extra>",
         "legendgroup": "SY",
         "marker": {
          "color": "#636efa",
          "pattern": {
           "shape": ""
          }
         },
         "name": "SY",
         "offsetgroup": "SY",
         "orientation": "v",
         "showlegend": true,
         "textposition": "auto",
         "type": "bar",
         "x": [
          "SY"
         ],
         "xaxis": "x",
         "y": [
          80383.98961599993
         ],
         "yaxis": "y"
        }
       ],
       "frames": [
        {
         "data": [
          {
           "alignmentgroup": "True",
           "hovertemplate": "carrier_lg=%{x}<br>Year=2024<br>Revenue=%{y}<extra></extra>",
           "legendgroup": "F9",
           "marker": {
            "color": "#636efa",
            "pattern": {
             "shape": ""
            }
           },
           "name": "F9",
           "offsetgroup": "F9",
           "orientation": "v",
           "showlegend": true,
           "textposition": "auto",
           "type": "bar",
           "x": [
            "F9"
           ],
           "xaxis": "x",
           "y": [
            3935672.1742139994
           ],
           "yaxis": "y"
          },
          {
           "alignmentgroup": "True",
           "hovertemplate": "carrier_lg=%{x}<br>Year=2024<br>Revenue=%{y}<extra></extra>",
           "legendgroup": "G4",
           "marker": {
            "color": "#EF553B",
            "pattern": {
             "shape": ""
            }
           },
           "name": "G4",
           "offsetgroup": "G4",
           "orientation": "v",
           "showlegend": true,
           "textposition": "auto",
           "type": "bar",
           "x": [
            "G4"
           ],
           "xaxis": "x",
           "y": [
            2673868.734867
           ],
           "yaxis": "y"
          },
          {
           "alignmentgroup": "True",
           "hovertemplate": "carrier_lg=%{x}<br>Year=2024<br>Revenue=%{y}<extra></extra>",
           "legendgroup": "9K",
           "marker": {
            "color": "#00cc96",
            "pattern": {
             "shape": ""
            }
           },
           "name": "9K",
           "offsetgroup": "9K",
           "orientation": "v",
           "showlegend": true,
           "textposition": "auto",
           "type": "bar",
           "x": [
            "9K"
           ],
           "xaxis": "x",
           "y": [
            6403.125049000006
           ],
           "yaxis": "y"
          },
          {
           "alignmentgroup": "True",
           "hovertemplate": "carrier_lg=%{x}<br>Year=2024<br>Revenue=%{y}<extra></extra>",
           "legendgroup": "AA",
           "marker": {
            "color": "#ab63fa",
            "pattern": {
             "shape": ""
            }
           },
           "name": "AA",
           "offsetgroup": "AA",
           "orientation": "v",
           "showlegend": true,
           "textposition": "auto",
           "type": "bar",
           "x": [
            "AA"
           ],
           "xaxis": "x",
           "y": [
            142292049.33481
           ],
           "yaxis": "y"
          },
          {
           "alignmentgroup": "True",
           "hovertemplate": "carrier_lg=%{x}<br>Year=2024<br>Revenue=%{y}<extra></extra>",
           "legendgroup": "DL",
           "marker": {
            "color": "#FFA15A",
            "pattern": {
             "shape": ""
            }
           },
           "name": "DL",
           "offsetgroup": "DL",
           "orientation": "v",
           "showlegend": true,
           "textposition": "auto",
           "type": "bar",
           "x": [
            "DL"
           ],
           "xaxis": "x",
           "y": [
            100303540.68423699
           ],
           "yaxis": "y"
          },
          {
           "alignmentgroup": "True",
           "hovertemplate": "carrier_lg=%{x}<br>Year=2024<br>Revenue=%{y}<extra></extra>",
           "legendgroup": "NK",
           "marker": {
            "color": "#19d3f3",
            "pattern": {
             "shape": ""
            }
           },
           "name": "NK",
           "offsetgroup": "NK",
           "orientation": "v",
           "showlegend": true,
           "textposition": "auto",
           "type": "bar",
           "x": [
            "NK"
           ],
           "xaxis": "x",
           "y": [
            2811563.7691850015
           ],
           "yaxis": "y"
          },
          {
           "alignmentgroup": "True",
           "hovertemplate": "carrier_lg=%{x}<br>Year=2024<br>Revenue=%{y}<extra></extra>",
           "legendgroup": "WN",
           "marker": {
            "color": "#FF6692",
            "pattern": {
             "shape": ""
            }
           },
           "name": "WN",
           "offsetgroup": "WN",
           "orientation": "v",
           "showlegend": true,
           "textposition": "auto",
           "type": "bar",
           "x": [
            "WN"
           ],
           "xaxis": "x",
           "y": [
            121436669.853176
           ],
           "yaxis": "y"
          },
          {
           "alignmentgroup": "True",
           "hovertemplate": "carrier_lg=%{x}<br>Year=2024<br>Revenue=%{y}<extra></extra>",
           "legendgroup": "AS",
           "marker": {
            "color": "#B6E880",
            "pattern": {
             "shape": ""
            }
           },
           "name": "AS",
           "offsetgroup": "AS",
           "orientation": "v",
           "showlegend": true,
           "textposition": "auto",
           "type": "bar",
           "x": [
            "AS"
           ],
           "xaxis": "x",
           "y": [
            22797721.203932993
           ],
           "yaxis": "y"
          },
          {
           "alignmentgroup": "True",
           "hovertemplate": "carrier_lg=%{x}<br>Year=2024<br>Revenue=%{y}<extra></extra>",
           "legendgroup": "B6",
           "marker": {
            "color": "#FF97FF",
            "pattern": {
             "shape": ""
            }
           },
           "name": "B6",
           "offsetgroup": "B6",
           "orientation": "v",
           "showlegend": true,
           "textposition": "auto",
           "type": "bar",
           "x": [
            "B6"
           ],
           "xaxis": "x",
           "y": [
            34600402.252539
           ],
           "yaxis": "y"
          },
          {
           "alignmentgroup": "True",
           "hovertemplate": "carrier_lg=%{x}<br>Year=2024<br>Revenue=%{y}<extra></extra>",
           "legendgroup": "UA",
           "marker": {
            "color": "#FECB52",
            "pattern": {
             "shape": ""
            }
           },
           "name": "UA",
           "offsetgroup": "UA",
           "orientation": "v",
           "showlegend": true,
           "textposition": "auto",
           "type": "bar",
           "x": [
            "UA"
           ],
           "xaxis": "x",
           "y": [
            117985510.227037
           ],
           "yaxis": "y"
          },
          {
           "alignmentgroup": "True",
           "hovertemplate": "carrier_lg=%{x}<br>Year=2024<br>Revenue=%{y}<extra></extra>",
           "legendgroup": "SY",
           "marker": {
            "color": "#636efa",
            "pattern": {
             "shape": ""
            }
           },
           "name": "SY",
           "offsetgroup": "SY",
           "orientation": "v",
           "showlegend": true,
           "textposition": "auto",
           "type": "bar",
           "x": [
            "SY"
           ],
           "xaxis": "x",
           "y": [
            80383.98961599993
           ],
           "yaxis": "y"
          }
         ],
         "name": "2024"
        },
        {
         "data": [
          {
           "alignmentgroup": "True",
           "hovertemplate": "carrier_lg=%{x}<br>Year=2025<br>Revenue=%{y}<extra></extra>",
           "legendgroup": "F9",
           "marker": {
            "color": "#636efa",
            "pattern": {
             "shape": ""
            }
           },
           "name": "F9",
           "offsetgroup": "F9",
           "orientation": "v",
           "showlegend": true,
           "textposition": "auto",
           "type": "bar",
           "x": [
            "F9"
           ],
           "xaxis": "x",
           "y": [
            3546259.2808259996
           ],
           "yaxis": "y"
          },
          {
           "alignmentgroup": "True",
           "hovertemplate": "carrier_lg=%{x}<br>Year=2025<br>Revenue=%{y}<extra></extra>",
           "legendgroup": "G4",
           "marker": {
            "color": "#EF553B",
            "pattern": {
             "shape": ""
            }
           },
           "name": "G4",
           "offsetgroup": "G4",
           "orientation": "v",
           "showlegend": true,
           "textposition": "auto",
           "type": "bar",
           "x": [
            "G4"
           ],
           "xaxis": "x",
           "y": [
            4851501.921864
           ],
           "yaxis": "y"
          },
          {
           "alignmentgroup": "True",
           "hovertemplate": "carrier_lg=%{x}<br>Year=2025<br>Revenue=%{y}<extra></extra>",
           "legendgroup": "AA",
           "marker": {
            "color": "#ab63fa",
            "pattern": {
             "shape": ""
            }
           },
           "name": "AA",
           "offsetgroup": "AA",
           "orientation": "v",
           "showlegend": true,
           "textposition": "auto",
           "type": "bar",
           "x": [
            "AA"
           ],
           "xaxis": "x",
           "y": [
            209210772.04321596
           ],
           "yaxis": "y"
          },
          {
           "alignmentgroup": "True",
           "hovertemplate": "carrier_lg=%{x}<br>Year=2025<br>Revenue=%{y}<extra></extra>",
           "legendgroup": "DL",
           "marker": {
            "color": "#FFA15A",
            "pattern": {
             "shape": ""
            }
           },
           "name": "DL",
           "offsetgroup": "DL",
           "orientation": "v",
           "showlegend": true,
           "textposition": "auto",
           "type": "bar",
           "x": [
            "DL"
           ],
           "xaxis": "x",
           "y": [
            115407457.47995
           ],
           "yaxis": "y"
          },
          {
           "alignmentgroup": "True",
           "hovertemplate": "carrier_lg=%{x}<br>Year=2025<br>Revenue=%{y}<extra></extra>",
           "legendgroup": "NK",
           "marker": {
            "color": "#19d3f3",
            "pattern": {
             "shape": ""
            }
           },
           "name": "NK",
           "offsetgroup": "NK",
           "orientation": "v",
           "showlegend": true,
           "textposition": "auto",
           "type": "bar",
           "x": [
            "NK"
           ],
           "xaxis": "x",
           "y": [
            5227885.605431003
           ],
           "yaxis": "y"
          },
          {
           "alignmentgroup": "True",
           "hovertemplate": "carrier_lg=%{x}<br>Year=2025<br>Revenue=%{y}<extra></extra>",
           "legendgroup": "WN",
           "marker": {
            "color": "#FF6692",
            "pattern": {
             "shape": ""
            }
           },
           "name": "WN",
           "offsetgroup": "WN",
           "orientation": "v",
           "showlegend": true,
           "textposition": "auto",
           "type": "bar",
           "x": [
            "WN"
           ],
           "xaxis": "x",
           "y": [
            162972912.436468
           ],
           "yaxis": "y"
          },
          {
           "alignmentgroup": "True",
           "hovertemplate": "carrier_lg=%{x}<br>Year=2025<br>Revenue=%{y}<extra></extra>",
           "legendgroup": "AS",
           "marker": {
            "color": "#B6E880",
            "pattern": {
             "shape": ""
            }
           },
           "name": "AS",
           "offsetgroup": "AS",
           "orientation": "v",
           "showlegend": true,
           "textposition": "auto",
           "type": "bar",
           "x": [
            "AS"
           ],
           "xaxis": "x",
           "y": [
            37107335.52022898
           ],
           "yaxis": "y"
          },
          {
           "alignmentgroup": "True",
           "hovertemplate": "carrier_lg=%{x}<br>Year=2025<br>Revenue=%{y}<extra></extra>",
           "legendgroup": "B6",
           "marker": {
            "color": "#FF97FF",
            "pattern": {
             "shape": ""
            }
           },
           "name": "B6",
           "offsetgroup": "B6",
           "orientation": "v",
           "showlegend": true,
           "textposition": "auto",
           "type": "bar",
           "x": [
            "B6"
           ],
           "xaxis": "x",
           "y": [
            55677502.764456004
           ],
           "yaxis": "y"
          },
          {
           "alignmentgroup": "True",
           "hovertemplate": "carrier_lg=%{x}<br>Year=2025<br>Revenue=%{y}<extra></extra>",
           "legendgroup": "UA",
           "marker": {
            "color": "#FECB52",
            "pattern": {
             "shape": ""
            }
           },
           "name": "UA",
           "offsetgroup": "UA",
           "orientation": "v",
           "showlegend": true,
           "textposition": "auto",
           "type": "bar",
           "x": [
            "UA"
           ],
           "xaxis": "x",
           "y": [
            131769901.563976
           ],
           "yaxis": "y"
          },
          {
           "alignmentgroup": "True",
           "hovertemplate": "carrier_lg=%{x}<br>Year=2025<br>Revenue=%{y}<extra></extra>",
           "legendgroup": "SY",
           "marker": {
            "color": "#636efa",
            "pattern": {
             "shape": ""
            }
           },
           "name": "SY",
           "offsetgroup": "SY",
           "orientation": "v",
           "showlegend": true,
           "textposition": "auto",
           "type": "bar",
           "x": [
            "SY"
           ],
           "xaxis": "x",
           "y": [
            1761641.194958
           ],
           "yaxis": "y"
          }
         ],
         "name": "2025"
        },
        {
         "data": [
          {
           "alignmentgroup": "True",
           "hovertemplate": "carrier_lg=%{x}<br>Year=2026<br>Revenue=%{y}<extra></extra>",
           "legendgroup": "F9",
           "marker": {
            "color": "#636efa",
            "pattern": {
             "shape": ""
            }
           },
           "name": "F9",
           "offsetgroup": "F9",
           "orientation": "v",
           "showlegend": true,
           "textposition": "auto",
           "type": "bar",
           "x": [
            "F9"
           ],
           "xaxis": "x",
           "y": [
            2720798.4645000002
           ],
           "yaxis": "y"
          },
          {
           "alignmentgroup": "True",
           "hovertemplate": "carrier_lg=%{x}<br>Year=2026<br>Revenue=%{y}<extra></extra>",
           "legendgroup": "G4",
           "marker": {
            "color": "#EF553B",
            "pattern": {
             "shape": ""
            }
           },
           "name": "G4",
           "offsetgroup": "G4",
           "orientation": "v",
           "showlegend": true,
           "textposition": "auto",
           "type": "bar",
           "x": [
            "G4"
           ],
           "xaxis": "x",
           "y": [
            4341423.1904919995
           ],
           "yaxis": "y"
          },
          {
           "alignmentgroup": "True",
           "hovertemplate": "carrier_lg=%{x}<br>Year=2026<br>Revenue=%{y}<extra></extra>",
           "legendgroup": "AA",
           "marker": {
            "color": "#ab63fa",
            "pattern": {
             "shape": ""
            }
           },
           "name": "AA",
           "offsetgroup": "AA",
           "orientation": "v",
           "showlegend": true,
           "textposition": "auto",
           "type": "bar",
           "x": [
            "AA"
           ],
           "xaxis": "x",
           "y": [
            177911193.71661898
           ],
           "yaxis": "y"
          },
          {
           "alignmentgroup": "True",
           "hovertemplate": "carrier_lg=%{x}<br>Year=2026<br>Revenue=%{y}<extra></extra>",
           "legendgroup": "DL",
           "marker": {
            "color": "#FFA15A",
            "pattern": {
             "shape": ""
            }
           },
           "name": "DL",
           "offsetgroup": "DL",
           "orientation": "v",
           "showlegend": true,
           "textposition": "auto",
           "type": "bar",
           "x": [
            "DL"
           ],
           "xaxis": "x",
           "y": [
            154522419.854682
           ],
           "yaxis": "y"
          },
          {
           "alignmentgroup": "True",
           "hovertemplate": "carrier_lg=%{x}<br>Year=2026<br>Revenue=%{y}<extra></extra>",
           "legendgroup": "NK",
           "marker": {
            "color": "#19d3f3",
            "pattern": {
             "shape": ""
            }
           },
           "name": "NK",
           "offsetgroup": "NK",
           "orientation": "v",
           "showlegend": true,
           "textposition": "auto",
           "type": "bar",
           "x": [
            "NK"
           ],
           "xaxis": "x",
           "y": [
            3560780.266633
           ],
           "yaxis": "y"
          },
          {
           "alignmentgroup": "True",
           "hovertemplate": "carrier_lg=%{x}<br>Year=2026<br>Revenue=%{y}<extra></extra>",
           "legendgroup": "WN",
           "marker": {
            "color": "#FF6692",
            "pattern": {
             "shape": ""
            }
           },
           "name": "WN",
           "offsetgroup": "WN",
           "orientation": "v",
           "showlegend": true,
           "textposition": "auto",
           "type": "bar",
           "x": [
            "WN"
           ],
           "xaxis": "x",
           "y": [
            154574550.826834
           ],
           "yaxis": "y"
          },
          {
           "alignmentgroup": "True",
           "hovertemplate": "carrier_lg=%{x}<br>Year=2026<br>Revenue=%{y}<extra></extra>",
           "legendgroup": "AS",
           "marker": {
            "color": "#B6E880",
            "pattern": {
             "shape": ""
            }
           },
           "name": "AS",
           "offsetgroup": "AS",
           "orientation": "v",
           "showlegend": true,
           "textposition": "auto",
           "type": "bar",
           "x": [
            "AS"
           ],
           "xaxis": "x",
           "y": [
            35279843.17345199
           ],
           "yaxis": "y"
          },
          {
           "alignmentgroup": "True",
           "hovertemplate": "carrier_lg=%{x}<br>Year=2026<br>Revenue=%{y}<extra></extra>",
           "legendgroup": "B6",
           "marker": {
            "color": "#FF97FF",
            "pattern": {
             "shape": ""
            }
           },
           "name": "B6",
           "offsetgroup": "B6",
           "orientation": "v",
           "showlegend": true,
           "textposition": "auto",
           "type": "bar",
           "x": [
            "B6"
           ],
           "xaxis": "x",
           "y": [
            50047569.620345
           ],
           "yaxis": "y"
          },
          {
           "alignmentgroup": "True",
           "hovertemplate": "carrier_lg=%{x}<br>Year=2026<br>Revenue=%{y}<extra></extra>",
           "legendgroup": "UA",
           "marker": {
            "color": "#FECB52",
            "pattern": {
             "shape": ""
            }
           },
           "name": "UA",
           "offsetgroup": "UA",
           "orientation": "v",
           "showlegend": true,
           "textposition": "auto",
           "type": "bar",
           "x": [
            "UA"
           ],
           "xaxis": "x",
           "y": [
            147740019.916733
           ],
           "yaxis": "y"
          },
          {
           "alignmentgroup": "True",
           "hovertemplate": "carrier_lg=%{x}<br>Year=2026<br>Revenue=%{y}<extra></extra>",
           "legendgroup": "SY",
           "marker": {
            "color": "#636efa",
            "pattern": {
             "shape": ""
            }
           },
           "name": "SY",
           "offsetgroup": "SY",
           "orientation": "v",
           "showlegend": true,
           "textposition": "auto",
           "type": "bar",
           "x": [
            "SY"
           ],
           "xaxis": "x",
           "y": [
            110795.09463999994
           ],
           "yaxis": "y"
          },
          {
           "alignmentgroup": "True",
           "hovertemplate": "carrier_lg=%{x}<br>Year=2026<br>Revenue=%{y}<extra></extra>",
           "legendgroup": "MX",
           "marker": {
            "color": "#EF553B",
            "pattern": {
             "shape": ""
            }
           },
           "name": "MX",
           "offsetgroup": "MX",
           "orientation": "v",
           "showlegend": true,
           "textposition": "auto",
           "type": "bar",
           "x": [
            "MX"
           ],
           "xaxis": "x",
           "y": [
            168150.40284900003
           ],
           "yaxis": "y"
          },
          {
           "alignmentgroup": "True",
           "hovertemplate": "carrier_lg=%{x}<br>Year=2026<br>Revenue=%{y}<extra></extra>",
           "legendgroup": "XP",
           "marker": {
            "color": "#00cc96",
            "pattern": {
             "shape": ""
            }
           },
           "name": "XP",
           "offsetgroup": "XP",
           "orientation": "v",
           "showlegend": true,
           "textposition": "auto",
           "type": "bar",
           "x": [
            "XP"
           ],
           "xaxis": "x",
           "y": [
            48138.963213999996
           ],
           "yaxis": "y"
          },
          {
           "alignmentgroup": "True",
           "hovertemplate": "carrier_lg=%{x}<br>Year=2026<br>Revenue=%{y}<extra></extra>",
           "legendgroup": "3M",
           "marker": {
            "color": "#ab63fa",
            "pattern": {
             "shape": ""
            }
           },
           "name": "3M",
           "offsetgroup": "3M",
           "orientation": "v",
           "showlegend": true,
           "textposition": "auto",
           "type": "bar",
           "x": [
            "3M"
           ],
           "xaxis": "x",
           "y": [
            62046.224483999904
           ],
           "yaxis": "y"
          }
         ],
         "name": "2026"
        },
        {
         "data": [
          {
           "alignmentgroup": "True",
           "hovertemplate": "carrier_lg=%{x}<br>Year=2027<br>Revenue=%{y}<extra></extra>",
           "legendgroup": "F9",
           "marker": {
            "color": "#636efa",
            "pattern": {
             "shape": ""
            }
           },
           "name": "F9",
           "offsetgroup": "F9",
           "orientation": "v",
           "showlegend": true,
           "textposition": "auto",
           "type": "bar",
           "x": [
            "F9"
           ],
           "xaxis": "x",
           "y": [
            7248083.9288840005
           ],
           "yaxis": "y"
          },
          {
           "alignmentgroup": "True",
           "hovertemplate": "carrier_lg=%{x}<br>Year=2027<br>Revenue=%{y}<extra></extra>",
           "legendgroup": "G4",
           "marker": {
            "color": "#EF553B",
            "pattern": {
             "shape": ""
            }
           },
           "name": "G4",
           "offsetgroup": "G4",
           "orientation": "v",
           "showlegend": true,
           "textposition": "auto",
           "type": "bar",
           "x": [
            "G4"
           ],
           "xaxis": "x",
           "y": [
            4328040.624179999
           ],
           "yaxis": "y"
          },
          {
           "alignmentgroup": "True",
           "hovertemplate": "carrier_lg=%{x}<br>Year=2027<br>Revenue=%{y}<extra></extra>",
           "legendgroup": "AA",
           "marker": {
            "color": "#ab63fa",
            "pattern": {
             "shape": ""
            }
           },
           "name": "AA",
           "offsetgroup": "AA",
           "orientation": "v",
           "showlegend": true,
           "textposition": "auto",
           "type": "bar",
           "x": [
            "AA"
           ],
           "xaxis": "x",
           "y": [
            165189450.89945498
           ],
           "yaxis": "y"
          },
          {
           "alignmentgroup": "True",
           "hovertemplate": "carrier_lg=%{x}<br>Year=2027<br>Revenue=%{y}<extra></extra>",
           "legendgroup": "DL",
           "marker": {
            "color": "#FFA15A",
            "pattern": {
             "shape": ""
            }
           },
           "name": "DL",
           "offsetgroup": "DL",
           "orientation": "v",
           "showlegend": true,
           "textposition": "auto",
           "type": "bar",
           "x": [
            "DL"
           ],
           "xaxis": "x",
           "y": [
            128914321.08690299
           ],
           "yaxis": "y"
          },
          {
           "alignmentgroup": "True",
           "hovertemplate": "carrier_lg=%{x}<br>Year=2027<br>Revenue=%{y}<extra></extra>",
           "legendgroup": "NK",
           "marker": {
            "color": "#19d3f3",
            "pattern": {
             "shape": ""
            }
           },
           "name": "NK",
           "offsetgroup": "NK",
           "orientation": "v",
           "showlegend": true,
           "textposition": "auto",
           "type": "bar",
           "x": [
            "NK"
           ],
           "xaxis": "x",
           "y": [
            8696084.910047
           ],
           "yaxis": "y"
          },
          {
           "alignmentgroup": "True",
           "hovertemplate": "carrier_lg=%{x}<br>Year=2027<br>Revenue=%{y}<extra></extra>",
           "legendgroup": "WN",
           "marker": {
            "color": "#FF6692",
            "pattern": {
             "shape": ""
            }
           },
           "name": "WN",
           "offsetgroup": "WN",
           "orientation": "v",
           "showlegend": true,
           "textposition": "auto",
           "type": "bar",
           "x": [
            "WN"
           ],
           "xaxis": "x",
           "y": [
            153833459.053526
           ],
           "yaxis": "y"
          },
          {
           "alignmentgroup": "True",
           "hovertemplate": "carrier_lg=%{x}<br>Year=2027<br>Revenue=%{y}<extra></extra>",
           "legendgroup": "AS",
           "marker": {
            "color": "#B6E880",
            "pattern": {
             "shape": ""
            }
           },
           "name": "AS",
           "offsetgroup": "AS",
           "orientation": "v",
           "showlegend": true,
           "textposition": "auto",
           "type": "bar",
           "x": [
            "AS"
           ],
           "xaxis": "x",
           "y": [
            41060428.64453798
           ],
           "yaxis": "y"
          },
          {
           "alignmentgroup": "True",
           "hovertemplate": "carrier_lg=%{x}<br>Year=2027<br>Revenue=%{y}<extra></extra>",
           "legendgroup": "B6",
           "marker": {
            "color": "#FF97FF",
            "pattern": {
             "shape": ""
            }
           },
           "name": "B6",
           "offsetgroup": "B6",
           "orientation": "v",
           "showlegend": true,
           "textposition": "auto",
           "type": "bar",
           "x": [
            "B6"
           ],
           "xaxis": "x",
           "y": [
            58263761.293889
           ],
           "yaxis": "y"
          },
          {
           "alignmentgroup": "True",
           "hovertemplate": "carrier_lg=%{x}<br>Year=2027<br>Revenue=%{y}<extra></extra>",
           "legendgroup": "UA",
           "marker": {
            "color": "#FECB52",
            "pattern": {
             "shape": ""
            }
           },
           "name": "UA",
           "offsetgroup": "UA",
           "orientation": "v",
           "showlegend": true,
           "textposition": "auto",
           "type": "bar",
           "x": [
            "UA"
           ],
           "xaxis": "x",
           "y": [
            162965614.876396
           ],
           "yaxis": "y"
          },
          {
           "alignmentgroup": "True",
           "hovertemplate": "carrier_lg=%{x}<br>Year=2027<br>Revenue=%{y}<extra></extra>",
           "legendgroup": "SY",
           "marker": {
            "color": "#636efa",
            "pattern": {
             "shape": ""
            }
           },
           "name": "SY",
           "offsetgroup": "SY",
           "orientation": "v",
           "showlegend": true,
           "textposition": "auto",
           "type": "bar",
           "x": [
            "SY"
           ],
           "xaxis": "x",
           "y": [
            338675.43946999987
           ],
           "yaxis": "y"
          },
          {
           "alignmentgroup": "True",
           "hovertemplate": "carrier_lg=%{x}<br>Year=2027<br>Revenue=%{y}<extra></extra>",
           "legendgroup": "MX",
           "marker": {
            "color": "#EF553B",
            "pattern": {
             "shape": ""
            }
           },
           "name": "MX",
           "offsetgroup": "MX",
           "orientation": "v",
           "showlegend": true,
           "textposition": "auto",
           "type": "bar",
           "x": [
            "MX"
           ],
           "xaxis": "x",
           "y": [
            860907.6826040002
           ],
           "yaxis": "y"
          },
          {
           "alignmentgroup": "True",
           "hovertemplate": "carrier_lg=%{x}<br>Year=2027<br>Revenue=%{y}<extra></extra>",
           "legendgroup": "XP",
           "marker": {
            "color": "#00cc96",
            "pattern": {
             "shape": ""
            }
           },
           "name": "XP",
           "offsetgroup": "XP",
           "orientation": "v",
           "showlegend": true,
           "textposition": "auto",
           "type": "bar",
           "x": [
            "XP"
           ],
           "xaxis": "x",
           "y": [
            433130.951621
           ],
           "yaxis": "y"
          },
          {
           "alignmentgroup": "True",
           "hovertemplate": "carrier_lg=%{x}<br>Year=2027<br>Revenue=%{y}<extra></extra>",
           "legendgroup": "3M",
           "marker": {
            "color": "#ab63fa",
            "pattern": {
             "shape": ""
            }
           },
           "name": "3M",
           "offsetgroup": "3M",
           "orientation": "v",
           "showlegend": true,
           "textposition": "auto",
           "type": "bar",
           "x": [
            "3M"
           ],
           "xaxis": "x",
           "y": [
            124092.44896799981
           ],
           "yaxis": "y"
          }
         ],
         "name": "2027"
        },
        {
         "data": [
          {
           "alignmentgroup": "True",
           "hovertemplate": "carrier_lg=%{x}<br>Year=2028<br>Revenue=%{y}<extra></extra>",
           "legendgroup": "F9",
           "marker": {
            "color": "#636efa",
            "pattern": {
             "shape": ""
            }
           },
           "name": "F9",
           "offsetgroup": "F9",
           "orientation": "v",
           "showlegend": true,
           "textposition": "auto",
           "type": "bar",
           "x": [
            "F9"
           ],
           "xaxis": "x",
           "y": [
            6902674.417259
           ],
           "yaxis": "y"
          },
          {
           "alignmentgroup": "True",
           "hovertemplate": "carrier_lg=%{x}<br>Year=2028<br>Revenue=%{y}<extra></extra>",
           "legendgroup": "G4",
           "marker": {
            "color": "#EF553B",
            "pattern": {
             "shape": ""
            }
           },
           "name": "G4",
           "offsetgroup": "G4",
           "orientation": "v",
           "showlegend": true,
           "textposition": "auto",
           "type": "bar",
           "x": [
            "G4"
           ],
           "xaxis": "x",
           "y": [
            3785969.2737869998
           ],
           "yaxis": "y"
          },
          {
           "alignmentgroup": "True",
           "hovertemplate": "carrier_lg=%{x}<br>Year=2028<br>Revenue=%{y}<extra></extra>",
           "legendgroup": "AA",
           "marker": {
            "color": "#ab63fa",
            "pattern": {
             "shape": ""
            }
           },
           "name": "AA",
           "offsetgroup": "AA",
           "orientation": "v",
           "showlegend": true,
           "textposition": "auto",
           "type": "bar",
           "x": [
            "AA"
           ],
           "xaxis": "x",
           "y": [
            155405790.09411097
           ],
           "yaxis": "y"
          },
          {
           "alignmentgroup": "True",
           "hovertemplate": "carrier_lg=%{x}<br>Year=2028<br>Revenue=%{y}<extra></extra>",
           "legendgroup": "DL",
           "marker": {
            "color": "#FFA15A",
            "pattern": {
             "shape": ""
            }
           },
           "name": "DL",
           "offsetgroup": "DL",
           "orientation": "v",
           "showlegend": true,
           "textposition": "auto",
           "type": "bar",
           "x": [
            "DL"
           ],
           "xaxis": "x",
           "y": [
            124643335.233659
           ],
           "yaxis": "y"
          },
          {
           "alignmentgroup": "True",
           "hovertemplate": "carrier_lg=%{x}<br>Year=2028<br>Revenue=%{y}<extra></extra>",
           "legendgroup": "NK",
           "marker": {
            "color": "#19d3f3",
            "pattern": {
             "shape": ""
            }
           },
           "name": "NK",
           "offsetgroup": "NK",
           "orientation": "v",
           "showlegend": true,
           "textposition": "auto",
           "type": "bar",
           "x": [
            "NK"
           ],
           "xaxis": "x",
           "y": [
            7532667.600894
           ],
           "yaxis": "y"
          },
          {
           "alignmentgroup": "True",
           "hovertemplate": "carrier_lg=%{x}<br>Year=2028<br>Revenue=%{y}<extra></extra>",
           "legendgroup": "WN",
           "marker": {
            "color": "#FF6692",
            "pattern": {
             "shape": ""
            }
           },
           "name": "WN",
           "offsetgroup": "WN",
           "orientation": "v",
           "showlegend": true,
           "textposition": "auto",
           "type": "bar",
           "x": [
            "WN"
           ],
           "xaxis": "x",
           "y": [
            157183432.75032002
           ],
           "yaxis": "y"
          },
          {
           "alignmentgroup": "True",
           "hovertemplate": "carrier_lg=%{x}<br>Year=2028<br>Revenue=%{y}<extra></extra>",
           "legendgroup": "AS",
           "marker": {
            "color": "#B6E880",
            "pattern": {
             "shape": ""
            }
           },
           "name": "AS",
           "offsetgroup": "AS",
           "orientation": "v",
           "showlegend": true,
           "textposition": "auto",
           "type": "bar",
           "x": [
            "AS"
           ],
           "xaxis": "x",
           "y": [
            36413708.40475498
           ],
           "yaxis": "y"
          },
          {
           "alignmentgroup": "True",
           "hovertemplate": "carrier_lg=%{x}<br>Year=2028<br>Revenue=%{y}<extra></extra>",
           "legendgroup": "B6",
           "marker": {
            "color": "#FF97FF",
            "pattern": {
             "shape": ""
            }
           },
           "name": "B6",
           "offsetgroup": "B6",
           "orientation": "v",
           "showlegend": true,
           "textposition": "auto",
           "type": "bar",
           "x": [
            "B6"
           ],
           "xaxis": "x",
           "y": [
            61856262.09638
           ],
           "yaxis": "y"
          },
          {
           "alignmentgroup": "True",
           "hovertemplate": "carrier_lg=%{x}<br>Year=2028<br>Revenue=%{y}<extra></extra>",
           "legendgroup": "UA",
           "marker": {
            "color": "#FECB52",
            "pattern": {
             "shape": ""
            }
           },
           "name": "UA",
           "offsetgroup": "UA",
           "orientation": "v",
           "showlegend": true,
           "textposition": "auto",
           "type": "bar",
           "x": [
            "UA"
           ],
           "xaxis": "x",
           "y": [
            176715686.263244
           ],
           "yaxis": "y"
          },
          {
           "alignmentgroup": "True",
           "hovertemplate": "carrier_lg=%{x}<br>Year=2028<br>Revenue=%{y}<extra></extra>",
           "legendgroup": "SY",
           "marker": {
            "color": "#636efa",
            "pattern": {
             "shape": ""
            }
           },
           "name": "SY",
           "offsetgroup": "SY",
           "orientation": "v",
           "showlegend": true,
           "textposition": "auto",
           "type": "bar",
           "x": [
            "SY"
           ],
           "xaxis": "x",
           "y": [
            182015.30989999988
           ],
           "yaxis": "y"
          },
          {
           "alignmentgroup": "True",
           "hovertemplate": "carrier_lg=%{x}<br>Year=2028<br>Revenue=%{y}<extra></extra>",
           "legendgroup": "MX",
           "marker": {
            "color": "#EF553B",
            "pattern": {
             "shape": ""
            }
           },
           "name": "MX",
           "offsetgroup": "MX",
           "orientation": "v",
           "showlegend": true,
           "textposition": "auto",
           "type": "bar",
           "x": [
            "MX"
           ],
           "xaxis": "x",
           "y": [
            2539932.741654
           ],
           "yaxis": "y"
          },
          {
           "alignmentgroup": "True",
           "hovertemplate": "carrier_lg=%{x}<br>Year=2028<br>Revenue=%{y}<extra></extra>",
           "legendgroup": "XP",
           "marker": {
            "color": "#00cc96",
            "pattern": {
             "shape": ""
            }
           },
           "name": "XP",
           "offsetgroup": "XP",
           "orientation": "v",
           "showlegend": true,
           "textposition": "auto",
           "type": "bar",
           "x": [
            "XP"
           ],
           "xaxis": "x",
           "y": [
            653862.6340790002
           ],
           "yaxis": "y"
          },
          {
           "alignmentgroup": "True",
           "hovertemplate": "carrier_lg=%{x}<br>Year=2028<br>Revenue=%{y}<extra></extra>",
           "legendgroup": "3M",
           "marker": {
            "color": "#ab63fa",
            "pattern": {
             "shape": ""
            }
           },
           "name": "3M",
           "offsetgroup": "3M",
           "orientation": "v",
           "showlegend": true,
           "textposition": "auto",
           "type": "bar",
           "x": [
            "3M"
           ],
           "xaxis": "x",
           "y": [
            93069.33672599986
           ],
           "yaxis": "y"
          }
         ],
         "name": "2028"
        },
        {
         "data": [
          {
           "alignmentgroup": "True",
           "hovertemplate": "carrier_lg=%{x}<br>Year=2029<br>Revenue=%{y}<extra></extra>",
           "legendgroup": "F9",
           "marker": {
            "color": "#636efa",
            "pattern": {
             "shape": ""
            }
           },
           "name": "F9",
           "offsetgroup": "F9",
           "orientation": "v",
           "showlegend": true,
           "textposition": "auto",
           "type": "bar",
           "x": [
            "F9"
           ],
           "xaxis": "x",
           "y": [
            1395841.0937029999
           ],
           "yaxis": "y"
          },
          {
           "alignmentgroup": "True",
           "hovertemplate": "carrier_lg=%{x}<br>Year=2029<br>Revenue=%{y}<extra></extra>",
           "legendgroup": "G4",
           "marker": {
            "color": "#EF553B",
            "pattern": {
             "shape": ""
            }
           },
           "name": "G4",
           "offsetgroup": "G4",
           "orientation": "v",
           "showlegend": true,
           "textposition": "auto",
           "type": "bar",
           "x": [
            "G4"
           ],
           "xaxis": "x",
           "y": [
            913362.1847669998
           ],
           "yaxis": "y"
          },
          {
           "alignmentgroup": "True",
           "hovertemplate": "carrier_lg=%{x}<br>Year=2029<br>Revenue=%{y}<extra></extra>",
           "legendgroup": "AA",
           "marker": {
            "color": "#ab63fa",
            "pattern": {
             "shape": ""
            }
           },
           "name": "AA",
           "offsetgroup": "AA",
           "orientation": "v",
           "showlegend": true,
           "textposition": "auto",
           "type": "bar",
           "x": [
            "AA"
           ],
           "xaxis": "x",
           "y": [
            37757496.447280996
           ],
           "yaxis": "y"
          },
          {
           "alignmentgroup": "True",
           "hovertemplate": "carrier_lg=%{x}<br>Year=2029<br>Revenue=%{y}<extra></extra>",
           "legendgroup": "DL",
           "marker": {
            "color": "#FFA15A",
            "pattern": {
             "shape": ""
            }
           },
           "name": "DL",
           "offsetgroup": "DL",
           "orientation": "v",
           "showlegend": true,
           "textposition": "auto",
           "type": "bar",
           "x": [
            "DL"
           ],
           "xaxis": "x",
           "y": [
            33785282.157774
           ],
           "yaxis": "y"
          },
          {
           "alignmentgroup": "True",
           "hovertemplate": "carrier_lg=%{x}<br>Year=2029<br>Revenue=%{y}<extra></extra>",
           "legendgroup": "NK",
           "marker": {
            "color": "#19d3f3",
            "pattern": {
             "shape": ""
            }
           },
           "name": "NK",
           "offsetgroup": "NK",
           "orientation": "v",
           "showlegend": true,
           "textposition": "auto",
           "type": "bar",
           "x": [
            "NK"
           ],
           "xaxis": "x",
           "y": [
            1585270.2704450008
           ],
           "yaxis": "y"
          },
          {
           "alignmentgroup": "True",
           "hovertemplate": "carrier_lg=%{x}<br>Year=2029<br>Revenue=%{y}<extra></extra>",
           "legendgroup": "WN",
           "marker": {
            "color": "#FF6692",
            "pattern": {
             "shape": ""
            }
           },
           "name": "WN",
           "offsetgroup": "WN",
           "orientation": "v",
           "showlegend": true,
           "textposition": "auto",
           "type": "bar",
           "x": [
            "WN"
           ],
           "xaxis": "x",
           "y": [
            39482820.000136
           ],
           "yaxis": "y"
          },
          {
           "alignmentgroup": "True",
           "hovertemplate": "carrier_lg=%{x}<br>Year=2029<br>Revenue=%{y}<extra></extra>",
           "legendgroup": "AS",
           "marker": {
            "color": "#B6E880",
            "pattern": {
             "shape": ""
            }
           },
           "name": "AS",
           "offsetgroup": "AS",
           "orientation": "v",
           "showlegend": true,
           "textposition": "auto",
           "type": "bar",
           "x": [
            "AS"
           ],
           "xaxis": "x",
           "y": [
            7621172.102644996
           ],
           "yaxis": "y"
          },
          {
           "alignmentgroup": "True",
           "hovertemplate": "carrier_lg=%{x}<br>Year=2029<br>Revenue=%{y}<extra></extra>",
           "legendgroup": "B6",
           "marker": {
            "color": "#FF97FF",
            "pattern": {
             "shape": ""
            }
           },
           "name": "B6",
           "offsetgroup": "B6",
           "orientation": "v",
           "showlegend": true,
           "textposition": "auto",
           "type": "bar",
           "x": [
            "B6"
           ],
           "xaxis": "x",
           "y": [
            13132398.981905999
           ],
           "yaxis": "y"
          },
          {
           "alignmentgroup": "True",
           "hovertemplate": "carrier_lg=%{x}<br>Year=2029<br>Revenue=%{y}<extra></extra>",
           "legendgroup": "UA",
           "marker": {
            "color": "#FECB52",
            "pattern": {
             "shape": ""
            }
           },
           "name": "UA",
           "offsetgroup": "UA",
           "orientation": "v",
           "showlegend": true,
           "textposition": "auto",
           "type": "bar",
           "x": [
            "UA"
           ],
           "xaxis": "x",
           "y": [
            46887074.147893004
           ],
           "yaxis": "y"
          },
          {
           "alignmentgroup": "True",
           "hovertemplate": "carrier_lg=%{x}<br>Year=2029<br>Revenue=%{y}<extra></extra>",
           "legendgroup": "SY",
           "marker": {
            "color": "#636efa",
            "pattern": {
             "shape": ""
            }
           },
           "name": "SY",
           "offsetgroup": "SY",
           "orientation": "v",
           "showlegend": true,
           "textposition": "auto",
           "type": "bar",
           "x": [
            "SY"
           ],
           "xaxis": "x",
           "y": [
            58640.975340999976
           ],
           "yaxis": "y"
          },
          {
           "alignmentgroup": "True",
           "hovertemplate": "carrier_lg=%{x}<br>Year=2029<br>Revenue=%{y}<extra></extra>",
           "legendgroup": "MX",
           "marker": {
            "color": "#EF553B",
            "pattern": {
             "shape": ""
            }
           },
           "name": "MX",
           "offsetgroup": "MX",
           "orientation": "v",
           "showlegend": true,
           "textposition": "auto",
           "type": "bar",
           "x": [
            "MX"
           ],
           "xaxis": "x",
           "y": [
            682867.428712
           ],
           "yaxis": "y"
          },
          {
           "alignmentgroup": "True",
           "hovertemplate": "carrier_lg=%{x}<br>Year=2029<br>Revenue=%{y}<extra></extra>",
           "legendgroup": "XP",
           "marker": {
            "color": "#00cc96",
            "pattern": {
             "shape": ""
            }
           },
           "name": "XP",
           "offsetgroup": "XP",
           "orientation": "v",
           "showlegend": true,
           "textposition": "auto",
           "type": "bar",
           "x": [
            "XP"
           ],
           "xaxis": "x",
           "y": [
            197684.26719100005
           ],
           "yaxis": "y"
          }
         ],
         "name": "2029"
        }
       ],
       "layout": {
        "barmode": "relative",
        "legend": {
         "title": {
          "text": "carrier_lg"
         },
         "tracegroupgap": 0
        },
        "sliders": [
         {
          "active": 0,
          "currentvalue": {
           "prefix": "Year="
          },
          "len": 0.9,
          "pad": {
           "b": 10,
           "t": 60
          },
          "steps": [
           {
            "args": [
             [
              "2024"
             ],
             {
              "frame": {
               "duration": 0,
               "redraw": true
              },
              "fromcurrent": true,
              "mode": "immediate",
              "transition": {
               "duration": 0,
               "easing": "linear"
              }
             }
            ],
            "label": "2024",
            "method": "animate"
           },
           {
            "args": [
             [
              "2025"
             ],
             {
              "frame": {
               "duration": 0,
               "redraw": true
              },
              "fromcurrent": true,
              "mode": "immediate",
              "transition": {
               "duration": 0,
               "easing": "linear"
              }
             }
            ],
            "label": "2025",
            "method": "animate"
           },
           {
            "args": [
             [
              "2026"
             ],
             {
              "frame": {
               "duration": 0,
               "redraw": true
              },
              "fromcurrent": true,
              "mode": "immediate",
              "transition": {
               "duration": 0,
               "easing": "linear"
              }
             }
            ],
            "label": "2026",
            "method": "animate"
           },
           {
            "args": [
             [
              "2027"
             ],
             {
              "frame": {
               "duration": 0,
               "redraw": true
              },
              "fromcurrent": true,
              "mode": "immediate",
              "transition": {
               "duration": 0,
               "easing": "linear"
              }
             }
            ],
            "label": "2027",
            "method": "animate"
           },
           {
            "args": [
             [
              "2028"
             ],
             {
              "frame": {
               "duration": 0,
               "redraw": true
              },
              "fromcurrent": true,
              "mode": "immediate",
              "transition": {
               "duration": 0,
               "easing": "linear"
              }
             }
            ],
            "label": "2028",
            "method": "animate"
           },
           {
            "args": [
             [
              "2029"
             ],
             {
              "frame": {
               "duration": 0,
               "redraw": true
              },
              "fromcurrent": true,
              "mode": "immediate",
              "transition": {
               "duration": 0,
               "easing": "linear"
              }
             }
            ],
            "label": "2029",
            "method": "animate"
           }
          ],
          "x": 0.1,
          "xanchor": "left",
          "y": 0,
          "yanchor": "top"
         }
        ],
        "template": {
         "data": {
          "bar": [
           {
            "error_x": {
             "color": "#2a3f5f"
            },
            "error_y": {
             "color": "#2a3f5f"
            },
            "marker": {
             "line": {
              "color": "#E5ECF6",
              "width": 0.5
             },
             "pattern": {
              "fillmode": "overlay",
              "size": 10,
              "solidity": 0.2
             }
            },
            "type": "bar"
           }
          ],
          "barpolar": [
           {
            "marker": {
             "line": {
              "color": "#E5ECF6",
              "width": 0.5
             },
             "pattern": {
              "fillmode": "overlay",
              "size": 10,
              "solidity": 0.2
             }
            },
            "type": "barpolar"
           }
          ],
          "carpet": [
           {
            "aaxis": {
             "endlinecolor": "#2a3f5f",
             "gridcolor": "white",
             "linecolor": "white",
             "minorgridcolor": "white",
             "startlinecolor": "#2a3f5f"
            },
            "baxis": {
             "endlinecolor": "#2a3f5f",
             "gridcolor": "white",
             "linecolor": "white",
             "minorgridcolor": "white",
             "startlinecolor": "#2a3f5f"
            },
            "type": "carpet"
           }
          ],
          "choropleth": [
           {
            "colorbar": {
             "outlinewidth": 0,
             "ticks": ""
            },
            "type": "choropleth"
           }
          ],
          "contour": [
           {
            "colorbar": {
             "outlinewidth": 0,
             "ticks": ""
            },
            "colorscale": [
             [
              0,
              "#0d0887"
             ],
             [
              0.1111111111111111,
              "#46039f"
             ],
             [
              0.2222222222222222,
              "#7201a8"
             ],
             [
              0.3333333333333333,
              "#9c179e"
             ],
             [
              0.4444444444444444,
              "#bd3786"
             ],
             [
              0.5555555555555556,
              "#d8576b"
             ],
             [
              0.6666666666666666,
              "#ed7953"
             ],
             [
              0.7777777777777778,
              "#fb9f3a"
             ],
             [
              0.8888888888888888,
              "#fdca26"
             ],
             [
              1,
              "#f0f921"
             ]
            ],
            "type": "contour"
           }
          ],
          "contourcarpet": [
           {
            "colorbar": {
             "outlinewidth": 0,
             "ticks": ""
            },
            "type": "contourcarpet"
           }
          ],
          "heatmap": [
           {
            "colorbar": {
             "outlinewidth": 0,
             "ticks": ""
            },
            "colorscale": [
             [
              0,
              "#0d0887"
             ],
             [
              0.1111111111111111,
              "#46039f"
             ],
             [
              0.2222222222222222,
              "#7201a8"
             ],
             [
              0.3333333333333333,
              "#9c179e"
             ],
             [
              0.4444444444444444,
              "#bd3786"
             ],
             [
              0.5555555555555556,
              "#d8576b"
             ],
             [
              0.6666666666666666,
              "#ed7953"
             ],
             [
              0.7777777777777778,
              "#fb9f3a"
             ],
             [
              0.8888888888888888,
              "#fdca26"
             ],
             [
              1,
              "#f0f921"
             ]
            ],
            "type": "heatmap"
           }
          ],
          "heatmapgl": [
           {
            "colorbar": {
             "outlinewidth": 0,
             "ticks": ""
            },
            "colorscale": [
             [
              0,
              "#0d0887"
             ],
             [
              0.1111111111111111,
              "#46039f"
             ],
             [
              0.2222222222222222,
              "#7201a8"
             ],
             [
              0.3333333333333333,
              "#9c179e"
             ],
             [
              0.4444444444444444,
              "#bd3786"
             ],
             [
              0.5555555555555556,
              "#d8576b"
             ],
             [
              0.6666666666666666,
              "#ed7953"
             ],
             [
              0.7777777777777778,
              "#fb9f3a"
             ],
             [
              0.8888888888888888,
              "#fdca26"
             ],
             [
              1,
              "#f0f921"
             ]
            ],
            "type": "heatmapgl"
           }
          ],
          "histogram": [
           {
            "marker": {
             "pattern": {
              "fillmode": "overlay",
              "size": 10,
              "solidity": 0.2
             }
            },
            "type": "histogram"
           }
          ],
          "histogram2d": [
           {
            "colorbar": {
             "outlinewidth": 0,
             "ticks": ""
            },
            "colorscale": [
             [
              0,
              "#0d0887"
             ],
             [
              0.1111111111111111,
              "#46039f"
             ],
             [
              0.2222222222222222,
              "#7201a8"
             ],
             [
              0.3333333333333333,
              "#9c179e"
             ],
             [
              0.4444444444444444,
              "#bd3786"
             ],
             [
              0.5555555555555556,
              "#d8576b"
             ],
             [
              0.6666666666666666,
              "#ed7953"
             ],
             [
              0.7777777777777778,
              "#fb9f3a"
             ],
             [
              0.8888888888888888,
              "#fdca26"
             ],
             [
              1,
              "#f0f921"
             ]
            ],
            "type": "histogram2d"
           }
          ],
          "histogram2dcontour": [
           {
            "colorbar": {
             "outlinewidth": 0,
             "ticks": ""
            },
            "colorscale": [
             [
              0,
              "#0d0887"
             ],
             [
              0.1111111111111111,
              "#46039f"
             ],
             [
              0.2222222222222222,
              "#7201a8"
             ],
             [
              0.3333333333333333,
              "#9c179e"
             ],
             [
              0.4444444444444444,
              "#bd3786"
             ],
             [
              0.5555555555555556,
              "#d8576b"
             ],
             [
              0.6666666666666666,
              "#ed7953"
             ],
             [
              0.7777777777777778,
              "#fb9f3a"
             ],
             [
              0.8888888888888888,
              "#fdca26"
             ],
             [
              1,
              "#f0f921"
             ]
            ],
            "type": "histogram2dcontour"
           }
          ],
          "mesh3d": [
           {
            "colorbar": {
             "outlinewidth": 0,
             "ticks": ""
            },
            "type": "mesh3d"
           }
          ],
          "parcoords": [
           {
            "line": {
             "colorbar": {
              "outlinewidth": 0,
              "ticks": ""
             }
            },
            "type": "parcoords"
           }
          ],
          "pie": [
           {
            "automargin": true,
            "type": "pie"
           }
          ],
          "scatter": [
           {
            "fillpattern": {
             "fillmode": "overlay",
             "size": 10,
             "solidity": 0.2
            },
            "type": "scatter"
           }
          ],
          "scatter3d": [
           {
            "line": {
             "colorbar": {
              "outlinewidth": 0,
              "ticks": ""
             }
            },
            "marker": {
             "colorbar": {
              "outlinewidth": 0,
              "ticks": ""
             }
            },
            "type": "scatter3d"
           }
          ],
          "scattercarpet": [
           {
            "marker": {
             "colorbar": {
              "outlinewidth": 0,
              "ticks": ""
             }
            },
            "type": "scattercarpet"
           }
          ],
          "scattergeo": [
           {
            "marker": {
             "colorbar": {
              "outlinewidth": 0,
              "ticks": ""
             }
            },
            "type": "scattergeo"
           }
          ],
          "scattergl": [
           {
            "marker": {
             "colorbar": {
              "outlinewidth": 0,
              "ticks": ""
             }
            },
            "type": "scattergl"
           }
          ],
          "scattermapbox": [
           {
            "marker": {
             "colorbar": {
              "outlinewidth": 0,
              "ticks": ""
             }
            },
            "type": "scattermapbox"
           }
          ],
          "scatterpolar": [
           {
            "marker": {
             "colorbar": {
              "outlinewidth": 0,
              "ticks": ""
             }
            },
            "type": "scatterpolar"
           }
          ],
          "scatterpolargl": [
           {
            "marker": {
             "colorbar": {
              "outlinewidth": 0,
              "ticks": ""
             }
            },
            "type": "scatterpolargl"
           }
          ],
          "scatterternary": [
           {
            "marker": {
             "colorbar": {
              "outlinewidth": 0,
              "ticks": ""
             }
            },
            "type": "scatterternary"
           }
          ],
          "surface": [
           {
            "colorbar": {
             "outlinewidth": 0,
             "ticks": ""
            },
            "colorscale": [
             [
              0,
              "#0d0887"
             ],
             [
              0.1111111111111111,
              "#46039f"
             ],
             [
              0.2222222222222222,
              "#7201a8"
             ],
             [
              0.3333333333333333,
              "#9c179e"
             ],
             [
              0.4444444444444444,
              "#bd3786"
             ],
             [
              0.5555555555555556,
              "#d8576b"
             ],
             [
              0.6666666666666666,
              "#ed7953"
             ],
             [
              0.7777777777777778,
              "#fb9f3a"
             ],
             [
              0.8888888888888888,
              "#fdca26"
             ],
             [
              1,
              "#f0f921"
             ]
            ],
            "type": "surface"
           }
          ],
          "table": [
           {
            "cells": {
             "fill": {
              "color": "#EBF0F8"
             },
             "line": {
              "color": "white"
             }
            },
            "header": {
             "fill": {
              "color": "#C8D4E3"
             },
             "line": {
              "color": "white"
             }
            },
            "type": "table"
           }
          ]
         },
         "layout": {
          "annotationdefaults": {
           "arrowcolor": "#2a3f5f",
           "arrowhead": 0,
           "arrowwidth": 1
          },
          "autotypenumbers": "strict",
          "coloraxis": {
           "colorbar": {
            "outlinewidth": 0,
            "ticks": ""
           }
          },
          "colorscale": {
           "diverging": [
            [
             0,
             "#8e0152"
            ],
            [
             0.1,
             "#c51b7d"
            ],
            [
             0.2,
             "#de77ae"
            ],
            [
             0.3,
             "#f1b6da"
            ],
            [
             0.4,
             "#fde0ef"
            ],
            [
             0.5,
             "#f7f7f7"
            ],
            [
             0.6,
             "#e6f5d0"
            ],
            [
             0.7,
             "#b8e186"
            ],
            [
             0.8,
             "#7fbc41"
            ],
            [
             0.9,
             "#4d9221"
            ],
            [
             1,
             "#276419"
            ]
           ],
           "sequential": [
            [
             0,
             "#0d0887"
            ],
            [
             0.1111111111111111,
             "#46039f"
            ],
            [
             0.2222222222222222,
             "#7201a8"
            ],
            [
             0.3333333333333333,
             "#9c179e"
            ],
            [
             0.4444444444444444,
             "#bd3786"
            ],
            [
             0.5555555555555556,
             "#d8576b"
            ],
            [
             0.6666666666666666,
             "#ed7953"
            ],
            [
             0.7777777777777778,
             "#fb9f3a"
            ],
            [
             0.8888888888888888,
             "#fdca26"
            ],
            [
             1,
             "#f0f921"
            ]
           ],
           "sequentialminus": [
            [
             0,
             "#0d0887"
            ],
            [
             0.1111111111111111,
             "#46039f"
            ],
            [
             0.2222222222222222,
             "#7201a8"
            ],
            [
             0.3333333333333333,
             "#9c179e"
            ],
            [
             0.4444444444444444,
             "#bd3786"
            ],
            [
             0.5555555555555556,
             "#d8576b"
            ],
            [
             0.6666666666666666,
             "#ed7953"
            ],
            [
             0.7777777777777778,
             "#fb9f3a"
            ],
            [
             0.8888888888888888,
             "#fdca26"
            ],
            [
             1,
             "#f0f921"
            ]
           ]
          },
          "colorway": [
           "#636efa",
           "#EF553B",
           "#00cc96",
           "#ab63fa",
           "#FFA15A",
           "#19d3f3",
           "#FF6692",
           "#B6E880",
           "#FF97FF",
           "#FECB52"
          ],
          "font": {
           "color": "#2a3f5f"
          },
          "geo": {
           "bgcolor": "white",
           "lakecolor": "white",
           "landcolor": "#E5ECF6",
           "showlakes": true,
           "showland": true,
           "subunitcolor": "white"
          },
          "hoverlabel": {
           "align": "left"
          },
          "hovermode": "closest",
          "mapbox": {
           "style": "light"
          },
          "paper_bgcolor": "white",
          "plot_bgcolor": "#E5ECF6",
          "polar": {
           "angularaxis": {
            "gridcolor": "white",
            "linecolor": "white",
            "ticks": ""
           },
           "bgcolor": "#E5ECF6",
           "radialaxis": {
            "gridcolor": "white",
            "linecolor": "white",
            "ticks": ""
           }
          },
          "scene": {
           "xaxis": {
            "backgroundcolor": "#E5ECF6",
            "gridcolor": "white",
            "gridwidth": 2,
            "linecolor": "white",
            "showbackground": true,
            "ticks": "",
            "zerolinecolor": "white"
           },
           "yaxis": {
            "backgroundcolor": "#E5ECF6",
            "gridcolor": "white",
            "gridwidth": 2,
            "linecolor": "white",
            "showbackground": true,
            "ticks": "",
            "zerolinecolor": "white"
           },
           "zaxis": {
            "backgroundcolor": "#E5ECF6",
            "gridcolor": "white",
            "gridwidth": 2,
            "linecolor": "white",
            "showbackground": true,
            "ticks": "",
            "zerolinecolor": "white"
           }
          },
          "shapedefaults": {
           "line": {
            "color": "#2a3f5f"
           }
          },
          "ternary": {
           "aaxis": {
            "gridcolor": "white",
            "linecolor": "white",
            "ticks": ""
           },
           "baxis": {
            "gridcolor": "white",
            "linecolor": "white",
            "ticks": ""
           },
           "bgcolor": "#E5ECF6",
           "caxis": {
            "gridcolor": "white",
            "linecolor": "white",
            "ticks": ""
           }
          },
          "title": {
           "x": 0.05
          },
          "xaxis": {
           "automargin": true,
           "gridcolor": "white",
           "linecolor": "white",
           "ticks": "",
           "title": {
            "standoff": 15
           },
           "zerolinecolor": "white",
           "zerolinewidth": 2
          },
          "yaxis": {
           "automargin": true,
           "gridcolor": "white",
           "linecolor": "white",
           "ticks": "",
           "title": {
            "standoff": 15
           },
           "zerolinecolor": "white",
           "zerolinewidth": 2
          }
         }
        },
        "title": {
         "text": "Revenue of Airlines per Year"
        },
        "updatemenus": [
         {
          "buttons": [
           {
            "args": [
             null,
             {
              "frame": {
               "duration": 500,
               "redraw": true
              },
              "fromcurrent": true,
              "mode": "immediate",
              "transition": {
               "duration": 500,
               "easing": "linear"
              }
             }
            ],
            "label": "&#9654;",
            "method": "animate"
           },
           {
            "args": [
             [
              null
             ],
             {
              "frame": {
               "duration": 0,
               "redraw": true
              },
              "fromcurrent": true,
              "mode": "immediate",
              "transition": {
               "duration": 0,
               "easing": "linear"
              }
             }
            ],
            "label": "&#9724;",
            "method": "animate"
           }
          ],
          "direction": "left",
          "pad": {
           "r": 10,
           "t": 70
          },
          "showactive": false,
          "type": "buttons",
          "x": 0.1,
          "xanchor": "right",
          "y": 0,
          "yanchor": "top"
         }
        ],
        "xaxis": {
         "anchor": "y",
         "categoryarray": [
          "F9",
          "G4",
          "9K",
          "AA",
          "DL",
          "NK",
          "WN",
          "AS",
          "B6",
          "UA",
          "SY",
          "MX",
          "XP",
          "3M"
         ],
         "categoryorder": "array",
         "domain": [
          0,
          1
         ],
         "title": {
          "text": "carrier_lg"
         }
        },
        "yaxis": {
         "anchor": "x",
         "domain": [
          0,
          1
         ],
         "range": [
          0,
          230131849.24753758
         ],
         "title": {
          "text": "Revenue"
         }
        }
       }
      }
     },
     "metadata": {},
     "output_type": "display_data"
    }
   ],
   "source": [
    "# Group and sum revenue by Airline and Year\n",
    "revenue_data = flights_data.groupby(['carrier_lg', 'Year'])['Revenue'].sum().reset_index()\n",
    "revenue_data = revenue_data.sort_values(by='Year', ascending=True)\n",
    "\n",
    "# Create an interactive bar plot\n",
    "fig = px.bar(revenue_data, x='carrier_lg', y='Revenue', color='carrier_lg',\n",
    "             animation_frame='Year', range_y=[0, revenue_data['Revenue'].max() * 1.1],\n",
    "             title='Revenue of Airlines per Year')\n",
    "\n",
    "# Show the plot\n",
    "fig.show()"
   ]
  },
  {
   "cell_type": "code",
   "execution_count": null,
   "metadata": {},
   "outputs": [],
   "source": []
  }
 ],
 "metadata": {
  "kernelspec": {
   "display_name": "CDC-datathon",
   "language": "python",
   "name": "python3"
  },
  "language_info": {
   "codemirror_mode": {
    "name": "ipython",
    "version": 3
   },
   "file_extension": ".py",
   "mimetype": "text/x-python",
   "name": "python",
   "nbconvert_exporter": "python",
   "pygments_lexer": "ipython3",
   "version": "3.10.15"
  }
 },
 "nbformat": 4,
 "nbformat_minor": 2
}
