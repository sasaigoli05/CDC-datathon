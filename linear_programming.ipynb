{
 "cells": [
  {
   "cell_type": "code",
   "execution_count": 1,
   "metadata": {},
   "outputs": [],
   "source": [
    "import numpy"
   ]
  },
  {
   "cell_type": "code",
   "execution_count": 2,
   "metadata": {},
   "outputs": [],
   "source": [
    "import pandas as pd"
   ]
  },
  {
   "cell_type": "code",
   "execution_count": 6,
   "metadata": {},
   "outputs": [],
   "source": [
    "from pulp import LpProblem, LpVariable, LpMinimize, lpSum, LpStatus"
   ]
  },
  {
   "cell_type": "code",
   "execution_count": 7,
   "metadata": {},
   "outputs": [],
   "source": [
    "import sklearn"
   ]
  },
  {
   "cell_type": "code",
   "execution_count": 8,
   "metadata": {},
   "outputs": [],
   "source": [
    "from sklearn.model_selection import train_test_split\n",
    "from sklearn.ensemble import RandomForestRegressor\n",
    "from sklearn.preprocessing import LabelEncoder"
   ]
  },
  {
   "cell_type": "code",
   "execution_count": 9,
   "metadata": {},
   "outputs": [
    {
     "name": "stderr",
     "output_type": "stream",
     "text": [
      "/var/folders/qv/2tgf4xk15yl2x3t63qygm7y40000gn/T/ipykernel_82854/353090443.py:1: DtypeWarning: Columns (20,21) have mixed types. Specify dtype option on import or set low_memory=False.\n",
      "  flights_data = pd.read_csv('Business_Dataset.csv')\n"
     ]
    }
   ],
   "source": [
    "flights_data = pd.read_csv('Business_Dataset.csv')"
   ]
  },
  {
   "cell_type": "code",
   "execution_count": 9,
   "metadata": {},
   "outputs": [
    {
     "name": "stdout",
     "output_type": "stream",
     "text": [
      "       tbl  Year  quarter  citymarketid_1  citymarketid_2  \\\n",
      "0  Table1a  2021        3           30135           33195   \n",
      "1  Table1a  2021        3           30135           33195   \n",
      "2  Table1a  2021        3           30140           30194   \n",
      "3  Table1a  2021        3           30140           30194   \n",
      "4  Table1a  2021        3           30140           30466   \n",
      "\n",
      "                            city1                          city2  airportid_1  \\\n",
      "0  Allentown/Bethlehem/Easton, PA  Tampa, FL (Metropolitan Area)        10135   \n",
      "1  Allentown/Bethlehem/Easton, PA  Tampa, FL (Metropolitan Area)        10135   \n",
      "2                 Albuquerque, NM          Dallas/Fort Worth, TX        10140   \n",
      "3                 Albuquerque, NM          Dallas/Fort Worth, TX        10140   \n",
      "4                 Albuquerque, NM                    Phoenix, AZ        10140   \n",
      "\n",
      "   airportid_2 airport_1  ...    fare  carrier_lg  large_ms  fare_lg  \\\n",
      "0        14112       ABE  ...   81.43          G4    1.0000    81.43   \n",
      "1        15304       ABE  ...  208.93          DL    0.4659   219.98   \n",
      "2        11259       ABQ  ...  184.56          WN    0.9968   184.44   \n",
      "3        11298       ABQ  ...  182.64          AA    0.9774   183.09   \n",
      "4        14107       ABQ  ...  177.11          WN    0.6061   184.49   \n",
      "\n",
      "  carrier_low   lf_ms  fare_low Geocoded_City1  Geocoded_City2  \\\n",
      "0          G4  1.0000     81.43            NaN             NaN   \n",
      "1          UA  0.1193    154.11            NaN             NaN   \n",
      "2          WN  0.9968    184.44            NaN             NaN   \n",
      "3          AA  0.9774    183.09            NaN             NaN   \n",
      "4          AA  0.3939    165.77            NaN             NaN   \n",
      "\n",
      "                 tbl1apk  \n",
      "0  202131013514112ABEPIE  \n",
      "1  202131013515304ABETPA  \n",
      "2  202131014011259ABQDAL  \n",
      "3  202131014011298ABQDFW  \n",
      "4  202131014014107ABQPHX  \n",
      "\n",
      "[5 rows x 23 columns]\n"
     ]
    }
   ],
   "source": [
    "print(flights_data.head())"
   ]
  },
  {
   "cell_type": "code",
   "execution_count": 12,
   "metadata": {},
   "outputs": [
    {
     "data": {
      "text/plain": [
       "Index(['tbl', 'Year', 'quarter', 'citymarketid_1', 'citymarketid_2', 'city1',\n",
       "       'city2', 'airportid_1', 'airportid_2', 'airport_1', 'airport_2',\n",
       "       'nsmiles', 'passengers', 'fare', 'carrier_lg', 'large_ms', 'fare_lg',\n",
       "       'carrier_low', 'lf_ms', 'fare_low', 'Geocoded_City1', 'Geocoded_City2',\n",
       "       'tbl1apk'],\n",
       "      dtype='object')"
      ]
     },
     "execution_count": 12,
     "metadata": {},
     "output_type": "execute_result"
    }
   ],
   "source": [
    "flights_data.columns"
   ]
  },
  {
   "cell_type": "code",
   "execution_count": 55,
   "metadata": {},
   "outputs": [
    {
     "name": "stderr",
     "output_type": "stream",
     "text": [
      "/var/folders/qv/2tgf4xk15yl2x3t63qygm7y40000gn/T/ipykernel_62673/1599120309.py:20: SettingWithCopyWarning: \n",
      "A value is trying to be set on a copy of a slice from a DataFrame.\n",
      "Try using .loc[row_indexer,col_indexer] = value instead\n",
      "\n",
      "See the caveats in the documentation: https://pandas.pydata.org/pandas-docs/stable/user_guide/indexing.html#returning-a-view-versus-a-copy\n",
      "  flights['predicted_fare'] = rf_model.predict(X_encoded)\n"
     ]
    },
    {
     "name": "stdout",
     "output_type": "stream",
     "text": [
      "Welcome to the CBC MILP Solver \n",
      "Version: 2.10.3 \n",
      "Build Date: Dec 15 2019 \n",
      "\n",
      "command line - /opt/anaconda3/envs/CDC-datathon/lib/python3.10/site-packages/pulp/solverdir/cbc/osx/64/cbc /var/folders/qv/2tgf4xk15yl2x3t63qygm7y40000gn/T/5c87d72abd514abb84d8005ffd58f0f0-pulp.mps -timeMode elapsed -branch -printingOptions all -solution /var/folders/qv/2tgf4xk15yl2x3t63qygm7y40000gn/T/5c87d72abd514abb84d8005ffd58f0f0-pulp.sol (default strategy 1)\n",
      "At line 2 NAME          MODEL\n",
      "At line 3 ROWS\n",
      "At line 7 COLUMNS\n",
      "At line 12408 RHS\n",
      "At line 12411 BOUNDS\n",
      "At line 16481 ENDATA\n",
      "Problem MODEL has 2 rows, 4069 columns and 193 elements\n",
      "Coin0008I MODEL read with 0 errors\n",
      "Option for timeMode changed from cpu to elapsed\n",
      "Continuous objective value is 1.4794 - 0.00 seconds\n",
      "Cgl0004I processed model has 2 rows, 192 columns (192 integer (192 of which binary)) and 193 elements\n",
      "Cbc0038I Initial state - 0 integers unsatisfied sum - 0\n",
      "Cbc0038I Solution found of 174.569\n",
      "Cbc0038I Before mini branch and bound, 192 integers at bound fixed and 0 continuous\n",
      "Cbc0038I Mini branch and bound did not improve solution (0.03 seconds)\n",
      "Cbc0038I After 0.03 seconds - Feasibility pump exiting with objective of 174.569 - took 0.00 seconds\n",
      "Cbc0012I Integer solution of 174.56923 found by feasibility pump after 0 iterations and 0 nodes (0.03 seconds)\n",
      "Cbc0001I Search completed - best objective 174.5692326179, took 0 iterations and 0 nodes (0.03 seconds)\n",
      "Cbc0035I Maximum depth 0, 0 variables fixed on reduced cost\n",
      "Cuts at root node changed objective from 174.569 to 174.569\n",
      "Probing was tried 0 times and created 0 cuts of which 0 were active after adding rounds of cuts (0.000 seconds)\n",
      "Gomory was tried 0 times and created 0 cuts of which 0 were active after adding rounds of cuts (0.000 seconds)\n",
      "Knapsack was tried 0 times and created 0 cuts of which 0 were active after adding rounds of cuts (0.000 seconds)\n",
      "Clique was tried 0 times and created 0 cuts of which 0 were active after adding rounds of cuts (0.000 seconds)\n",
      "MixedIntegerRounding2 was tried 0 times and created 0 cuts of which 0 were active after adding rounds of cuts (0.000 seconds)\n",
      "FlowCover was tried 0 times and created 0 cuts of which 0 were active after adding rounds of cuts (0.000 seconds)\n",
      "TwoMirCuts was tried 0 times and created 0 cuts of which 0 were active after adding rounds of cuts (0.000 seconds)\n",
      "ZeroHalf was tried 0 times and created 0 cuts of which 0 were active after adding rounds of cuts (0.000 seconds)\n",
      "\n",
      "Result - Optimal solution found\n",
      "\n",
      "Objective value:                174.56923262\n",
      "Enumerated nodes:               0\n",
      "Total iterations:               0\n",
      "Time (CPU seconds):             0.01\n",
      "Time (Wallclock seconds):       0.03\n",
      "\n",
      "Option for printingOptions changed from normal to all\n",
      "Total time (CPU seconds):       0.01   (Wallclock seconds):       0.04\n",
      "\n",
      "Status: Optimal\n",
      "Flight from ORD to JFK with predicted fare: 174.5692326179256\n"
     ]
    }
   ],
   "source": [
    "# Define flights with relevant variables\n",
    "\n",
    "flights = flights_data[['airport_1','airport_2','Geocoded_City1','Geocoded_City2','fare','fare_low','fare_lg']]\n",
    "\n",
    "# Prepare features for Random Forest\n",
    "X = flights[['airport_1', 'airport_2']]  # You might want to encode these features\n",
    "y = flights['fare']\n",
    "\n",
    "# One-hot encoding for categorical variables\n",
    "X_encoded = pd.get_dummies(X, columns=['airport_1', 'airport_2'], drop_first=True)\n",
    "\n",
    "# Split the data\n",
    "X_train, X_test, y_train, y_test = train_test_split(X_encoded, y, test_size=0.2, random_state=42)\n",
    "\n",
    "# Train the Random Forest model\n",
    "rf_model = RandomForestRegressor(n_estimators=100, random_state=42)\n",
    "rf_model.fit(X_train, y_train)\n",
    "\n",
    "# Predict fares for all routes in the dataset\n",
    "flights['predicted_fare'] = rf_model.predict(X_encoded)\n",
    "\n",
    "# Define flights_dict using predicted fares\n",
    "flights_dict = {(row['airport_1'], row['airport_2']): row['predicted_fare'] for index, row in flights.iterrows()}\n",
    "\n",
    "# Create a linear programming problem\n",
    "problem = LpProblem(\"Cheapest_Flight_Problem\", LpMinimize)\n",
    "\n",
    "# Define decision variables based on flights_dict\n",
    "x = LpVariable.dicts(\"Flight\", flights_dict.keys(), lowBound=0, cat='Binary')\n",
    "\n",
    "# Objective function: Minimize total fare based on predicted_fare\n",
    "problem += lpSum(flights_dict[key] * x[key] for key in flights_dict.keys()), \"Total_Cost\"\n",
    "\n",
    "# Define your source and destination\n",
    "source = 'ORD'  # Replace with an actual city code\n",
    "destination = 'JFK'  # Replace with an actual city code\n",
    "\n",
    "# Add constraints: at least one flight from source and one flight to destination\n",
    "problem += lpSum(x[(source, airport_2)] for airport_2 in flights[flights['airport_1'] == source]['airport_2']) >= 1, \"At_Least_One_Flight_From_Source\"\n",
    "problem += lpSum(x[(city1, destination)] for city1 in flights[flights['airport_2'] == destination]['airport_1']) >= 1, \"At_Least_One_Flight_To_Destination\"\n",
    "\n",
    "# Solve the problem\n",
    "problem.solve()\n",
    "\n",
    "# Output the results\n",
    "print(\"Status:\", LpStatus[problem.status])\n",
    "for key in flights_dict.keys():\n",
    "    if x[key].varValue > 0:\n",
    "        print(f\"Flight from {key[0]} to {key[1]} with predicted fare: {flights_dict[key]}\")"
   ]
  }
 ],
 "metadata": {
  "kernelspec": {
   "display_name": "CDC-datathon",
   "language": "python",
   "name": "python3"
  },
  "language_info": {
   "codemirror_mode": {
    "name": "ipython",
    "version": 3
   },
   "file_extension": ".py",
   "mimetype": "text/x-python",
   "name": "python",
   "nbconvert_exporter": "python",
   "pygments_lexer": "ipython3",
   "version": "3.10.15"
  }
 },
 "nbformat": 4,
 "nbformat_minor": 2
}
