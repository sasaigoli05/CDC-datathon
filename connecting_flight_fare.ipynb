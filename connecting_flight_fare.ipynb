{
 "cells": [
  {
   "cell_type": "code",
   "execution_count": 6,
   "metadata": {},
   "outputs": [],
   "source": [
    "import numpy"
   ]
  },
  {
   "cell_type": "code",
   "execution_count": 5,
   "metadata": {},
   "outputs": [],
   "source": [
    "import pandas as pd"
   ]
  },
  {
   "cell_type": "code",
   "execution_count": 1,
   "metadata": {},
   "outputs": [],
   "source": [
    "from pulp import LpProblem, LpVariable, LpMinimize, lpSum, LpStatus"
   ]
  },
  {
   "cell_type": "code",
   "execution_count": 2,
   "metadata": {},
   "outputs": [],
   "source": [
    "import sklearn"
   ]
  },
  {
   "cell_type": "code",
   "execution_count": 3,
   "metadata": {},
   "outputs": [],
   "source": [
    "from sklearn.model_selection import train_test_split\n",
    "from sklearn.ensemble import RandomForestRegressor\n",
    "from sklearn.preprocessing import LabelEncoder"
   ]
  },
  {
   "cell_type": "code",
   "execution_count": 7,
   "metadata": {},
   "outputs": [
    {
     "name": "stderr",
     "output_type": "stream",
     "text": [
      "/var/folders/qv/2tgf4xk15yl2x3t63qygm7y40000gn/T/ipykernel_77638/353090443.py:1: DtypeWarning: Columns (20,21) have mixed types. Specify dtype option on import or set low_memory=False.\n",
      "  flights_data = pd.read_csv('Business_Dataset.csv')\n"
     ]
    }
   ],
   "source": [
    "flights_data = pd.read_csv('Business_Dataset.csv')"
   ]
  },
  {
   "cell_type": "code",
   "execution_count": null,
   "metadata": {},
   "outputs": [],
   "source": [
    "#date number using quarter and year\n",
    "flights_data['quarter_year'] = flights_data['quarter']*.25 - .25 + flights_data['Year']"
   ]
  },
  {
   "cell_type": "code",
   "execution_count": 11,
   "metadata": {},
   "outputs": [],
   "source": [
    "# Define flights with relevant variables\n",
    "\n",
    "flights = flights_data[['airport_1','airport_2','Geocoded_City1','Geocoded_City2','fare','fare_low','fare_lg', 'quarter_year']]\n",
    "quarter_year_pairs = flights[['quarter_year']].drop_duplicates().values"
   ]
  },
  {
   "cell_type": "code",
   "execution_count": 12,
   "metadata": {},
   "outputs": [],
   "source": [
    "# Prepare features for Random Forest\n",
    "X = flights[['airport_1', 'airport_2', 'quarter_year']]  # You might want to encode these features\n",
    "y = flights['fare']\n",
    "\n",
    "# One-hot encoding for categorical variables\n",
    "X_encoded = pd.get_dummies(X, columns=['airport_1', 'airport_2', 'quarter_year'], drop_first=True)\n",
    "\n",
    "# Split the data\n",
    "X_train, X_test, y_train, y_test = train_test_split(X_encoded, y, test_size=0.2, random_state=42)\n",
    "\n",
    "# Train the Random Forest model\n",
    "rf_model = RandomForestRegressor(n_estimators=100, random_state=42)\n",
    "rf_model.fit(X_train, y_train)\n",
    "\n",
    "# Predict fares for all routes in the dataset\n",
    "flights['predicted_fare'] = rf_model.predict(X_encoded)\n",
    "\n",
    "# Define flights_dict using predicted fares\n",
    "flights_dict = {(row['airport_1'], row['airport_2'], row['quarter_year']): row['predicted_fare'] for index, row in flights.iterrows()}\n",
    "\n",
    "# Create a linear programming problem\n",
    "problem = LpProblem(\"Cheapest_Flight_Problem\", LpMinimize)\n",
    "\n",
    "# Define decision variables based on flights_dict\n",
    "x = LpVariable.dicts(\"Flight\", flights_dict.keys(), lowBound=0, cat='Binary')\n",
    "\n",
    "# Objective function: Minimize total fare based on predicted_fare\n",
    "problem += lpSum(flights_dict[key] * x[key] for key in flights_dict.keys()), \"Total_Cost\"\n",
    "\n",
    "# Define your source and destination\n",
    "source = 'ORD'  # Replace with an actual city code\n",
    "destination = 'JFK'  # Replace with an actual city code\n",
    "\n",
    "# Add constraints: at least one flight from source and one flight to destination\n",
    "problem += lpSum(x[(source, airport_2)] for airport_2 in flights[flights['airport_1'] == source]['airport_2']) >= 1, \"At_Least_One_Flight_From_Source\"\n",
    "problem += lpSum(x[(city1, destination)] for city1 in flights[flights['airport_2'] == destination]['airport_1']) >= 1, \"At_Least_One_Flight_To_Destination\"\n",
    "\n",
    "#Add constraint to make sure same year and quarter\n",
    "flights_vars = LpVariable.dicts(\"flight\", range(len(flights)), cat='Binary')\n",
    "\n",
    "for quarter_year in quarter_year_pairs:\n",
    "    # Select flights that match the current year and quarter\n",
    "    matching_flights = flights[(flights['quarter_year'] == quarter_year)]\n",
    "    \n",
    "    if not matching_flights.empty:\n",
    "        # Create a constraint for this specific year and quarter\n",
    "        problem += lpSum(flights_vars[i] for i in matching_flights.index) <= 1  # at most one flight\n",
    "\n",
    "\n",
    "# Solve the problem\n",
    "problem.solve()\n",
    "\n",
    "# Output the results\n",
    "print(\"Status:\", LpStatus[problem.status])\n",
    "for key in flights_dict.keys():\n",
    "    if x[key].varValue > 0:\n",
    "        print(f\"Flight from {key[0]} to {key[1]} with predicted fare: {flights_dict[key]}\")"
   ]
  },
  {
   "cell_type": "code",
   "execution_count": null,
   "metadata": {},
   "outputs": [],
   "source": [
    "import folium\n",
    "from folium import Marker"
   ]
  },
  {
   "cell_type": "code",
   "execution_count": null,
   "metadata": {},
   "outputs": [],
   "source": []
  }
 ],
 "metadata": {
  "kernelspec": {
   "display_name": "CDC-datathon",
   "language": "python",
   "name": "python3"
  },
  "language_info": {
   "codemirror_mode": {
    "name": "ipython",
    "version": 3
   },
   "file_extension": ".py",
   "mimetype": "text/x-python",
   "name": "python",
   "nbconvert_exporter": "python",
   "pygments_lexer": "ipython3",
   "version": "3.10.15"
  }
 },
 "nbformat": 4,
 "nbformat_minor": 2
}
